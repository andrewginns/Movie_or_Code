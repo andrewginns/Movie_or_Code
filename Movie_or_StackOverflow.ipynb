{
  "nbformat": 4,
  "nbformat_minor": 0,
  "metadata": {
    "colab": {
      "name": "Movie_or_StackOverflow.ipynb",
      "version": "0.3.2",
      "provenance": [],
      "collapsed_sections": [
        "8OOFNNn2chr0",
        "pCJk7pWbfRbZ",
        "eukPik9SDScU",
        "qSNEn1YWH9sE",
        "sLZF406gVcbB",
        "TvJoGJ3uViy0",
        "e7Ho2gM_VoRt",
        "K8Uycb9GGM3P",
        "1RdDnZ0QLkGa",
        "9nTR2uuyVKmN",
        "WbSCoHqJRicZ",
        "RiiKY9yHRnS1",
        "qCTnYpXvW6_T",
        "Kl3AFQwAsfoO",
        "ylDHai-RTmFH",
        "Ki7quJoqelMx",
        "Yrn7z396hdtw",
        "BKs9EyQrhdt2",
        "edy7q2p7hdt_",
        "Y00algZ1hduG",
        "mefGE06xu4Xi"
      ]
    },
    "language_info": {
      "codemirror_mode": {
        "name": "ipython",
        "version": 3
      },
      "file_extension": ".py",
      "mimetype": "text/x-python",
      "name": "python",
      "nbconvert_exporter": "python",
      "pygments_lexer": "ipython3",
      "version": "3.6.7"
    },
    "kernelspec": {
      "display_name": "TensorFlow-GPU",
      "language": "python",
      "name": "tf-gpu"
    }
  },
  "cells": [
    {
      "cell_type": "markdown",
      "metadata": {
        "colab_type": "text",
        "id": "W_ZGlhtyGwdE"
      },
      "source": [
        "# Movie or StackOverflow?"
      ]
    },
    {
      "cell_type": "markdown",
      "metadata": {
        "colab_type": "text",
        "id": "RyFx4RVdJBJe"
      },
      "source": [
        "The aim of this is a binary classifier. Given an unseen set of statements and correctly decipher if they are movie questions or stackoverflow posts"
      ]
    },
    {
      "cell_type": "markdown",
      "metadata": {
        "colab_type": "text",
        "id": "4xzu8UF6JCrC"
      },
      "source": [
        "## Libraries"
      ]
    },
    {
      "cell_type": "markdown",
      "metadata": {
        "colab_type": "text",
        "id": "8OOFNNn2chr0"
      },
      "source": [
        "### Colaboratory Specific Code"
      ]
    },
    {
      "cell_type": "markdown",
      "metadata": {
        "colab_type": "text",
        "id": "IYtRbCKFdSDy"
      },
      "source": [
        "This mounts your Google Drive folder so you can access it from Colaboratory"
      ]
    },
    {
      "cell_type": "code",
      "metadata": {
        "colab_type": "code",
        "id": "DRbqotO4ZzGC",
        "outputId": "d40195cf-14c1-4e05-90bc-a4001a434d64",
        "colab": {
          "base_uri": "https://localhost:8080/",
          "height": 121
        }
      },
      "source": [
        "from google.colab import drive\n",
        "drive.mount('/content/drive')"
      ],
      "execution_count": 0,
      "outputs": [
        {
          "output_type": "stream",
          "text": [
            "Go to this URL in a browser: https://accounts.google.com/o/oauth2/auth?client_id=947318989803-6bn6qk8qdgf4n4g3pfee6491hc0brc4i.apps.googleusercontent.com&redirect_uri=urn%3Aietf%3Awg%3Aoauth%3A2.0%3Aoob&scope=email%20https%3A%2F%2Fwww.googleapis.com%2Fauth%2Fdocs.test%20https%3A%2F%2Fwww.googleapis.com%2Fauth%2Fdrive%20https%3A%2F%2Fwww.googleapis.com%2Fauth%2Fdrive.photos.readonly%20https%3A%2F%2Fwww.googleapis.com%2Fauth%2Fpeopleapi.readonly&response_type=code\n",
            "\n",
            "Enter your authorization code:\n",
            "··········\n",
            "Mounted at /content/drive\n"
          ],
          "name": "stdout"
        }
      ]
    },
    {
      "cell_type": "markdown",
      "metadata": {
        "colab_type": "text",
        "id": "9xGkl55qdYOp"
      },
      "source": [
        "We also want to change the working directory so that the file references work. Here I've places the files for this class inside a folder called 'class_1' that itself is inside a folder called 'NLP_class'."
      ]
    },
    {
      "cell_type": "code",
      "metadata": {
        "colab_type": "code",
        "id": "uS7n8IvIbdsy",
        "outputId": "6f6a5cf7-6252-4f71-80bf-151a0b6c603c",
        "colab": {
          "base_uri": "https://localhost:8080/",
          "height": 151
        }
      },
      "source": [
        "%cd drive/My\\ Drive/NLP_class/0719_question\n",
        "!ls"
      ],
      "execution_count": 0,
      "outputs": [
        {
          "output_type": "stream",
          "text": [
            "/content/drive/My Drive/NLP_class/0719_question\n",
            " dialogues.tsv\t\t\t Question_hw_stackoverflow.ipynb\n",
            " July_2019_NLP_Questions.ipynb\t Solution_hw_stackoverflow.ipynb\n",
            " Movie_or_StackOverflow.ipynb\t tagged_posts.tsv\n",
            "'NLP Additional Exercise.docx'\t tfidf_vectorizer.pkl\n",
            "'NLP class.ipynb'\t\t training_1\n",
            " q1\t\t\t\t utils.py\n",
            " q2\t\t\t\t Which_Language.ipynb\n"
          ],
          "name": "stdout"
        }
      ]
    },
    {
      "cell_type": "code",
      "metadata": {
        "colab_type": "code",
        "id": "sdIifYIcfWPr",
        "outputId": "b029aa45-83d1-4d51-d3be-14a97d0743fa",
        "colab": {
          "base_uri": "https://localhost:8080/",
          "height": 269
        }
      },
      "source": [
        "!pip install scikit-plot"
      ],
      "execution_count": 0,
      "outputs": [
        {
          "output_type": "stream",
          "text": [
            "Collecting scikit-plot\n",
            "  Downloading https://files.pythonhosted.org/packages/7c/47/32520e259340c140a4ad27c1b97050dd3254fdc517b1d59974d47037510e/scikit_plot-0.3.7-py3-none-any.whl\n",
            "Requirement already satisfied: scikit-learn>=0.18 in /usr/local/lib/python3.6/dist-packages (from scikit-plot) (0.21.2)\n",
            "Requirement already satisfied: matplotlib>=1.4.0 in /usr/local/lib/python3.6/dist-packages (from scikit-plot) (3.0.3)\n",
            "Requirement already satisfied: joblib>=0.10 in /usr/local/lib/python3.6/dist-packages (from scikit-plot) (0.13.2)\n",
            "Requirement already satisfied: scipy>=0.9 in /usr/local/lib/python3.6/dist-packages (from scikit-plot) (1.3.0)\n",
            "Requirement already satisfied: numpy>=1.11.0 in /usr/local/lib/python3.6/dist-packages (from scikit-learn>=0.18->scikit-plot) (1.16.4)\n",
            "Requirement already satisfied: python-dateutil>=2.1 in /usr/local/lib/python3.6/dist-packages (from matplotlib>=1.4.0->scikit-plot) (2.5.3)\n",
            "Requirement already satisfied: pyparsing!=2.0.4,!=2.1.2,!=2.1.6,>=2.0.1 in /usr/local/lib/python3.6/dist-packages (from matplotlib>=1.4.0->scikit-plot) (2.4.0)\n",
            "Requirement already satisfied: cycler>=0.10 in /usr/local/lib/python3.6/dist-packages (from matplotlib>=1.4.0->scikit-plot) (0.10.0)\n",
            "Requirement already satisfied: kiwisolver>=1.0.1 in /usr/local/lib/python3.6/dist-packages (from matplotlib>=1.4.0->scikit-plot) (1.1.0)\n",
            "Requirement already satisfied: six>=1.5 in /usr/local/lib/python3.6/dist-packages (from python-dateutil>=2.1->matplotlib>=1.4.0->scikit-plot) (1.12.0)\n",
            "Requirement already satisfied: setuptools in /usr/local/lib/python3.6/dist-packages (from kiwisolver>=1.0.1->matplotlib>=1.4.0->scikit-plot) (41.0.1)\n",
            "Installing collected packages: scikit-plot\n",
            "Successfully installed scikit-plot-0.3.7\n"
          ],
          "name": "stdout"
        }
      ]
    },
    {
      "cell_type": "markdown",
      "metadata": {
        "colab_type": "text",
        "id": "pCJk7pWbfRbZ"
      },
      "source": [
        "### Dependencies"
      ]
    },
    {
      "cell_type": "code",
      "metadata": {
        "colab_type": "code",
        "id": "vbcRthRLIPGF",
        "outputId": "fb9372d4-ba46-4bf0-b770-bd36286e9428",
        "colab": {
          "base_uri": "https://localhost:8080/",
          "height": 50
        }
      },
      "source": [
        "import pandas as pd\n",
        "from sklearn.utils import shuffle\n",
        "import re\n",
        "import nltk\n",
        "nltk.download('stopwords')\n",
        "from nltk.corpus import stopwords\n",
        "import numpy as np\n",
        "from sklearn.model_selection import train_test_split\n",
        "from sklearn.feature_extraction.text import TfidfVectorizer\n",
        "from scipy.sparse import csr_matrix\n",
        "import os\n",
        "\n",
        "# Classifiers\n",
        "from sklearn.naive_bayes import GaussianNB\n",
        "from sklearn import linear_model\n",
        "from sklearn import svm\n",
        "from sklearn.ensemble import RandomForestClassifier\n",
        "from sklearn.model_selection import GridSearchCV\n",
        "import tensorflow.keras as keras\n",
        "\n",
        "# Metrics\n",
        "from sklearn.model_selection import cross_val_predict, cross_val_score\n",
        "from sklearn.model_selection import StratifiedKFold\n",
        "from sklearn.metrics import log_loss, accuracy_score\n",
        "import scikitplot as skplt\n",
        "from scikitplot.metrics import plot_confusion_matrix\n",
        "\n",
        "# Dimensionality Reduction\n",
        "from sklearn.decomposition import TruncatedSVD\n",
        "\n",
        "# Saving models\n",
        "import _pickle as pickle\n",
        "\n",
        "# PLotting\n",
        "import plotly.offline as plt\n",
        "plt.init_notebook_mode(connected=True)\n",
        "\n",
        "np.random.seed(42)"
      ],
      "execution_count": 0,
      "outputs": [
        {
          "output_type": "stream",
          "text": [
            "[nltk_data] Downloading package stopwords to /root/nltk_data...\n",
            "[nltk_data]   Unzipping corpora/stopwords.zip.\n"
          ],
          "name": "stdout"
        },
        {
          "output_type": "display_data",
          "data": {
            "text/vnd.plotly.v1+html": "<script type=\"text/javascript\">window.PlotlyConfig = {MathJaxConfig: 'local'};</script><script type=\"text/javascript\">if (window.MathJax) {MathJax.Hub.Config({SVG: {font: \"STIX-Web\"}});}</script><script>requirejs.config({paths: { 'plotly': ['https://cdn.plot.ly/plotly-latest.min']},});if(!window._Plotly) {require(['plotly'],function(plotly) {window._Plotly=plotly;});}</script>",
            "text/html": [
              "<script type=\"text/javascript\">window.PlotlyConfig = {MathJaxConfig: 'local'};</script><script type=\"text/javascript\">if (window.MathJax) {MathJax.Hub.Config({SVG: {font: \"STIX-Web\"}});}</script><script>requirejs.config({paths: { 'plotly': ['https://cdn.plot.ly/plotly-latest.min']},});if(!window._Plotly) {require(['plotly'],function(plotly) {window._Plotly=plotly;});}</script>"
            ]
          },
          "metadata": {
            "tags": []
          }
        }
      ]
    },
    {
      "cell_type": "code",
      "metadata": {
        "colab_type": "code",
        "id": "8r5BbZLIcbnH",
        "colab": {}
      },
      "source": [
        "def evaluate_features(X, y, clf=None):\n",
        "    \"\"\"General helper function for evaluating effectiveness of passed features in ML model\n",
        "    \n",
        "    Prints out Log loss, accuracy, and confusion matrix with 3-fold stratified cross-validation\n",
        "    \n",
        "    Args:\n",
        "        X (array-like): Features array. Shape (n_samples, n_features)\n",
        "        \n",
        "        y (array-like): Labels array. Shape (n_samples,)\n",
        "        \n",
        "        clf: Classifier to use. If None, default Log reg is use.\n",
        "    \"\"\"\n",
        "    if clf is None:\n",
        "        clf = LogisticRegression()\n",
        "    \n",
        "    probas = cross_val_predict(clf, X, y, cv=StratifiedKFold(n_splits=5, random_state=8), \n",
        "                              n_jobs=-1, method='predict_proba', verbose=2)\n",
        "    pred_indices = np.argmax(probas, axis=1)\n",
        "    classes = np.unique(y)\n",
        "    preds = classes[pred_indices]\n",
        "    print('Log loss: {}'.format(log_loss(y, probas)))\n",
        "    print('Accuracy: {}'.format(accuracy_score(y, preds)))\n",
        "    plot_confusion_matrix(y, preds)\n",
        "    \n",
        "    return preds\n"
      ],
      "execution_count": 0,
      "outputs": []
    },
    {
      "cell_type": "markdown",
      "metadata": {
        "id": "eukPik9SDScU",
        "colab_type": "text"
      },
      "source": [
        "## Define Models"
      ]
    },
    {
      "cell_type": "markdown",
      "metadata": {
        "id": "xiu59l6LDScU",
        "colab_type": "text"
      },
      "source": [
        "Change LOAD_MODELS to 1 to load saved models from file"
      ]
    },
    {
      "cell_type": "code",
      "metadata": {
        "id": "nYHD0iy5DScV",
        "colab_type": "code",
        "colab": {}
      },
      "source": [
        "LOAD_MODELS = 1"
      ],
      "execution_count": 0,
      "outputs": []
    },
    {
      "cell_type": "code",
      "metadata": {
        "id": "dmXEiHmjDScW",
        "colab_type": "code",
        "outputId": "758dd150-25f9-4460-94fd-3aeb747265c8",
        "colab": {
          "base_uri": "https://localhost:8080/",
          "height": 370
        }
      },
      "source": [
        "if LOAD_MODELS == 0:\n",
        "    print(\"Program will train new models\")\n",
        "    # CSR Set\n",
        "    linr = linear_model.LinearRegression(n_jobs = -1)\n",
        "\n",
        "    lr = linear_model.LogisticRegression(C=10.0, penalty='l2', solver = 'newton-cg', n_jobs=-1, multi_class='auto')\n",
        "\n",
        "    rf = RandomForestClassifier(criterion='gini', max_depth=5, \n",
        "                                   min_samples_leaf=5, min_samples_split=2, \n",
        "                                   n_estimators = 220, oob_score=True, \n",
        "                                   max_features=0.5, n_jobs = -1, random_state=42)\n",
        "\n",
        "    # Dimension Reduced Set\n",
        "    nb_sv = GaussianNB()\n",
        "\n",
        "    linr_sv = linear_model.LinearRegression(n_jobs = -1)\n",
        "\n",
        "    lr_sv = linear_model.LogisticRegression(C=10.0, penalty='l2', solver = 'newton-cg', n_jobs=-1, multi_class='auto')\n",
        "\n",
        "    rf_sv = RandomForestClassifier(criterion='gini', max_depth=5, \n",
        "                                   min_samples_leaf=5, min_samples_split=2, \n",
        "                                   n_estimators = 220, oob_score=True, \n",
        "                                   max_features=0.5, n_jobs = -1, random_state=42)\n",
        "else:\n",
        "    print(\"Program will load existing models if available\")\n",
        "\n",
        "    linr = pickle.load( open( \"q1/linr.p\", \"rb\" ) )\n",
        "    lr = pickle.load( open( \"q1/lr.p\", \"rb\" ) )\n",
        "    rf = pickle.load( open( \"q1/rf.p\", \"rb\" ) )\n",
        "    \n",
        "    nb_sv = pickle.load( open( \"q1/nb_sv.p\", \"rb\" ) )\n",
        "    linr_sv = pickle.load( open( \"q1/linr_sv.p\", \"rb\" ) )\n",
        "    lr_sv = pickle.load( open( \"q1/lr_sv.p\", \"rb\" ) )\n",
        "    rf_sv = pickle.load( open( \"q1/rf_sv.p\", \"rb\" ) )\n",
        "    "
      ],
      "execution_count": 0,
      "outputs": [
        {
          "output_type": "stream",
          "text": [
            "Program will load existing models if available\n"
          ],
          "name": "stdout"
        },
        {
          "output_type": "stream",
          "text": [
            "/usr/local/lib/python3.6/dist-packages/sklearn/base.py:306: UserWarning:\n",
            "\n",
            "Trying to unpickle estimator LinearRegression from version 0.20.1 when using version 0.21.2. This might lead to breaking code or invalid results. Use at your own risk.\n",
            "\n",
            "/usr/local/lib/python3.6/dist-packages/sklearn/base.py:306: UserWarning:\n",
            "\n",
            "Trying to unpickle estimator LogisticRegression from version 0.20.1 when using version 0.21.2. This might lead to breaking code or invalid results. Use at your own risk.\n",
            "\n",
            "/usr/local/lib/python3.6/dist-packages/sklearn/base.py:306: UserWarning:\n",
            "\n",
            "Trying to unpickle estimator DecisionTreeClassifier from version 0.20.1 when using version 0.21.2. This might lead to breaking code or invalid results. Use at your own risk.\n",
            "\n",
            "/usr/local/lib/python3.6/dist-packages/sklearn/base.py:306: UserWarning:\n",
            "\n",
            "Trying to unpickle estimator RandomForestClassifier from version 0.20.1 when using version 0.21.2. This might lead to breaking code or invalid results. Use at your own risk.\n",
            "\n",
            "/usr/local/lib/python3.6/dist-packages/sklearn/base.py:306: UserWarning:\n",
            "\n",
            "Trying to unpickle estimator GaussianNB from version 0.20.1 when using version 0.21.2. This might lead to breaking code or invalid results. Use at your own risk.\n",
            "\n"
          ],
          "name": "stderr"
        }
      ]
    },
    {
      "cell_type": "markdown",
      "metadata": {
        "colab_type": "text",
        "id": "qSNEn1YWH9sE"
      },
      "source": [
        "## Pre-process the data"
      ]
    },
    {
      "cell_type": "markdown",
      "metadata": {
        "colab_type": "text",
        "id": "PcU3tOg9uH-H"
      },
      "source": [
        "This code cleans the text"
      ]
    },
    {
      "cell_type": "code",
      "metadata": {
        "colab_type": "code",
        "id": "ZcnPTzIiuFf5",
        "colab": {}
      },
      "source": [
        "# There is a problem with this codes as it is possible for all words to be removed leaving a null value\n",
        "# This is solved in line 25 with the if statement\n",
        "\n",
        "REPLACE_BY_SPACE_RE = re.compile('[/(){}\\[\\]\\|@,;]')\n",
        "BAD_SYMBOLS_RE = re.compile('[^0-9a-z #+_]')\n",
        "STOPWORDS = set(stopwords.words('english'))\n",
        "\n",
        "def text_prepare(text):\n",
        "    \"\"\"\n",
        "        text: a string\n",
        "        \n",
        "        return: modified initial string\n",
        "    \"\"\"\n",
        "    text = text.lower() # lowercase text\n",
        "    text = re.sub(REPLACE_BY_SPACE_RE, \" \", text) # replace REPLACE_BY_SPACE_RE symbols by space in text\n",
        "    text = re.sub(BAD_SYMBOLS_RE, \"\", text) # delete symbols which are in BAD_SYMBOLS_RE from text\n",
        "    text = \" \" + text + \" \"\n",
        "    for sw in STOPWORDS:\n",
        "        text = text.replace(\" \"+sw+\" \", \" \") # delete stopwords from text\n",
        "    text = re.sub('[ ][ ]+', \" \", text)\n",
        "\n",
        "    #     print(\"text:\", text)\n",
        "#     print(len(text))\n",
        "    \n",
        "    if len(text) > 1: # only run if there are words present\n",
        "      if text[0] == ' ':\n",
        "          text = text[1:]\n",
        "      if text[-1] == ' ':\n",
        "          text = text[:-1]\n",
        "        \n",
        "    return text"
      ],
      "execution_count": 0,
      "outputs": []
    },
    {
      "cell_type": "markdown",
      "metadata": {
        "colab_type": "text",
        "id": "sLZF406gVcbB"
      },
      "source": [
        "### Inspect Data\n",
        "Let's see what the data looks like"
      ]
    },
    {
      "cell_type": "code",
      "metadata": {
        "colab_type": "code",
        "id": "WfARkTgYICSv",
        "colab": {}
      },
      "source": [
        "dialogues = pd.read_csv('dialogues.tsv', sep='\\t')\n",
        "tagged = pd.read_csv('tagged_posts.tsv', sep='\\t')"
      ],
      "execution_count": 0,
      "outputs": []
    },
    {
      "cell_type": "code",
      "metadata": {
        "colab_type": "code",
        "id": "R_Rq9oTEIjGS",
        "outputId": "460c3021-c383-4508-ea19-cbca2307a1c1",
        "colab": {
          "base_uri": "https://localhost:8080/",
          "height": 106
        }
      },
      "source": [
        "dialogues.head(2)"
      ],
      "execution_count": 0,
      "outputs": [
        {
          "output_type": "execute_result",
          "data": {
            "text/html": [
              "<div>\n",
              "<style scoped>\n",
              "    .dataframe tbody tr th:only-of-type {\n",
              "        vertical-align: middle;\n",
              "    }\n",
              "\n",
              "    .dataframe tbody tr th {\n",
              "        vertical-align: top;\n",
              "    }\n",
              "\n",
              "    .dataframe thead th {\n",
              "        text-align: right;\n",
              "    }\n",
              "</style>\n",
              "<table border=\"1\" class=\"dataframe\">\n",
              "  <thead>\n",
              "    <tr style=\"text-align: right;\">\n",
              "      <th></th>\n",
              "      <th>text</th>\n",
              "      <th>tag</th>\n",
              "    </tr>\n",
              "  </thead>\n",
              "  <tbody>\n",
              "    <tr>\n",
              "      <th>0</th>\n",
              "      <td>Okay -- you're gonna need to learn how to lie.</td>\n",
              "      <td>dialogue</td>\n",
              "    </tr>\n",
              "    <tr>\n",
              "      <th>1</th>\n",
              "      <td>I'm kidding.  You know how sometimes you just ...</td>\n",
              "      <td>dialogue</td>\n",
              "    </tr>\n",
              "  </tbody>\n",
              "</table>\n",
              "</div>"
            ],
            "text/plain": [
              "                                                text       tag\n",
              "0     Okay -- you're gonna need to learn how to lie.  dialogue\n",
              "1  I'm kidding.  You know how sometimes you just ...  dialogue"
            ]
          },
          "metadata": {
            "tags": []
          },
          "execution_count": 10
        }
      ]
    },
    {
      "cell_type": "code",
      "metadata": {
        "colab_type": "code",
        "id": "FbrcUuTSInR4",
        "outputId": "14210188-1e6d-4c9c-ebf4-5f770945f0f1",
        "colab": {
          "base_uri": "https://localhost:8080/",
          "height": 106
        }
      },
      "source": [
        "tagged.head(2)"
      ],
      "execution_count": 0,
      "outputs": [
        {
          "output_type": "execute_result",
          "data": {
            "text/html": [
              "<div>\n",
              "<style scoped>\n",
              "    .dataframe tbody tr th:only-of-type {\n",
              "        vertical-align: middle;\n",
              "    }\n",
              "\n",
              "    .dataframe tbody tr th {\n",
              "        vertical-align: top;\n",
              "    }\n",
              "\n",
              "    .dataframe thead th {\n",
              "        text-align: right;\n",
              "    }\n",
              "</style>\n",
              "<table border=\"1\" class=\"dataframe\">\n",
              "  <thead>\n",
              "    <tr style=\"text-align: right;\">\n",
              "      <th></th>\n",
              "      <th>post_id</th>\n",
              "      <th>title</th>\n",
              "      <th>tag</th>\n",
              "    </tr>\n",
              "  </thead>\n",
              "  <tbody>\n",
              "    <tr>\n",
              "      <th>0</th>\n",
              "      <td>9</td>\n",
              "      <td>Calculate age in C#</td>\n",
              "      <td>c#</td>\n",
              "    </tr>\n",
              "    <tr>\n",
              "      <th>1</th>\n",
              "      <td>16</td>\n",
              "      <td>Filling a DataSet or DataTable from a LINQ que...</td>\n",
              "      <td>c#</td>\n",
              "    </tr>\n",
              "  </tbody>\n",
              "</table>\n",
              "</div>"
            ],
            "text/plain": [
              "   post_id                                              title tag\n",
              "0        9                                Calculate age in C#  c#\n",
              "1       16  Filling a DataSet or DataTable from a LINQ que...  c#"
            ]
          },
          "metadata": {
            "tags": []
          },
          "execution_count": 11
        }
      ]
    },
    {
      "cell_type": "markdown",
      "metadata": {
        "colab_type": "text",
        "id": "TvJoGJ3uViy0"
      },
      "source": [
        "### Create base dataset"
      ]
    },
    {
      "cell_type": "markdown",
      "metadata": {
        "colab_type": "text",
        "id": "lvlgPNByJSTz"
      },
      "source": [
        "Now we can drop the 'tag' columns of both and assign new labels. \n",
        "\n",
        "We set a movie question to label 0 and a stack overflow post to label 1\n",
        "\n",
        "We also need to drop the 'post_id' column of the stack overflow data and rename 'title' to 'text'"
      ]
    },
    {
      "cell_type": "code",
      "metadata": {
        "colab_type": "code",
        "id": "E3-3_f0fIq6q",
        "outputId": "26909e69-bc82-4b77-d389-3f5a39f4e016",
        "colab": {
          "base_uri": "https://localhost:8080/",
          "height": 106
        }
      },
      "source": [
        "movie = dialogues.drop(columns=['tag'])\n",
        "movie['label'] = int(0)\n",
        "movie.head(2)"
      ],
      "execution_count": 0,
      "outputs": [
        {
          "output_type": "execute_result",
          "data": {
            "text/html": [
              "<div>\n",
              "<style scoped>\n",
              "    .dataframe tbody tr th:only-of-type {\n",
              "        vertical-align: middle;\n",
              "    }\n",
              "\n",
              "    .dataframe tbody tr th {\n",
              "        vertical-align: top;\n",
              "    }\n",
              "\n",
              "    .dataframe thead th {\n",
              "        text-align: right;\n",
              "    }\n",
              "</style>\n",
              "<table border=\"1\" class=\"dataframe\">\n",
              "  <thead>\n",
              "    <tr style=\"text-align: right;\">\n",
              "      <th></th>\n",
              "      <th>text</th>\n",
              "      <th>label</th>\n",
              "    </tr>\n",
              "  </thead>\n",
              "  <tbody>\n",
              "    <tr>\n",
              "      <th>0</th>\n",
              "      <td>Okay -- you're gonna need to learn how to lie.</td>\n",
              "      <td>0</td>\n",
              "    </tr>\n",
              "    <tr>\n",
              "      <th>1</th>\n",
              "      <td>I'm kidding.  You know how sometimes you just ...</td>\n",
              "      <td>0</td>\n",
              "    </tr>\n",
              "  </tbody>\n",
              "</table>\n",
              "</div>"
            ],
            "text/plain": [
              "                                                text  label\n",
              "0     Okay -- you're gonna need to learn how to lie.      0\n",
              "1  I'm kidding.  You know how sometimes you just ...      0"
            ]
          },
          "metadata": {
            "tags": []
          },
          "execution_count": 12
        }
      ]
    },
    {
      "cell_type": "code",
      "metadata": {
        "colab_type": "code",
        "id": "ZZ79wI8NL6VY",
        "outputId": "09ab24ec-4355-4a0d-bd5c-b56e8eae202f",
        "colab": {
          "base_uri": "https://localhost:8080/",
          "height": 106
        }
      },
      "source": [
        "stack = tagged.drop(columns=['post_id','tag'])\n",
        "stack['label'] = int(1)\n",
        "stack = stack.rename(columns={\"title\": \"text\"})\n",
        "stack.head(2)"
      ],
      "execution_count": 0,
      "outputs": [
        {
          "output_type": "execute_result",
          "data": {
            "text/html": [
              "<div>\n",
              "<style scoped>\n",
              "    .dataframe tbody tr th:only-of-type {\n",
              "        vertical-align: middle;\n",
              "    }\n",
              "\n",
              "    .dataframe tbody tr th {\n",
              "        vertical-align: top;\n",
              "    }\n",
              "\n",
              "    .dataframe thead th {\n",
              "        text-align: right;\n",
              "    }\n",
              "</style>\n",
              "<table border=\"1\" class=\"dataframe\">\n",
              "  <thead>\n",
              "    <tr style=\"text-align: right;\">\n",
              "      <th></th>\n",
              "      <th>text</th>\n",
              "      <th>label</th>\n",
              "    </tr>\n",
              "  </thead>\n",
              "  <tbody>\n",
              "    <tr>\n",
              "      <th>0</th>\n",
              "      <td>Calculate age in C#</td>\n",
              "      <td>1</td>\n",
              "    </tr>\n",
              "    <tr>\n",
              "      <th>1</th>\n",
              "      <td>Filling a DataSet or DataTable from a LINQ que...</td>\n",
              "      <td>1</td>\n",
              "    </tr>\n",
              "  </tbody>\n",
              "</table>\n",
              "</div>"
            ],
            "text/plain": [
              "                                                text  label\n",
              "0                                Calculate age in C#      1\n",
              "1  Filling a DataSet or DataTable from a LINQ que...      1"
            ]
          },
          "metadata": {
            "tags": []
          },
          "execution_count": 13
        }
      ]
    },
    {
      "cell_type": "markdown",
      "metadata": {
        "colab_type": "text",
        "id": "0bP9m5tkPHy7"
      },
      "source": [
        "We now combine the two different data sets into one single data set."
      ]
    },
    {
      "cell_type": "code",
      "metadata": {
        "colab_type": "code",
        "id": "m5GUK10kPOGD",
        "outputId": "40cfeae9-fc62-4ce0-98af-60874aee0850",
        "colab": {
          "base_uri": "https://localhost:8080/",
          "height": 195
        }
      },
      "source": [
        "data = movie.append(stack, ignore_index=True)\n",
        "data.head()"
      ],
      "execution_count": 0,
      "outputs": [
        {
          "output_type": "execute_result",
          "data": {
            "text/html": [
              "<div>\n",
              "<style scoped>\n",
              "    .dataframe tbody tr th:only-of-type {\n",
              "        vertical-align: middle;\n",
              "    }\n",
              "\n",
              "    .dataframe tbody tr th {\n",
              "        vertical-align: top;\n",
              "    }\n",
              "\n",
              "    .dataframe thead th {\n",
              "        text-align: right;\n",
              "    }\n",
              "</style>\n",
              "<table border=\"1\" class=\"dataframe\">\n",
              "  <thead>\n",
              "    <tr style=\"text-align: right;\">\n",
              "      <th></th>\n",
              "      <th>text</th>\n",
              "      <th>label</th>\n",
              "    </tr>\n",
              "  </thead>\n",
              "  <tbody>\n",
              "    <tr>\n",
              "      <th>0</th>\n",
              "      <td>Okay -- you're gonna need to learn how to lie.</td>\n",
              "      <td>0</td>\n",
              "    </tr>\n",
              "    <tr>\n",
              "      <th>1</th>\n",
              "      <td>I'm kidding.  You know how sometimes you just ...</td>\n",
              "      <td>0</td>\n",
              "    </tr>\n",
              "    <tr>\n",
              "      <th>2</th>\n",
              "      <td>Like my fear of wearing pastels?</td>\n",
              "      <td>0</td>\n",
              "    </tr>\n",
              "    <tr>\n",
              "      <th>3</th>\n",
              "      <td>I figured you'd get to the good stuff eventually.</td>\n",
              "      <td>0</td>\n",
              "    </tr>\n",
              "    <tr>\n",
              "      <th>4</th>\n",
              "      <td>Thank God!  If I had to hear one more story ab...</td>\n",
              "      <td>0</td>\n",
              "    </tr>\n",
              "  </tbody>\n",
              "</table>\n",
              "</div>"
            ],
            "text/plain": [
              "                                                text  label\n",
              "0     Okay -- you're gonna need to learn how to lie.      0\n",
              "1  I'm kidding.  You know how sometimes you just ...      0\n",
              "2                   Like my fear of wearing pastels?      0\n",
              "3  I figured you'd get to the good stuff eventually.      0\n",
              "4  Thank God!  If I had to hear one more story ab...      0"
            ]
          },
          "metadata": {
            "tags": []
          },
          "execution_count": 14
        }
      ]
    },
    {
      "cell_type": "markdown",
      "metadata": {
        "colab_type": "text",
        "id": "e7Ho2gM_VoRt"
      },
      "source": [
        "### Clean the text"
      ]
    },
    {
      "cell_type": "code",
      "metadata": {
        "colab_type": "code",
        "id": "6DnTh1iqa3Do",
        "outputId": "9f7132a1-eb77-4b1f-d068-d69e5d9a0228",
        "colab": {
          "base_uri": "https://localhost:8080/",
          "height": 34
        }
      },
      "source": [
        "data.shape"
      ],
      "execution_count": 0,
      "outputs": [
        {
          "output_type": "execute_result",
          "data": {
            "text/plain": [
              "(615477, 2)"
            ]
          },
          "metadata": {
            "tags": []
          },
          "execution_count": 15
        }
      ]
    },
    {
      "cell_type": "markdown",
      "metadata": {
        "colab_type": "text",
        "id": "nD5XQNXy9Esg"
      },
      "source": [
        "Here we can see that certain lines are entirely made up of stopwords and symbols. We need to account for this."
      ]
    },
    {
      "cell_type": "code",
      "metadata": {
        "colab_type": "code",
        "id": "UoT3-_7gbgle",
        "outputId": "9e88db48-6284-4a68-f2b0-6dc7fffe7854",
        "colab": {
          "base_uri": "https://localhost:8080/",
          "height": 67
        }
      },
      "source": [
        "print(\"This line: \", data.loc[82457, 'text'])\n",
        "print(\"\\nBecomes: \", text_prepare(data.loc[82457, 'text']))"
      ],
      "execution_count": 0,
      "outputs": [
        {
          "output_type": "stream",
          "text": [
            "This line:  Do you have to do that?\n",
            "\n",
            "Becomes:  do\n"
          ],
          "name": "stdout"
        }
      ]
    },
    {
      "cell_type": "markdown",
      "metadata": {
        "colab_type": "text",
        "id": "TUKG3QZABdhX"
      },
      "source": [
        "Now we run the cleaning function on the whole database."
      ]
    },
    {
      "cell_type": "code",
      "metadata": {
        "colab_type": "code",
        "id": "HtXWMj4uWD0g",
        "outputId": "1d9d5de6-8567-4b98-c9e8-6010e313f288",
        "colab": {
          "base_uri": "https://localhost:8080/",
          "height": 50
        }
      },
      "source": [
        "%time cleaned_text = [text_prepare(x) for x in data['text']]"
      ],
      "execution_count": 0,
      "outputs": [
        {
          "output_type": "stream",
          "text": [
            "CPU times: user 46 s, sys: 106 ms, total: 46.1 s\n",
            "Wall time: 46.2 s\n"
          ],
          "name": "stdout"
        }
      ]
    },
    {
      "cell_type": "code",
      "metadata": {
        "colab_type": "code",
        "id": "ROg5cz_twXLQ",
        "outputId": "e97f5461-79fe-490f-d7f0-e613ee095b42",
        "colab": {
          "base_uri": "https://localhost:8080/",
          "height": 195
        }
      },
      "source": [
        "clean_text = pd.DataFrame({'clean_data': cleaned_text})\n",
        "clean_text.head()"
      ],
      "execution_count": 0,
      "outputs": [
        {
          "output_type": "execute_result",
          "data": {
            "text/html": [
              "<div>\n",
              "<style scoped>\n",
              "    .dataframe tbody tr th:only-of-type {\n",
              "        vertical-align: middle;\n",
              "    }\n",
              "\n",
              "    .dataframe tbody tr th {\n",
              "        vertical-align: top;\n",
              "    }\n",
              "\n",
              "    .dataframe thead th {\n",
              "        text-align: right;\n",
              "    }\n",
              "</style>\n",
              "<table border=\"1\" class=\"dataframe\">\n",
              "  <thead>\n",
              "    <tr style=\"text-align: right;\">\n",
              "      <th></th>\n",
              "      <th>clean_data</th>\n",
              "    </tr>\n",
              "  </thead>\n",
              "  <tbody>\n",
              "    <tr>\n",
              "      <th>0</th>\n",
              "      <td>okay youre gonna need learn lie</td>\n",
              "    </tr>\n",
              "    <tr>\n",
              "      <th>1</th>\n",
              "      <td>im kidding know sometimes become persona dont ...</td>\n",
              "    </tr>\n",
              "    <tr>\n",
              "      <th>2</th>\n",
              "      <td>like fear wearing pastels</td>\n",
              "    </tr>\n",
              "    <tr>\n",
              "      <th>3</th>\n",
              "      <td>figured youd get good stuff eventually</td>\n",
              "    </tr>\n",
              "    <tr>\n",
              "      <th>4</th>\n",
              "      <td>thank god hear one story coiffure</td>\n",
              "    </tr>\n",
              "  </tbody>\n",
              "</table>\n",
              "</div>"
            ],
            "text/plain": [
              "                                          clean_data\n",
              "0                    okay youre gonna need learn lie\n",
              "1  im kidding know sometimes become persona dont ...\n",
              "2                          like fear wearing pastels\n",
              "3             figured youd get good stuff eventually\n",
              "4                  thank god hear one story coiffure"
            ]
          },
          "metadata": {
            "tags": []
          },
          "execution_count": 18
        }
      ]
    },
    {
      "cell_type": "code",
      "metadata": {
        "colab_type": "code",
        "id": "_q1Z-8LEzYbV",
        "outputId": "1ea31939-1423-4863-caa5-cd7aa34386b2",
        "colab": {
          "base_uri": "https://localhost:8080/",
          "height": 195
        }
      },
      "source": [
        "clean = pd.concat([clean_text, data], axis = 1, ignore_index=True)\n",
        "clean = shuffle(clean)\n",
        "clean.head()"
      ],
      "execution_count": 0,
      "outputs": [
        {
          "output_type": "execute_result",
          "data": {
            "text/html": [
              "<div>\n",
              "<style scoped>\n",
              "    .dataframe tbody tr th:only-of-type {\n",
              "        vertical-align: middle;\n",
              "    }\n",
              "\n",
              "    .dataframe tbody tr th {\n",
              "        vertical-align: top;\n",
              "    }\n",
              "\n",
              "    .dataframe thead th {\n",
              "        text-align: right;\n",
              "    }\n",
              "</style>\n",
              "<table border=\"1\" class=\"dataframe\">\n",
              "  <thead>\n",
              "    <tr style=\"text-align: right;\">\n",
              "      <th></th>\n",
              "      <th>0</th>\n",
              "      <th>1</th>\n",
              "      <th>2</th>\n",
              "    </tr>\n",
              "  </thead>\n",
              "  <tbody>\n",
              "    <tr>\n",
              "      <th>378098</th>\n",
              "      <td>syntax error insert statement c# oledb</td>\n",
              "      <td>Syntax error in INSERT INTO statement in c# ol...</td>\n",
              "      <td>1</td>\n",
              "    </tr>\n",
              "    <tr>\n",
              "      <th>274212</th>\n",
              "      <td>applying methods object private variables java...</td>\n",
              "      <td>applying methods to object and private variabl...</td>\n",
              "      <td>1</td>\n",
              "    </tr>\n",
              "    <tr>\n",
              "      <th>527013</th>\n",
              "      <td>xampp openssl errors calling openssl_pkey_new</td>\n",
              "      <td>xampp openssl errors when calling openssl_pkey...</td>\n",
              "      <td>1</td>\n",
              "    </tr>\n",
              "    <tr>\n",
              "      <th>25072</th>\n",
              "      <td>let buyer beware</td>\n",
              "      <td>Let the buyer beware.</td>\n",
              "      <td>0</td>\n",
              "    </tr>\n",
              "    <tr>\n",
              "      <th>491370</th>\n",
              "      <td>read write locking confusion</td>\n",
              "      <td>Read/Write locking confusion</td>\n",
              "      <td>1</td>\n",
              "    </tr>\n",
              "  </tbody>\n",
              "</table>\n",
              "</div>"
            ],
            "text/plain": [
              "                                                        0  ...  2\n",
              "378098             syntax error insert statement c# oledb  ...  1\n",
              "274212  applying methods object private variables java...  ...  1\n",
              "527013      xampp openssl errors calling openssl_pkey_new  ...  1\n",
              "25072                                    let buyer beware  ...  0\n",
              "491370                       read write locking confusion  ...  1\n",
              "\n",
              "[5 rows x 3 columns]"
            ]
          },
          "metadata": {
            "tags": []
          },
          "execution_count": 19
        }
      ]
    },
    {
      "cell_type": "code",
      "metadata": {
        "colab_type": "code",
        "id": "pFl5dCCI9R2r",
        "outputId": "3c76b783-13b0-4b89-dc00-b5482dd65e69",
        "colab": {
          "base_uri": "https://localhost:8080/",
          "height": 195
        }
      },
      "source": [
        "clean = clean.drop(columns=[1])\n",
        "clean.head(5)"
      ],
      "execution_count": 0,
      "outputs": [
        {
          "output_type": "execute_result",
          "data": {
            "text/html": [
              "<div>\n",
              "<style scoped>\n",
              "    .dataframe tbody tr th:only-of-type {\n",
              "        vertical-align: middle;\n",
              "    }\n",
              "\n",
              "    .dataframe tbody tr th {\n",
              "        vertical-align: top;\n",
              "    }\n",
              "\n",
              "    .dataframe thead th {\n",
              "        text-align: right;\n",
              "    }\n",
              "</style>\n",
              "<table border=\"1\" class=\"dataframe\">\n",
              "  <thead>\n",
              "    <tr style=\"text-align: right;\">\n",
              "      <th></th>\n",
              "      <th>0</th>\n",
              "      <th>2</th>\n",
              "    </tr>\n",
              "  </thead>\n",
              "  <tbody>\n",
              "    <tr>\n",
              "      <th>378098</th>\n",
              "      <td>syntax error insert statement c# oledb</td>\n",
              "      <td>1</td>\n",
              "    </tr>\n",
              "    <tr>\n",
              "      <th>274212</th>\n",
              "      <td>applying methods object private variables java...</td>\n",
              "      <td>1</td>\n",
              "    </tr>\n",
              "    <tr>\n",
              "      <th>527013</th>\n",
              "      <td>xampp openssl errors calling openssl_pkey_new</td>\n",
              "      <td>1</td>\n",
              "    </tr>\n",
              "    <tr>\n",
              "      <th>25072</th>\n",
              "      <td>let buyer beware</td>\n",
              "      <td>0</td>\n",
              "    </tr>\n",
              "    <tr>\n",
              "      <th>491370</th>\n",
              "      <td>read write locking confusion</td>\n",
              "      <td>1</td>\n",
              "    </tr>\n",
              "  </tbody>\n",
              "</table>\n",
              "</div>"
            ],
            "text/plain": [
              "                                                        0  2\n",
              "378098             syntax error insert statement c# oledb  1\n",
              "274212  applying methods object private variables java...  1\n",
              "527013      xampp openssl errors calling openssl_pkey_new  1\n",
              "25072                                    let buyer beware  0\n",
              "491370                       read write locking confusion  1"
            ]
          },
          "metadata": {
            "tags": []
          },
          "execution_count": 20
        }
      ]
    },
    {
      "cell_type": "markdown",
      "metadata": {
        "colab_type": "text",
        "id": "j-Hlh2-MBVSJ"
      },
      "source": [
        "Check that there are only 2 labels (binary) and see the amount of each."
      ]
    },
    {
      "cell_type": "code",
      "metadata": {
        "colab_type": "code",
        "id": "Ey12hOuG-uqt",
        "outputId": "63f0635c-8569-44c5-f240-0e7dcb2d836b",
        "colab": {
          "base_uri": "https://localhost:8080/",
          "height": 136
        }
      },
      "source": [
        "unique_labels = clean.groupby(2).nunique()\n",
        "unique_labels.head()"
      ],
      "execution_count": 0,
      "outputs": [
        {
          "output_type": "execute_result",
          "data": {
            "text/html": [
              "<div>\n",
              "<style scoped>\n",
              "    .dataframe tbody tr th:only-of-type {\n",
              "        vertical-align: middle;\n",
              "    }\n",
              "\n",
              "    .dataframe tbody tr th {\n",
              "        vertical-align: top;\n",
              "    }\n",
              "\n",
              "    .dataframe thead th {\n",
              "        text-align: right;\n",
              "    }\n",
              "</style>\n",
              "<table border=\"1\" class=\"dataframe\">\n",
              "  <thead>\n",
              "    <tr style=\"text-align: right;\">\n",
              "      <th></th>\n",
              "      <th>0</th>\n",
              "      <th>2</th>\n",
              "    </tr>\n",
              "    <tr>\n",
              "      <th>2</th>\n",
              "      <th></th>\n",
              "      <th></th>\n",
              "    </tr>\n",
              "  </thead>\n",
              "  <tbody>\n",
              "    <tr>\n",
              "      <th>0</th>\n",
              "      <td>206952</td>\n",
              "      <td>1</td>\n",
              "    </tr>\n",
              "    <tr>\n",
              "      <th>1</th>\n",
              "      <td>394520</td>\n",
              "      <td>1</td>\n",
              "    </tr>\n",
              "  </tbody>\n",
              "</table>\n",
              "</div>"
            ],
            "text/plain": [
              "        0  2\n",
              "2           \n",
              "0  206952  1\n",
              "1  394520  1"
            ]
          },
          "metadata": {
            "tags": []
          },
          "execution_count": 21
        }
      ]
    },
    {
      "cell_type": "markdown",
      "metadata": {
        "colab_type": "text",
        "id": "K8Uycb9GGM3P"
      },
      "source": [
        "### Train Test Validation Split"
      ]
    },
    {
      "cell_type": "code",
      "metadata": {
        "colab_type": "code",
        "id": "C2504BNfH0XH",
        "outputId": "42556294-8be5-4a40-ffc4-76a1ab397351",
        "colab": {
          "base_uri": "https://localhost:8080/",
          "height": 118
        }
      },
      "source": [
        "clean_data = clean[0]\n",
        "clean_data.head()"
      ],
      "execution_count": 0,
      "outputs": [
        {
          "output_type": "execute_result",
          "data": {
            "text/plain": [
              "378098               syntax error insert statement c# oledb\n",
              "274212    applying methods object private variables java...\n",
              "527013        xampp openssl errors calling openssl_pkey_new\n",
              "25072                                      let buyer beware\n",
              "491370                         read write locking confusion\n",
              "Name: 0, dtype: object"
            ]
          },
          "metadata": {
            "tags": []
          },
          "execution_count": 22
        }
      ]
    },
    {
      "cell_type": "code",
      "metadata": {
        "colab_type": "code",
        "id": "qqTBtKswH8OJ",
        "outputId": "3d2107c4-5ebc-43e6-f30e-1297c2777fb5",
        "colab": {
          "base_uri": "https://localhost:8080/",
          "height": 118
        }
      },
      "source": [
        "clean_labels = clean[2]\n",
        "clean_labels.head()"
      ],
      "execution_count": 0,
      "outputs": [
        {
          "output_type": "execute_result",
          "data": {
            "text/plain": [
              "378098    1\n",
              "274212    1\n",
              "527013    1\n",
              "25072     0\n",
              "491370    1\n",
              "Name: 2, dtype: int64"
            ]
          },
          "metadata": {
            "tags": []
          },
          "execution_count": 23
        }
      ]
    },
    {
      "cell_type": "markdown",
      "metadata": {
        "colab_type": "text",
        "id": "yfR0S79LKM2z"
      },
      "source": [
        "First we split off the validation set as 20% of the overall data set."
      ]
    },
    {
      "cell_type": "code",
      "metadata": {
        "colab_type": "code",
        "id": "6PcNZLs0GP-p",
        "colab": {}
      },
      "source": [
        "df_data, X_val, df_labels, y_val = train_test_split(\n",
        "    clean_data, clean_labels, test_size=0.2, random_state=42, shuffle=False)"
      ],
      "execution_count": 0,
      "outputs": []
    },
    {
      "cell_type": "markdown",
      "metadata": {
        "colab_type": "text",
        "id": "kavGbj5CKRZN"
      },
      "source": [
        "Then we split the remaining into training and test data."
      ]
    },
    {
      "cell_type": "code",
      "metadata": {
        "colab_type": "code",
        "id": "sPhhujziIHDE",
        "colab": {}
      },
      "source": [
        "X_train, X_test, y_train, y_test = train_test_split(df_data, df_labels, test_size=0.25,\n",
        "                                                        random_state=42,\n",
        "                                                        shuffle=False)"
      ],
      "execution_count": 0,
      "outputs": []
    },
    {
      "cell_type": "markdown",
      "metadata": {
        "colab_type": "text",
        "id": "GiTur5D4KUyn"
      },
      "source": [
        "The end result is 60% training data, 20% test data and 20% validation data"
      ]
    },
    {
      "cell_type": "code",
      "metadata": {
        "colab_type": "code",
        "id": "FwaIgNTCJb7M",
        "outputId": "3eda36a3-8fa5-4103-dc7b-542ca0f2a6a9",
        "colab": {
          "base_uri": "https://localhost:8080/",
          "height": 118
        }
      },
      "source": [
        "print(\"Shape of X_train\", X_train.shape)\n",
        "print(\"Shape of y_train\", X_train.shape)\n",
        "print(\"Shape of X_test\", X_test.shape)\n",
        "print(\"Shape of y_test\", y_test.shape)\n",
        "print(\"Shape of X_val\", X_val.shape)\n",
        "print(\"Shape of y_val\", y_val.shape)"
      ],
      "execution_count": 0,
      "outputs": [
        {
          "output_type": "stream",
          "text": [
            "Shape of X_train (369285,)\n",
            "Shape of y_train (369285,)\n",
            "Shape of X_test (123096,)\n",
            "Shape of y_test (123096,)\n",
            "Shape of X_val (123096,)\n",
            "Shape of y_val (123096,)\n"
          ],
          "name": "stdout"
        }
      ]
    },
    {
      "cell_type": "markdown",
      "metadata": {
        "colab_type": "text",
        "id": "1RdDnZ0QLkGa"
      },
      "source": [
        "### Apply TF-IDF Weighting"
      ]
    },
    {
      "cell_type": "markdown",
      "metadata": {
        "colab_type": "text",
        "id": "BcqGn8mNM3QP"
      },
      "source": [
        "We first need to learn the words for the dictionary from our training data."
      ]
    },
    {
      "cell_type": "code",
      "metadata": {
        "colab_type": "code",
        "id": "XBmLxj__Lm_f",
        "outputId": "1a39cfb6-dc92-4417-b293-a569d646a146",
        "colab": {
          "base_uri": "https://localhost:8080/",
          "height": 84
        }
      },
      "source": [
        "vectorizer = TfidfVectorizer(norm=u'l1', token_pattern='(\\S+)', min_df=5, max_df=0.9, ngram_range=(1,2))\n",
        "\n",
        "%time vectorizer.fit_transform(X_train)\n",
        "# print(vectorizer.get_feature_names(10))"
      ],
      "execution_count": 0,
      "outputs": [
        {
          "output_type": "stream",
          "text": [
            "CPU times: user 11.7 s, sys: 386 ms, total: 12.1 s\n",
            "Wall time: 12.1 s\n"
          ],
          "name": "stdout"
        },
        {
          "output_type": "execute_result",
          "data": {
            "text/plain": [
              "<369285x65391 sparse matrix of type '<class 'numpy.float64'>'\n",
              "\twith 2693516 stored elements in Compressed Sparse Row format>"
            ]
          },
          "metadata": {
            "tags": []
          },
          "execution_count": 27
        }
      ]
    },
    {
      "cell_type": "markdown",
      "metadata": {
        "colab_type": "text",
        "id": "RWh_ekQzOMSs"
      },
      "source": [
        "Apply this learned TF-IDF transform to our different dataframes"
      ]
    },
    {
      "cell_type": "code",
      "metadata": {
        "colab_type": "code",
        "id": "5YCiM_i5MqZ_",
        "outputId": "78cd1d90-031d-4220-cb85-06d54c804e99",
        "colab": {
          "base_uri": "https://localhost:8080/",
          "height": 118
        }
      },
      "source": [
        "%time train_tf = vectorizer.transform(X_train)\n",
        "# train_tf = csr_matrix.mean(train_tf, axis=0)\n",
        "\n",
        "%time test_tf = vectorizer.transform(X_test)\n",
        "# test_tf = csr_matrix.mean(test_tf, axis=0)\n",
        "\n",
        "%time val_tf = vectorizer.transform(X_val)\n",
        "# val_tf = csr_matrix.mean(val_tf, axis=0)"
      ],
      "execution_count": 0,
      "outputs": [
        {
          "output_type": "stream",
          "text": [
            "CPU times: user 6.03 s, sys: 6.94 ms, total: 6.04 s\n",
            "Wall time: 6.04 s\n",
            "CPU times: user 2.01 s, sys: 962 µs, total: 2.01 s\n",
            "Wall time: 2.01 s\n",
            "CPU times: user 2.02 s, sys: 3.96 ms, total: 2.03 s\n",
            "Wall time: 2.03 s\n"
          ],
          "name": "stdout"
        }
      ]
    },
    {
      "cell_type": "markdown",
      "metadata": {
        "colab_type": "text",
        "id": "40Ui_FgnOm8y"
      },
      "source": [
        "We can see that the different dataframes have been transformed intt Compressed Sparse Row format data. This is very important as sparsity has a big impact on accuracy."
      ]
    },
    {
      "cell_type": "code",
      "metadata": {
        "colab_type": "code",
        "id": "tST_JeYgORw1",
        "outputId": "1b303c74-eb1f-4bea-f926-4322c59f4b76",
        "colab": {
          "base_uri": "https://localhost:8080/",
          "height": 67
        }
      },
      "source": [
        "print(\"Shape of train_tf\", train_tf.shape)\n",
        "\n",
        "print(\"Shape of test_tf\", test_tf.shape)\n",
        "\n",
        "print(\"Shape of val_tf\", val_tf.shape)"
      ],
      "execution_count": 0,
      "outputs": [
        {
          "output_type": "stream",
          "text": [
            "Shape of train_tf (369285, 65391)\n",
            "Shape of test_tf (123096, 65391)\n",
            "Shape of val_tf (123096, 65391)\n"
          ],
          "name": "stdout"
        }
      ]
    },
    {
      "cell_type": "code",
      "metadata": {
        "id": "k6CvPhr1DSeH",
        "colab_type": "code",
        "colab": {}
      },
      "source": [
        "true_label = y_test.values"
      ],
      "execution_count": 0,
      "outputs": []
    },
    {
      "cell_type": "markdown",
      "metadata": {
        "colab_type": "text",
        "id": "t5O8cW0APWn9"
      },
      "source": [
        "## Classify CSR"
      ]
    },
    {
      "cell_type": "markdown",
      "metadata": {
        "colab_type": "text",
        "id": "up8rnEG-VDV2"
      },
      "source": [
        "First we will attempt to classify the full CSR dataset"
      ]
    },
    {
      "cell_type": "markdown",
      "metadata": {
        "colab_type": "text",
        "id": "9nTR2uuyVKmN"
      },
      "source": [
        "### Naive Bayes\n",
        "Interestingly this crashes and causes the runtime to reset as the dimensionality is too high."
      ]
    },
    {
      "cell_type": "code",
      "metadata": {
        "colab_type": "code",
        "id": "2BMZ-FK7P0hy",
        "colab": {}
      },
      "source": [
        "# nb = GaussianNB()\n",
        "# nb.fit(train_tf.todense(), y_train.astype(int))"
      ],
      "execution_count": 0,
      "outputs": []
    },
    {
      "cell_type": "code",
      "metadata": {
        "colab_type": "code",
        "id": "ICikjGgRUMlD",
        "colab": {}
      },
      "source": [
        "# nb_score_test = nb.score(test_tf.todense(), y_test.astype(int))\n",
        "# nb_score_test"
      ],
      "execution_count": 0,
      "outputs": []
    },
    {
      "cell_type": "markdown",
      "metadata": {
        "colab_type": "text",
        "id": "WbSCoHqJRicZ"
      },
      "source": [
        "### Linear Regression"
      ]
    },
    {
      "cell_type": "code",
      "metadata": {
        "colab_type": "code",
        "id": "mYa-7yCvQEiY",
        "colab": {}
      },
      "source": [
        "if LOAD_MODELS == 0:\n",
        "    %time linr.fit(train_tf, y_train.astype(int))"
      ],
      "execution_count": 0,
      "outputs": []
    },
    {
      "cell_type": "code",
      "metadata": {
        "colab_type": "code",
        "id": "HG9Pe5DmQ8TL",
        "colab": {}
      },
      "source": [
        "# %time linr_score_test = linr.score(test_tf, y_test.astype(int))\n",
        "# print(linr_score_test*100"
      ],
      "execution_count": 0,
      "outputs": []
    },
    {
      "cell_type": "code",
      "metadata": {
        "id": "0SLfmLaiDSeb",
        "colab_type": "code",
        "outputId": "e99aab11-5f16-48d0-b439-05a00189e875",
        "colab": {
          "base_uri": "https://localhost:8080/",
          "height": 67
        }
      },
      "source": [
        "%time scores = cross_val_score(linr, test_tf, true_label, cv=StratifiedKFold(n_splits=5, random_state=42))\n",
        "print(\"Accuracy: %0.2f (+/- %0.2f)\" % (scores.mean(), scores.std() * 2))"
      ],
      "execution_count": 0,
      "outputs": [
        {
          "output_type": "stream",
          "text": [
            "CPU times: user 4min 36s, sys: 3min 3s, total: 7min 40s\n",
            "Wall time: 3min 53s\n",
            "Accuracy: 0.81 (+/- 0.01)\n"
          ],
          "name": "stdout"
        }
      ]
    },
    {
      "cell_type": "markdown",
      "metadata": {
        "colab_type": "text",
        "id": "KPkOQYptj7pk"
      },
      "source": [
        "We don't have a confusion matrix for the LR as it returns continuous results not discrete ones"
      ]
    },
    {
      "cell_type": "markdown",
      "metadata": {
        "colab_type": "text",
        "id": "RiiKY9yHRnS1"
      },
      "source": [
        "### Logistic Regression"
      ]
    },
    {
      "cell_type": "code",
      "metadata": {
        "colab_type": "code",
        "id": "XY9HT8zQRqMQ",
        "colab": {}
      },
      "source": [
        "if LOAD_MODELS == 0:\n",
        "    %time lr.fit(train_tf, y_train)"
      ],
      "execution_count": 0,
      "outputs": []
    },
    {
      "cell_type": "code",
      "metadata": {
        "colab_type": "code",
        "id": "lv1Uzj2HR-5L",
        "colab": {}
      },
      "source": [
        "# %time lr_score_test = lr.score(test_tf, y_test.astype(int))\n",
        "# print(lr_score_test*100)\n",
        "# %time scores = cross_val_score(lr, test_tf, true_label, cv=StratifiedKFold(n_splits=5, random_state=42))\n",
        "# print(\"Accuracy: %0.2f (+/- %0.2f)\" % (scores.mean(), scores.std() * 2))"
      ],
      "execution_count": 0,
      "outputs": []
    },
    {
      "cell_type": "markdown",
      "metadata": {
        "colab_type": "text",
        "id": "HL0BTUVhkCfM"
      },
      "source": [
        "We can better understand the accuracy by looking at a confusion matrix\n",
        "\n",
        "\n"
      ]
    },
    {
      "cell_type": "code",
      "metadata": {
        "colab_type": "code",
        "id": "jsc9tHHPfDXL",
        "outputId": "8a6cb6e3-6e03-437e-9502-c747b226840b",
        "colab": {
          "base_uri": "https://localhost:8080/",
          "height": 396
        }
      },
      "source": [
        "evaluate_features(test_tf, y_test, lr)"
      ],
      "execution_count": 0,
      "outputs": [
        {
          "output_type": "stream",
          "text": [
            "[Parallel(n_jobs=-1)]: Using backend LokyBackend with 2 concurrent workers.\n",
            "[Parallel(n_jobs=-1)]: Done   5 out of   5 | elapsed:   14.1s finished\n",
            "[Parallel(n_jobs=-1)]: Done   5 out of   5 | elapsed:   14.1s remaining:    0.0s\n"
          ],
          "name": "stderr"
        },
        {
          "output_type": "stream",
          "text": [
            "Log loss: 0.071055437863347\n",
            "Accuracy: 0.9843942938844479\n"
          ],
          "name": "stdout"
        },
        {
          "output_type": "execute_result",
          "data": {
            "text/plain": [
              "array([1, 1, 1, ..., 1, 0, 1])"
            ]
          },
          "metadata": {
            "tags": []
          },
          "execution_count": 38
        },
        {
          "output_type": "display_data",
          "data": {
            "image/png": "[encoded data removed]",
            "text/plain": [
              "<Figure size 432x288 with 2 Axes>"
            ]
          },
          "metadata": {
            "tags": []
          }
        }
      ]
    },
    {
      "cell_type": "markdown",
      "metadata": {
        "colab_type": "text",
        "id": "qCTnYpXvW6_T"
      },
      "source": [
        "### Support Vector Machine\n",
        "The high dimensionality means that this takes a ridiculous amount of time to run."
      ]
    },
    {
      "cell_type": "code",
      "metadata": {
        "colab_type": "code",
        "id": "99h61zvwYikw",
        "colab": {}
      },
      "source": [
        "# clf = svm.SVC(kernel='linear', C=1, random_state=42)\n",
        "# %time clf.fit(train_tf, y_train.astype(int))"
      ],
      "execution_count": 0,
      "outputs": []
    },
    {
      "cell_type": "code",
      "metadata": {
        "colab_type": "code",
        "id": "FyT3M3G3Yik1",
        "colab": {}
      },
      "source": [
        "# %time clf_score = clf.score(test_tf, y_test.astype(int))\n",
        "# print(\"SVM accuracy on test:\\t %f\" % clf_score)"
      ],
      "execution_count": 0,
      "outputs": []
    },
    {
      "cell_type": "markdown",
      "metadata": {
        "colab_type": "text",
        "id": "Kl3AFQwAsfoO"
      },
      "source": [
        "### Random Forest\n",
        "The high dimensionality means that this takes a ridiculous amount of time to run."
      ]
    },
    {
      "cell_type": "code",
      "metadata": {
        "colab_type": "code",
        "id": "5GSyFlIUsjfN",
        "colab": {}
      },
      "source": [
        "if LOAD_MODELS == 0:\n",
        "    %time rf.fit(train_tf, y_train.astype(int))"
      ],
      "execution_count": 0,
      "outputs": []
    },
    {
      "cell_type": "code",
      "metadata": {
        "colab_type": "code",
        "id": "YMQ6Qi-7srF1",
        "colab": {}
      },
      "source": [
        "# %time rf_score = rf.score(test_tf, y_test.astype(int))\n",
        "# print(\"RF accuracy on test:\\t %f\" % rf_score)\n",
        "# %time scores = cross_val_score(rf, test_tf, true_label, cv=StratifiedKFold(n_splits=5, random_state=42))\n",
        "# print(\"Accuracy: %0.2f (+/- %0.2f)\" % (scores.mean(), scores.std() * 2))"
      ],
      "execution_count": 0,
      "outputs": []
    },
    {
      "cell_type": "markdown",
      "metadata": {
        "colab_type": "text",
        "id": "L-ccw4zOkRd_"
      },
      "source": [
        "We can better understand the accuracy by looking at a confusion matrix"
      ]
    },
    {
      "cell_type": "code",
      "metadata": {
        "colab_type": "code",
        "id": "GLRxGumshzAd",
        "outputId": "278b4072-5a4f-4ef9-aa38-9b03f66c9bfc",
        "colab": {
          "base_uri": "https://localhost:8080/",
          "height": 396
        }
      },
      "source": [
        "evaluate_features(test_tf, y_test, rf)"
      ],
      "execution_count": 0,
      "outputs": [
        {
          "output_type": "stream",
          "text": [
            "[Parallel(n_jobs=-1)]: Using backend LokyBackend with 2 concurrent workers.\n",
            "[Parallel(n_jobs=-1)]: Done   5 out of   5 | elapsed: 37.0min finished\n",
            "[Parallel(n_jobs=-1)]: Done   5 out of   5 | elapsed: 37.0min remaining:    0.0s\n"
          ],
          "name": "stderr"
        },
        {
          "output_type": "stream",
          "text": [
            "Log loss: 0.5383838058832735\n",
            "Accuracy: 0.752445245986872\n"
          ],
          "name": "stdout"
        },
        {
          "output_type": "execute_result",
          "data": {
            "text/plain": [
              "array([1, 1, 1, ..., 1, 0, 1])"
            ]
          },
          "metadata": {
            "tags": []
          },
          "execution_count": 43
        },
        {
          "output_type": "display_data",
          "data": {
            "image/png": "[encoded data removed]",
            "text/plain": [
              "<Figure size 432x288 with 2 Axes>"
            ]
          },
          "metadata": {
            "tags": []
          }
        }
      ]
    },
    {
      "cell_type": "markdown",
      "metadata": {
        "colab_type": "text",
        "id": "e8ZtHimY-vBB"
      },
      "source": [
        "We could use a gridsearch to find optimal paramters for a classifier"
      ]
    },
    {
      "cell_type": "code",
      "metadata": {
        "colab_type": "code",
        "id": "xGplZk3LkDfR",
        "colab": {}
      },
      "source": [
        "# rf_grid = RandomForestClassifier(random_state=42)\n",
        "\n",
        "# param_grid = { \n",
        "#     'n_estimators': [100, 120, 140, 160, 180, 200, 220, 240, 260],\n",
        "#     'min_samples_leaf': [3, 5, 7],\n",
        "#     'min_samples_split': [2, 3, 4, 5, 6],\n",
        "#     'max_depth' : [5, 10, 15, 20, 25, 30, 35, 40, 45],\n",
        "#     'criterion' :['gini', 'entropy']\n",
        "# }\n",
        "\n",
        "\n",
        "# CV_rf = GridSearchCV(estimator=rf_grid, param_grid=param_grid, cv= 5, n_jobs = -1, \n",
        "#                      verbose = 2)\n",
        "# CV_rf.fit(train_tf, y_train.astype(int))\n",
        "# CV_rf.best_params_"
      ],
      "execution_count": 0,
      "outputs": []
    },
    {
      "cell_type": "markdown",
      "metadata": {
        "colab_type": "text",
        "id": "ylDHai-RTmFH"
      },
      "source": [
        "## Scores on CSR Validation Set"
      ]
    },
    {
      "cell_type": "code",
      "metadata": {
        "colab_type": "code",
        "id": "J1DLXODl_VBA",
        "colab": {}
      },
      "source": [
        "# nb_score_val = nb.score(val_tf.todense(), y_val.astype(int))\n",
        "# nb_score_val"
      ],
      "execution_count": 0,
      "outputs": []
    },
    {
      "cell_type": "code",
      "metadata": {
        "colab_type": "code",
        "id": "OUfC603_RZwX",
        "outputId": "2907757a-1459-47bc-b646-c93c92cc4468",
        "colab": {
          "base_uri": "https://localhost:8080/",
          "height": 67
        }
      },
      "source": [
        "# linr_score_val = linr.score(val_tf, y_val)\n",
        "# linr_score_val\n",
        "%time scores = cross_val_score(linr, val_tf, y_val, cv=StratifiedKFold(n_splits=5, random_state=42))\n",
        "print(\"Accuracy: %0.2f (+/- %0.2f)\" % (scores.mean(), scores.std() * 2))"
      ],
      "execution_count": 0,
      "outputs": [
        {
          "output_type": "stream",
          "text": [
            "CPU times: user 4min 45s, sys: 3min 8s, total: 7min 53s\n",
            "Wall time: 3min 59s\n",
            "Accuracy: 0.80 (+/- 0.01)\n"
          ],
          "name": "stdout"
        }
      ]
    },
    {
      "cell_type": "code",
      "metadata": {
        "colab_type": "code",
        "id": "zYc69BoATjlt",
        "outputId": "8926daf6-7758-4a50-d591-77f4217f1a2a",
        "colab": {
          "base_uri": "https://localhost:8080/",
          "height": 67
        }
      },
      "source": [
        "# lr_score_val = lr.score(val_tf, y_val.astype(int))\n",
        "# lr_score_val\n",
        "%time scores = cross_val_score(lr, val_tf, y_val, cv=StratifiedKFold(n_splits=5, random_state=42))\n",
        "print(\"Accuracy: %0.2f (+/- %0.2f)\" % (scores.mean(), scores.std() * 2))"
      ],
      "execution_count": 0,
      "outputs": [
        {
          "output_type": "stream",
          "text": [
            "CPU times: user 220 ms, sys: 97.3 ms, total: 317 ms\n",
            "Wall time: 12.2 s\n",
            "Accuracy: 0.98 (+/- 0.00)\n"
          ],
          "name": "stdout"
        }
      ]
    },
    {
      "cell_type": "code",
      "metadata": {
        "colab_type": "code",
        "id": "fRxfvE62XVET",
        "colab": {}
      },
      "source": [
        "# clf_score_val = clf.score(X_val, y_val.astype(int))\n",
        "# clf_score_val"
      ],
      "execution_count": 0,
      "outputs": []
    },
    {
      "cell_type": "code",
      "metadata": {
        "colab_type": "code",
        "id": "CCJyNWqG_fAY",
        "outputId": "232b7bde-e139-48ed-8b98-78608fc614bb",
        "colab": {
          "base_uri": "https://localhost:8080/",
          "height": 67
        }
      },
      "source": [
        "# rf_score_val = rf.score(val_tf, y_val.astype(int))\n",
        "# rf_score_val\n",
        "%time scores = cross_val_score(rf, val_tf, y_val, cv=StratifiedKFold(n_splits=5, random_state=42))\n",
        "print(\"Accuracy: %0.2f (+/- %0.2f)\" % (scores.mean(), scores.std() * 2))"
      ],
      "execution_count": 0,
      "outputs": [
        {
          "output_type": "stream",
          "text": [
            "CPU times: user 21.1 s, sys: 1.1 s, total: 22.2 s\n",
            "Wall time: 36min 59s\n",
            "Accuracy: 0.75 (+/- 0.00)\n"
          ],
          "name": "stdout"
        }
      ]
    },
    {
      "cell_type": "markdown",
      "metadata": {
        "colab_type": "text",
        "id": "-QcUuQC2ZyuY"
      },
      "source": [
        "## Classify Reduced\n",
        "We will now reduce the dimensionality of the dataset and rety classification."
      ]
    },
    {
      "cell_type": "markdown",
      "metadata": {
        "colab_type": "text",
        "id": "Ki7quJoqelMx"
      },
      "source": [
        "### Reduce Dimensions using SVD"
      ]
    },
    {
      "cell_type": "code",
      "metadata": {
        "colab_type": "code",
        "id": "WpwONijVen3V",
        "colab": {}
      },
      "source": [
        "NUM_DIMEN = 50\n",
        "svd = TruncatedSVD(n_components=NUM_DIMEN)"
      ],
      "execution_count": 0,
      "outputs": []
    },
    {
      "cell_type": "code",
      "metadata": {
        "colab_type": "code",
        "id": "w_BQ2tIWfV62",
        "outputId": "e7278b85-839b-4ef5-d515-24dfc4b3545d",
        "colab": {
          "base_uri": "https://localhost:8080/",
          "height": 67
        }
      },
      "source": [
        "%time train_sv = svd.fit_transform(train_tf)\n",
        "var = svd.explained_variance_.sum() * 100\n",
        "print(\"Training data variance with %d SVD components is %f\" % (NUM_DIMEN, var))"
      ],
      "execution_count": 0,
      "outputs": [
        {
          "output_type": "stream",
          "text": [
            "CPU times: user 23.5 s, sys: 2.78 s, total: 26.3 s\n",
            "Wall time: 19.9 s\n",
            "Training data variance with 50 SVD components is 1.630021\n"
          ],
          "name": "stdout"
        }
      ]
    },
    {
      "cell_type": "code",
      "metadata": {
        "colab_type": "code",
        "id": "WBY-IR3nVNh6",
        "outputId": "5ee4d5fe-13ef-4801-843c-f6440b7bbcb0",
        "colab": {
          "base_uri": "https://localhost:8080/",
          "height": 84
        }
      },
      "source": [
        "%time test_sv = svd.fit_transform(test_tf)\n",
        "%time val_sv = svd.fit_transform(val_tf)"
      ],
      "execution_count": 0,
      "outputs": [
        {
          "output_type": "stream",
          "text": [
            "CPU times: user 7.42 s, sys: 1.67 s, total: 9.08 s\n",
            "Wall time: 5.76 s\n",
            "CPU times: user 7.66 s, sys: 1.68 s, total: 9.34 s\n",
            "Wall time: 5.85 s\n"
          ],
          "name": "stdout"
        }
      ]
    },
    {
      "cell_type": "code",
      "metadata": {
        "colab_type": "code",
        "id": "ekXBGF3GgRmw",
        "outputId": "0ae05443-ce92-4803-fe46-603e22243ac9",
        "colab": {
          "base_uri": "https://localhost:8080/",
          "height": 67
        }
      },
      "source": [
        "print(\"Shape of train_sv\", train_sv.shape)\n",
        "\n",
        "print(\"Shape of test_sv\", test_sv.shape)\n",
        "\n",
        "print(\"Shape of val_sv\", val_sv.shape)"
      ],
      "execution_count": 0,
      "outputs": [
        {
          "output_type": "stream",
          "text": [
            "Shape of train_sv (369285, 50)\n",
            "Shape of test_sv (123096, 50)\n",
            "Shape of val_sv (123096, 50)\n"
          ],
          "name": "stdout"
        }
      ]
    },
    {
      "cell_type": "markdown",
      "metadata": {
        "colab_type": "text",
        "id": "Yrn7z396hdtw"
      },
      "source": [
        "### Naive Bayes\n",
        "With the reduced dimensionality we can use a Naive Bayes classifier"
      ]
    },
    {
      "cell_type": "code",
      "metadata": {
        "colab_type": "code",
        "id": "VJ_BBtnxhdty",
        "colab": {}
      },
      "source": [
        "if LOAD_MODELS == 0:\n",
        "    %time nb_sv.fit(train_sv, y_train.astype(int))"
      ],
      "execution_count": 0,
      "outputs": []
    },
    {
      "cell_type": "code",
      "metadata": {
        "colab_type": "code",
        "id": "jqcZJylEhdt1",
        "colab": {}
      },
      "source": [
        "# %time nb_score_test_sv = nb_sv.score(test_sv, y_test.astype(int))\n",
        "# nb_score_test_sv*100\n",
        "# %time scores = cross_val_score(nb_sv, test_sv, true_label, cv=StratifiedKFold(n_splits=5, random_state=42))\n",
        "# print(\"Accuracy: %0.2f (+/- %0.2f)\" % (scores.mean(), scores.std() * 2))"
      ],
      "execution_count": 0,
      "outputs": []
    },
    {
      "cell_type": "markdown",
      "metadata": {
        "colab_type": "text",
        "id": "UDBbEU4CkzNV"
      },
      "source": [
        "We can better understand the accuracy by looking at a confusion matrix"
      ]
    },
    {
      "cell_type": "code",
      "metadata": {
        "colab_type": "code",
        "id": "A0Ev7QQOkzNW",
        "outputId": "089dfd94-3ec4-4d7d-cd65-c199e3c5d1d5",
        "colab": {
          "base_uri": "https://localhost:8080/",
          "height": 463
        }
      },
      "source": [
        "evaluate_features(test_sv, y_test, nb_sv)"
      ],
      "execution_count": 0,
      "outputs": [
        {
          "output_type": "stream",
          "text": [
            "[Parallel(n_jobs=-1)]: Using backend LokyBackend with 2 concurrent workers.\n",
            "/usr/local/lib/python3.6/dist-packages/joblib/externals/loky/process_executor.py:706: UserWarning:\n",
            "\n",
            "A worker stopped while some jobs were given to the executor. This can be caused by a too short worker timeout or by a memory leak.\n",
            "\n",
            "[Parallel(n_jobs=-1)]: Done   5 out of   5 | elapsed:    2.7s remaining:    0.0s\n",
            "[Parallel(n_jobs=-1)]: Done   5 out of   5 | elapsed:    2.7s finished\n"
          ],
          "name": "stderr"
        },
        {
          "output_type": "stream",
          "text": [
            "Log loss: 2.1457622927390254\n",
            "Accuracy: 0.8070367842984337\n"
          ],
          "name": "stdout"
        },
        {
          "output_type": "execute_result",
          "data": {
            "text/plain": [
              "array([1, 1, 1, ..., 1, 0, 1])"
            ]
          },
          "metadata": {
            "tags": []
          },
          "execution_count": 56
        },
        {
          "output_type": "display_data",
          "data": {
            "image/png": "[encoded data removed]",
            "text/plain": [
              "<Figure size 432x288 with 2 Axes>"
            ]
          },
          "metadata": {
            "tags": []
          }
        }
      ]
    },
    {
      "cell_type": "markdown",
      "metadata": {
        "colab_type": "text",
        "id": "BKs9EyQrhdt2"
      },
      "source": [
        "### Linear Regression"
      ]
    },
    {
      "cell_type": "code",
      "metadata": {
        "colab_type": "code",
        "id": "Lt5o0VB9hdt3",
        "colab": {}
      },
      "source": [
        "if LOAD_MODELS == 0:\n",
        "    %time linr_sv.fit(train_sv, y_train.astype(int))"
      ],
      "execution_count": 0,
      "outputs": []
    },
    {
      "cell_type": "code",
      "metadata": {
        "colab_type": "code",
        "id": "5ZPTHJmmhdt8",
        "colab": {}
      },
      "source": [
        "# %time linr_score_test_sv = linr_sv.score(test_sv, y_test.astype(int))\n",
        "# linr_score_test_sv*100"
      ],
      "execution_count": 0,
      "outputs": []
    },
    {
      "cell_type": "code",
      "metadata": {
        "id": "jaVDPUhVDSfW",
        "colab_type": "code",
        "outputId": "4f363f65-5534-4f43-832e-abccba82e632",
        "colab": {
          "base_uri": "https://localhost:8080/",
          "height": 67
        }
      },
      "source": [
        "%time scores = cross_val_score(linr_sv, test_sv, true_label, cv=StratifiedKFold(n_splits=5, random_state=42))\n",
        "print(\"Accuracy: %0.2f (+/- %0.2f)\" % (scores.mean(), scores.std() * 2))"
      ],
      "execution_count": 0,
      "outputs": [
        {
          "output_type": "stream",
          "text": [
            "CPU times: user 2.44 s, sys: 596 ms, total: 3.04 s\n",
            "Wall time: 1.67 s\n",
            "Accuracy: 0.51 (+/- 0.01)\n"
          ],
          "name": "stdout"
        }
      ]
    },
    {
      "cell_type": "markdown",
      "metadata": {
        "colab_type": "text",
        "id": "pT2_fXOhlLEb"
      },
      "source": [
        "We don't have a confusion matrix for the LR as it returns continuous results not discrete ones"
      ]
    },
    {
      "cell_type": "markdown",
      "metadata": {
        "colab_type": "text",
        "id": "edy7q2p7hdt_"
      },
      "source": [
        "### Logistic Regression"
      ]
    },
    {
      "cell_type": "code",
      "metadata": {
        "colab_type": "code",
        "id": "gQsyOQbThduA",
        "colab": {}
      },
      "source": [
        "if LOAD_MODELS == 0:\n",
        "    %time lr_sv.fit(train_sv, y_train.values)"
      ],
      "execution_count": 0,
      "outputs": []
    },
    {
      "cell_type": "code",
      "metadata": {
        "colab_type": "code",
        "id": "t_WrE9-hhduC",
        "colab": {}
      },
      "source": [
        "# %time lr_score_test_sv = lr_sv.score(test_sv, true_label)\n",
        "# print(\"Accuracy: \", lr_score_test_sv)\n",
        "# %time scores = cross_val_score(lr_sv, test_sv, true_label, cv=StratifiedKFold(n_splits=5, random_state=42))\n",
        "# print(\"Accuracy: %0.2f (+/- %0.2f)\" % (scores.mean(), scores.std() * 2))"
      ],
      "execution_count": 0,
      "outputs": []
    },
    {
      "cell_type": "markdown",
      "metadata": {
        "colab_type": "text",
        "id": "uJXqj7eyk9bK"
      },
      "source": [
        "We can better understand the accuracy by looking at a confusion matrix"
      ]
    },
    {
      "cell_type": "code",
      "metadata": {
        "colab_type": "code",
        "id": "A_poAxOdk9bL",
        "outputId": "785bc83c-c799-4763-bd91-f5142c4de0a6",
        "colab": {
          "base_uri": "https://localhost:8080/",
          "height": 379
        }
      },
      "source": [
        "preds = evaluate_features(test_sv, true_label, lr_sv)"
      ],
      "execution_count": 0,
      "outputs": [
        {
          "output_type": "stream",
          "text": [
            "[Parallel(n_jobs=-1)]: Using backend LokyBackend with 2 concurrent workers.\n",
            "[Parallel(n_jobs=-1)]: Done   5 out of   5 | elapsed:   15.6s remaining:    0.0s\n",
            "[Parallel(n_jobs=-1)]: Done   5 out of   5 | elapsed:   15.6s finished\n"
          ],
          "name": "stderr"
        },
        {
          "output_type": "stream",
          "text": [
            "Log loss: 0.1595209361170267\n",
            "Accuracy: 0.9629476181191915\n"
          ],
          "name": "stdout"
        },
        {
          "output_type": "display_data",
          "data": {
            "image/png": "[encoded data removed]",
            "text/plain": [
              "<Figure size 432x288 with 2 Axes>"
            ]
          },
          "metadata": {
            "tags": []
          }
        }
      ]
    },
    {
      "cell_type": "markdown",
      "metadata": {
        "id": "Vz2-vAPyDSfi",
        "colab_type": "text"
      },
      "source": [
        "Explore the predictions compared to actual labels"
      ]
    },
    {
      "cell_type": "code",
      "metadata": {
        "id": "uUYnOck1DSfi",
        "colab_type": "code",
        "outputId": "98dc928f-7d93-4cef-9e00-012de7be714c",
        "colab": {
          "base_uri": "https://localhost:8080/",
          "height": 360
        }
      },
      "source": [
        "# Match is 'True' when values are the same\n",
        "match = [preds[x] == true_label[x] for x in range(len(preds))]\n",
        "\n",
        "# Combine and show\n",
        "df_compare = pd.DataFrame({'Predictions': preds, 'Actual': true_label, \n",
        "                           'Match': match})\n",
        "\n",
        "print('Show performance on first 5 rows')\n",
        "df_compare.head(10)"
      ],
      "execution_count": 0,
      "outputs": [
        {
          "output_type": "stream",
          "text": [
            "Show performance on first 5 rows\n"
          ],
          "name": "stdout"
        },
        {
          "output_type": "execute_result",
          "data": {
            "text/html": [
              "<div>\n",
              "<style scoped>\n",
              "    .dataframe tbody tr th:only-of-type {\n",
              "        vertical-align: middle;\n",
              "    }\n",
              "\n",
              "    .dataframe tbody tr th {\n",
              "        vertical-align: top;\n",
              "    }\n",
              "\n",
              "    .dataframe thead th {\n",
              "        text-align: right;\n",
              "    }\n",
              "</style>\n",
              "<table border=\"1\" class=\"dataframe\">\n",
              "  <thead>\n",
              "    <tr style=\"text-align: right;\">\n",
              "      <th></th>\n",
              "      <th>Predictions</th>\n",
              "      <th>Actual</th>\n",
              "      <th>Match</th>\n",
              "    </tr>\n",
              "  </thead>\n",
              "  <tbody>\n",
              "    <tr>\n",
              "      <th>0</th>\n",
              "      <td>1</td>\n",
              "      <td>1</td>\n",
              "      <td>True</td>\n",
              "    </tr>\n",
              "    <tr>\n",
              "      <th>1</th>\n",
              "      <td>1</td>\n",
              "      <td>1</td>\n",
              "      <td>True</td>\n",
              "    </tr>\n",
              "    <tr>\n",
              "      <th>2</th>\n",
              "      <td>1</td>\n",
              "      <td>1</td>\n",
              "      <td>True</td>\n",
              "    </tr>\n",
              "    <tr>\n",
              "      <th>3</th>\n",
              "      <td>1</td>\n",
              "      <td>1</td>\n",
              "      <td>True</td>\n",
              "    </tr>\n",
              "    <tr>\n",
              "      <th>4</th>\n",
              "      <td>0</td>\n",
              "      <td>0</td>\n",
              "      <td>True</td>\n",
              "    </tr>\n",
              "    <tr>\n",
              "      <th>5</th>\n",
              "      <td>0</td>\n",
              "      <td>0</td>\n",
              "      <td>True</td>\n",
              "    </tr>\n",
              "    <tr>\n",
              "      <th>6</th>\n",
              "      <td>0</td>\n",
              "      <td>0</td>\n",
              "      <td>True</td>\n",
              "    </tr>\n",
              "    <tr>\n",
              "      <th>7</th>\n",
              "      <td>1</td>\n",
              "      <td>1</td>\n",
              "      <td>True</td>\n",
              "    </tr>\n",
              "    <tr>\n",
              "      <th>8</th>\n",
              "      <td>1</td>\n",
              "      <td>1</td>\n",
              "      <td>True</td>\n",
              "    </tr>\n",
              "    <tr>\n",
              "      <th>9</th>\n",
              "      <td>1</td>\n",
              "      <td>1</td>\n",
              "      <td>True</td>\n",
              "    </tr>\n",
              "  </tbody>\n",
              "</table>\n",
              "</div>"
            ],
            "text/plain": [
              "   Predictions  Actual  Match\n",
              "0            1       1   True\n",
              "1            1       1   True\n",
              "2            1       1   True\n",
              "3            1       1   True\n",
              "4            0       0   True\n",
              "5            0       0   True\n",
              "6            0       0   True\n",
              "7            1       1   True\n",
              "8            1       1   True\n",
              "9            1       1   True"
            ]
          },
          "metadata": {
            "tags": []
          },
          "execution_count": 63
        }
      ]
    },
    {
      "cell_type": "markdown",
      "metadata": {
        "colab_type": "text",
        "id": "Y00algZ1hduG"
      },
      "source": [
        "### Support Vector Machine\n",
        "Even at low dimension this takes a lot of time to run."
      ]
    },
    {
      "cell_type": "code",
      "metadata": {
        "colab_type": "code",
        "id": "AT5RBj7-hduH",
        "colab": {}
      },
      "source": [
        "# clf_sv = svm.SVC(kernel='linear', C=1, random_state=42)\n",
        "# %time clf_sv.fit(train_sv, y_train.astype(int))"
      ],
      "execution_count": 0,
      "outputs": []
    },
    {
      "cell_type": "code",
      "metadata": {
        "colab_type": "code",
        "id": "hp2-ZTOnhduI",
        "colab": {}
      },
      "source": [
        "# %time clf_score_sv = clf_sv.score(test_sv, y_test.astype(int))\n",
        "# print(\"SVM accuracy on test:\\t %f\" % clf_score_sv)"
      ],
      "execution_count": 0,
      "outputs": []
    },
    {
      "cell_type": "markdown",
      "metadata": {
        "colab_type": "text",
        "id": "mefGE06xu4Xi"
      },
      "source": [
        "### Random Forest"
      ]
    },
    {
      "cell_type": "code",
      "metadata": {
        "colab_type": "code",
        "id": "T8-aWktfu4Xl",
        "colab": {}
      },
      "source": [
        "if LOAD_MODELS == 0:\n",
        "    %time rf_sv.fit(train_sv, y_train.astype(int))"
      ],
      "execution_count": 0,
      "outputs": []
    },
    {
      "cell_type": "code",
      "metadata": {
        "colab_type": "code",
        "id": "Wsg8-Wn8u4Xm",
        "colab": {}
      },
      "source": [
        "# %time rf_score_sv = rf_sv.score(test_sv, y_test.astype(int))\n",
        "# print(\"RF accuracy on test:\\t %f\" % rf_score_sv)\n",
        "# %time scores = cross_val_score(rf_sv, test_sv, true_label, cv=StratifiedKFold(n_splits=5, random_state=42))\n",
        "# print(\"Accuracy: %0.2f (+/- %0.2f)\" % (scores.mean(), scores.std() * 2))"
      ],
      "execution_count": 0,
      "outputs": []
    },
    {
      "cell_type": "code",
      "metadata": {
        "id": "hRX70d-WDSfr",
        "colab_type": "code",
        "outputId": "036a1581-0c20-4afc-8135-aceeeb2e9540",
        "colab": {
          "base_uri": "https://localhost:8080/",
          "height": 396
        }
      },
      "source": [
        "evaluate_features(test_sv, true_label, rf_sv)"
      ],
      "execution_count": 0,
      "outputs": [
        {
          "output_type": "stream",
          "text": [
            "[Parallel(n_jobs=-1)]: Using backend LokyBackend with 2 concurrent workers.\n",
            "[Parallel(n_jobs=-1)]: Done   5 out of   5 | elapsed: 16.8min remaining:    0.0s\n",
            "[Parallel(n_jobs=-1)]: Done   5 out of   5 | elapsed: 16.8min finished\n"
          ],
          "name": "stderr"
        },
        {
          "output_type": "stream",
          "text": [
            "Log loss: 0.10757260402623227\n",
            "Accuracy: 0.9638249821277702\n"
          ],
          "name": "stdout"
        },
        {
          "output_type": "execute_result",
          "data": {
            "text/plain": [
              "array([1, 1, 1, ..., 1, 0, 1])"
            ]
          },
          "metadata": {
            "tags": []
          },
          "execution_count": 68
        },
        {
          "output_type": "display_data",
          "data": {
            "image/png": "[encoded data removed]",
            "text/plain": [
              "<Figure size 432x288 with 2 Axes>"
            ]
          },
          "metadata": {
            "tags": []
          }
        }
      ]
    },
    {
      "cell_type": "markdown",
      "metadata": {
        "id": "Oot4byJ1iB2j",
        "colab_type": "text"
      },
      "source": [
        "### Neural Network"
      ]
    },
    {
      "cell_type": "code",
      "metadata": {
        "id": "SNXnnIBNiae2",
        "colab_type": "code",
        "colab": {}
      },
      "source": [
        "NUM_CLASSES = 10"
      ],
      "execution_count": 0,
      "outputs": []
    },
    {
      "cell_type": "code",
      "metadata": {
        "id": "DEw4UlyqhFQv",
        "colab_type": "code",
        "colab": {}
      },
      "source": [
        "class EpochTrack(keras.callbacks.Callback):\n",
        "    def on_epoch_end(self, epoch, logs):\n",
        "        if epoch % 100 == 0:\n",
        "            print('')\n",
        "        print('.', end='')\n",
        "\n",
        "def plot_history(history):\n",
        "    # Define each data series\n",
        "    trace1 = go.Scatter(x=history.epoch, y=np.array\n",
        "                        (history.history['mean_absolute_error']), \n",
        "                        name='Training Loss')\n",
        "    trace2 = go.Scatter(x=history.epoch, y=np.array\n",
        "                        (history.history['val_mean_absolute_error']), \n",
        "                        name='Val Loss')\n",
        "\n",
        "    # Add each series\n",
        "    data = [trace1, trace2]\n",
        "\n",
        "    # Define graph layout\n",
        "    layout = go.Layout(\n",
        "        title='Training History',\n",
        "        xaxis=dict(title='Epoch'),\n",
        "        yaxis=dict(title='Mean Abs Error'))\n",
        "\n",
        "    fig = go.Figure(data=data, layout=layout)\n",
        "    plt.iplot(fig)\n",
        "    \n",
        "def eval_model(model, test_data, test_labels, VERBOSE, NUM_CLASSES):\n",
        "    test_labels_sparse = keras.utils.to_categorical(test_labels, NUM_CLASSES)\n",
        "    [loss, mae, acc] = model.evaluate(test_data, test_labels_sparse, \n",
        "                                      verbose=VERBOSE)\n",
        "    \n",
        "    print(\"Mean Abs Error:\\t{:7.2f}\".format(mae * 1000))\n",
        "    print(\"Loss:\\t\\t\", loss)\n",
        "    print(\"Accuracy:\\t\", acc)\n",
        "\n",
        "    preds = model.predict(test_data)\n",
        "    y_preds = preds.argmax(axis=-1)\n",
        "    print(classification_report(test_labels, y_preds))\n",
        "\n",
        "    return acc, preds\n",
        "  "
      ],
      "execution_count": 0,
      "outputs": []
    },
    {
      "cell_type": "code",
      "metadata": {
        "id": "-_8iA6yWiGm-",
        "colab_type": "code",
        "colab": {}
      },
      "source": [
        "def build_mlp(input, NUM_CLASSES):\n",
        "    model = keras.Sequential([\n",
        "        keras.layers.Dense(8, activation='relu', input_shape=(input.shape[1],)),\n",
        "        keras.layers.Dense(5, activation='relu'),\n",
        "#         keras.layers.Dense(3, activation='relu'),\n",
        "        keras.layers.Dense(NUM_CLASSES, activation='softmax')\n",
        "    ])\n",
        "    learning_rate = 0.001\n",
        "    optimiser = tf.train.AdamOptimizer(learning_rate)\n",
        "\n",
        "    model.compile(loss='categorical_crossentropy', optimizer=optimiser, \n",
        "                  metrics=['mae', 'acc'])\n",
        "\n",
        "    model.summary()\n",
        "\n",
        "    return model\n",
        "\n",
        "\n",
        "def train_mlp(dataframe, labels, model, checkpoint_path, EPOCHS):\n",
        "    # Limit the training when there are multiple epochs with little change loss\n",
        "    # The patience parameter is the amount of epochs to check for improvement\n",
        "    early_stop = keras.callbacks.EarlyStopping(monitor='val_loss',\n",
        "                                               patience=20)\n",
        "\n",
        "    # Create checkpoint callback\n",
        "    cp_callback = keras.callbacks.ModelCheckpoint(checkpoint_path,\n",
        "                                                  save_weights_only=True,\n",
        "                                                  verbose=0)\n",
        "\n",
        "    # Track the training statistics\n",
        "    history = model.fit(dataframe, labels, epochs=EPOCHS,\n",
        "                        validation_split=0.2, verbose=0,\n",
        "                        callbacks=[early_stop, EpochTrack(), cp_callback])\n",
        "\n",
        "    print(\"\\nEpochs: {}\".format(len(history.epoch)))\n",
        "    plot_history(history)\n",
        "\n",
        "    return model"
      ],
      "execution_count": 0,
      "outputs": []
    },
    {
      "cell_type": "code",
      "metadata": {
        "id": "F1DbyPWSiUDt",
        "colab_type": "code",
        "outputId": "16e1d4d8-1f42-409e-9d27-217312e45a1e",
        "colab": {
          "base_uri": "https://localhost:8080/",
          "height": 507
        }
      },
      "source": [
        "y_train_sparse = keras.utils.to_categorical(y_train, NUM_CLASSES)\n",
        "\n",
        "TRAIN = 1\n",
        "\n",
        "if TRAIN == 1:\n",
        "    checkpoint_path = \"training_1/cp.ckpt\"\n",
        "    checkpoint_dir = os.path.dirname(checkpoint_path)\n",
        "\n",
        "    # Train MLP and save to checkpoints\n",
        "    %time mlp = train_mlp(train_sv, y_train_sparse, build_mlp(train_sv, NUM_CLASSES), checkpoint_path, EPOCHS=2000)\n",
        "    \n",
        "else:\n",
        "    checkpoint_path = \"training_1/cp.ckpt\"\n",
        "        \n",
        "    checkpoint_dir = os.path.dirname(checkpoint_path)\n",
        "\n",
        "    # Load trained weights from the checkpoint path\n",
        "    mlp = build_mlp(X_train, NUM_CLASSES)\n",
        "    mlp.load_weights(checkpoint_path)\n",
        "\n",
        "# Test\n",
        "print(\"\\nMLP - Test set\")\n",
        "acc_test, preds_test = eval_model(mlp, test_sv, y_test, 0, NUM_CLASSES)\n",
        "\n",
        "print(\"\\nMLP - Validation set\")\n",
        "acc_val, preds_val = eval_model(mlp, val_sv, y_val, 0, NUM_CLASSES)"
      ],
      "execution_count": 0,
      "outputs": [
        {
          "output_type": "stream",
          "text": [
            "WARNING: Logging before flag parsing goes to stderr.\n",
            "W0712 13:26:44.352609 140511647987584 deprecation.py:506] From /usr/local/lib/python3.6/dist-packages/tensorflow/python/ops/init_ops.py:1251: calling VarianceScaling.__init__ (from tensorflow.python.ops.init_ops) with dtype is deprecated and will be removed in a future version.\n",
            "Instructions for updating:\n",
            "Call initializer instance with the dtype argument instead of passing it to the constructor\n"
          ],
          "name": "stderr"
        },
        {
          "output_type": "stream",
          "text": [
            "Model: \"sequential\"\n",
            "_________________________________________________________________\n",
            "Layer (type)                 Output Shape              Param #   \n",
            "=================================================================\n",
            "dense (Dense)                (None, 50)                2550      \n",
            "_________________________________________________________________\n",
            "dense_1 (Dense)              (None, 5)                 255       \n",
            "_________________________________________________________________\n",
            "dense_2 (Dense)              (None, 10)                60        \n",
            "=================================================================\n",
            "Total params: 2,865\n",
            "Trainable params: 2,865\n",
            "Non-trainable params: 0\n",
            "_________________________________________________________________\n",
            "\n",
            "....................................................................................................\n",
            "....................................................................................................\n",
            "....................................................................................................\n",
            "....................................................................................................\n",
            "....................................................................................................\n",
            "....................................................................................................\n",
            "....................................................................................................\n",
            "....................................................................................................\n",
            "............................................................................................"
          ],
          "name": "stdout"
        }
      ]
    },
    {
      "cell_type": "code",
      "metadata": {
        "id": "-0dMBwiFOdWu",
        "colab_type": "code",
        "colab": {}
      },
      "source": [
        "train_sv.shape"
      ],
      "execution_count": 0,
      "outputs": []
    },
    {
      "cell_type": "markdown",
      "metadata": {
        "colab_type": "text",
        "id": "0Moktxq6DSfu"
      },
      "source": [
        "## Scores on Reduced Validation Set"
      ]
    },
    {
      "cell_type": "code",
      "metadata": {
        "colab_type": "code",
        "id": "5pqKmJ-RDSfu",
        "colab": {}
      },
      "source": [
        "%time scores = cross_val_score(nb_sv, val_sv, y_val, cv=StratifiedKFold(n_splits=5, random_state=42))\n",
        "print(\"Accuracy: %0.2f (+/- %0.2f)\" % (scores.mean(), scores.std() * 2))"
      ],
      "execution_count": 0,
      "outputs": []
    },
    {
      "cell_type": "code",
      "metadata": {
        "colab_type": "code",
        "id": "Yd92qN_ODSfv",
        "colab": {}
      },
      "source": [
        "%time scores = cross_val_score(linr_sv, val_sv, y_val, cv=StratifiedKFold(n_splits=5, random_state=42))\n",
        "print(\"Accuracy: %0.2f (+/- %0.2f)\" % (scores.mean(), scores.std() * 2))"
      ],
      "execution_count": 0,
      "outputs": []
    },
    {
      "cell_type": "code",
      "metadata": {
        "colab_type": "code",
        "id": "WTZQrB0GDSfx",
        "colab": {}
      },
      "source": [
        "%time scores = cross_val_score(lr_sv, val_sv, y_val, cv=StratifiedKFold(n_splits=5, random_state=42))\n",
        "print(\"Accuracy: %0.2f (+/- %0.2f)\" % (scores.mean(), scores.std() * 2))"
      ],
      "execution_count": 0,
      "outputs": []
    },
    {
      "cell_type": "code",
      "metadata": {
        "colab_type": "code",
        "id": "wsAZEph2DSfz",
        "colab": {}
      },
      "source": [
        "# clf_score_val = clf.score(X_val, y_val.astype(int))\n",
        "# clf_score_val"
      ],
      "execution_count": 0,
      "outputs": []
    },
    {
      "cell_type": "code",
      "metadata": {
        "colab_type": "code",
        "id": "kT0Q0PvEDSf0",
        "colab": {}
      },
      "source": [
        "%time scores = cross_val_score(rf_sv, val_sv, y_val, cv=StratifiedKFold(n_splits=5, random_state=42))\n",
        "print(\"Accuracy: %0.2f (+/- %0.2f)\" % (scores.mean(), scores.std() * 2))"
      ],
      "execution_count": 0,
      "outputs": []
    },
    {
      "cell_type": "markdown",
      "metadata": {
        "id": "pc8xv0dYDSf1",
        "colab_type": "text"
      },
      "source": [
        "## Let's Save Everything"
      ]
    },
    {
      "cell_type": "code",
      "metadata": {
        "id": "nb4Q3FxCDSf2",
        "colab_type": "code",
        "colab": {}
      },
      "source": [
        "if LOAD_MODELS == 0:    \n",
        "    pickle.dump( linr, open( \"q1/linr.p\", \"wb\" ) )\n",
        "    pickle.dump( lr, open( \"q1/lr.p\", \"wb\" ) )\n",
        "    pickle.dump( rf, open( \"q1/rf.p\", \"wb\" ) )\n",
        "\n",
        "    pickle.dump( nb_sv, open( \"q1/nb_sv.p\", \"wb\" ) )\n",
        "    pickle.dump( linr_sv, open( \"q1/linr_sv.p\", \"wb\" ) )\n",
        "    pickle.dump( lr_sv, open( \"q1/lr_sv.p\", \"wb\" ) )\n",
        "    pickle.dump( rf_sv, open( \"q1/rf_sv.p\", \"wb\" ) )\n",
        "    pickle.dump( mlp, open( \"q1/mlp.p\", \"wb\" ) )\n",
        "    \n",
        "print(\"Done!\")"
      ],
      "execution_count": 0,
      "outputs": []
    },
    {
      "cell_type": "markdown",
      "metadata": {
        "id": "qr6YLwyhQpLS",
        "colab_type": "text"
      },
      "source": [
        "# Further Work"
      ]
    },
    {
      "cell_type": "markdown",
      "metadata": {
        "id": "knvB-qS9Qrf7",
        "colab_type": "text"
      },
      "source": [
        "https://www.kaggle.com/reiinakano/basic-nlp-bag-of-words-tf-idf-word2vec-lstm"
      ]
    }
  ]
}