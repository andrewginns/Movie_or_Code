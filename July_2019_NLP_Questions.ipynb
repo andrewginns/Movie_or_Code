{
  "nbformat": 4,
  "nbformat_minor": 0,
  "metadata": {
    "colab": {
      "name": "July_2019_NLP_Questions.ipynb",
      "version": "0.3.2",
      "provenance": [],
      "collapsed_sections": [
        "8OOFNNn2chr0",
        "pCJk7pWbfRbZ",
        "qSNEn1YWH9sE",
        "sLZF406gVcbB",
        "TvJoGJ3uViy0",
        "e7Ho2gM_VoRt",
        "K8Uycb9GGM3P",
        "1RdDnZ0QLkGa",
        "9nTR2uuyVKmN",
        "qCTnYpXvW6_T",
        "ylDHai-RTmFH",
        "Ki7quJoqelMx"
      ]
    },
    "language_info": {
      "codemirror_mode": {
        "name": "ipython",
        "version": 3
      },
      "file_extension": ".py",
      "mimetype": "text/x-python",
      "name": "python",
      "nbconvert_exporter": "python",
      "pygments_lexer": "ipython3",
      "version": "3.7.3"
    },
    "kernelspec": {
      "name": "python3",
      "display_name": "Python 3"
    }
  },
  "cells": [
    {
      "cell_type": "markdown",
      "metadata": {
        "colab_type": "text",
        "id": "W_ZGlhtyGwdE"
      },
      "source": [
        "# NLP Classifier questions"
      ]
    },
    {
      "cell_type": "markdown",
      "metadata": {
        "colab_type": "text",
        "id": "RyFx4RVdJBJe"
      },
      "source": [
        "The aim of this is a binary classifier. Given an unseen set of statements and correctly decipher if they are movie questions or stackoverflow posts"
      ]
    },
    {
      "cell_type": "markdown",
      "metadata": {
        "colab_type": "text",
        "id": "4xzu8UF6JCrC"
      },
      "source": [
        "## Libraries"
      ]
    },
    {
      "cell_type": "markdown",
      "metadata": {
        "colab_type": "text",
        "id": "8OOFNNn2chr0"
      },
      "source": [
        "### Colaboratory Specific Code"
      ]
    },
    {
      "cell_type": "markdown",
      "metadata": {
        "colab_type": "text",
        "id": "IYtRbCKFdSDy"
      },
      "source": [
        "This mounts your Google Drive folder so you can access it from Colaboratory"
      ]
    },
    {
      "cell_type": "code",
      "metadata": {
        "colab_type": "code",
        "id": "DRbqotO4ZzGC",
        "outputId": "e89a0406-43a5-45c9-fd60-706a4df61706",
        "colab": {
          "base_uri": "https://localhost:8080/",
          "height": 0
        }
      },
      "source": [
        "from google.colab import drive\n",
        "drive.mount('/content/drive')"
      ],
      "execution_count": 1,
      "outputs": [
        {
          "output_type": "stream",
          "text": [
            "Drive already mounted at /content/drive; to attempt to forcibly remount, call drive.mount(\"/content/drive\", force_remount=True).\n"
          ],
          "name": "stdout"
        }
      ]
    },
    {
      "cell_type": "markdown",
      "metadata": {
        "colab_type": "text",
        "id": "9xGkl55qdYOp"
      },
      "source": [
        "We also want to change the working directory so that the file references work. Here I've places the files for this class inside a folder called 'class_1' that itself is inside a folder called 'NLP_class'."
      ]
    },
    {
      "cell_type": "code",
      "metadata": {
        "colab_type": "code",
        "id": "uS7n8IvIbdsy",
        "outputId": "5de8b0ad-1251-4bd8-efe1-c71b7e474127",
        "colab": {
          "base_uri": "https://localhost:8080/",
          "height": 0
        }
      },
      "source": [
        "%cd drive/My\\ Drive/NLP_class/0719_question\n",
        "!ls"
      ],
      "execution_count": 2,
      "outputs": [
        {
          "output_type": "stream",
          "text": [
            "/content/drive/My Drive/NLP_class/0719_question\n",
            " dialogues.tsv\t\t\t   Solution_hw_stackoverflow.ipynb\n",
            " July_2019_NLP_Questions.ipynb\t   tagged_posts.tsv\n",
            "'NLP Additional Exercise.docx'\t   tfidf_vectorizer.pkl\n",
            "'NLP class.ipynb'\t\t   utils.py\n",
            " Question_hw_stackoverflow.ipynb\n"
          ],
          "name": "stdout"
        }
      ]
    },
    {
      "cell_type": "code",
      "metadata": {
        "id": "sdIifYIcfWPr",
        "colab_type": "code",
        "colab": {
          "base_uri": "https://localhost:8080/",
          "height": 0
        },
        "outputId": "852719f8-1500-418c-c619-33ecabeee4d7"
      },
      "source": [
        "!pip install scikit-plot"
      ],
      "execution_count": 3,
      "outputs": [
        {
          "output_type": "stream",
          "text": [
            "Requirement already satisfied: scikit-plot in /usr/local/lib/python3.6/dist-packages (0.3.7)\n",
            "Requirement already satisfied: joblib>=0.10 in /usr/local/lib/python3.6/dist-packages (from scikit-plot) (0.13.2)\n",
            "Requirement already satisfied: scikit-learn>=0.18 in /usr/local/lib/python3.6/dist-packages (from scikit-plot) (0.21.2)\n",
            "Requirement already satisfied: matplotlib>=1.4.0 in /usr/local/lib/python3.6/dist-packages (from scikit-plot) (3.0.3)\n",
            "Requirement already satisfied: scipy>=0.9 in /usr/local/lib/python3.6/dist-packages (from scikit-plot) (1.3.0)\n",
            "Requirement already satisfied: numpy>=1.11.0 in /usr/local/lib/python3.6/dist-packages (from scikit-learn>=0.18->scikit-plot) (1.16.4)\n",
            "Requirement already satisfied: pyparsing!=2.0.4,!=2.1.2,!=2.1.6,>=2.0.1 in /usr/local/lib/python3.6/dist-packages (from matplotlib>=1.4.0->scikit-plot) (2.4.0)\n",
            "Requirement already satisfied: python-dateutil>=2.1 in /usr/local/lib/python3.6/dist-packages (from matplotlib>=1.4.0->scikit-plot) (2.5.3)\n",
            "Requirement already satisfied: cycler>=0.10 in /usr/local/lib/python3.6/dist-packages (from matplotlib>=1.4.0->scikit-plot) (0.10.0)\n",
            "Requirement already satisfied: kiwisolver>=1.0.1 in /usr/local/lib/python3.6/dist-packages (from matplotlib>=1.4.0->scikit-plot) (1.1.0)\n",
            "Requirement already satisfied: six>=1.5 in /usr/local/lib/python3.6/dist-packages (from python-dateutil>=2.1->matplotlib>=1.4.0->scikit-plot) (1.12.0)\n",
            "Requirement already satisfied: setuptools in /usr/local/lib/python3.6/dist-packages (from kiwisolver>=1.0.1->matplotlib>=1.4.0->scikit-plot) (41.0.1)\n"
          ],
          "name": "stdout"
        }
      ]
    },
    {
      "cell_type": "markdown",
      "metadata": {
        "id": "pCJk7pWbfRbZ",
        "colab_type": "text"
      },
      "source": [
        "### Dependencies"
      ]
    },
    {
      "cell_type": "code",
      "metadata": {
        "colab_type": "code",
        "id": "vbcRthRLIPGF",
        "outputId": "f2912fc8-5d43-4720-aedd-54b7b196f434",
        "colab": {
          "base_uri": "https://localhost:8080/",
          "height": 0
        }
      },
      "source": [
        "import pandas as pd\n",
        "from sklearn.utils import shuffle\n",
        "import re\n",
        "import nltk\n",
        "nltk.download('stopwords')\n",
        "from nltk.corpus import stopwords\n",
        "import numpy as np\n",
        "from sklearn.model_selection import train_test_split\n",
        "from sklearn.feature_extraction.text import TfidfVectorizer\n",
        "from scipy.sparse import csr_matrix\n",
        "\n",
        "# Classifiers\n",
        "from sklearn.naive_bayes import GaussianNB\n",
        "from sklearn import linear_model\n",
        "from sklearn import svm\n",
        "from sklearn.ensemble import RandomForestClassifier\n",
        "from sklearn.model_selection import GridSearchCV\n",
        "\n",
        "# Metrics\n",
        "from sklearn.model_selection import cross_val_predict\n",
        "from sklearn.model_selection import StratifiedKFold\n",
        "from sklearn.metrics import log_loss, accuracy_score\n",
        "from scikitplot.metrics import plot_confusion_matrix\n",
        "from sklearn.metrics import f1_score\n",
        "\n",
        "# Dimensionality Reduction\n",
        "from sklearn.decomposition import TruncatedSVD\n",
        "from sklearn.preprocessing import normalize\n",
        "\n",
        "np.random.seed(42)"
      ],
      "execution_count": 4,
      "outputs": [
        {
          "output_type": "stream",
          "text": [
            "[nltk_data] Downloading package stopwords to /root/nltk_data...\n",
            "[nltk_data]   Package stopwords is already up-to-date!\n"
          ],
          "name": "stdout"
        }
      ]
    },
    {
      "cell_type": "code",
      "metadata": {
        "id": "8r5BbZLIcbnH",
        "colab_type": "code",
        "colab": {}
      },
      "source": [
        "def evaluate_features(X, y, clf=None):\n",
        "    \"\"\"General helper function for evaluating effectiveness of passed features in ML model\n",
        "    \n",
        "    Prints out Log loss, accuracy, and confusion matrix with 3-fold stratified cross-validation\n",
        "    \n",
        "    Args:\n",
        "        X (array-like): Features array. Shape (n_samples, n_features)\n",
        "        \n",
        "        y (array-like): Labels array. Shape (n_samples,)\n",
        "        \n",
        "        clf: Classifier to use. If None, default Log reg is use.\n",
        "    \"\"\"\n",
        "    if clf is None:\n",
        "        clf = LogisticRegression()\n",
        "    \n",
        "    probas = cross_val_predict(clf, X, y, cv=StratifiedKFold(n_splits=5, random_state=8), \n",
        "                              n_jobs=-1, method='predict_proba', verbose=2)\n",
        "    pred_indices = np.argmax(probas, axis=1)\n",
        "    classes = np.unique(y)\n",
        "    preds = classes[pred_indices]\n",
        "    print('Log loss: {}'.format(log_loss(y, probas)))\n",
        "    print('Accuracy: {}'.format(accuracy_score(y, preds)))\n",
        "    plot_confusion_matrix(y, preds)"
      ],
      "execution_count": 0,
      "outputs": []
    },
    {
      "cell_type": "markdown",
      "metadata": {
        "colab_type": "text",
        "id": "qSNEn1YWH9sE"
      },
      "source": [
        "## Pre-process the data"
      ]
    },
    {
      "cell_type": "markdown",
      "metadata": {
        "id": "PcU3tOg9uH-H",
        "colab_type": "text"
      },
      "source": [
        "This code cleans the text"
      ]
    },
    {
      "cell_type": "code",
      "metadata": {
        "id": "ZcnPTzIiuFf5",
        "colab_type": "code",
        "colab": {}
      },
      "source": [
        "# There is a problem with this codes as it is possible for all words to be removed leaving a null value\n",
        "# This is solved in line 25 with the if statement\n",
        "\n",
        "REPLACE_BY_SPACE_RE = re.compile('[/(){}\\[\\]\\|@,;]')\n",
        "BAD_SYMBOLS_RE = re.compile('[^0-9a-z #+_]')\n",
        "STOPWORDS = set(stopwords.words('english'))\n",
        "\n",
        "def text_prepare(text):\n",
        "    \"\"\"\n",
        "        text: a string\n",
        "        \n",
        "        return: modified initial string\n",
        "    \"\"\"\n",
        "    text = text.lower() # lowercase text\n",
        "    text = re.sub(REPLACE_BY_SPACE_RE, \" \", text) # replace REPLACE_BY_SPACE_RE symbols by space in text\n",
        "    text = re.sub(BAD_SYMBOLS_RE, \"\", text) # delete symbols which are in BAD_SYMBOLS_RE from text\n",
        "    text = \" \" + text + \" \"\n",
        "    for sw in STOPWORDS:\n",
        "        text = text.replace(\" \"+sw+\" \", \" \") # delete stopwords from text\n",
        "    text = re.sub('[ ][ ]+', \" \", text)\n",
        "\n",
        "    #     print(\"text:\", text)\n",
        "#     print(len(text))\n",
        "    \n",
        "    if len(text) > 1: # only run if there are words present\n",
        "      if text[0] == ' ':\n",
        "          text = text[1:]\n",
        "      if text[-1] == ' ':\n",
        "          text = text[:-1]\n",
        "        \n",
        "    return text"
      ],
      "execution_count": 0,
      "outputs": []
    },
    {
      "cell_type": "markdown",
      "metadata": {
        "colab_type": "text",
        "id": "sLZF406gVcbB"
      },
      "source": [
        "### Inspect Data\n",
        "Let's see what the data looks like"
      ]
    },
    {
      "cell_type": "code",
      "metadata": {
        "colab_type": "code",
        "id": "WfARkTgYICSv",
        "colab": {}
      },
      "source": [
        "dialogues = pd.read_csv('dialogues.tsv', sep='\\t')\n",
        "tagged = pd.read_csv('tagged_posts.tsv', sep='\\t')"
      ],
      "execution_count": 0,
      "outputs": []
    },
    {
      "cell_type": "code",
      "metadata": {
        "colab_type": "code",
        "id": "R_Rq9oTEIjGS",
        "outputId": "508accd4-0bb3-455b-ad68-4bcd2984dc70",
        "colab": {
          "base_uri": "https://localhost:8080/",
          "height": 0
        }
      },
      "source": [
        "dialogues.head(2)"
      ],
      "execution_count": 8,
      "outputs": [
        {
          "output_type": "execute_result",
          "data": {
            "text/html": [
              "<div>\n",
              "<style scoped>\n",
              "    .dataframe tbody tr th:only-of-type {\n",
              "        vertical-align: middle;\n",
              "    }\n",
              "\n",
              "    .dataframe tbody tr th {\n",
              "        vertical-align: top;\n",
              "    }\n",
              "\n",
              "    .dataframe thead th {\n",
              "        text-align: right;\n",
              "    }\n",
              "</style>\n",
              "<table border=\"1\" class=\"dataframe\">\n",
              "  <thead>\n",
              "    <tr style=\"text-align: right;\">\n",
              "      <th></th>\n",
              "      <th>text</th>\n",
              "      <th>tag</th>\n",
              "    </tr>\n",
              "  </thead>\n",
              "  <tbody>\n",
              "    <tr>\n",
              "      <th>0</th>\n",
              "      <td>Okay -- you're gonna need to learn how to lie.</td>\n",
              "      <td>dialogue</td>\n",
              "    </tr>\n",
              "    <tr>\n",
              "      <th>1</th>\n",
              "      <td>I'm kidding.  You know how sometimes you just ...</td>\n",
              "      <td>dialogue</td>\n",
              "    </tr>\n",
              "  </tbody>\n",
              "</table>\n",
              "</div>"
            ],
            "text/plain": [
              "                                                text       tag\n",
              "0     Okay -- you're gonna need to learn how to lie.  dialogue\n",
              "1  I'm kidding.  You know how sometimes you just ...  dialogue"
            ]
          },
          "metadata": {
            "tags": []
          },
          "execution_count": 8
        }
      ]
    },
    {
      "cell_type": "code",
      "metadata": {
        "colab_type": "code",
        "id": "FbrcUuTSInR4",
        "outputId": "4d4b699c-33ab-4dad-8dd2-1afc09d8a4da",
        "colab": {
          "base_uri": "https://localhost:8080/",
          "height": 0
        }
      },
      "source": [
        "tagged.head(2)"
      ],
      "execution_count": 9,
      "outputs": [
        {
          "output_type": "execute_result",
          "data": {
            "text/html": [
              "<div>\n",
              "<style scoped>\n",
              "    .dataframe tbody tr th:only-of-type {\n",
              "        vertical-align: middle;\n",
              "    }\n",
              "\n",
              "    .dataframe tbody tr th {\n",
              "        vertical-align: top;\n",
              "    }\n",
              "\n",
              "    .dataframe thead th {\n",
              "        text-align: right;\n",
              "    }\n",
              "</style>\n",
              "<table border=\"1\" class=\"dataframe\">\n",
              "  <thead>\n",
              "    <tr style=\"text-align: right;\">\n",
              "      <th></th>\n",
              "      <th>post_id</th>\n",
              "      <th>title</th>\n",
              "      <th>tag</th>\n",
              "    </tr>\n",
              "  </thead>\n",
              "  <tbody>\n",
              "    <tr>\n",
              "      <th>0</th>\n",
              "      <td>9</td>\n",
              "      <td>Calculate age in C#</td>\n",
              "      <td>c#</td>\n",
              "    </tr>\n",
              "    <tr>\n",
              "      <th>1</th>\n",
              "      <td>16</td>\n",
              "      <td>Filling a DataSet or DataTable from a LINQ que...</td>\n",
              "      <td>c#</td>\n",
              "    </tr>\n",
              "  </tbody>\n",
              "</table>\n",
              "</div>"
            ],
            "text/plain": [
              "   post_id                                              title tag\n",
              "0        9                                Calculate age in C#  c#\n",
              "1       16  Filling a DataSet or DataTable from a LINQ que...  c#"
            ]
          },
          "metadata": {
            "tags": []
          },
          "execution_count": 9
        }
      ]
    },
    {
      "cell_type": "markdown",
      "metadata": {
        "id": "Gx-gPQ1ksIif",
        "colab_type": "text"
      },
      "source": [
        "# Movie or StackOverflow?"
      ]
    },
    {
      "cell_type": "markdown",
      "metadata": {
        "colab_type": "text",
        "id": "TvJoGJ3uViy0"
      },
      "source": [
        "### Create base dataset"
      ]
    },
    {
      "cell_type": "markdown",
      "metadata": {
        "colab_type": "text",
        "id": "lvlgPNByJSTz"
      },
      "source": [
        "Now we can drop the 'tag' columns of both and assign new labels. \n",
        "\n",
        "We set a movie question to label 0 and a stack overflow post to label 1\n",
        "\n",
        "We also need to drop the 'post_id' column of the stack overflow data and rename 'title' to 'text'"
      ]
    },
    {
      "cell_type": "code",
      "metadata": {
        "colab_type": "code",
        "id": "E3-3_f0fIq6q",
        "outputId": "58d6aa81-6ed6-4b1c-f389-b34df59bfb80",
        "colab": {
          "base_uri": "https://localhost:8080/",
          "height": 0
        }
      },
      "source": [
        "movie = dialogues.drop(columns=['tag'])\n",
        "movie['label'] = int(0)\n",
        "movie.head(2)"
      ],
      "execution_count": 10,
      "outputs": [
        {
          "output_type": "execute_result",
          "data": {
            "text/html": [
              "<div>\n",
              "<style scoped>\n",
              "    .dataframe tbody tr th:only-of-type {\n",
              "        vertical-align: middle;\n",
              "    }\n",
              "\n",
              "    .dataframe tbody tr th {\n",
              "        vertical-align: top;\n",
              "    }\n",
              "\n",
              "    .dataframe thead th {\n",
              "        text-align: right;\n",
              "    }\n",
              "</style>\n",
              "<table border=\"1\" class=\"dataframe\">\n",
              "  <thead>\n",
              "    <tr style=\"text-align: right;\">\n",
              "      <th></th>\n",
              "      <th>text</th>\n",
              "      <th>label</th>\n",
              "    </tr>\n",
              "  </thead>\n",
              "  <tbody>\n",
              "    <tr>\n",
              "      <th>0</th>\n",
              "      <td>Okay -- you're gonna need to learn how to lie.</td>\n",
              "      <td>0</td>\n",
              "    </tr>\n",
              "    <tr>\n",
              "      <th>1</th>\n",
              "      <td>I'm kidding.  You know how sometimes you just ...</td>\n",
              "      <td>0</td>\n",
              "    </tr>\n",
              "  </tbody>\n",
              "</table>\n",
              "</div>"
            ],
            "text/plain": [
              "                                                text  label\n",
              "0     Okay -- you're gonna need to learn how to lie.      0\n",
              "1  I'm kidding.  You know how sometimes you just ...      0"
            ]
          },
          "metadata": {
            "tags": []
          },
          "execution_count": 10
        }
      ]
    },
    {
      "cell_type": "code",
      "metadata": {
        "colab_type": "code",
        "id": "ZZ79wI8NL6VY",
        "outputId": "165dfc5b-32d4-41ac-e843-d4dac3ce2125",
        "colab": {
          "base_uri": "https://localhost:8080/",
          "height": 0
        }
      },
      "source": [
        "stack = tagged.drop(columns=['post_id','tag'])\n",
        "stack['label'] = int(1)\n",
        "stack = stack.rename(columns={\"title\": \"text\"})\n",
        "stack.head(2)"
      ],
      "execution_count": 11,
      "outputs": [
        {
          "output_type": "execute_result",
          "data": {
            "text/html": [
              "<div>\n",
              "<style scoped>\n",
              "    .dataframe tbody tr th:only-of-type {\n",
              "        vertical-align: middle;\n",
              "    }\n",
              "\n",
              "    .dataframe tbody tr th {\n",
              "        vertical-align: top;\n",
              "    }\n",
              "\n",
              "    .dataframe thead th {\n",
              "        text-align: right;\n",
              "    }\n",
              "</style>\n",
              "<table border=\"1\" class=\"dataframe\">\n",
              "  <thead>\n",
              "    <tr style=\"text-align: right;\">\n",
              "      <th></th>\n",
              "      <th>text</th>\n",
              "      <th>label</th>\n",
              "    </tr>\n",
              "  </thead>\n",
              "  <tbody>\n",
              "    <tr>\n",
              "      <th>0</th>\n",
              "      <td>Calculate age in C#</td>\n",
              "      <td>1</td>\n",
              "    </tr>\n",
              "    <tr>\n",
              "      <th>1</th>\n",
              "      <td>Filling a DataSet or DataTable from a LINQ que...</td>\n",
              "      <td>1</td>\n",
              "    </tr>\n",
              "  </tbody>\n",
              "</table>\n",
              "</div>"
            ],
            "text/plain": [
              "                                                text  label\n",
              "0                                Calculate age in C#      1\n",
              "1  Filling a DataSet or DataTable from a LINQ que...      1"
            ]
          },
          "metadata": {
            "tags": []
          },
          "execution_count": 11
        }
      ]
    },
    {
      "cell_type": "markdown",
      "metadata": {
        "colab_type": "text",
        "id": "0bP9m5tkPHy7"
      },
      "source": [
        "We now combine the two different data sets into one single data set."
      ]
    },
    {
      "cell_type": "code",
      "metadata": {
        "colab_type": "code",
        "id": "m5GUK10kPOGD",
        "outputId": "a1adcf28-9430-4c00-c4d9-19bf7e2bacaa",
        "colab": {
          "base_uri": "https://localhost:8080/",
          "height": 0
        }
      },
      "source": [
        "data = movie.append(stack, ignore_index=True)\n",
        "data.head()"
      ],
      "execution_count": 12,
      "outputs": [
        {
          "output_type": "execute_result",
          "data": {
            "text/html": [
              "<div>\n",
              "<style scoped>\n",
              "    .dataframe tbody tr th:only-of-type {\n",
              "        vertical-align: middle;\n",
              "    }\n",
              "\n",
              "    .dataframe tbody tr th {\n",
              "        vertical-align: top;\n",
              "    }\n",
              "\n",
              "    .dataframe thead th {\n",
              "        text-align: right;\n",
              "    }\n",
              "</style>\n",
              "<table border=\"1\" class=\"dataframe\">\n",
              "  <thead>\n",
              "    <tr style=\"text-align: right;\">\n",
              "      <th></th>\n",
              "      <th>text</th>\n",
              "      <th>label</th>\n",
              "    </tr>\n",
              "  </thead>\n",
              "  <tbody>\n",
              "    <tr>\n",
              "      <th>0</th>\n",
              "      <td>Okay -- you're gonna need to learn how to lie.</td>\n",
              "      <td>0</td>\n",
              "    </tr>\n",
              "    <tr>\n",
              "      <th>1</th>\n",
              "      <td>I'm kidding.  You know how sometimes you just ...</td>\n",
              "      <td>0</td>\n",
              "    </tr>\n",
              "    <tr>\n",
              "      <th>2</th>\n",
              "      <td>Like my fear of wearing pastels?</td>\n",
              "      <td>0</td>\n",
              "    </tr>\n",
              "    <tr>\n",
              "      <th>3</th>\n",
              "      <td>I figured you'd get to the good stuff eventually.</td>\n",
              "      <td>0</td>\n",
              "    </tr>\n",
              "    <tr>\n",
              "      <th>4</th>\n",
              "      <td>Thank God!  If I had to hear one more story ab...</td>\n",
              "      <td>0</td>\n",
              "    </tr>\n",
              "  </tbody>\n",
              "</table>\n",
              "</div>"
            ],
            "text/plain": [
              "                                                text  label\n",
              "0     Okay -- you're gonna need to learn how to lie.      0\n",
              "1  I'm kidding.  You know how sometimes you just ...      0\n",
              "2                   Like my fear of wearing pastels?      0\n",
              "3  I figured you'd get to the good stuff eventually.      0\n",
              "4  Thank God!  If I had to hear one more story ab...      0"
            ]
          },
          "metadata": {
            "tags": []
          },
          "execution_count": 12
        }
      ]
    },
    {
      "cell_type": "markdown",
      "metadata": {
        "colab_type": "text",
        "id": "e7Ho2gM_VoRt"
      },
      "source": [
        "### Clean the text"
      ]
    },
    {
      "cell_type": "code",
      "metadata": {
        "colab_type": "code",
        "id": "6DnTh1iqa3Do",
        "outputId": "644a884f-d728-4a4c-ae19-e39e8f64f500",
        "colab": {
          "base_uri": "https://localhost:8080/",
          "height": 0
        }
      },
      "source": [
        "data.shape"
      ],
      "execution_count": 13,
      "outputs": [
        {
          "output_type": "execute_result",
          "data": {
            "text/plain": [
              "(615477, 2)"
            ]
          },
          "metadata": {
            "tags": []
          },
          "execution_count": 13
        }
      ]
    },
    {
      "cell_type": "markdown",
      "metadata": {
        "colab_type": "text",
        "id": "nD5XQNXy9Esg"
      },
      "source": [
        "Here we can see that certain lines are entirely made up of stopwords and symbols. We need to account for this."
      ]
    },
    {
      "cell_type": "code",
      "metadata": {
        "colab_type": "code",
        "id": "UoT3-_7gbgle",
        "outputId": "ea1da288-8973-4faf-ac89-96c29e5656fd",
        "colab": {
          "base_uri": "https://localhost:8080/",
          "height": 0
        }
      },
      "source": [
        "print(\"This line: \", data.loc[82457, 'text'])\n",
        "print(\"\\nBecomes: \", text_prepare(data.loc[82457, 'text']))"
      ],
      "execution_count": 14,
      "outputs": [
        {
          "output_type": "stream",
          "text": [
            "This line:  Do you have to do that?\n",
            "\n",
            "Becomes:  do\n"
          ],
          "name": "stdout"
        }
      ]
    },
    {
      "cell_type": "markdown",
      "metadata": {
        "colab_type": "text",
        "id": "TUKG3QZABdhX"
      },
      "source": [
        "Now we run the cleaning function on the whole database."
      ]
    },
    {
      "cell_type": "code",
      "metadata": {
        "colab_type": "code",
        "id": "HtXWMj4uWD0g",
        "outputId": "66c0637b-b4a0-4c63-9de1-aa7fbbd8bbdb",
        "colab": {
          "base_uri": "https://localhost:8080/",
          "height": 0
        }
      },
      "source": [
        "%time cleaned_text = [text_prepare(x) for x in data['text']]"
      ],
      "execution_count": 15,
      "outputs": [
        {
          "output_type": "stream",
          "text": [
            "CPU times: user 46 s, sys: 122 ms, total: 46.1 s\n",
            "Wall time: 46.1 s\n"
          ],
          "name": "stdout"
        }
      ]
    },
    {
      "cell_type": "code",
      "metadata": {
        "colab_type": "code",
        "id": "ROg5cz_twXLQ",
        "outputId": "f7a748ea-a0dd-47ba-8fcc-a5811a75f04d",
        "colab": {
          "base_uri": "https://localhost:8080/",
          "height": 0
        }
      },
      "source": [
        "clean_text = pd.DataFrame({'clean_data': cleaned_text})\n",
        "clean_text.head()"
      ],
      "execution_count": 16,
      "outputs": [
        {
          "output_type": "execute_result",
          "data": {
            "text/html": [
              "<div>\n",
              "<style scoped>\n",
              "    .dataframe tbody tr th:only-of-type {\n",
              "        vertical-align: middle;\n",
              "    }\n",
              "\n",
              "    .dataframe tbody tr th {\n",
              "        vertical-align: top;\n",
              "    }\n",
              "\n",
              "    .dataframe thead th {\n",
              "        text-align: right;\n",
              "    }\n",
              "</style>\n",
              "<table border=\"1\" class=\"dataframe\">\n",
              "  <thead>\n",
              "    <tr style=\"text-align: right;\">\n",
              "      <th></th>\n",
              "      <th>clean_data</th>\n",
              "    </tr>\n",
              "  </thead>\n",
              "  <tbody>\n",
              "    <tr>\n",
              "      <th>0</th>\n",
              "      <td>okay youre gonna need learn lie</td>\n",
              "    </tr>\n",
              "    <tr>\n",
              "      <th>1</th>\n",
              "      <td>im kidding know sometimes become persona dont ...</td>\n",
              "    </tr>\n",
              "    <tr>\n",
              "      <th>2</th>\n",
              "      <td>like fear wearing pastels</td>\n",
              "    </tr>\n",
              "    <tr>\n",
              "      <th>3</th>\n",
              "      <td>figured youd get good stuff eventually</td>\n",
              "    </tr>\n",
              "    <tr>\n",
              "      <th>4</th>\n",
              "      <td>thank god hear one story coiffure</td>\n",
              "    </tr>\n",
              "  </tbody>\n",
              "</table>\n",
              "</div>"
            ],
            "text/plain": [
              "                                          clean_data\n",
              "0                    okay youre gonna need learn lie\n",
              "1  im kidding know sometimes become persona dont ...\n",
              "2                          like fear wearing pastels\n",
              "3             figured youd get good stuff eventually\n",
              "4                  thank god hear one story coiffure"
            ]
          },
          "metadata": {
            "tags": []
          },
          "execution_count": 16
        }
      ]
    },
    {
      "cell_type": "code",
      "metadata": {
        "colab_type": "code",
        "id": "_q1Z-8LEzYbV",
        "outputId": "64bb812a-ad99-49a9-fa80-7156db879885",
        "colab": {
          "base_uri": "https://localhost:8080/",
          "height": 0
        }
      },
      "source": [
        "clean = pd.concat([clean_text, data], axis = 1, ignore_index=True)\n",
        "clean = shuffle(clean)\n",
        "clean.head()"
      ],
      "execution_count": 17,
      "outputs": [
        {
          "output_type": "execute_result",
          "data": {
            "text/html": [
              "<div>\n",
              "<style scoped>\n",
              "    .dataframe tbody tr th:only-of-type {\n",
              "        vertical-align: middle;\n",
              "    }\n",
              "\n",
              "    .dataframe tbody tr th {\n",
              "        vertical-align: top;\n",
              "    }\n",
              "\n",
              "    .dataframe thead th {\n",
              "        text-align: right;\n",
              "    }\n",
              "</style>\n",
              "<table border=\"1\" class=\"dataframe\">\n",
              "  <thead>\n",
              "    <tr style=\"text-align: right;\">\n",
              "      <th></th>\n",
              "      <th>0</th>\n",
              "      <th>1</th>\n",
              "      <th>2</th>\n",
              "    </tr>\n",
              "  </thead>\n",
              "  <tbody>\n",
              "    <tr>\n",
              "      <th>378098</th>\n",
              "      <td>syntax error insert statement c# oledb</td>\n",
              "      <td>Syntax error in INSERT INTO statement in c# ol...</td>\n",
              "      <td>1</td>\n",
              "    </tr>\n",
              "    <tr>\n",
              "      <th>274212</th>\n",
              "      <td>applying methods object private variables java...</td>\n",
              "      <td>applying methods to object and private variabl...</td>\n",
              "      <td>1</td>\n",
              "    </tr>\n",
              "    <tr>\n",
              "      <th>527013</th>\n",
              "      <td>xampp openssl errors calling openssl_pkey_new</td>\n",
              "      <td>xampp openssl errors when calling openssl_pkey...</td>\n",
              "      <td>1</td>\n",
              "    </tr>\n",
              "    <tr>\n",
              "      <th>25072</th>\n",
              "      <td>let buyer beware</td>\n",
              "      <td>Let the buyer beware.</td>\n",
              "      <td>0</td>\n",
              "    </tr>\n",
              "    <tr>\n",
              "      <th>491370</th>\n",
              "      <td>read write locking confusion</td>\n",
              "      <td>Read/Write locking confusion</td>\n",
              "      <td>1</td>\n",
              "    </tr>\n",
              "  </tbody>\n",
              "</table>\n",
              "</div>"
            ],
            "text/plain": [
              "                                                        0  ...  2\n",
              "378098             syntax error insert statement c# oledb  ...  1\n",
              "274212  applying methods object private variables java...  ...  1\n",
              "527013      xampp openssl errors calling openssl_pkey_new  ...  1\n",
              "25072                                    let buyer beware  ...  0\n",
              "491370                       read write locking confusion  ...  1\n",
              "\n",
              "[5 rows x 3 columns]"
            ]
          },
          "metadata": {
            "tags": []
          },
          "execution_count": 17
        }
      ]
    },
    {
      "cell_type": "code",
      "metadata": {
        "colab_type": "code",
        "id": "pFl5dCCI9R2r",
        "outputId": "a319ae5a-8e5c-41bf-a9dd-15d462c3a94a",
        "colab": {
          "base_uri": "https://localhost:8080/",
          "height": 0
        }
      },
      "source": [
        "clean = clean.drop(columns=[1])\n",
        "clean.head(20)"
      ],
      "execution_count": 18,
      "outputs": [
        {
          "output_type": "execute_result",
          "data": {
            "text/html": [
              "<div>\n",
              "<style scoped>\n",
              "    .dataframe tbody tr th:only-of-type {\n",
              "        vertical-align: middle;\n",
              "    }\n",
              "\n",
              "    .dataframe tbody tr th {\n",
              "        vertical-align: top;\n",
              "    }\n",
              "\n",
              "    .dataframe thead th {\n",
              "        text-align: right;\n",
              "    }\n",
              "</style>\n",
              "<table border=\"1\" class=\"dataframe\">\n",
              "  <thead>\n",
              "    <tr style=\"text-align: right;\">\n",
              "      <th></th>\n",
              "      <th>0</th>\n",
              "      <th>2</th>\n",
              "    </tr>\n",
              "  </thead>\n",
              "  <tbody>\n",
              "    <tr>\n",
              "      <th>378098</th>\n",
              "      <td>syntax error insert statement c# oledb</td>\n",
              "      <td>1</td>\n",
              "    </tr>\n",
              "    <tr>\n",
              "      <th>274212</th>\n",
              "      <td>applying methods object private variables java...</td>\n",
              "      <td>1</td>\n",
              "    </tr>\n",
              "    <tr>\n",
              "      <th>527013</th>\n",
              "      <td>xampp openssl errors calling openssl_pkey_new</td>\n",
              "      <td>1</td>\n",
              "    </tr>\n",
              "    <tr>\n",
              "      <th>25072</th>\n",
              "      <td>let buyer beware</td>\n",
              "      <td>0</td>\n",
              "    </tr>\n",
              "    <tr>\n",
              "      <th>491370</th>\n",
              "      <td>read write locking confusion</td>\n",
              "      <td>1</td>\n",
              "    </tr>\n",
              "    <tr>\n",
              "      <th>176289</th>\n",
              "      <td>im alright</td>\n",
              "      <td>0</td>\n",
              "    </tr>\n",
              "    <tr>\n",
              "      <th>323152</th>\n",
              "      <td>get last segment regular expression</td>\n",
              "      <td>1</td>\n",
              "    </tr>\n",
              "    <tr>\n",
              "      <th>588685</th>\n",
              "      <td>wcf service completely locked</td>\n",
              "      <td>1</td>\n",
              "    </tr>\n",
              "    <tr>\n",
              "      <th>102626</th>\n",
              "      <td>ask theres nothing new coke</td>\n",
              "      <td>0</td>\n",
              "    </tr>\n",
              "    <tr>\n",
              "      <th>380088</th>\n",
              "      <td>complex example project java desktopstyle gui</td>\n",
              "      <td>1</td>\n",
              "    </tr>\n",
              "    <tr>\n",
              "      <th>508404</th>\n",
              "      <td>warning mysql_result supplied argument valid m...</td>\n",
              "      <td>1</td>\n",
              "    </tr>\n",
              "    <tr>\n",
              "      <th>610938</th>\n",
              "      <td>connect ui business logic</td>\n",
              "      <td>1</td>\n",
              "    </tr>\n",
              "    <tr>\n",
              "      <th>51978</th>\n",
              "      <td>jim dont</td>\n",
              "      <td>0</td>\n",
              "    </tr>\n",
              "    <tr>\n",
              "      <th>170201</th>\n",
              "      <td>threw us together remember guessed right men l...</td>\n",
              "      <td>0</td>\n",
              "    </tr>\n",
              "    <tr>\n",
              "      <th>48904</th>\n",
              "      <td>oh thats nice doctor wrong wasnt</td>\n",
              "      <td>0</td>\n",
              "    </tr>\n",
              "    <tr>\n",
              "      <th>262520</th>\n",
              "      <td>visual studio 2008 crashes open javascript file</td>\n",
              "      <td>1</td>\n",
              "    </tr>\n",
              "    <tr>\n",
              "      <th>397707</th>\n",
              "      <td>escaping quotes jquery</td>\n",
              "      <td>1</td>\n",
              "    </tr>\n",
              "    <tr>\n",
              "      <th>431911</th>\n",
              "      <td>background worker synchronization</td>\n",
              "      <td>1</td>\n",
              "    </tr>\n",
              "    <tr>\n",
              "      <th>485620</th>\n",
              "      <td>weird web page issue ie8 possibly javascript</td>\n",
              "      <td>1</td>\n",
              "    </tr>\n",
              "    <tr>\n",
              "      <th>451893</th>\n",
              "      <td>simplify looping array could flat multidimensi...</td>\n",
              "      <td>1</td>\n",
              "    </tr>\n",
              "  </tbody>\n",
              "</table>\n",
              "</div>"
            ],
            "text/plain": [
              "                                                        0  2\n",
              "378098             syntax error insert statement c# oledb  1\n",
              "274212  applying methods object private variables java...  1\n",
              "527013      xampp openssl errors calling openssl_pkey_new  1\n",
              "25072                                    let buyer beware  0\n",
              "491370                       read write locking confusion  1\n",
              "176289                                         im alright  0\n",
              "323152                get last segment regular expression  1\n",
              "588685                      wcf service completely locked  1\n",
              "102626                        ask theres nothing new coke  0\n",
              "380088      complex example project java desktopstyle gui  1\n",
              "508404  warning mysql_result supplied argument valid m...  1\n",
              "610938                          connect ui business logic  1\n",
              "51978                                            jim dont  0\n",
              "170201  threw us together remember guessed right men l...  0\n",
              "48904                    oh thats nice doctor wrong wasnt  0\n",
              "262520    visual studio 2008 crashes open javascript file  1\n",
              "397707                             escaping quotes jquery  1\n",
              "431911                  background worker synchronization  1\n",
              "485620       weird web page issue ie8 possibly javascript  1\n",
              "451893  simplify looping array could flat multidimensi...  1"
            ]
          },
          "metadata": {
            "tags": []
          },
          "execution_count": 18
        }
      ]
    },
    {
      "cell_type": "markdown",
      "metadata": {
        "colab_type": "text",
        "id": "j-Hlh2-MBVSJ"
      },
      "source": [
        "Check that there are only 2 labels (binary) and see the amount of each."
      ]
    },
    {
      "cell_type": "code",
      "metadata": {
        "colab_type": "code",
        "id": "Ey12hOuG-uqt",
        "outputId": "c84b44bc-b62e-470a-bc93-3b229185d125",
        "colab": {
          "base_uri": "https://localhost:8080/",
          "height": 0
        }
      },
      "source": [
        "unique_labels = clean.groupby(2).nunique()\n",
        "unique_labels.head()"
      ],
      "execution_count": 19,
      "outputs": [
        {
          "output_type": "execute_result",
          "data": {
            "text/html": [
              "<div>\n",
              "<style scoped>\n",
              "    .dataframe tbody tr th:only-of-type {\n",
              "        vertical-align: middle;\n",
              "    }\n",
              "\n",
              "    .dataframe tbody tr th {\n",
              "        vertical-align: top;\n",
              "    }\n",
              "\n",
              "    .dataframe thead th {\n",
              "        text-align: right;\n",
              "    }\n",
              "</style>\n",
              "<table border=\"1\" class=\"dataframe\">\n",
              "  <thead>\n",
              "    <tr style=\"text-align: right;\">\n",
              "      <th></th>\n",
              "      <th>0</th>\n",
              "      <th>2</th>\n",
              "    </tr>\n",
              "    <tr>\n",
              "      <th>2</th>\n",
              "      <th></th>\n",
              "      <th></th>\n",
              "    </tr>\n",
              "  </thead>\n",
              "  <tbody>\n",
              "    <tr>\n",
              "      <th>0</th>\n",
              "      <td>206954</td>\n",
              "      <td>1</td>\n",
              "    </tr>\n",
              "    <tr>\n",
              "      <th>1</th>\n",
              "      <td>394527</td>\n",
              "      <td>1</td>\n",
              "    </tr>\n",
              "  </tbody>\n",
              "</table>\n",
              "</div>"
            ],
            "text/plain": [
              "        0  2\n",
              "2           \n",
              "0  206954  1\n",
              "1  394527  1"
            ]
          },
          "metadata": {
            "tags": []
          },
          "execution_count": 19
        }
      ]
    },
    {
      "cell_type": "markdown",
      "metadata": {
        "colab_type": "text",
        "id": "K8Uycb9GGM3P"
      },
      "source": [
        "### Train Test Validation Split"
      ]
    },
    {
      "cell_type": "code",
      "metadata": {
        "colab_type": "code",
        "id": "C2504BNfH0XH",
        "outputId": "dab3824a-3260-4367-cf37-5612e5511112",
        "colab": {
          "base_uri": "https://localhost:8080/",
          "height": 0
        }
      },
      "source": [
        "clean_data = clean[0]\n",
        "clean_data.head()"
      ],
      "execution_count": 20,
      "outputs": [
        {
          "output_type": "execute_result",
          "data": {
            "text/plain": [
              "378098               syntax error insert statement c# oledb\n",
              "274212    applying methods object private variables java...\n",
              "527013        xampp openssl errors calling openssl_pkey_new\n",
              "25072                                      let buyer beware\n",
              "491370                         read write locking confusion\n",
              "Name: 0, dtype: object"
            ]
          },
          "metadata": {
            "tags": []
          },
          "execution_count": 20
        }
      ]
    },
    {
      "cell_type": "code",
      "metadata": {
        "colab_type": "code",
        "id": "qqTBtKswH8OJ",
        "outputId": "65cf932d-f4c9-4fb4-ede4-9a3aaf2adeac",
        "colab": {
          "base_uri": "https://localhost:8080/",
          "height": 0
        }
      },
      "source": [
        "clean_labels = clean[2]\n",
        "clean_labels.head()"
      ],
      "execution_count": 21,
      "outputs": [
        {
          "output_type": "execute_result",
          "data": {
            "text/plain": [
              "378098    1\n",
              "274212    1\n",
              "527013    1\n",
              "25072     0\n",
              "491370    1\n",
              "Name: 2, dtype: int64"
            ]
          },
          "metadata": {
            "tags": []
          },
          "execution_count": 21
        }
      ]
    },
    {
      "cell_type": "markdown",
      "metadata": {
        "colab_type": "text",
        "id": "yfR0S79LKM2z"
      },
      "source": [
        "First we split off the validation set as 20% of the overall data set."
      ]
    },
    {
      "cell_type": "code",
      "metadata": {
        "colab_type": "code",
        "id": "6PcNZLs0GP-p",
        "colab": {}
      },
      "source": [
        "df_data, X_val, df_labels, y_val = train_test_split(\n",
        "    clean_data, clean_labels, test_size=0.2, random_state=42, shuffle=False)"
      ],
      "execution_count": 0,
      "outputs": []
    },
    {
      "cell_type": "markdown",
      "metadata": {
        "colab_type": "text",
        "id": "kavGbj5CKRZN"
      },
      "source": [
        "Then we split the remaining into training and test data."
      ]
    },
    {
      "cell_type": "code",
      "metadata": {
        "colab_type": "code",
        "id": "sPhhujziIHDE",
        "colab": {}
      },
      "source": [
        "X_train, X_test, y_train, y_test = train_test_split(df_data, df_labels, test_size=0.25,\n",
        "                                                        random_state=42,\n",
        "                                                        shuffle=False)"
      ],
      "execution_count": 0,
      "outputs": []
    },
    {
      "cell_type": "markdown",
      "metadata": {
        "colab_type": "text",
        "id": "GiTur5D4KUyn"
      },
      "source": [
        "The end result is 60% training data, 20% test data and 20% validation data"
      ]
    },
    {
      "cell_type": "code",
      "metadata": {
        "colab_type": "code",
        "id": "FwaIgNTCJb7M",
        "outputId": "6afe31fd-b25e-4b52-d10e-4c7f156034e6",
        "colab": {
          "base_uri": "https://localhost:8080/",
          "height": 0
        }
      },
      "source": [
        "print(\"Shape of X_train\", X_train.shape)\n",
        "print(\"Shape of y_train\", X_train.shape)\n",
        "print(\"Shape of X_test\", X_test.shape)\n",
        "print(\"Shape of y_test\", y_test.shape)\n",
        "print(\"Shape of X_val\", X_val.shape)\n",
        "print(\"Shape of y_val\", y_val.shape)"
      ],
      "execution_count": 24,
      "outputs": [
        {
          "output_type": "stream",
          "text": [
            "Shape of X_train (369285,)\n",
            "Shape of y_train (369285,)\n",
            "Shape of X_test (123096,)\n",
            "Shape of y_test (123096,)\n",
            "Shape of X_val (123096,)\n",
            "Shape of y_val (123096,)\n"
          ],
          "name": "stdout"
        }
      ]
    },
    {
      "cell_type": "markdown",
      "metadata": {
        "colab_type": "text",
        "id": "1RdDnZ0QLkGa"
      },
      "source": [
        "### Apply TF-IDF Weighting"
      ]
    },
    {
      "cell_type": "markdown",
      "metadata": {
        "colab_type": "text",
        "id": "BcqGn8mNM3QP"
      },
      "source": [
        "We first need to learn the words for the dictionary from our training data."
      ]
    },
    {
      "cell_type": "code",
      "metadata": {
        "colab_type": "code",
        "id": "XBmLxj__Lm_f",
        "outputId": "5a4b8e86-042f-4a75-cec6-826e694c3ae4",
        "colab": {
          "base_uri": "https://localhost:8080/",
          "height": 0
        }
      },
      "source": [
        "vectorizer = TfidfVectorizer(norm=u'l1', token_pattern='(\\S+)', min_df=5, max_df=0.9, ngram_range=(1,2))\n",
        "\n",
        "%time vectorizer.fit_transform(X_train)\n",
        "# print(vectorizer.get_feature_names(10))"
      ],
      "execution_count": 25,
      "outputs": [
        {
          "output_type": "stream",
          "text": [
            "CPU times: user 11.7 s, sys: 259 ms, total: 12 s\n",
            "Wall time: 12 s\n"
          ],
          "name": "stdout"
        },
        {
          "output_type": "execute_result",
          "data": {
            "text/plain": [
              "<369285x65391 sparse matrix of type '<class 'numpy.float64'>'\n",
              "\twith 2693650 stored elements in Compressed Sparse Row format>"
            ]
          },
          "metadata": {
            "tags": []
          },
          "execution_count": 25
        }
      ]
    },
    {
      "cell_type": "markdown",
      "metadata": {
        "colab_type": "text",
        "id": "RWh_ekQzOMSs"
      },
      "source": [
        "Apply this learned TF-IDF transform to our different dataframes"
      ]
    },
    {
      "cell_type": "code",
      "metadata": {
        "colab_type": "code",
        "id": "5YCiM_i5MqZ_",
        "outputId": "22440d0c-83b0-4ade-e550-1521e5debcf1",
        "colab": {
          "base_uri": "https://localhost:8080/",
          "height": 0
        }
      },
      "source": [
        "%time train_tf = vectorizer.transform(X_train)\n",
        "# train_tf = csr_matrix.mean(train_tf, axis=0)\n",
        "\n",
        "%time test_tf = vectorizer.transform(X_test)\n",
        "# test_tf = csr_matrix.mean(test_tf, axis=0)\n",
        "\n",
        "%time val_tf = vectorizer.transform(X_val)\n",
        "# val_tf = csr_matrix.mean(val_tf, axis=0)\n"
      ],
      "execution_count": 26,
      "outputs": [
        {
          "output_type": "stream",
          "text": [
            "CPU times: user 5.99 s, sys: 5.82 ms, total: 5.99 s\n",
            "Wall time: 5.99 s\n",
            "CPU times: user 1.94 s, sys: 4.95 ms, total: 1.95 s\n",
            "Wall time: 1.95 s\n",
            "CPU times: user 1.96 s, sys: 4.16 ms, total: 1.97 s\n",
            "Wall time: 1.97 s\n"
          ],
          "name": "stdout"
        }
      ]
    },
    {
      "cell_type": "markdown",
      "metadata": {
        "colab_type": "text",
        "id": "40Ui_FgnOm8y"
      },
      "source": [
        "We can see that the different dataframes have been transformed intt Compressed Sparse Row format data. This is very important as sparsity has a big impact on accuracy."
      ]
    },
    {
      "cell_type": "code",
      "metadata": {
        "colab_type": "code",
        "id": "tST_JeYgORw1",
        "outputId": "cd522483-8e07-4ac8-d738-74a30a904d5a",
        "colab": {
          "base_uri": "https://localhost:8080/",
          "height": 0
        }
      },
      "source": [
        "print(\"Shape of train_tf\", train_tf.shape)\n",
        "\n",
        "print(\"Shape of test_tf\", test_tf.shape)\n",
        "\n",
        "print(\"Shape of val_tf\", val_tf.shape)"
      ],
      "execution_count": 27,
      "outputs": [
        {
          "output_type": "stream",
          "text": [
            "Shape of train_tf (369285, 65391)\n",
            "Shape of test_tf (123096, 65391)\n",
            "Shape of val_tf (123096, 65391)\n"
          ],
          "name": "stdout"
        }
      ]
    },
    {
      "cell_type": "markdown",
      "metadata": {
        "colab_type": "text",
        "id": "t5O8cW0APWn9"
      },
      "source": [
        "## Classify CSR"
      ]
    },
    {
      "cell_type": "markdown",
      "metadata": {
        "colab_type": "text",
        "id": "up8rnEG-VDV2"
      },
      "source": [
        "First we will attempt to classify the full CSR dataset"
      ]
    },
    {
      "cell_type": "markdown",
      "metadata": {
        "colab_type": "text",
        "id": "9nTR2uuyVKmN"
      },
      "source": [
        "### Naive Bayes\n",
        "Interestingly this crashes and causes the runtime to reset as the dimensionality is too high."
      ]
    },
    {
      "cell_type": "code",
      "metadata": {
        "colab_type": "code",
        "id": "2BMZ-FK7P0hy",
        "colab": {}
      },
      "source": [
        "# nb = GaussianNB()\n",
        "# nb.fit(train_tf.todense(), y_train.astype(int))"
      ],
      "execution_count": 0,
      "outputs": []
    },
    {
      "cell_type": "code",
      "metadata": {
        "colab_type": "code",
        "id": "ICikjGgRUMlD",
        "colab": {}
      },
      "source": [
        "# nb_score_test = nb.score(test_tf.todense(), y_test.astype(int))\n",
        "# nb_score_test"
      ],
      "execution_count": 0,
      "outputs": []
    },
    {
      "cell_type": "markdown",
      "metadata": {
        "colab_type": "text",
        "id": "WbSCoHqJRicZ"
      },
      "source": [
        "### Linear Regression"
      ]
    },
    {
      "cell_type": "code",
      "metadata": {
        "colab_type": "code",
        "id": "mYa-7yCvQEiY",
        "outputId": "f882414c-4f46-456e-bda1-a4c2e916b334",
        "colab": {
          "base_uri": "https://localhost:8080/",
          "height": 67
        }
      },
      "source": [
        "linr = linear_model.LinearRegression(n_jobs = -1)\n",
        "%time linr.fit(train_tf, y_train.astype(int))"
      ],
      "execution_count": 30,
      "outputs": [
        {
          "output_type": "stream",
          "text": [
            "CPU times: user 1min 26s, sys: 54.7 s, total: 2min 21s\n",
            "Wall time: 1min 11s\n"
          ],
          "name": "stdout"
        },
        {
          "output_type": "execute_result",
          "data": {
            "text/plain": [
              "LinearRegression(copy_X=True, fit_intercept=True, n_jobs=-1, normalize=False)"
            ]
          },
          "metadata": {
            "tags": []
          },
          "execution_count": 30
        }
      ]
    },
    {
      "cell_type": "code",
      "metadata": {
        "colab_type": "code",
        "id": "HG9Pe5DmQ8TL",
        "outputId": "91c68b3a-9160-4f67-e474-92ccc70d06c0",
        "colab": {
          "base_uri": "https://localhost:8080/",
          "height": 67
        }
      },
      "source": [
        "%time linr_score_test = linr.score(test_tf, y_test.astype(int))\n",
        "print(linr_score_test*100)"
      ],
      "execution_count": 31,
      "outputs": [
        {
          "output_type": "stream",
          "text": [
            "CPU times: user 14.1 ms, sys: 7.03 ms, total: 21.1 ms\n",
            "Wall time: 11.6 ms\n",
            "92.57725130996111\n"
          ],
          "name": "stdout"
        }
      ]
    },
    {
      "cell_type": "markdown",
      "metadata": {
        "id": "KPkOQYptj7pk",
        "colab_type": "text"
      },
      "source": [
        "We don't have a confusion matrix for the LR as it returns continuous results not discrete ones"
      ]
    },
    {
      "cell_type": "markdown",
      "metadata": {
        "colab_type": "text",
        "id": "RiiKY9yHRnS1"
      },
      "source": [
        "### Logistic Regression"
      ]
    },
    {
      "cell_type": "code",
      "metadata": {
        "colab_type": "code",
        "id": "XY9HT8zQRqMQ",
        "outputId": "870895ce-1b99-4fdf-f8d2-067362000cea",
        "colab": {
          "base_uri": "https://localhost:8080/",
          "height": 134
        }
      },
      "source": [
        "lr = linear_model.LogisticRegression(C=10.0, penalty='l2', solver = 'newton-cg', n_jobs=-1)\n",
        "%time lr.fit(train_tf, y_train)"
      ],
      "execution_count": 32,
      "outputs": [
        {
          "output_type": "stream",
          "text": [
            "CPU times: user 63 ms, sys: 98 ms, total: 161 ms\n",
            "Wall time: 11 s\n"
          ],
          "name": "stdout"
        },
        {
          "output_type": "execute_result",
          "data": {
            "text/plain": [
              "LogisticRegression(C=10.0, class_weight=None, dual=False, fit_intercept=True,\n",
              "                   intercept_scaling=1, l1_ratio=None, max_iter=100,\n",
              "                   multi_class='warn', n_jobs=-1, penalty='l2',\n",
              "                   random_state=None, solver='newton-cg', tol=0.0001, verbose=0,\n",
              "                   warm_start=False)"
            ]
          },
          "metadata": {
            "tags": []
          },
          "execution_count": 32
        }
      ]
    },
    {
      "cell_type": "code",
      "metadata": {
        "colab_type": "code",
        "id": "lv1Uzj2HR-5L",
        "outputId": "0aa92724-094b-4fcc-a791-225a948f718c",
        "colab": {
          "base_uri": "https://localhost:8080/",
          "height": 67
        }
      },
      "source": [
        "%time lr_score_test = lr.score(test_tf, y_test.astype(int))\n",
        "print(lr_score_test*100)"
      ],
      "execution_count": 33,
      "outputs": [
        {
          "output_type": "stream",
          "text": [
            "CPU times: user 20.1 ms, sys: 1.02 ms, total: 21.1 ms\n",
            "Wall time: 22.7 ms\n",
            "98.85130304802756\n"
          ],
          "name": "stdout"
        }
      ]
    },
    {
      "cell_type": "markdown",
      "metadata": {
        "id": "HL0BTUVhkCfM",
        "colab_type": "text"
      },
      "source": [
        "We can better understand the accuracy by looking at a confusion matrix\n",
        "\n",
        "\n"
      ]
    },
    {
      "cell_type": "code",
      "metadata": {
        "id": "jsc9tHHPfDXL",
        "colab_type": "code",
        "colab": {
          "base_uri": "https://localhost:8080/",
          "height": 379
        },
        "outputId": "1489fed6-c42d-45a2-9c1d-f1dc63260143"
      },
      "source": [
        "evaluate_features(test_tf, y_test, lr)"
      ],
      "execution_count": 34,
      "outputs": [
        {
          "output_type": "stream",
          "text": [
            "[Parallel(n_jobs=-1)]: Using backend LokyBackend with 2 concurrent workers.\n",
            "[Parallel(n_jobs=-1)]: Done   5 out of   5 | elapsed:   11.8s finished\n",
            "[Parallel(n_jobs=-1)]: Done   5 out of   5 | elapsed:   11.8s remaining:    0.0s\n"
          ],
          "name": "stderr"
        },
        {
          "output_type": "stream",
          "text": [
            "Log loss: 0.07100661462437051\n",
            "Accuracy: 0.9844349125885488\n"
          ],
          "name": "stdout"
        },
        {
          "output_type": "display_data",
          "data": {
            "image/png": "[encoded data removed]",
            "text/plain": [
              "<Figure size 432x288 with 2 Axes>"
            ]
          },
          "metadata": {
            "tags": []
          }
        }
      ]
    },
    {
      "cell_type": "markdown",
      "metadata": {
        "colab_type": "text",
        "id": "qCTnYpXvW6_T"
      },
      "source": [
        "### Support Vector Machine\n",
        "The high dimensionality means that this takes a ridiculous amount of time to run."
      ]
    },
    {
      "cell_type": "code",
      "metadata": {
        "colab_type": "code",
        "id": "99h61zvwYikw",
        "colab": {}
      },
      "source": [
        "# clf = svm.SVC(kernel='linear', C=1, random_state=42)\n",
        "# %time clf.fit(train_tf, y_train.astype(int))"
      ],
      "execution_count": 0,
      "outputs": []
    },
    {
      "cell_type": "code",
      "metadata": {
        "colab_type": "code",
        "id": "FyT3M3G3Yik1",
        "colab": {}
      },
      "source": [
        "# %time clf_score = clf.score(test_tf, y_test.astype(int))\n",
        "# print(\"SVM accuracy on test:\\t %f\" % clf_score)"
      ],
      "execution_count": 0,
      "outputs": []
    },
    {
      "cell_type": "markdown",
      "metadata": {
        "colab_type": "text",
        "id": "Kl3AFQwAsfoO"
      },
      "source": [
        "### Random Forest\n",
        "The high dimensionality means that this takes a ridiculous amount of time to run."
      ]
    },
    {
      "cell_type": "code",
      "metadata": {
        "colab_type": "code",
        "id": "5GSyFlIUsjfN",
        "outputId": "c161c5d6-bfbf-4f8e-d5cb-bc28e0522015",
        "colab": {
          "base_uri": "https://localhost:8080/",
          "height": 168
        }
      },
      "source": [
        "rf = RandomForestClassifier(criterion='gini', max_depth=5, \n",
        "                               min_samples_leaf=5, min_samples_split=2, \n",
        "                               n_estimators = 220, oob_score=True, \n",
        "                               max_features=0.5, n_jobs = -1, random_state=42)\n",
        "\n",
        "%time rf.fit(train_tf, y_train.astype(int))"
      ],
      "execution_count": 37,
      "outputs": [
        {
          "output_type": "stream",
          "text": [
            "CPU times: user 7min 47s, sys: 387 ms, total: 7min 47s\n",
            "Wall time: 3min 59s\n"
          ],
          "name": "stdout"
        },
        {
          "output_type": "execute_result",
          "data": {
            "text/plain": [
              "RandomForestClassifier(bootstrap=True, class_weight=None, criterion='gini',\n",
              "                       max_depth=5, max_features=0.5, max_leaf_nodes=None,\n",
              "                       min_impurity_decrease=0.0, min_impurity_split=None,\n",
              "                       min_samples_leaf=5, min_samples_split=2,\n",
              "                       min_weight_fraction_leaf=0.0, n_estimators=220,\n",
              "                       n_jobs=-1, oob_score=True, random_state=42, verbose=0,\n",
              "                       warm_start=False)"
            ]
          },
          "metadata": {
            "tags": []
          },
          "execution_count": 37
        }
      ]
    },
    {
      "cell_type": "code",
      "metadata": {
        "colab_type": "code",
        "id": "YMQ6Qi-7srF1",
        "colab": {
          "base_uri": "https://localhost:8080/",
          "height": 67
        },
        "outputId": "8d2fdfef-82a3-4665-b3e2-e60fa8bb6e3d"
      },
      "source": [
        "%time rf_score = rf.score(test_tf, y_test.astype(int))\n",
        "print(\"RF accuracy on test:\\t %f\" % rf_score)"
      ],
      "execution_count": 38,
      "outputs": [
        {
          "output_type": "stream",
          "text": [
            "CPU times: user 3.2 s, sys: 53.8 ms, total: 3.25 s\n",
            "Wall time: 1.76 s\n",
            "RF accuracy on test:\t 0.753022\n"
          ],
          "name": "stdout"
        }
      ]
    },
    {
      "cell_type": "markdown",
      "metadata": {
        "id": "L-ccw4zOkRd_",
        "colab_type": "text"
      },
      "source": [
        "We can better understand the accuracy by looking at a confusion matrix"
      ]
    },
    {
      "cell_type": "code",
      "metadata": {
        "id": "GLRxGumshzAd",
        "colab_type": "code",
        "colab": {
          "base_uri": "https://localhost:8080/",
          "height": 379
        },
        "outputId": "6cfc361e-e0d6-4590-c387-5875b90402f9"
      },
      "source": [
        "evaluate_features(test_tf, y_test, rf)"
      ],
      "execution_count": 39,
      "outputs": [
        {
          "output_type": "stream",
          "text": [
            "[Parallel(n_jobs=-1)]: Using backend LokyBackend with 2 concurrent workers.\n",
            "[Parallel(n_jobs=-1)]: Done   5 out of   5 | elapsed: 35.3min finished\n",
            "[Parallel(n_jobs=-1)]: Done   5 out of   5 | elapsed: 35.3min remaining:    0.0s\n"
          ],
          "name": "stderr"
        },
        {
          "output_type": "stream",
          "text": [
            "Log loss: 0.5385992487192965\n",
            "Accuracy: 0.7524371222460519\n"
          ],
          "name": "stdout"
        },
        {
          "output_type": "display_data",
          "data": {
            "image/png": "[encoded data removed]",
            "text/plain": [
              "<Figure size 432x288 with 2 Axes>"
            ]
          },
          "metadata": {
            "tags": []
          }
        }
      ]
    },
    {
      "cell_type": "markdown",
      "metadata": {
        "id": "e8ZtHimY-vBB",
        "colab_type": "text"
      },
      "source": [
        "We could use a gridsearch to find optimal paramters for a classifier"
      ]
    },
    {
      "cell_type": "code",
      "metadata": {
        "id": "xGplZk3LkDfR",
        "colab_type": "code",
        "colab": {}
      },
      "source": [
        "# rf_grid = RandomForestClassifier(random_state=42)\n",
        "\n",
        "# param_grid = { \n",
        "#     'n_estimators': [100, 120, 140, 160, 180, 200, 220, 240, 260],\n",
        "#     'min_samples_leaf': [3, 5, 7],\n",
        "#     'min_samples_split': [2, 3, 4, 5, 6],\n",
        "#     'max_depth' : [5, 10, 15, 20, 25, 30, 35, 40, 45],\n",
        "#     'criterion' :['gini', 'entropy']\n",
        "# }\n",
        "\n",
        "\n",
        "# CV_rf = GridSearchCV(estimator=rf_grid, param_grid=param_grid, cv= 5, n_jobs = -1, \n",
        "#                      verbose = 2)\n",
        "# CV_rf.fit(train_tf, y_train.astype(int))\n",
        "# CV_rf.best_params_"
      ],
      "execution_count": 0,
      "outputs": []
    },
    {
      "cell_type": "markdown",
      "metadata": {
        "colab_type": "text",
        "id": "ylDHai-RTmFH"
      },
      "source": [
        "## Scores on CSR Validation Set"
      ]
    },
    {
      "cell_type": "code",
      "metadata": {
        "id": "J1DLXODl_VBA",
        "colab_type": "code",
        "colab": {}
      },
      "source": [
        "# nb_score_val = nb.score(val_tf.todense(), y_val.astype(int))\n",
        "# nb_score_val"
      ],
      "execution_count": 0,
      "outputs": []
    },
    {
      "cell_type": "code",
      "metadata": {
        "colab_type": "code",
        "id": "OUfC603_RZwX",
        "colab": {
          "base_uri": "https://localhost:8080/",
          "height": 0
        },
        "outputId": "9ecb93c9-73dc-4acb-d6e5-0bb779a6339f"
      },
      "source": [
        "linr_score_val = linr.score(val_tf, y_val.astype(int))\n",
        "linr_score_val"
      ],
      "execution_count": 42,
      "outputs": [
        {
          "output_type": "execute_result",
          "data": {
            "text/plain": [
              "0.9276993118772889"
            ]
          },
          "metadata": {
            "tags": []
          },
          "execution_count": 42
        }
      ]
    },
    {
      "cell_type": "code",
      "metadata": {
        "colab_type": "code",
        "id": "zYc69BoATjlt",
        "colab": {
          "base_uri": "https://localhost:8080/",
          "height": 0
        },
        "outputId": "a25a1baf-2a99-4bce-ac40-b717cf13caf6"
      },
      "source": [
        "lr_score_val = lr.score(val_tf, y_val.astype(int))\n",
        "lr_score_val"
      ],
      "execution_count": 43,
      "outputs": [
        {
          "output_type": "execute_result",
          "data": {
            "text/plain": [
              "0.9890898160785079"
            ]
          },
          "metadata": {
            "tags": []
          },
          "execution_count": 43
        }
      ]
    },
    {
      "cell_type": "code",
      "metadata": {
        "colab_type": "code",
        "id": "fRxfvE62XVET",
        "colab": {}
      },
      "source": [
        "# clf_score_val = clf.score(X_val, y_val.astype(int))\n",
        "# clf_score_val"
      ],
      "execution_count": 0,
      "outputs": []
    },
    {
      "cell_type": "code",
      "metadata": {
        "id": "CCJyNWqG_fAY",
        "colab_type": "code",
        "colab": {
          "base_uri": "https://localhost:8080/",
          "height": 0
        },
        "outputId": "46543c8c-8b55-49b4-8482-5ab9499ff468"
      },
      "source": [
        "rf_score_val = rf.score(val_tf, y_val.astype(int))\n",
        "rf_score_val"
      ],
      "execution_count": 45,
      "outputs": [
        {
          "output_type": "execute_result",
          "data": {
            "text/plain": [
              "0.7535581984792357"
            ]
          },
          "metadata": {
            "tags": []
          },
          "execution_count": 45
        }
      ]
    },
    {
      "cell_type": "markdown",
      "metadata": {
        "colab_type": "text",
        "id": "-QcUuQC2ZyuY"
      },
      "source": [
        "## Classify Reduced\n",
        "We will now reduce the dimensionality of the dataset and rety classification."
      ]
    },
    {
      "cell_type": "markdown",
      "metadata": {
        "colab_type": "text",
        "id": "Ki7quJoqelMx"
      },
      "source": [
        "### Reduce Dimensions using SVD"
      ]
    },
    {
      "cell_type": "code",
      "metadata": {
        "colab_type": "code",
        "id": "WpwONijVen3V",
        "colab": {}
      },
      "source": [
        "NUM_DIMEN = 50\n",
        "svd = TruncatedSVD(n_components=NUM_DIMEN)"
      ],
      "execution_count": 0,
      "outputs": []
    },
    {
      "cell_type": "code",
      "metadata": {
        "colab_type": "code",
        "id": "w_BQ2tIWfV62",
        "colab": {
          "base_uri": "https://localhost:8080/",
          "height": 0
        },
        "outputId": "c9711984-fb27-4bdf-9682-625f0a6a60c8"
      },
      "source": [
        "%time train_sv = svd.fit_transform(train_tf)\n",
        "var = svd.explained_variance_.sum() * 100\n",
        "print(\"Training data variance with %d SVD components is %f\" % (NUM_DIMEN, var))"
      ],
      "execution_count": 47,
      "outputs": [
        {
          "output_type": "stream",
          "text": [
            "CPU times: user 17.9 s, sys: 2.61 s, total: 20.5 s\n",
            "Wall time: 15.2 s\n",
            "Training data variance with 50 SVD components is 1.626472\n"
          ],
          "name": "stdout"
        }
      ]
    },
    {
      "cell_type": "code",
      "metadata": {
        "colab_type": "code",
        "id": "WBY-IR3nVNh6",
        "colab": {
          "base_uri": "https://localhost:8080/",
          "height": 0
        },
        "outputId": "97532ba2-0775-434f-d916-c1925d0b2f1c"
      },
      "source": [
        "%time test_sv = svd.fit_transform(test_tf)\n",
        "%time val_sv = svd.fit_transform(val_tf)"
      ],
      "execution_count": 48,
      "outputs": [
        {
          "output_type": "stream",
          "text": [
            "CPU times: user 6.49 s, sys: 1.61 s, total: 8.1 s\n",
            "Wall time: 5.01 s\n",
            "CPU times: user 6.69 s, sys: 1.59 s, total: 8.27 s\n",
            "Wall time: 5.1 s\n"
          ],
          "name": "stdout"
        }
      ]
    },
    {
      "cell_type": "code",
      "metadata": {
        "colab_type": "code",
        "id": "ekXBGF3GgRmw",
        "outputId": "0abfc210-12ba-412b-c52f-b0414fffec1c",
        "colab": {
          "base_uri": "https://localhost:8080/",
          "height": 0
        }
      },
      "source": [
        "print(\"Shape of train_sv\", train_sv.shape)\n",
        "\n",
        "print(\"Shape of test_sv\", test_sv.shape)\n",
        "\n",
        "print(\"Shape of val_sv\", val_sv.shape)"
      ],
      "execution_count": 49,
      "outputs": [
        {
          "output_type": "stream",
          "text": [
            "Shape of train_sv (369285, 50)\n",
            "Shape of test_sv (123096, 50)\n",
            "Shape of val_sv (123096, 50)\n"
          ],
          "name": "stdout"
        }
      ]
    },
    {
      "cell_type": "markdown",
      "metadata": {
        "colab_type": "text",
        "id": "Yrn7z396hdtw"
      },
      "source": [
        "### Naive Bayes\n",
        "With the reduced dimensionality we can use a Naive Bayes classifier"
      ]
    },
    {
      "cell_type": "code",
      "metadata": {
        "colab_type": "code",
        "id": "VJ_BBtnxhdty",
        "outputId": "20ae655a-afb5-4139-9824-e6ecd3857e32",
        "colab": {
          "base_uri": "https://localhost:8080/",
          "height": 67
        }
      },
      "source": [
        "nb_sv = GaussianNB()\n",
        "%time nb_sv.fit(train_sv, y_train.astype(int))"
      ],
      "execution_count": 50,
      "outputs": [
        {
          "output_type": "stream",
          "text": [
            "CPU times: user 387 ms, sys: 7.19 ms, total: 394 ms\n",
            "Wall time: 395 ms\n"
          ],
          "name": "stdout"
        },
        {
          "output_type": "execute_result",
          "data": {
            "text/plain": [
              "GaussianNB(priors=None, var_smoothing=1e-09)"
            ]
          },
          "metadata": {
            "tags": []
          },
          "execution_count": 50
        }
      ]
    },
    {
      "cell_type": "code",
      "metadata": {
        "colab_type": "code",
        "id": "jqcZJylEhdt1",
        "outputId": "e2089619-3609-41fc-99a0-c773483e8b0c",
        "colab": {
          "base_uri": "https://localhost:8080/",
          "height": 67
        }
      },
      "source": [
        "%time nb_score_test_sv = nb_sv.score(test_sv, y_test.astype(int))\n",
        "nb_score_test_sv*100"
      ],
      "execution_count": 51,
      "outputs": [
        {
          "output_type": "stream",
          "text": [
            "CPU times: user 119 ms, sys: 5 ms, total: 124 ms\n",
            "Wall time: 123 ms\n"
          ],
          "name": "stdout"
        },
        {
          "output_type": "execute_result",
          "data": {
            "text/plain": [
              "51.119451485019816"
            ]
          },
          "metadata": {
            "tags": []
          },
          "execution_count": 51
        }
      ]
    },
    {
      "cell_type": "markdown",
      "metadata": {
        "colab_type": "text",
        "id": "UDBbEU4CkzNV"
      },
      "source": [
        "We can better understand the accuracy by looking at a confusion matrix"
      ]
    },
    {
      "cell_type": "code",
      "metadata": {
        "colab_type": "code",
        "outputId": "f3aa89f9-c75d-40df-b7f8-9c1c5ce1ed7b",
        "id": "A0Ev7QQOkzNW",
        "colab": {
          "base_uri": "https://localhost:8080/",
          "height": 379
        }
      },
      "source": [
        "evaluate_features(test_sv, y_test, nb_sv)"
      ],
      "execution_count": 52,
      "outputs": [
        {
          "output_type": "stream",
          "text": [
            "[Parallel(n_jobs=-1)]: Using backend LokyBackend with 2 concurrent workers.\n",
            "[Parallel(n_jobs=-1)]: Done   5 out of   5 | elapsed:    1.6s remaining:    0.0s\n",
            "[Parallel(n_jobs=-1)]: Done   5 out of   5 | elapsed:    1.6s finished\n"
          ],
          "name": "stderr"
        },
        {
          "output_type": "stream",
          "text": [
            "Log loss: 1.9731315874176123\n",
            "Accuracy: 0.8159160330148827\n"
          ],
          "name": "stdout"
        },
        {
          "output_type": "display_data",
          "data": {
            "image/png": "[encoded data removed]",
            "text/plain": [
              "<Figure size 432x288 with 2 Axes>"
            ]
          },
          "metadata": {
            "tags": []
          }
        }
      ]
    },
    {
      "cell_type": "markdown",
      "metadata": {
        "colab_type": "text",
        "id": "BKs9EyQrhdt2"
      },
      "source": [
        "### Linear Regression"
      ]
    },
    {
      "cell_type": "code",
      "metadata": {
        "colab_type": "code",
        "id": "Lt5o0VB9hdt3",
        "outputId": "3f9b9b6e-2011-4042-f687-85095967895f",
        "colab": {
          "base_uri": "https://localhost:8080/",
          "height": 67
        }
      },
      "source": [
        "linr_sv = linear_model.LinearRegression(n_jobs = -1)\n",
        "%time linr_sv.fit(train_sv, y_train.astype(int))"
      ],
      "execution_count": 53,
      "outputs": [
        {
          "output_type": "stream",
          "text": [
            "CPU times: user 2.21 s, sys: 221 ms, total: 2.43 s\n",
            "Wall time: 1.51 s\n"
          ],
          "name": "stdout"
        },
        {
          "output_type": "execute_result",
          "data": {
            "text/plain": [
              "LinearRegression(copy_X=True, fit_intercept=True, n_jobs=-1, normalize=False)"
            ]
          },
          "metadata": {
            "tags": []
          },
          "execution_count": 53
        }
      ]
    },
    {
      "cell_type": "code",
      "metadata": {
        "colab_type": "code",
        "id": "5ZPTHJmmhdt8",
        "outputId": "0a9cd712-bfe3-487e-e020-08366196ee7d",
        "colab": {
          "base_uri": "https://localhost:8080/",
          "height": 67
        }
      },
      "source": [
        "%time linr_score_test_sv = linr_sv.score(test_sv, y_test.astype(int))\n",
        "linr_score_test_sv*100"
      ],
      "execution_count": 54,
      "outputs": [
        {
          "output_type": "stream",
          "text": [
            "CPU times: user 27.2 ms, sys: 5.93 ms, total: 33.2 ms\n",
            "Wall time: 21.8 ms\n"
          ],
          "name": "stdout"
        },
        {
          "output_type": "execute_result",
          "data": {
            "text/plain": [
              "-91.39547821604575"
            ]
          },
          "metadata": {
            "tags": []
          },
          "execution_count": 54
        }
      ]
    },
    {
      "cell_type": "markdown",
      "metadata": {
        "id": "pT2_fXOhlLEb",
        "colab_type": "text"
      },
      "source": [
        "We don't have a confusion matrix for the LR as it returns continuous results not discrete ones"
      ]
    },
    {
      "cell_type": "markdown",
      "metadata": {
        "colab_type": "text",
        "id": "edy7q2p7hdt_"
      },
      "source": [
        "### Logistic Regression"
      ]
    },
    {
      "cell_type": "code",
      "metadata": {
        "colab_type": "code",
        "id": "gQsyOQbThduA",
        "outputId": "036187b1-6c32-408a-cbdb-8b26d82da026",
        "colab": {
          "base_uri": "https://localhost:8080/",
          "height": 134
        }
      },
      "source": [
        "lr_sv = linear_model.LogisticRegression(C=1.0, penalty='l2', solver = 'newton-cg', n_jobs=-1)\n",
        "%time lr_sv.fit(train_sv, y_train)"
      ],
      "execution_count": 55,
      "outputs": [
        {
          "output_type": "stream",
          "text": [
            "CPU times: user 114 ms, sys: 135 ms, total: 249 ms\n",
            "Wall time: 17.8 s\n"
          ],
          "name": "stdout"
        },
        {
          "output_type": "execute_result",
          "data": {
            "text/plain": [
              "LogisticRegression(C=1.0, class_weight=None, dual=False, fit_intercept=True,\n",
              "                   intercept_scaling=1, l1_ratio=None, max_iter=100,\n",
              "                   multi_class='warn', n_jobs=-1, penalty='l2',\n",
              "                   random_state=None, solver='newton-cg', tol=0.0001, verbose=0,\n",
              "                   warm_start=False)"
            ]
          },
          "metadata": {
            "tags": []
          },
          "execution_count": 55
        }
      ]
    },
    {
      "cell_type": "code",
      "metadata": {
        "colab_type": "code",
        "id": "t_WrE9-hhduC",
        "outputId": "0be2cdf8-2cb4-4fa9-b223-f0bf18faa2f7",
        "colab": {
          "base_uri": "https://localhost:8080/",
          "height": 67
        }
      },
      "source": [
        "%time lr_score_test_sv = lr_sv.score(test_sv, y_test.astype(int))\n",
        "lr_score_test_sv*100"
      ],
      "execution_count": 56,
      "outputs": [
        {
          "output_type": "stream",
          "text": [
            "CPU times: user 36.6 ms, sys: 5.85 ms, total: 42.5 ms\n",
            "Wall time: 30.6 ms\n"
          ],
          "name": "stdout"
        },
        {
          "output_type": "execute_result",
          "data": {
            "text/plain": [
              "24.341976993565996"
            ]
          },
          "metadata": {
            "tags": []
          },
          "execution_count": 56
        }
      ]
    },
    {
      "cell_type": "markdown",
      "metadata": {
        "colab_type": "text",
        "id": "yiF397l-k5d8"
      },
      "source": [
        "We can better understand the accuracy by looking at a confusion matrix"
      ]
    },
    {
      "cell_type": "code",
      "metadata": {
        "colab_type": "code",
        "outputId": "5abbd957-758a-45d5-f2af-9a6648ce271a",
        "id": "U4-L6-_6k5d9",
        "colab": {
          "base_uri": "https://localhost:8080/",
          "height": 379
        }
      },
      "source": [
        "evaluate_features(test_sv, y_test, lr_sv)"
      ],
      "execution_count": 57,
      "outputs": [
        {
          "output_type": "stream",
          "text": [
            "[Parallel(n_jobs=-1)]: Using backend LokyBackend with 2 concurrent workers.\n",
            "[Parallel(n_jobs=-1)]: Done   5 out of   5 | elapsed:   11.7s remaining:    0.0s\n",
            "[Parallel(n_jobs=-1)]: Done   5 out of   5 | elapsed:   11.7s finished\n"
          ],
          "name": "stderr"
        },
        {
          "output_type": "stream",
          "text": [
            "Log loss: 0.2536325937205218\n",
            "Accuracy: 0.9216465197894327\n"
          ],
          "name": "stdout"
        },
        {
          "output_type": "display_data",
          "data": {
            "image/png": "[encoded data removed]",
            "text/plain": [
              "<Figure size 432x288 with 2 Axes>"
            ]
          },
          "metadata": {
            "tags": []
          }
        }
      ]
    },
    {
      "cell_type": "markdown",
      "metadata": {
        "colab_type": "text",
        "id": "Y00algZ1hduG"
      },
      "source": [
        "### Support Vector Machine\n",
        "Even at low dimension this takes a lot of time to run."
      ]
    },
    {
      "cell_type": "code",
      "metadata": {
        "colab_type": "code",
        "id": "AT5RBj7-hduH",
        "colab": {}
      },
      "source": [
        "# clf_sv = svm.SVC(kernel='linear', C=1, random_state=42)\n",
        "# %time clf_sv.fit(train_sv, y_train.astype(int))"
      ],
      "execution_count": 0,
      "outputs": []
    },
    {
      "cell_type": "code",
      "metadata": {
        "colab_type": "code",
        "id": "hp2-ZTOnhduI",
        "colab": {}
      },
      "source": [
        "# %time clf_score_sv = clf_sv.score(test_sv, y_test.astype(int))\n",
        "# print(\"SVM accuracy on test:\\t %f\" % clf_score_sv)"
      ],
      "execution_count": 0,
      "outputs": []
    },
    {
      "cell_type": "markdown",
      "metadata": {
        "colab_type": "text",
        "id": "mefGE06xu4Xi"
      },
      "source": [
        "### Random Forest"
      ]
    },
    {
      "cell_type": "code",
      "metadata": {
        "colab_type": "code",
        "id": "T8-aWktfu4Xl",
        "colab": {}
      },
      "source": [
        "rf_sv = RandomForestClassifier(criterion='gini', max_depth=5, \n",
        "                               min_samples_leaf=5, min_samples_split=2, \n",
        "                               n_estimators = 220, oob_score=True, \n",
        "                               max_features=0.5, n_jobs = -1, random_state=42)\n",
        "\n",
        "%time rf_sv.fit(train_sv, y_train.astype(int))"
      ],
      "execution_count": 0,
      "outputs": []
    },
    {
      "cell_type": "code",
      "metadata": {
        "colab_type": "code",
        "id": "Wsg8-Wn8u4Xm",
        "colab": {}
      },
      "source": [
        "%time rf_score_sv = rf_sv.score(test_sv, y_test.astype(int))\n",
        "print(\"RF accuracy on test:\\t %f\" % rf_score_sv)"
      ],
      "execution_count": 0,
      "outputs": []
    },
    {
      "cell_type": "markdown",
      "metadata": {
        "colab_type": "text",
        "id": "uJXqj7eyk9bK"
      },
      "source": [
        "We can better understand the accuracy by looking at a confusion matrix"
      ]
    },
    {
      "cell_type": "code",
      "metadata": {
        "colab_type": "code",
        "id": "A_poAxOdk9bL",
        "colab": {}
      },
      "source": [
        "evaluate_features(test_sv, y_test, rf_sv)"
      ],
      "execution_count": 0,
      "outputs": []
    },
    {
      "cell_type": "markdown",
      "metadata": {
        "id": "oACvODyLtHqC",
        "colab_type": "text"
      },
      "source": [
        "# Which Programming Language?"
      ]
    },
    {
      "cell_type": "markdown",
      "metadata": {
        "id": "89hNzEOo5cuH",
        "colab_type": "text"
      },
      "source": [
        "### Clean the Text and Assign Labels"
      ]
    },
    {
      "cell_type": "markdown",
      "metadata": {
        "id": "y-I_60pntuM1",
        "colab_type": "text"
      },
      "source": [
        "First we load in the StackOverflow dataset and drop the unused post_id column"
      ]
    },
    {
      "cell_type": "code",
      "metadata": {
        "id": "Gu-nz5e-tMyk",
        "colab_type": "code",
        "colab": {}
      },
      "source": [
        "tagged.head()"
      ],
      "execution_count": 0,
      "outputs": []
    },
    {
      "cell_type": "code",
      "metadata": {
        "id": "Q3s2FiVGtU2H",
        "colab_type": "code",
        "colab": {}
      },
      "source": [
        "stackover = tagged.drop(columns=['post_id'])\n",
        "stackover.head()"
      ],
      "execution_count": 0,
      "outputs": []
    },
    {
      "cell_type": "code",
      "metadata": {
        "id": "oBkYGl4EuQgs",
        "colab_type": "code",
        "colab": {}
      },
      "source": [
        "relevant_stack = [text_prepare(x) for x in stackover['title']]\n",
        "clean_titles = pd.DataFrame({'clean_data': relevant_stack})\n",
        "clean_titles.head()"
      ],
      "execution_count": 0,
      "outputs": []
    },
    {
      "cell_type": "code",
      "metadata": {
        "id": "ycV9EZd5u2vT",
        "colab_type": "code",
        "colab": {}
      },
      "source": [
        "clean_stack = pd.concat([clean_titles, stackover], axis = 1, ignore_index=True)\n",
        "clean_stack = shuffle(clean_stack)\n",
        "clean_stack.head()"
      ],
      "execution_count": 0,
      "outputs": []
    },
    {
      "cell_type": "code",
      "metadata": {
        "id": "3KYCv2NzvNNo",
        "colab_type": "code",
        "colab": {}
      },
      "source": [
        "clean_stack = clean_stack.drop(columns=[1])\n",
        "clean_stack.head(15)"
      ],
      "execution_count": 0,
      "outputs": []
    },
    {
      "cell_type": "markdown",
      "metadata": {
        "id": "vz5F34a_1471",
        "colab_type": "text"
      },
      "source": [
        "Check how many unique labels we have"
      ]
    },
    {
      "cell_type": "code",
      "metadata": {
        "id": "LB9M91eN1-0I",
        "colab_type": "code",
        "colab": {}
      },
      "source": [
        "unique_languages = clean_stack.groupby(2).nunique()\n",
        "unique_languages.head(15)"
      ],
      "execution_count": 0,
      "outputs": []
    },
    {
      "cell_type": "markdown",
      "metadata": {
        "id": "n7E-1FW55CmH",
        "colab_type": "text"
      },
      "source": [
        "Now we convert these categorical labels into numericals ones"
      ]
    },
    {
      "cell_type": "code",
      "metadata": {
        "id": "OKL7XZ5J3Xxz",
        "colab_type": "code",
        "colab": {}
      },
      "source": [
        "clean_stack[2] = clean_stack[2].astype('category')\n",
        "clean_stack[\"label\"] = clean_stack[2].cat.codes\n",
        "clean_stack.head(10)"
      ],
      "execution_count": 0,
      "outputs": []
    },
    {
      "cell_type": "code",
      "metadata": {
        "id": "2Nd_aIGF4qGv",
        "colab_type": "code",
        "colab": {}
      },
      "source": [
        "clean_stack = clean_stack.drop(columns=[2])\n",
        "clean_stack.head()"
      ],
      "execution_count": 0,
      "outputs": []
    },
    {
      "cell_type": "markdown",
      "metadata": {
        "id": "r_JJGbzG5lYk",
        "colab_type": "text"
      },
      "source": [
        "### Train Test Validation Split"
      ]
    },
    {
      "cell_type": "code",
      "metadata": {
        "id": "ek6racPs5SHU",
        "colab_type": "code",
        "colab": {}
      },
      "source": [
        "stack_data = clean_stack[0]\n",
        "stack_data.head()"
      ],
      "execution_count": 0,
      "outputs": []
    },
    {
      "cell_type": "code",
      "metadata": {
        "id": "opw0rlUN6Y-w",
        "colab_type": "code",
        "colab": {}
      },
      "source": [
        "stack_labels = clean_stack['label']\n",
        "stack_labels.head()"
      ],
      "execution_count": 0,
      "outputs": []
    },
    {
      "cell_type": "markdown",
      "metadata": {
        "colab_type": "text",
        "id": "ue9qPuEa7MBd"
      },
      "source": [
        "First we split off the validation set as 20% of the overall data set."
      ]
    },
    {
      "cell_type": "code",
      "metadata": {
        "colab_type": "code",
        "id": "ew3vqTZI7MBe",
        "colab": {}
      },
      "source": [
        "df_data, X_val, df_labels, y_val = train_test_split(\n",
        "    stack_data, stack_labels, test_size=0.2, random_state=42, shuffle=False)"
      ],
      "execution_count": 0,
      "outputs": []
    },
    {
      "cell_type": "markdown",
      "metadata": {
        "colab_type": "text",
        "id": "VvFsVRS57MBf"
      },
      "source": [
        "Then we split the remaining into training and test data."
      ]
    },
    {
      "cell_type": "code",
      "metadata": {
        "colab_type": "code",
        "id": "XDOd88Wr7MBg",
        "colab": {}
      },
      "source": [
        "X_train, X_test, y_train, y_test = train_test_split(df_data, df_labels, test_size=0.25,\n",
        "                                                        random_state=42,\n",
        "                                                        shuffle=False)"
      ],
      "execution_count": 0,
      "outputs": []
    },
    {
      "cell_type": "markdown",
      "metadata": {
        "colab_type": "text",
        "id": "fc3Xn1gd7MBh"
      },
      "source": [
        "The end result is 60% training data, 20% test data and 20% validation data"
      ]
    },
    {
      "cell_type": "code",
      "metadata": {
        "colab_type": "code",
        "id": "gkKOywN_7MBh",
        "colab": {}
      },
      "source": [
        "print(\"Shape of X_train\", X_train.shape)\n",
        "print(\"Shape of y_train\", X_train.shape)\n",
        "print(\"Shape of X_test\", X_test.shape)\n",
        "print(\"Shape of y_test\", y_test.shape)\n",
        "print(\"Shape of X_val\", X_val.shape)\n",
        "print(\"Shape of y_val\", y_val.shape)"
      ],
      "execution_count": 0,
      "outputs": []
    },
    {
      "cell_type": "markdown",
      "metadata": {
        "colab_type": "text",
        "id": "A8qQP1fG7iTc"
      },
      "source": [
        "### Apply TF-IDF Weighting"
      ]
    },
    {
      "cell_type": "markdown",
      "metadata": {
        "colab_type": "text",
        "id": "hnHWnL3_7iTd"
      },
      "source": [
        "We first need to learn the words for the dictionary from our training data."
      ]
    },
    {
      "cell_type": "code",
      "metadata": {
        "colab_type": "code",
        "id": "RJevpUmq7iTd",
        "colab": {}
      },
      "source": [
        "vectorizer = TfidfVectorizer(norm=u'l1', token_pattern='(\\S+)', min_df=5, max_df=0.9, ngram_range=(1,2))\n",
        "\n",
        "%time vectorizer.fit_transform(X_train)\n",
        "# print(vectorizer.get_feature_names(10))"
      ],
      "execution_count": 0,
      "outputs": []
    },
    {
      "cell_type": "markdown",
      "metadata": {
        "colab_type": "text",
        "id": "IhPdaXXa7iTe"
      },
      "source": [
        "Apply this learned TF-IDF transform to our different dataframes"
      ]
    },
    {
      "cell_type": "code",
      "metadata": {
        "colab_type": "code",
        "id": "3xinDU6C7iTf",
        "colab": {}
      },
      "source": [
        "%time train_tf = vectorizer.transform(X_train)\n",
        "# train_tf = csr_matrix.mean(train_tf, axis=0)\n",
        "\n",
        "%time test_tf = vectorizer.transform(X_test)\n",
        "# test_tf = csr_matrix.mean(test_tf, axis=0)\n",
        "\n",
        "%time val_tf = vectorizer.transform(X_val)\n",
        "# val_tf = csr_matrix.mean(val_tf, axis=0)\n"
      ],
      "execution_count": 0,
      "outputs": []
    },
    {
      "cell_type": "markdown",
      "metadata": {
        "colab_type": "text",
        "id": "Jq_Fqaig7iTg"
      },
      "source": [
        "We can see that the different dataframes have been transformed intt Compressed Sparse Row format data. This is very important as sparsity has a big impact on accuracy."
      ]
    },
    {
      "cell_type": "code",
      "metadata": {
        "colab_type": "code",
        "id": "7716J8dB7iTg",
        "colab": {}
      },
      "source": [
        "print(\"Shape of train_tf\", train_tf.shape)\n",
        "\n",
        "print(\"Shape of test_tf\", test_tf.shape)\n",
        "\n",
        "print(\"Shape of val_tf\", val_tf.shape)"
      ],
      "execution_count": 0,
      "outputs": []
    },
    {
      "cell_type": "markdown",
      "metadata": {
        "colab_type": "text",
        "id": "npd6AwnS7wG0"
      },
      "source": [
        "## Classify CSR"
      ]
    },
    {
      "cell_type": "markdown",
      "metadata": {
        "colab_type": "text",
        "id": "WT9m6OWi7wG1"
      },
      "source": [
        "First we will attempt to classify the full CSR dataset"
      ]
    },
    {
      "cell_type": "markdown",
      "metadata": {
        "colab_type": "text",
        "id": "9CICuazi7wG1"
      },
      "source": [
        "### Naive Bayes\n",
        "Interestingly this crashes and causes the runtime to reset as the dimensionality is too high."
      ]
    },
    {
      "cell_type": "code",
      "metadata": {
        "colab_type": "code",
        "id": "_uwI-ev17wG2",
        "colab": {}
      },
      "source": [
        "# nb = GaussianNB()\n",
        "# nb.fit(train_tf.todense(), y_train.astype(int))"
      ],
      "execution_count": 0,
      "outputs": []
    },
    {
      "cell_type": "code",
      "metadata": {
        "colab_type": "code",
        "id": "udiRpE0K7wG3",
        "colab": {}
      },
      "source": [
        "# nb_score_test = nb.score(test_tf.todense(), y_test.astype(int))\n",
        "# nb_score_test"
      ],
      "execution_count": 0,
      "outputs": []
    },
    {
      "cell_type": "markdown",
      "metadata": {
        "colab_type": "text",
        "id": "EVjebzdv7wG4"
      },
      "source": [
        "### Linear Regression"
      ]
    },
    {
      "cell_type": "code",
      "metadata": {
        "colab_type": "code",
        "id": "Pg1D_88Y7wG4",
        "colab": {}
      },
      "source": [
        "linr = linear_model.LinearRegression(n_jobs = -1)\n",
        "%time linr.fit(train_tf, y_train.astype(int))"
      ],
      "execution_count": 0,
      "outputs": []
    },
    {
      "cell_type": "code",
      "metadata": {
        "colab_type": "code",
        "id": "3UmUMum37wG6",
        "colab": {}
      },
      "source": [
        "%time linr_score_test = linr.score(test_tf, y_test.astype(int))\n",
        "linr_score_test*100"
      ],
      "execution_count": 0,
      "outputs": []
    },
    {
      "cell_type": "markdown",
      "metadata": {
        "colab_type": "text",
        "id": "1RnlL9Jj7wG_"
      },
      "source": [
        "### Logistic Regression\n",
        "This is automatically a mult-class classifier. Effectively a One vs Rest LR"
      ]
    },
    {
      "cell_type": "code",
      "metadata": {
        "colab_type": "code",
        "id": "gRPQOgv17wHA",
        "colab": {}
      },
      "source": [
        "# lr = linear_model.LogisticRegression(C=1.0, penalty='l2', solver = 'saga', n_jobs=-1)\n",
        "lr = linear_model.LogisticRegression(solver='newton-cg',C=5, penalty='l2',n_jobs=-1)\n",
        "\n",
        "%time lr.fit(train_tf, y_train)"
      ],
      "execution_count": 0,
      "outputs": []
    },
    {
      "cell_type": "code",
      "metadata": {
        "colab_type": "code",
        "id": "1pWdZHWC7wHF",
        "colab": {}
      },
      "source": [
        "%time lr_score_test = lr.score(test_tf, y_test.astype(int))\n",
        "lr_score_test*100"
      ],
      "execution_count": 0,
      "outputs": []
    },
    {
      "cell_type": "markdown",
      "metadata": {
        "colab_type": "text",
        "id": "OCC43f7E7wHI"
      },
      "source": [
        "### Support Vector Machine\n",
        "The high dimensionality means that this takes a ridiculous amount of time to run."
      ]
    },
    {
      "cell_type": "code",
      "metadata": {
        "colab_type": "code",
        "id": "UNb8JrJw7wHL",
        "colab": {}
      },
      "source": [
        "# clf = svm.SVC(kernel='linear', C=1, random_state=42)\n",
        "# %time clf.fit(train_tf, y_train.astype(int))"
      ],
      "execution_count": 0,
      "outputs": []
    },
    {
      "cell_type": "code",
      "metadata": {
        "colab_type": "code",
        "id": "BczMdHfP7wHN",
        "colab": {}
      },
      "source": [
        "# %time clf_score = clf.score(test_tf, y_test.astype(int))\n",
        "# print(\"SVM accuracy on test:\\t %f\" % clf_score)"
      ],
      "execution_count": 0,
      "outputs": []
    },
    {
      "cell_type": "markdown",
      "metadata": {
        "colab_type": "text",
        "id": "svHLe6017wHP"
      },
      "source": [
        "### Random Forest\n",
        "The high dimensionality means that this takes a ridiculous amount of time to run."
      ]
    },
    {
      "cell_type": "code",
      "metadata": {
        "colab_type": "code",
        "id": "JT-TmH4R7wHQ",
        "colab": {}
      },
      "source": [
        "rf = RandomForestClassifier(criterion='gini', max_depth=5, \n",
        "                               min_samples_leaf=5, min_samples_split=2, \n",
        "                               n_estimators = 220, oob_score=True, \n",
        "                               max_features=0.5, n_jobs = -1, random_state=42)\n",
        "\n",
        "%time rf.fit(train_tf, y_train.astype(int))"
      ],
      "execution_count": 0,
      "outputs": []
    },
    {
      "cell_type": "code",
      "metadata": {
        "colab_type": "code",
        "id": "muoE5zNE7wHR",
        "colab": {}
      },
      "source": [
        "%time rf_score = rf.score(test_tf, y_test.astype(int))\n",
        "print(\"RF accuracy on test:\\t %f\" % rf_score)"
      ],
      "execution_count": 0,
      "outputs": []
    },
    {
      "cell_type": "markdown",
      "metadata": {
        "colab_type": "text",
        "id": "Ws0s8P0dGyNd"
      },
      "source": [
        "## Scores on CSR Validation Set"
      ]
    },
    {
      "cell_type": "code",
      "metadata": {
        "colab_type": "code",
        "id": "iglIbfnxGyNf",
        "colab": {}
      },
      "source": [
        "# nb_score_val = nb.score(val_tf.todense(), y_val.astype(int))\n",
        "# nb_score_val"
      ],
      "execution_count": 0,
      "outputs": []
    },
    {
      "cell_type": "code",
      "metadata": {
        "colab_type": "code",
        "id": "2KxYBvI4GyNi",
        "colab": {}
      },
      "source": [
        "linr_score_val = linr.score(val_tf, y_val.astype(int))\n",
        "linr_score_val"
      ],
      "execution_count": 0,
      "outputs": []
    },
    {
      "cell_type": "code",
      "metadata": {
        "colab_type": "code",
        "id": "Ta2BSr0fGyNl",
        "colab": {}
      },
      "source": [
        "lr_score_val = lr.score(val_tf, y_val.astype(int))\n",
        "lr_score_val"
      ],
      "execution_count": 0,
      "outputs": []
    },
    {
      "cell_type": "code",
      "metadata": {
        "colab_type": "code",
        "id": "PCzG8ngqGyNo",
        "colab": {}
      },
      "source": [
        "# clf_score_val = clf.score(X_val, y_val.astype(int))\n",
        "# clf_score_val"
      ],
      "execution_count": 0,
      "outputs": []
    },
    {
      "cell_type": "code",
      "metadata": {
        "colab_type": "code",
        "id": "gRzaR3c-GyNp",
        "colab": {}
      },
      "source": [
        "rf_score_val = rf.score(val_tf, y_val.astype(int))\n",
        "rf_score_val"
      ],
      "execution_count": 0,
      "outputs": []
    },
    {
      "cell_type": "markdown",
      "metadata": {
        "colab_type": "text",
        "id": "bvREXEUa-6Vx"
      },
      "source": [
        "## Classify Reduced\n",
        "We will now reduce the dimensionality of the dataset and rety classification."
      ]
    },
    {
      "cell_type": "markdown",
      "metadata": {
        "colab_type": "text",
        "id": "v_bhKhUH-6Vy"
      },
      "source": [
        "### Reduce Dimensions using SVD"
      ]
    },
    {
      "cell_type": "code",
      "metadata": {
        "colab_type": "code",
        "id": "iLLBDIZw-6Vz",
        "colab": {}
      },
      "source": [
        "NUM_DIMEN = 50\n",
        "svd = TruncatedSVD(n_components=NUM_DIMEN)"
      ],
      "execution_count": 0,
      "outputs": []
    },
    {
      "cell_type": "code",
      "metadata": {
        "colab_type": "code",
        "id": "tsSN-mhv-6V1",
        "colab": {}
      },
      "source": [
        "%time train_sv = svd.fit_transform(train_tf)\n",
        "var = svd.explained_variance_.sum() * 100\n",
        "print(\"Training data variance with %d SVD components is %f\" % (NUM_DIMEN, var))"
      ],
      "execution_count": 0,
      "outputs": []
    },
    {
      "cell_type": "code",
      "metadata": {
        "colab_type": "code",
        "id": "HKZdkVKM-6V2",
        "colab": {}
      },
      "source": [
        "%time test_sv = svd.fit_transform(test_tf)\n",
        "%time val_sv = svd.fit_transform(val_tf)"
      ],
      "execution_count": 0,
      "outputs": []
    },
    {
      "cell_type": "code",
      "metadata": {
        "colab_type": "code",
        "id": "8cfD10G2-6V6",
        "colab": {}
      },
      "source": [
        "print(\"Shape of train_sv\", train_sv.shape)\n",
        "\n",
        "print(\"Shape of test_sv\", test_sv.shape)\n",
        "\n",
        "print(\"Shape of val_sv\", val_sv.shape)"
      ],
      "execution_count": 0,
      "outputs": []
    },
    {
      "cell_type": "markdown",
      "metadata": {
        "colab_type": "text",
        "id": "brTcyWNa-6V7"
      },
      "source": [
        "### Naive Bayes\n",
        "With the reduced dimensionality we can use a Naive Bayes classifier"
      ]
    },
    {
      "cell_type": "code",
      "metadata": {
        "colab_type": "code",
        "id": "wJmNdYtE-6V7",
        "colab": {}
      },
      "source": [
        "nb_sv = GaussianNB()\n",
        "%time nb_sv.fit(train_sv, y_train.astype(int))"
      ],
      "execution_count": 0,
      "outputs": []
    },
    {
      "cell_type": "code",
      "metadata": {
        "colab_type": "code",
        "id": "4StfmUyN-6V-",
        "colab": {}
      },
      "source": [
        "%time nb_score_test_sv = nb_sv.score(test_sv, y_test.astype(int))\n",
        "nb_score_test_sv*100"
      ],
      "execution_count": 0,
      "outputs": []
    },
    {
      "cell_type": "markdown",
      "metadata": {
        "colab_type": "text",
        "id": "yaziCfImlArK"
      },
      "source": [
        "We can better understand the accuracy by looking at a confusion matrix"
      ]
    },
    {
      "cell_type": "code",
      "metadata": {
        "colab_type": "code",
        "id": "odwbhIUolArL",
        "colab": {}
      },
      "source": [
        "evaluate_features(test_sv, y_test, nb_sv)"
      ],
      "execution_count": 0,
      "outputs": []
    },
    {
      "cell_type": "markdown",
      "metadata": {
        "colab_type": "text",
        "id": "zgC7Q-tv-6V_"
      },
      "source": [
        "### Linear Regression"
      ]
    },
    {
      "cell_type": "code",
      "metadata": {
        "colab_type": "code",
        "id": "H0oQNYdz-6WA",
        "colab": {}
      },
      "source": [
        "linr_sv = linear_model.LinearRegression(n_jobs = -1)\n",
        "%time linr_sv.fit(train_sv, y_train.astype(int))"
      ],
      "execution_count": 0,
      "outputs": []
    },
    {
      "cell_type": "code",
      "metadata": {
        "colab_type": "code",
        "id": "2mrmYIyS-6WC",
        "colab": {}
      },
      "source": [
        "%time linr_score_test_sv = linr_sv.score(test_sv, y_test.astype(int))\n",
        "linr_score_test_sv*100"
      ],
      "execution_count": 0,
      "outputs": []
    },
    {
      "cell_type": "markdown",
      "metadata": {
        "id": "EsbVsasilNTr",
        "colab_type": "text"
      },
      "source": [
        "We don't have a confusion matrix for the LR as it returns continuous results not discrete ones"
      ]
    },
    {
      "cell_type": "markdown",
      "metadata": {
        "colab_type": "text",
        "id": "5BQBwEW8-6WD"
      },
      "source": [
        "### Logistic Regression"
      ]
    },
    {
      "cell_type": "code",
      "metadata": {
        "colab_type": "code",
        "id": "KNJ-p9Ic-6WD",
        "colab": {}
      },
      "source": [
        "lr_sv = linear_model.LogisticRegression(C=5.0, penalty='l2', solver = 'newton-cg', n_jobs=-1)\n",
        "%time lr_sv.fit(train_sv, y_train)"
      ],
      "execution_count": 0,
      "outputs": []
    },
    {
      "cell_type": "code",
      "metadata": {
        "colab_type": "code",
        "id": "KQhITcbe-6WF",
        "colab": {}
      },
      "source": [
        "%time lr_score_test_sv = lr_sv.score(test_sv, y_test.astype(int))\n",
        "lr_score_test_sv*100"
      ],
      "execution_count": 0,
      "outputs": []
    },
    {
      "cell_type": "markdown",
      "metadata": {
        "colab_type": "text",
        "id": "VxGl5K8HlCoM"
      },
      "source": [
        "We can better understand the accuracy by looking at a confusion matrix"
      ]
    },
    {
      "cell_type": "code",
      "metadata": {
        "colab_type": "code",
        "id": "qMxRJVz7lCoM",
        "colab": {}
      },
      "source": [
        "evaluate_features(test_sv, y_test, lr_sv)"
      ],
      "execution_count": 0,
      "outputs": []
    },
    {
      "cell_type": "markdown",
      "metadata": {
        "colab_type": "text",
        "id": "KZ_d_rx2-6WG"
      },
      "source": [
        "### Support Vector Machine\n",
        "Even at low dimension this takes a lot of time to run."
      ]
    },
    {
      "cell_type": "code",
      "metadata": {
        "colab_type": "code",
        "id": "aA4utqnB-6WG",
        "colab": {}
      },
      "source": [
        "# clf_sv = svm.SVC(kernel='linear', C=1, random_state=42)\n",
        "# %time clf_sv.fit(train_sv, y_train.astype(int))"
      ],
      "execution_count": 0,
      "outputs": []
    },
    {
      "cell_type": "code",
      "metadata": {
        "colab_type": "code",
        "id": "2_i0VyNs-6WI",
        "colab": {}
      },
      "source": [
        "# %time clf_score_sv = clf_sv.score(test_sv, y_test.astype(int))\n",
        "# print(\"SVM accuracy on test:\\t %f\" % clf_score_sv)"
      ],
      "execution_count": 0,
      "outputs": []
    },
    {
      "cell_type": "markdown",
      "metadata": {
        "colab_type": "text",
        "id": "GYQls_ml-6WJ"
      },
      "source": [
        "### Random Forest"
      ]
    },
    {
      "cell_type": "code",
      "metadata": {
        "colab_type": "code",
        "id": "tc7op5JQ-6WK",
        "colab": {}
      },
      "source": [
        "rf_sv = RandomForestClassifier(criterion='gini', max_depth=5, \n",
        "                               min_samples_leaf=5, min_samples_split=2, \n",
        "                               n_estimators = 220, oob_score=True, \n",
        "                               max_features=0.5, n_jobs = -1, random_state=42)\n",
        "\n",
        "%time rf_sv.fit(train_sv, y_train.astype(int))"
      ],
      "execution_count": 0,
      "outputs": []
    },
    {
      "cell_type": "code",
      "metadata": {
        "colab_type": "code",
        "id": "y-jS3TDr-6WL",
        "colab": {}
      },
      "source": [
        "%time rf_score_sv = rf_sv.score(test_sv, y_test.astype(int))\n",
        "print(\"RF accuracy on test:\\t %f\" % rf_score_sv)"
      ],
      "execution_count": 0,
      "outputs": []
    },
    {
      "cell_type": "markdown",
      "metadata": {
        "colab_type": "text",
        "id": "fj2tVJ3LlE3E"
      },
      "source": [
        "We can better understand the accuracy by looking at a confusion matrix"
      ]
    },
    {
      "cell_type": "code",
      "metadata": {
        "colab_type": "code",
        "id": "eQHP7z_slE3E",
        "colab": {}
      },
      "source": [
        "evaluate_features(test_sv, y_test, rf_sv)"
      ],
      "execution_count": 0,
      "outputs": []
    }
  ]
}