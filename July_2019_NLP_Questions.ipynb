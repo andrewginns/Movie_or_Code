{
  "nbformat": 4,
  "nbformat_minor": 0,
  "metadata": {
    "colab": {
      "name": "July_2019_NLP_Questions.ipynb",
      "version": "0.3.2",
      "provenance": [],
      "collapsed_sections": []
    },
    "language_info": {
      "codemirror_mode": {
        "name": "ipython",
        "version": 3
      },
      "file_extension": ".py",
      "mimetype": "text/x-python",
      "name": "python",
      "nbconvert_exporter": "python",
      "pygments_lexer": "ipython3",
      "version": "3.7.3"
    },
    "kernelspec": {
      "display_name": "Python 3",
      "language": "python",
      "name": "python3"
    },
    "accelerator": "GPU"
  },
  "cells": [
    {
      "cell_type": "markdown",
      "metadata": {
        "colab_type": "text",
        "id": "W_ZGlhtyGwdE"
      },
      "source": [
        "# NLP Classifier questions"
      ]
    },
    {
      "cell_type": "markdown",
      "metadata": {
        "colab_type": "text",
        "id": "RyFx4RVdJBJe"
      },
      "source": [
        "The aim of this is a binary classifier. Given an unseen set of statements and correctly decipher if they are movie questions or stackoverflow posts"
      ]
    },
    {
      "cell_type": "markdown",
      "metadata": {
        "colab_type": "text",
        "id": "4xzu8UF6JCrC"
      },
      "source": [
        "## Libraries"
      ]
    },
    {
      "cell_type": "code",
      "metadata": {
        "colab_type": "code",
        "id": "vbcRthRLIPGF",
        "outputId": "704dedad-b4c4-4494-8fd4-8d34604a4ed4",
        "colab": {
          "base_uri": "https://localhost:8080/",
          "height": 0
        }
      },
      "source": [
        "import pandas as pd\n",
        "from sklearn.utils import shuffle\n",
        "import re\n",
        "import nltk\n",
        "nltk.download('stopwords')\n",
        "from nltk.corpus import stopwords\n",
        "import numpy as np\n",
        "from sklearn.model_selection import train_test_split\n",
        "from sklearn.feature_extraction.text import TfidfVectorizer\n",
        "from scipy.sparse import csr_matrix\n",
        "\n",
        "# Classifiers\n",
        "from sklearn.naive_bayes import GaussianNB\n",
        "from sklearn import linear_model\n",
        "from sklearn import svm\n",
        "from sklearn.ensemble import RandomForestClassifier\n",
        "from sklearn.model_selection import GridSearchCV\n",
        "\n",
        "# Metrics\n",
        "from sklearn.metrics import f1_score\n",
        "\n",
        "# Dimensionality Reduction\n",
        "from sklearn.decomposition import TruncatedSVD\n",
        "from sklearn.preprocessing import normalize\n",
        "\n",
        "np.random.seed(42)"
      ],
      "execution_count": 1,
      "outputs": [
        {
          "output_type": "stream",
          "text": [
            "[nltk_data] Downloading package stopwords to /root/nltk_data...\n",
            "[nltk_data]   Package stopwords is already up-to-date!\n"
          ],
          "name": "stdout"
        }
      ]
    },
    {
      "cell_type": "markdown",
      "metadata": {
        "colab_type": "text",
        "id": "8OOFNNn2chr0"
      },
      "source": [
        "### Colaboratory Specific Code"
      ]
    },
    {
      "cell_type": "markdown",
      "metadata": {
        "colab_type": "text",
        "id": "IYtRbCKFdSDy"
      },
      "source": [
        "This mounts your Google Drive folder so you can access it from Colaboratory"
      ]
    },
    {
      "cell_type": "code",
      "metadata": {
        "colab_type": "code",
        "id": "DRbqotO4ZzGC",
        "outputId": "1a8943b6-21e3-4a45-fb45-78adb5c29323",
        "colab": {
          "base_uri": "https://localhost:8080/",
          "height": 0
        }
      },
      "source": [
        "from google.colab import drive\n",
        "drive.mount('/content/drive')"
      ],
      "execution_count": 2,
      "outputs": [
        {
          "output_type": "stream",
          "text": [
            "Drive already mounted at /content/drive; to attempt to forcibly remount, call drive.mount(\"/content/drive\", force_remount=True).\n"
          ],
          "name": "stdout"
        }
      ]
    },
    {
      "cell_type": "markdown",
      "metadata": {
        "colab_type": "text",
        "id": "9xGkl55qdYOp"
      },
      "source": [
        "We also want to change the working directory so that the file references work. Here I've places the files for this class inside a folder called 'class_1' that itself is inside a folder called 'NLP_class'."
      ]
    },
    {
      "cell_type": "code",
      "metadata": {
        "colab_type": "code",
        "id": "uS7n8IvIbdsy",
        "outputId": "83ba233f-fdf7-4600-ee72-96916c517ad7",
        "colab": {
          "base_uri": "https://localhost:8080/",
          "height": 0
        }
      },
      "source": [
        "%cd drive/My\\ Drive/NLP_class/0719_question\n",
        "!ls"
      ],
      "execution_count": 3,
      "outputs": [
        {
          "output_type": "stream",
          "text": [
            "/content/drive/My Drive/NLP_class/0719_question\n",
            " dialogues.tsv\t\t\t   Solution_hw_stackoverflow.ipynb\n",
            " July_2019_NLP_Questions.ipynb\t   tagged_posts.tsv\n",
            "'NLP Additional Exercise.docx'\t   tfidf_vectorizer.pkl\n",
            "'NLP class.ipynb'\t\t   utils.py\n",
            " Question_hw_stackoverflow.ipynb\n"
          ],
          "name": "stdout"
        }
      ]
    },
    {
      "cell_type": "markdown",
      "metadata": {
        "colab_type": "text",
        "id": "qSNEn1YWH9sE"
      },
      "source": [
        "## Pre-process the data"
      ]
    },
    {
      "cell_type": "markdown",
      "metadata": {
        "id": "PcU3tOg9uH-H",
        "colab_type": "text"
      },
      "source": [
        "This code cleans the text"
      ]
    },
    {
      "cell_type": "code",
      "metadata": {
        "id": "ZcnPTzIiuFf5",
        "colab_type": "code",
        "colab": {}
      },
      "source": [
        "# There is a problem with this codes as it is possible for all words to be removed leaving a null value\n",
        "# This is solved in line 25 with the if statement\n",
        "\n",
        "REPLACE_BY_SPACE_RE = re.compile('[/(){}\\[\\]\\|@,;]')\n",
        "BAD_SYMBOLS_RE = re.compile('[^0-9a-z #+_]')\n",
        "STOPWORDS = set(stopwords.words('english'))\n",
        "\n",
        "def text_prepare(text):\n",
        "    \"\"\"\n",
        "        text: a string\n",
        "        \n",
        "        return: modified initial string\n",
        "    \"\"\"\n",
        "    text = text.lower() # lowercase text\n",
        "    text = re.sub(REPLACE_BY_SPACE_RE, \" \", text) # replace REPLACE_BY_SPACE_RE symbols by space in text\n",
        "    text = re.sub(BAD_SYMBOLS_RE, \"\", text) # delete symbols which are in BAD_SYMBOLS_RE from text\n",
        "    text = \" \" + text + \" \"\n",
        "    for sw in STOPWORDS:\n",
        "        text = text.replace(\" \"+sw+\" \", \" \") # delete stopwords from text\n",
        "    text = re.sub('[ ][ ]+', \" \", text)\n",
        "\n",
        "    #     print(\"text:\", text)\n",
        "#     print(len(text))\n",
        "    \n",
        "    if len(text) > 1: # only run if there are words present\n",
        "      if text[0] == ' ':\n",
        "          text = text[1:]\n",
        "      if text[-1] == ' ':\n",
        "          text = text[:-1]\n",
        "        \n",
        "    return text"
      ],
      "execution_count": 0,
      "outputs": []
    },
    {
      "cell_type": "markdown",
      "metadata": {
        "colab_type": "text",
        "id": "sLZF406gVcbB"
      },
      "source": [
        "### Inspect Data\n",
        "Let's see what the data looks like"
      ]
    },
    {
      "cell_type": "code",
      "metadata": {
        "colab_type": "code",
        "id": "WfARkTgYICSv",
        "colab": {}
      },
      "source": [
        "dialogues = pd.read_csv('dialogues.tsv', sep='\\t')\n",
        "tagged = pd.read_csv('tagged_posts.tsv', sep='\\t')"
      ],
      "execution_count": 0,
      "outputs": []
    },
    {
      "cell_type": "code",
      "metadata": {
        "colab_type": "code",
        "id": "R_Rq9oTEIjGS",
        "outputId": "5afcc011-b08a-4df0-90d7-1f0cfb531f08",
        "colab": {
          "base_uri": "https://localhost:8080/",
          "height": 0
        }
      },
      "source": [
        "dialogues.head(2)"
      ],
      "execution_count": 6,
      "outputs": [
        {
          "output_type": "execute_result",
          "data": {
            "text/html": [
              "<div>\n",
              "<style scoped>\n",
              "    .dataframe tbody tr th:only-of-type {\n",
              "        vertical-align: middle;\n",
              "    }\n",
              "\n",
              "    .dataframe tbody tr th {\n",
              "        vertical-align: top;\n",
              "    }\n",
              "\n",
              "    .dataframe thead th {\n",
              "        text-align: right;\n",
              "    }\n",
              "</style>\n",
              "<table border=\"1\" class=\"dataframe\">\n",
              "  <thead>\n",
              "    <tr style=\"text-align: right;\">\n",
              "      <th></th>\n",
              "      <th>text</th>\n",
              "      <th>tag</th>\n",
              "    </tr>\n",
              "  </thead>\n",
              "  <tbody>\n",
              "    <tr>\n",
              "      <th>0</th>\n",
              "      <td>Okay -- you're gonna need to learn how to lie.</td>\n",
              "      <td>dialogue</td>\n",
              "    </tr>\n",
              "    <tr>\n",
              "      <th>1</th>\n",
              "      <td>I'm kidding.  You know how sometimes you just ...</td>\n",
              "      <td>dialogue</td>\n",
              "    </tr>\n",
              "  </tbody>\n",
              "</table>\n",
              "</div>"
            ],
            "text/plain": [
              "                                                text       tag\n",
              "0     Okay -- you're gonna need to learn how to lie.  dialogue\n",
              "1  I'm kidding.  You know how sometimes you just ...  dialogue"
            ]
          },
          "metadata": {
            "tags": []
          },
          "execution_count": 6
        }
      ]
    },
    {
      "cell_type": "code",
      "metadata": {
        "colab_type": "code",
        "id": "FbrcUuTSInR4",
        "outputId": "f0e3930d-8edc-484e-b699-d57c08d02a34",
        "colab": {
          "base_uri": "https://localhost:8080/",
          "height": 0
        }
      },
      "source": [
        "tagged.head(2)"
      ],
      "execution_count": 7,
      "outputs": [
        {
          "output_type": "execute_result",
          "data": {
            "text/html": [
              "<div>\n",
              "<style scoped>\n",
              "    .dataframe tbody tr th:only-of-type {\n",
              "        vertical-align: middle;\n",
              "    }\n",
              "\n",
              "    .dataframe tbody tr th {\n",
              "        vertical-align: top;\n",
              "    }\n",
              "\n",
              "    .dataframe thead th {\n",
              "        text-align: right;\n",
              "    }\n",
              "</style>\n",
              "<table border=\"1\" class=\"dataframe\">\n",
              "  <thead>\n",
              "    <tr style=\"text-align: right;\">\n",
              "      <th></th>\n",
              "      <th>post_id</th>\n",
              "      <th>title</th>\n",
              "      <th>tag</th>\n",
              "    </tr>\n",
              "  </thead>\n",
              "  <tbody>\n",
              "    <tr>\n",
              "      <th>0</th>\n",
              "      <td>9</td>\n",
              "      <td>Calculate age in C#</td>\n",
              "      <td>c#</td>\n",
              "    </tr>\n",
              "    <tr>\n",
              "      <th>1</th>\n",
              "      <td>16</td>\n",
              "      <td>Filling a DataSet or DataTable from a LINQ que...</td>\n",
              "      <td>c#</td>\n",
              "    </tr>\n",
              "  </tbody>\n",
              "</table>\n",
              "</div>"
            ],
            "text/plain": [
              "   post_id                                              title tag\n",
              "0        9                                Calculate age in C#  c#\n",
              "1       16  Filling a DataSet or DataTable from a LINQ que...  c#"
            ]
          },
          "metadata": {
            "tags": []
          },
          "execution_count": 7
        }
      ]
    },
    {
      "cell_type": "markdown",
      "metadata": {
        "id": "Gx-gPQ1ksIif",
        "colab_type": "text"
      },
      "source": [
        "# Movie or StackOverflow?"
      ]
    },
    {
      "cell_type": "markdown",
      "metadata": {
        "colab_type": "text",
        "id": "TvJoGJ3uViy0"
      },
      "source": [
        "### Create base dataset"
      ]
    },
    {
      "cell_type": "markdown",
      "metadata": {
        "colab_type": "text",
        "id": "lvlgPNByJSTz"
      },
      "source": [
        "Now we can drop the 'tag' columns of both and assign new labels. \n",
        "\n",
        "We set a movie question to label 0 and a stack overflow post to label 1\n",
        "\n",
        "We also need to drop the 'post_id' column of the stack overflow data and rename 'title' to 'text'"
      ]
    },
    {
      "cell_type": "code",
      "metadata": {
        "colab_type": "code",
        "id": "E3-3_f0fIq6q",
        "outputId": "f62a76e5-2feb-4c71-d637-f3806f6012e1",
        "colab": {
          "base_uri": "https://localhost:8080/",
          "height": 0
        }
      },
      "source": [
        "movie = dialogues.drop(columns=['tag'])\n",
        "movie['label'] = int(0)\n",
        "movie.head(2)"
      ],
      "execution_count": 8,
      "outputs": [
        {
          "output_type": "execute_result",
          "data": {
            "text/html": [
              "<div>\n",
              "<style scoped>\n",
              "    .dataframe tbody tr th:only-of-type {\n",
              "        vertical-align: middle;\n",
              "    }\n",
              "\n",
              "    .dataframe tbody tr th {\n",
              "        vertical-align: top;\n",
              "    }\n",
              "\n",
              "    .dataframe thead th {\n",
              "        text-align: right;\n",
              "    }\n",
              "</style>\n",
              "<table border=\"1\" class=\"dataframe\">\n",
              "  <thead>\n",
              "    <tr style=\"text-align: right;\">\n",
              "      <th></th>\n",
              "      <th>text</th>\n",
              "      <th>label</th>\n",
              "    </tr>\n",
              "  </thead>\n",
              "  <tbody>\n",
              "    <tr>\n",
              "      <th>0</th>\n",
              "      <td>Okay -- you're gonna need to learn how to lie.</td>\n",
              "      <td>0</td>\n",
              "    </tr>\n",
              "    <tr>\n",
              "      <th>1</th>\n",
              "      <td>I'm kidding.  You know how sometimes you just ...</td>\n",
              "      <td>0</td>\n",
              "    </tr>\n",
              "  </tbody>\n",
              "</table>\n",
              "</div>"
            ],
            "text/plain": [
              "                                                text  label\n",
              "0     Okay -- you're gonna need to learn how to lie.      0\n",
              "1  I'm kidding.  You know how sometimes you just ...      0"
            ]
          },
          "metadata": {
            "tags": []
          },
          "execution_count": 8
        }
      ]
    },
    {
      "cell_type": "code",
      "metadata": {
        "colab_type": "code",
        "id": "ZZ79wI8NL6VY",
        "outputId": "1b8ec050-555a-4d5f-bcae-86eb9dfc4f32",
        "colab": {
          "base_uri": "https://localhost:8080/",
          "height": 0
        }
      },
      "source": [
        "stack = tagged.drop(columns=['post_id','tag'])\n",
        "stack['label'] = int(1)\n",
        "stack = stack.rename(columns={\"title\": \"text\"})\n",
        "stack.head(2)"
      ],
      "execution_count": 9,
      "outputs": [
        {
          "output_type": "execute_result",
          "data": {
            "text/html": [
              "<div>\n",
              "<style scoped>\n",
              "    .dataframe tbody tr th:only-of-type {\n",
              "        vertical-align: middle;\n",
              "    }\n",
              "\n",
              "    .dataframe tbody tr th {\n",
              "        vertical-align: top;\n",
              "    }\n",
              "\n",
              "    .dataframe thead th {\n",
              "        text-align: right;\n",
              "    }\n",
              "</style>\n",
              "<table border=\"1\" class=\"dataframe\">\n",
              "  <thead>\n",
              "    <tr style=\"text-align: right;\">\n",
              "      <th></th>\n",
              "      <th>text</th>\n",
              "      <th>label</th>\n",
              "    </tr>\n",
              "  </thead>\n",
              "  <tbody>\n",
              "    <tr>\n",
              "      <th>0</th>\n",
              "      <td>Calculate age in C#</td>\n",
              "      <td>1</td>\n",
              "    </tr>\n",
              "    <tr>\n",
              "      <th>1</th>\n",
              "      <td>Filling a DataSet or DataTable from a LINQ que...</td>\n",
              "      <td>1</td>\n",
              "    </tr>\n",
              "  </tbody>\n",
              "</table>\n",
              "</div>"
            ],
            "text/plain": [
              "                                                text  label\n",
              "0                                Calculate age in C#      1\n",
              "1  Filling a DataSet or DataTable from a LINQ que...      1"
            ]
          },
          "metadata": {
            "tags": []
          },
          "execution_count": 9
        }
      ]
    },
    {
      "cell_type": "markdown",
      "metadata": {
        "colab_type": "text",
        "id": "0bP9m5tkPHy7"
      },
      "source": [
        "We now combine the two different data sets into one single data set."
      ]
    },
    {
      "cell_type": "code",
      "metadata": {
        "colab_type": "code",
        "id": "m5GUK10kPOGD",
        "outputId": "e82e4b42-a583-4d98-b298-fd254d5ce4e1",
        "colab": {
          "base_uri": "https://localhost:8080/",
          "height": 0
        }
      },
      "source": [
        "data = movie.append(stack, ignore_index=True)\n",
        "data.head()"
      ],
      "execution_count": 10,
      "outputs": [
        {
          "output_type": "execute_result",
          "data": {
            "text/html": [
              "<div>\n",
              "<style scoped>\n",
              "    .dataframe tbody tr th:only-of-type {\n",
              "        vertical-align: middle;\n",
              "    }\n",
              "\n",
              "    .dataframe tbody tr th {\n",
              "        vertical-align: top;\n",
              "    }\n",
              "\n",
              "    .dataframe thead th {\n",
              "        text-align: right;\n",
              "    }\n",
              "</style>\n",
              "<table border=\"1\" class=\"dataframe\">\n",
              "  <thead>\n",
              "    <tr style=\"text-align: right;\">\n",
              "      <th></th>\n",
              "      <th>text</th>\n",
              "      <th>label</th>\n",
              "    </tr>\n",
              "  </thead>\n",
              "  <tbody>\n",
              "    <tr>\n",
              "      <th>0</th>\n",
              "      <td>Okay -- you're gonna need to learn how to lie.</td>\n",
              "      <td>0</td>\n",
              "    </tr>\n",
              "    <tr>\n",
              "      <th>1</th>\n",
              "      <td>I'm kidding.  You know how sometimes you just ...</td>\n",
              "      <td>0</td>\n",
              "    </tr>\n",
              "    <tr>\n",
              "      <th>2</th>\n",
              "      <td>Like my fear of wearing pastels?</td>\n",
              "      <td>0</td>\n",
              "    </tr>\n",
              "    <tr>\n",
              "      <th>3</th>\n",
              "      <td>I figured you'd get to the good stuff eventually.</td>\n",
              "      <td>0</td>\n",
              "    </tr>\n",
              "    <tr>\n",
              "      <th>4</th>\n",
              "      <td>Thank God!  If I had to hear one more story ab...</td>\n",
              "      <td>0</td>\n",
              "    </tr>\n",
              "  </tbody>\n",
              "</table>\n",
              "</div>"
            ],
            "text/plain": [
              "                                                text  label\n",
              "0     Okay -- you're gonna need to learn how to lie.      0\n",
              "1  I'm kidding.  You know how sometimes you just ...      0\n",
              "2                   Like my fear of wearing pastels?      0\n",
              "3  I figured you'd get to the good stuff eventually.      0\n",
              "4  Thank God!  If I had to hear one more story ab...      0"
            ]
          },
          "metadata": {
            "tags": []
          },
          "execution_count": 10
        }
      ]
    },
    {
      "cell_type": "markdown",
      "metadata": {
        "colab_type": "text",
        "id": "e7Ho2gM_VoRt"
      },
      "source": [
        "### Clean the text"
      ]
    },
    {
      "cell_type": "code",
      "metadata": {
        "colab_type": "code",
        "id": "6DnTh1iqa3Do",
        "outputId": "27dbc03b-c8c0-442a-9a36-c5ad6abf9b70",
        "colab": {
          "base_uri": "https://localhost:8080/",
          "height": 0
        }
      },
      "source": [
        "data.shape"
      ],
      "execution_count": 11,
      "outputs": [
        {
          "output_type": "execute_result",
          "data": {
            "text/plain": [
              "(615477, 2)"
            ]
          },
          "metadata": {
            "tags": []
          },
          "execution_count": 11
        }
      ]
    },
    {
      "cell_type": "markdown",
      "metadata": {
        "colab_type": "text",
        "id": "nD5XQNXy9Esg"
      },
      "source": [
        "Here we can see that certain lines are entirely made up of stopwords and symbols. We need to account for this."
      ]
    },
    {
      "cell_type": "code",
      "metadata": {
        "colab_type": "code",
        "id": "UoT3-_7gbgle",
        "outputId": "6df22c9c-a5c7-4f9a-a2f8-2206802fafef",
        "colab": {
          "base_uri": "https://localhost:8080/",
          "height": 0
        }
      },
      "source": [
        "print(\"This line: \", data.loc[82457, 'text'])\n",
        "print(\"\\nBecomes: \", text_prepare(data.loc[82457, 'text']))"
      ],
      "execution_count": 12,
      "outputs": [
        {
          "output_type": "stream",
          "text": [
            "This line:  Do you have to do that?\n",
            "\n",
            "Becomes:   \n"
          ],
          "name": "stdout"
        }
      ]
    },
    {
      "cell_type": "markdown",
      "metadata": {
        "colab_type": "text",
        "id": "TUKG3QZABdhX"
      },
      "source": [
        "Now we run the cleaning function on the whole database."
      ]
    },
    {
      "cell_type": "code",
      "metadata": {
        "colab_type": "code",
        "id": "HtXWMj4uWD0g",
        "outputId": "b7e8005c-4e32-4eab-8d16-277d2e790bc9",
        "colab": {
          "base_uri": "https://localhost:8080/",
          "height": 0
        }
      },
      "source": [
        "%time cleaned_text = [text_prepare(x) for x in data['text']]"
      ],
      "execution_count": 13,
      "outputs": [
        {
          "output_type": "stream",
          "text": [
            "CPU times: user 39.5 s, sys: 80.1 ms, total: 39.6 s\n",
            "Wall time: 39.7 s\n"
          ],
          "name": "stdout"
        }
      ]
    },
    {
      "cell_type": "code",
      "metadata": {
        "colab_type": "code",
        "id": "ROg5cz_twXLQ",
        "outputId": "2e268514-a102-4d31-a49f-6ad2ae67409c",
        "colab": {
          "base_uri": "https://localhost:8080/",
          "height": 0
        }
      },
      "source": [
        "clean_text = pd.DataFrame({'clean_data': cleaned_text})\n",
        "clean_text.head()"
      ],
      "execution_count": 14,
      "outputs": [
        {
          "output_type": "execute_result",
          "data": {
            "text/html": [
              "<div>\n",
              "<style scoped>\n",
              "    .dataframe tbody tr th:only-of-type {\n",
              "        vertical-align: middle;\n",
              "    }\n",
              "\n",
              "    .dataframe tbody tr th {\n",
              "        vertical-align: top;\n",
              "    }\n",
              "\n",
              "    .dataframe thead th {\n",
              "        text-align: right;\n",
              "    }\n",
              "</style>\n",
              "<table border=\"1\" class=\"dataframe\">\n",
              "  <thead>\n",
              "    <tr style=\"text-align: right;\">\n",
              "      <th></th>\n",
              "      <th>clean_data</th>\n",
              "    </tr>\n",
              "  </thead>\n",
              "  <tbody>\n",
              "    <tr>\n",
              "      <th>0</th>\n",
              "      <td>okay youre gonna need learn lie</td>\n",
              "    </tr>\n",
              "    <tr>\n",
              "      <th>1</th>\n",
              "      <td>im kidding know sometimes become persona dont ...</td>\n",
              "    </tr>\n",
              "    <tr>\n",
              "      <th>2</th>\n",
              "      <td>like fear wearing pastels</td>\n",
              "    </tr>\n",
              "    <tr>\n",
              "      <th>3</th>\n",
              "      <td>figured youd get good stuff eventually</td>\n",
              "    </tr>\n",
              "    <tr>\n",
              "      <th>4</th>\n",
              "      <td>thank god hear one story coiffure</td>\n",
              "    </tr>\n",
              "  </tbody>\n",
              "</table>\n",
              "</div>"
            ],
            "text/plain": [
              "                                          clean_data\n",
              "0                    okay youre gonna need learn lie\n",
              "1  im kidding know sometimes become persona dont ...\n",
              "2                          like fear wearing pastels\n",
              "3             figured youd get good stuff eventually\n",
              "4                  thank god hear one story coiffure"
            ]
          },
          "metadata": {
            "tags": []
          },
          "execution_count": 14
        }
      ]
    },
    {
      "cell_type": "code",
      "metadata": {
        "colab_type": "code",
        "id": "_q1Z-8LEzYbV",
        "outputId": "0678bff1-355a-4a65-bc91-984c8ec03855",
        "colab": {
          "base_uri": "https://localhost:8080/",
          "height": 0
        }
      },
      "source": [
        "clean = pd.concat([clean_text, data], axis = 1, ignore_index=True)\n",
        "clean = shuffle(clean)\n",
        "clean.head()"
      ],
      "execution_count": 15,
      "outputs": [
        {
          "output_type": "execute_result",
          "data": {
            "text/html": [
              "<div>\n",
              "<style scoped>\n",
              "    .dataframe tbody tr th:only-of-type {\n",
              "        vertical-align: middle;\n",
              "    }\n",
              "\n",
              "    .dataframe tbody tr th {\n",
              "        vertical-align: top;\n",
              "    }\n",
              "\n",
              "    .dataframe thead th {\n",
              "        text-align: right;\n",
              "    }\n",
              "</style>\n",
              "<table border=\"1\" class=\"dataframe\">\n",
              "  <thead>\n",
              "    <tr style=\"text-align: right;\">\n",
              "      <th></th>\n",
              "      <th>0</th>\n",
              "      <th>1</th>\n",
              "      <th>2</th>\n",
              "    </tr>\n",
              "  </thead>\n",
              "  <tbody>\n",
              "    <tr>\n",
              "      <th>378098</th>\n",
              "      <td>syntax error insert statement c# oledb</td>\n",
              "      <td>Syntax error in INSERT INTO statement in c# ol...</td>\n",
              "      <td>1</td>\n",
              "    </tr>\n",
              "    <tr>\n",
              "      <th>274212</th>\n",
              "      <td>applying methods object private variables java...</td>\n",
              "      <td>applying methods to object and private variabl...</td>\n",
              "      <td>1</td>\n",
              "    </tr>\n",
              "    <tr>\n",
              "      <th>527013</th>\n",
              "      <td>xampp openssl errors calling openssl_pkey_new</td>\n",
              "      <td>xampp openssl errors when calling openssl_pkey...</td>\n",
              "      <td>1</td>\n",
              "    </tr>\n",
              "    <tr>\n",
              "      <th>25072</th>\n",
              "      <td>let buyer beware</td>\n",
              "      <td>Let the buyer beware.</td>\n",
              "      <td>0</td>\n",
              "    </tr>\n",
              "    <tr>\n",
              "      <th>491370</th>\n",
              "      <td>read write locking confusion</td>\n",
              "      <td>Read/Write locking confusion</td>\n",
              "      <td>1</td>\n",
              "    </tr>\n",
              "  </tbody>\n",
              "</table>\n",
              "</div>"
            ],
            "text/plain": [
              "                                                        0  ...  2\n",
              "378098             syntax error insert statement c# oledb  ...  1\n",
              "274212  applying methods object private variables java...  ...  1\n",
              "527013      xampp openssl errors calling openssl_pkey_new  ...  1\n",
              "25072                                    let buyer beware  ...  0\n",
              "491370                       read write locking confusion  ...  1\n",
              "\n",
              "[5 rows x 3 columns]"
            ]
          },
          "metadata": {
            "tags": []
          },
          "execution_count": 15
        }
      ]
    },
    {
      "cell_type": "code",
      "metadata": {
        "colab_type": "code",
        "id": "pFl5dCCI9R2r",
        "outputId": "1d3bfaed-c706-4e9b-bfc7-1b5601e1314c",
        "colab": {
          "base_uri": "https://localhost:8080/",
          "height": 0
        }
      },
      "source": [
        "clean = clean.drop(columns=[1])\n",
        "clean.head(20)"
      ],
      "execution_count": 16,
      "outputs": [
        {
          "output_type": "execute_result",
          "data": {
            "text/html": [
              "<div>\n",
              "<style scoped>\n",
              "    .dataframe tbody tr th:only-of-type {\n",
              "        vertical-align: middle;\n",
              "    }\n",
              "\n",
              "    .dataframe tbody tr th {\n",
              "        vertical-align: top;\n",
              "    }\n",
              "\n",
              "    .dataframe thead th {\n",
              "        text-align: right;\n",
              "    }\n",
              "</style>\n",
              "<table border=\"1\" class=\"dataframe\">\n",
              "  <thead>\n",
              "    <tr style=\"text-align: right;\">\n",
              "      <th></th>\n",
              "      <th>0</th>\n",
              "      <th>2</th>\n",
              "    </tr>\n",
              "  </thead>\n",
              "  <tbody>\n",
              "    <tr>\n",
              "      <th>378098</th>\n",
              "      <td>syntax error insert statement c# oledb</td>\n",
              "      <td>1</td>\n",
              "    </tr>\n",
              "    <tr>\n",
              "      <th>274212</th>\n",
              "      <td>applying methods object private variables java...</td>\n",
              "      <td>1</td>\n",
              "    </tr>\n",
              "    <tr>\n",
              "      <th>527013</th>\n",
              "      <td>xampp openssl errors calling openssl_pkey_new</td>\n",
              "      <td>1</td>\n",
              "    </tr>\n",
              "    <tr>\n",
              "      <th>25072</th>\n",
              "      <td>let buyer beware</td>\n",
              "      <td>0</td>\n",
              "    </tr>\n",
              "    <tr>\n",
              "      <th>491370</th>\n",
              "      <td>read write locking confusion</td>\n",
              "      <td>1</td>\n",
              "    </tr>\n",
              "    <tr>\n",
              "      <th>176289</th>\n",
              "      <td>im alright</td>\n",
              "      <td>0</td>\n",
              "    </tr>\n",
              "    <tr>\n",
              "      <th>323152</th>\n",
              "      <td>get last segment regular expression</td>\n",
              "      <td>1</td>\n",
              "    </tr>\n",
              "    <tr>\n",
              "      <th>588685</th>\n",
              "      <td>wcf service completely locked</td>\n",
              "      <td>1</td>\n",
              "    </tr>\n",
              "    <tr>\n",
              "      <th>102626</th>\n",
              "      <td>ask theres nothing new coke</td>\n",
              "      <td>0</td>\n",
              "    </tr>\n",
              "    <tr>\n",
              "      <th>380088</th>\n",
              "      <td>complex example project java desktopstyle gui</td>\n",
              "      <td>1</td>\n",
              "    </tr>\n",
              "    <tr>\n",
              "      <th>508404</th>\n",
              "      <td>warning mysql_result supplied argument valid m...</td>\n",
              "      <td>1</td>\n",
              "    </tr>\n",
              "    <tr>\n",
              "      <th>610938</th>\n",
              "      <td>connect ui business logic</td>\n",
              "      <td>1</td>\n",
              "    </tr>\n",
              "    <tr>\n",
              "      <th>51978</th>\n",
              "      <td>jim dont</td>\n",
              "      <td>0</td>\n",
              "    </tr>\n",
              "    <tr>\n",
              "      <th>170201</th>\n",
              "      <td>threw us together remember guessed right men l...</td>\n",
              "      <td>0</td>\n",
              "    </tr>\n",
              "    <tr>\n",
              "      <th>48904</th>\n",
              "      <td>oh thats nice doctor wrong wasnt</td>\n",
              "      <td>0</td>\n",
              "    </tr>\n",
              "    <tr>\n",
              "      <th>262520</th>\n",
              "      <td>visual studio 2008 crashes open javascript file</td>\n",
              "      <td>1</td>\n",
              "    </tr>\n",
              "    <tr>\n",
              "      <th>397707</th>\n",
              "      <td>escaping quotes jquery</td>\n",
              "      <td>1</td>\n",
              "    </tr>\n",
              "    <tr>\n",
              "      <th>431911</th>\n",
              "      <td>background worker synchronization</td>\n",
              "      <td>1</td>\n",
              "    </tr>\n",
              "    <tr>\n",
              "      <th>485620</th>\n",
              "      <td>weird web page issue ie8 possibly javascript</td>\n",
              "      <td>1</td>\n",
              "    </tr>\n",
              "    <tr>\n",
              "      <th>451893</th>\n",
              "      <td>simplify looping array could flat multidimensi...</td>\n",
              "      <td>1</td>\n",
              "    </tr>\n",
              "  </tbody>\n",
              "</table>\n",
              "</div>"
            ],
            "text/plain": [
              "                                                        0  2\n",
              "378098             syntax error insert statement c# oledb  1\n",
              "274212  applying methods object private variables java...  1\n",
              "527013      xampp openssl errors calling openssl_pkey_new  1\n",
              "25072                                    let buyer beware  0\n",
              "491370                       read write locking confusion  1\n",
              "176289                                         im alright  0\n",
              "323152                get last segment regular expression  1\n",
              "588685                      wcf service completely locked  1\n",
              "102626                        ask theres nothing new coke  0\n",
              "380088      complex example project java desktopstyle gui  1\n",
              "508404  warning mysql_result supplied argument valid m...  1\n",
              "610938                          connect ui business logic  1\n",
              "51978                                            jim dont  0\n",
              "170201  threw us together remember guessed right men l...  0\n",
              "48904                    oh thats nice doctor wrong wasnt  0\n",
              "262520    visual studio 2008 crashes open javascript file  1\n",
              "397707                             escaping quotes jquery  1\n",
              "431911                  background worker synchronization  1\n",
              "485620       weird web page issue ie8 possibly javascript  1\n",
              "451893  simplify looping array could flat multidimensi...  1"
            ]
          },
          "metadata": {
            "tags": []
          },
          "execution_count": 16
        }
      ]
    },
    {
      "cell_type": "markdown",
      "metadata": {
        "colab_type": "text",
        "id": "j-Hlh2-MBVSJ"
      },
      "source": [
        "Check that there are only 2 labels (binary) and see the amount of each."
      ]
    },
    {
      "cell_type": "code",
      "metadata": {
        "colab_type": "code",
        "id": "Ey12hOuG-uqt",
        "outputId": "9553ff03-8662-4291-943e-0b276f2ea3fc",
        "colab": {
          "base_uri": "https://localhost:8080/",
          "height": 0
        }
      },
      "source": [
        "unique_labels = clean.groupby(2).nunique()\n",
        "unique_labels.head()"
      ],
      "execution_count": 17,
      "outputs": [
        {
          "output_type": "execute_result",
          "data": {
            "text/html": [
              "<div>\n",
              "<style scoped>\n",
              "    .dataframe tbody tr th:only-of-type {\n",
              "        vertical-align: middle;\n",
              "    }\n",
              "\n",
              "    .dataframe tbody tr th {\n",
              "        vertical-align: top;\n",
              "    }\n",
              "\n",
              "    .dataframe thead th {\n",
              "        text-align: right;\n",
              "    }\n",
              "</style>\n",
              "<table border=\"1\" class=\"dataframe\">\n",
              "  <thead>\n",
              "    <tr style=\"text-align: right;\">\n",
              "      <th></th>\n",
              "      <th>0</th>\n",
              "      <th>2</th>\n",
              "    </tr>\n",
              "    <tr>\n",
              "      <th>2</th>\n",
              "      <th></th>\n",
              "      <th></th>\n",
              "    </tr>\n",
              "  </thead>\n",
              "  <tbody>\n",
              "    <tr>\n",
              "      <th>0</th>\n",
              "      <td>206948</td>\n",
              "      <td>1</td>\n",
              "    </tr>\n",
              "    <tr>\n",
              "      <th>1</th>\n",
              "      <td>394522</td>\n",
              "      <td>1</td>\n",
              "    </tr>\n",
              "  </tbody>\n",
              "</table>\n",
              "</div>"
            ],
            "text/plain": [
              "        0  2\n",
              "2           \n",
              "0  206948  1\n",
              "1  394522  1"
            ]
          },
          "metadata": {
            "tags": []
          },
          "execution_count": 17
        }
      ]
    },
    {
      "cell_type": "markdown",
      "metadata": {
        "colab_type": "text",
        "id": "K8Uycb9GGM3P"
      },
      "source": [
        "### Train Test Validation Split"
      ]
    },
    {
      "cell_type": "code",
      "metadata": {
        "colab_type": "code",
        "id": "C2504BNfH0XH",
        "outputId": "80ecb05c-1744-45d4-daa3-153eaded2459",
        "colab": {
          "base_uri": "https://localhost:8080/",
          "height": 0
        }
      },
      "source": [
        "clean_data = clean[0]\n",
        "clean_data.head()"
      ],
      "execution_count": 18,
      "outputs": [
        {
          "output_type": "execute_result",
          "data": {
            "text/plain": [
              "378098               syntax error insert statement c# oledb\n",
              "274212    applying methods object private variables java...\n",
              "527013        xampp openssl errors calling openssl_pkey_new\n",
              "25072                                      let buyer beware\n",
              "491370                         read write locking confusion\n",
              "Name: 0, dtype: object"
            ]
          },
          "metadata": {
            "tags": []
          },
          "execution_count": 18
        }
      ]
    },
    {
      "cell_type": "code",
      "metadata": {
        "colab_type": "code",
        "id": "qqTBtKswH8OJ",
        "outputId": "62cec48d-6265-4f1b-ae11-2241be0da690",
        "colab": {
          "base_uri": "https://localhost:8080/",
          "height": 0
        }
      },
      "source": [
        "clean_labels = clean[2]\n",
        "clean_labels.head()"
      ],
      "execution_count": 19,
      "outputs": [
        {
          "output_type": "execute_result",
          "data": {
            "text/plain": [
              "378098    1\n",
              "274212    1\n",
              "527013    1\n",
              "25072     0\n",
              "491370    1\n",
              "Name: 2, dtype: int64"
            ]
          },
          "metadata": {
            "tags": []
          },
          "execution_count": 19
        }
      ]
    },
    {
      "cell_type": "markdown",
      "metadata": {
        "colab_type": "text",
        "id": "yfR0S79LKM2z"
      },
      "source": [
        "First we split off the validation set as 20% of the overall data set."
      ]
    },
    {
      "cell_type": "code",
      "metadata": {
        "colab_type": "code",
        "id": "6PcNZLs0GP-p",
        "colab": {}
      },
      "source": [
        "df_data, X_val, df_labels, y_val = train_test_split(\n",
        "    clean_data, clean_labels, test_size=0.2, random_state=42, shuffle=False)"
      ],
      "execution_count": 0,
      "outputs": []
    },
    {
      "cell_type": "markdown",
      "metadata": {
        "colab_type": "text",
        "id": "kavGbj5CKRZN"
      },
      "source": [
        "Then we split the remaining into training and test data."
      ]
    },
    {
      "cell_type": "code",
      "metadata": {
        "colab_type": "code",
        "id": "sPhhujziIHDE",
        "colab": {}
      },
      "source": [
        "X_train, X_test, y_train, y_test = train_test_split(df_data, df_labels, test_size=0.25,\n",
        "                                                        random_state=42,\n",
        "                                                        shuffle=False)"
      ],
      "execution_count": 0,
      "outputs": []
    },
    {
      "cell_type": "markdown",
      "metadata": {
        "colab_type": "text",
        "id": "GiTur5D4KUyn"
      },
      "source": [
        "The end result is 60% training data, 20% test data and 20% validation data"
      ]
    },
    {
      "cell_type": "code",
      "metadata": {
        "colab_type": "code",
        "id": "FwaIgNTCJb7M",
        "outputId": "3c2bde7c-2b2f-4762-d74c-8e33cc9b6b56",
        "colab": {
          "base_uri": "https://localhost:8080/",
          "height": 0
        }
      },
      "source": [
        "print(\"Shape of X_train\", X_train.shape)\n",
        "print(\"Shape of y_train\", X_train.shape)\n",
        "print(\"Shape of X_test\", X_test.shape)\n",
        "print(\"Shape of y_test\", y_test.shape)\n",
        "print(\"Shape of X_val\", X_val.shape)\n",
        "print(\"Shape of y_val\", y_val.shape)"
      ],
      "execution_count": 22,
      "outputs": [
        {
          "output_type": "stream",
          "text": [
            "Shape of X_train (369285,)\n",
            "Shape of y_train (369285,)\n",
            "Shape of X_test (123096,)\n",
            "Shape of y_test (123096,)\n",
            "Shape of X_val (123096,)\n",
            "Shape of y_val (123096,)\n"
          ],
          "name": "stdout"
        }
      ]
    },
    {
      "cell_type": "markdown",
      "metadata": {
        "colab_type": "text",
        "id": "1RdDnZ0QLkGa"
      },
      "source": [
        "### Apply TF-IDF Weighting"
      ]
    },
    {
      "cell_type": "markdown",
      "metadata": {
        "colab_type": "text",
        "id": "BcqGn8mNM3QP"
      },
      "source": [
        "We first need to learn the words for the dictionary from our training data."
      ]
    },
    {
      "cell_type": "code",
      "metadata": {
        "colab_type": "code",
        "id": "XBmLxj__Lm_f",
        "outputId": "425885c7-8ed1-4786-c847-cbfe84c4ea85",
        "colab": {
          "base_uri": "https://localhost:8080/",
          "height": 0
        }
      },
      "source": [
        "vectorizer = TfidfVectorizer(norm=u'l1', token_pattern='(\\S+)', min_df=5, max_df=0.9, ngram_range=(1,2))\n",
        "\n",
        "%time vectorizer.fit_transform(X_train)\n",
        "# print(vectorizer.get_feature_names(10))"
      ],
      "execution_count": 23,
      "outputs": [
        {
          "output_type": "stream",
          "text": [
            "CPU times: user 9.94 s, sys: 259 ms, total: 10.2 s\n",
            "Wall time: 10.2 s\n"
          ],
          "name": "stdout"
        },
        {
          "output_type": "execute_result",
          "data": {
            "text/plain": [
              "<369285x65395 sparse matrix of type '<class 'numpy.float64'>'\n",
              "\twith 2693828 stored elements in Compressed Sparse Row format>"
            ]
          },
          "metadata": {
            "tags": []
          },
          "execution_count": 23
        }
      ]
    },
    {
      "cell_type": "markdown",
      "metadata": {
        "colab_type": "text",
        "id": "RWh_ekQzOMSs"
      },
      "source": [
        "Apply this learned TF-IDF transform to our different dataframes"
      ]
    },
    {
      "cell_type": "code",
      "metadata": {
        "colab_type": "code",
        "id": "5YCiM_i5MqZ_",
        "outputId": "7c7fb61d-2a59-4470-ff59-75285e0c4ebe",
        "colab": {
          "base_uri": "https://localhost:8080/",
          "height": 0
        }
      },
      "source": [
        "%time train_tf = vectorizer.transform(X_train)\n",
        "# train_tf = csr_matrix.mean(train_tf, axis=0)\n",
        "\n",
        "%time test_tf = vectorizer.transform(X_test)\n",
        "# test_tf = csr_matrix.mean(test_tf, axis=0)\n",
        "\n",
        "%time val_tf = vectorizer.transform(X_val)\n",
        "# val_tf = csr_matrix.mean(val_tf, axis=0)\n"
      ],
      "execution_count": 24,
      "outputs": [
        {
          "output_type": "stream",
          "text": [
            "CPU times: user 4.93 s, sys: 7.95 ms, total: 4.94 s\n",
            "Wall time: 4.95 s\n",
            "CPU times: user 1.6 s, sys: 1.99 ms, total: 1.61 s\n",
            "Wall time: 1.61 s\n",
            "CPU times: user 1.63 s, sys: 1.97 ms, total: 1.63 s\n",
            "Wall time: 1.64 s\n"
          ],
          "name": "stdout"
        }
      ]
    },
    {
      "cell_type": "markdown",
      "metadata": {
        "colab_type": "text",
        "id": "40Ui_FgnOm8y"
      },
      "source": [
        "We can see that the different dataframes have been transformed intt Compressed Sparse Row format data. This is very important as sparsity has a big impact on accuracy."
      ]
    },
    {
      "cell_type": "code",
      "metadata": {
        "colab_type": "code",
        "id": "tST_JeYgORw1",
        "outputId": "4e1f8f69-c470-40ce-ddbf-cda637a29708",
        "colab": {
          "base_uri": "https://localhost:8080/",
          "height": 0
        }
      },
      "source": [
        "print(\"Shape of train_tf\", train_tf.shape)\n",
        "\n",
        "print(\"Shape of test_tf\", test_tf.shape)\n",
        "\n",
        "print(\"Shape of val_tf\", val_tf.shape)"
      ],
      "execution_count": 25,
      "outputs": [
        {
          "output_type": "stream",
          "text": [
            "Shape of train_tf (369285, 65395)\n",
            "Shape of test_tf (123096, 65395)\n",
            "Shape of val_tf (123096, 65395)\n"
          ],
          "name": "stdout"
        }
      ]
    },
    {
      "cell_type": "markdown",
      "metadata": {
        "colab_type": "text",
        "id": "t5O8cW0APWn9"
      },
      "source": [
        "## Classify CSR"
      ]
    },
    {
      "cell_type": "markdown",
      "metadata": {
        "colab_type": "text",
        "id": "up8rnEG-VDV2"
      },
      "source": [
        "First we will attempt to classify the full CSR dataset"
      ]
    },
    {
      "cell_type": "markdown",
      "metadata": {
        "colab_type": "text",
        "id": "9nTR2uuyVKmN"
      },
      "source": [
        "### Naive Bayes\n",
        "Interestingly this crashes and causes the runtime to reset as the dimensionality is too high."
      ]
    },
    {
      "cell_type": "code",
      "metadata": {
        "colab_type": "code",
        "id": "2BMZ-FK7P0hy",
        "colab": {}
      },
      "source": [
        "# nb = GaussianNB()\n",
        "# nb.fit(train_tf.todense(), y_train.astype(int))"
      ],
      "execution_count": 0,
      "outputs": []
    },
    {
      "cell_type": "code",
      "metadata": {
        "colab_type": "code",
        "id": "ICikjGgRUMlD",
        "colab": {}
      },
      "source": [
        "# nb_score_test = nb.score(test_tf.todense(), y_test.astype(int))\n",
        "# nb_score_test"
      ],
      "execution_count": 0,
      "outputs": []
    },
    {
      "cell_type": "markdown",
      "metadata": {
        "colab_type": "text",
        "id": "WbSCoHqJRicZ"
      },
      "source": [
        "### Linear Regression"
      ]
    },
    {
      "cell_type": "code",
      "metadata": {
        "colab_type": "code",
        "id": "mYa-7yCvQEiY",
        "outputId": "9ac6c4b1-64aa-4392-acc1-9f25e642692a",
        "colab": {
          "base_uri": "https://localhost:8080/",
          "height": 0
        }
      },
      "source": [
        "linr = linear_model.LinearRegression(n_jobs = -1)\n",
        "%time linr.fit(train_tf, y_train.astype(int))"
      ],
      "execution_count": 29,
      "outputs": [
        {
          "output_type": "stream",
          "text": [
            "CPU times: user 1min 14s, sys: 45.7 s, total: 2min\n",
            "Wall time: 1min 1s\n"
          ],
          "name": "stdout"
        },
        {
          "output_type": "execute_result",
          "data": {
            "text/plain": [
              "LinearRegression(copy_X=True, fit_intercept=True, n_jobs=-1, normalize=False)"
            ]
          },
          "metadata": {
            "tags": []
          },
          "execution_count": 29
        }
      ]
    },
    {
      "cell_type": "code",
      "metadata": {
        "colab_type": "code",
        "id": "HG9Pe5DmQ8TL",
        "outputId": "2cb98578-cdb0-4726-b5f2-002fae3b39f0",
        "colab": {
          "base_uri": "https://localhost:8080/",
          "height": 0
        }
      },
      "source": [
        "%time linr_score_test = linr.score(test_tf, y_test.astype(int))\n",
        "linr_score_test*100"
      ],
      "execution_count": 30,
      "outputs": [
        {
          "output_type": "stream",
          "text": [
            "CPU times: user 9.41 ms, sys: 11.2 ms, total: 20.6 ms\n",
            "Wall time: 13.3 ms\n"
          ],
          "name": "stdout"
        },
        {
          "output_type": "execute_result",
          "data": {
            "text/plain": [
              "92.57128540397106"
            ]
          },
          "metadata": {
            "tags": []
          },
          "execution_count": 30
        }
      ]
    },
    {
      "cell_type": "markdown",
      "metadata": {
        "colab_type": "text",
        "id": "RiiKY9yHRnS1"
      },
      "source": [
        "### Logistic Regression"
      ]
    },
    {
      "cell_type": "code",
      "metadata": {
        "colab_type": "code",
        "id": "XY9HT8zQRqMQ",
        "outputId": "cb22b183-23c3-45af-e563-bc4519629e4a",
        "colab": {
          "base_uri": "https://localhost:8080/",
          "height": 0
        }
      },
      "source": [
        "lr = linear_model.LogisticRegression(C=10.0, penalty='l2', solver = 'newton-cg', n_jobs=-1)\n",
        "%time lr.fit(train_tf, y_train)"
      ],
      "execution_count": 31,
      "outputs": [
        {
          "output_type": "stream",
          "text": [
            "CPU times: user 58.6 ms, sys: 101 ms, total: 159 ms\n",
            "Wall time: 9.58 s\n"
          ],
          "name": "stdout"
        },
        {
          "output_type": "execute_result",
          "data": {
            "text/plain": [
              "LogisticRegression(C=10.0, class_weight=None, dual=False, fit_intercept=True,\n",
              "                   intercept_scaling=1, l1_ratio=None, max_iter=100,\n",
              "                   multi_class='warn', n_jobs=-1, penalty='l2',\n",
              "                   random_state=None, solver='newton-cg', tol=0.0001, verbose=0,\n",
              "                   warm_start=False)"
            ]
          },
          "metadata": {
            "tags": []
          },
          "execution_count": 31
        }
      ]
    },
    {
      "cell_type": "code",
      "metadata": {
        "colab_type": "code",
        "id": "lv1Uzj2HR-5L",
        "outputId": "c57fc453-262e-4ef3-c276-b5b8679e48e4",
        "colab": {
          "base_uri": "https://localhost:8080/",
          "height": 68
        }
      },
      "source": [
        "%time lr_score_test = lr.score(test_tf, y_test.astype(int))\n",
        "lr_score_test*100"
      ],
      "execution_count": 32,
      "outputs": [
        {
          "output_type": "stream",
          "text": [
            "CPU times: user 16.5 ms, sys: 1.84 ms, total: 18.4 ms\n",
            "Wall time: 19.7 ms\n"
          ],
          "name": "stdout"
        },
        {
          "output_type": "execute_result",
          "data": {
            "text/plain": [
              "98.8480535516995"
            ]
          },
          "metadata": {
            "tags": []
          },
          "execution_count": 32
        }
      ]
    },
    {
      "cell_type": "markdown",
      "metadata": {
        "colab_type": "text",
        "id": "qCTnYpXvW6_T"
      },
      "source": [
        "### Support Vector Machine\n",
        "The high dimensionality means that this takes a ridiculous amount of time to run."
      ]
    },
    {
      "cell_type": "code",
      "metadata": {
        "colab_type": "code",
        "id": "99h61zvwYikw",
        "colab": {}
      },
      "source": [
        "# clf = svm.SVC(kernel='linear', C=1, random_state=42)\n",
        "# %time clf.fit(train_tf, y_train.astype(int))"
      ],
      "execution_count": 0,
      "outputs": []
    },
    {
      "cell_type": "code",
      "metadata": {
        "colab_type": "code",
        "id": "FyT3M3G3Yik1",
        "colab": {}
      },
      "source": [
        "# %time clf_score = clf.score(test_tf, y_test.astype(int))\n",
        "# print(\"SVM accuracy on test:\\t %f\" % clf_score)"
      ],
      "execution_count": 0,
      "outputs": []
    },
    {
      "cell_type": "markdown",
      "metadata": {
        "colab_type": "text",
        "id": "Kl3AFQwAsfoO"
      },
      "source": [
        "### Random Forest\n",
        "The high dimensionality means that this takes a ridiculous amount of time to run."
      ]
    },
    {
      "cell_type": "code",
      "metadata": {
        "colab_type": "code",
        "id": "5GSyFlIUsjfN",
        "outputId": "49fff5ed-4c53-4810-dd74-f8cd5ead0179",
        "colab": {
          "base_uri": "https://localhost:8080/",
          "height": 170
        }
      },
      "source": [
        "rf = RandomForestClassifier(criterion='gini', max_depth=5, \n",
        "                               min_samples_leaf=5, min_samples_split=2, \n",
        "                               n_estimators = 220, oob_score=True, \n",
        "                               max_features=0.5, n_jobs = -1, random_state=42)\n",
        "\n",
        "%time rf.fit(train_tf, y_train.astype(int))"
      ],
      "execution_count": 26,
      "outputs": [
        {
          "output_type": "stream",
          "text": [
            "CPU times: user 5min 19s, sys: 835 ms, total: 5min 20s\n",
            "Wall time: 2min 46s\n"
          ],
          "name": "stdout"
        },
        {
          "output_type": "execute_result",
          "data": {
            "text/plain": [
              "RandomForestClassifier(bootstrap=True, class_weight=None, criterion='gini',\n",
              "                       max_depth=5, max_features=0.5, max_leaf_nodes=None,\n",
              "                       min_impurity_decrease=0.0, min_impurity_split=None,\n",
              "                       min_samples_leaf=5, min_samples_split=2,\n",
              "                       min_weight_fraction_leaf=0.0, n_estimators=220,\n",
              "                       n_jobs=-1, oob_score=True, random_state=42, verbose=0,\n",
              "                       warm_start=False)"
            ]
          },
          "metadata": {
            "tags": []
          },
          "execution_count": 26
        }
      ]
    },
    {
      "cell_type": "code",
      "metadata": {
        "colab_type": "code",
        "id": "YMQ6Qi-7srF1",
        "colab": {
          "base_uri": "https://localhost:8080/",
          "height": 68
        },
        "outputId": "724aa27a-deeb-4aef-f847-3981c0114e21"
      },
      "source": [
        "%time rf_score = rf.score(test_tf, y_test.astype(int))\n",
        "print(\"RF accuracy on test:\\t %f\" % rf_score)"
      ],
      "execution_count": 27,
      "outputs": [
        {
          "output_type": "stream",
          "text": [
            "CPU times: user 2.44 s, sys: 40.1 ms, total: 2.48 s\n",
            "Wall time: 1.33 s\n",
            "RF accuracy on test:\t 0.752665\n"
          ],
          "name": "stdout"
        }
      ]
    },
    {
      "cell_type": "markdown",
      "metadata": {
        "id": "e8ZtHimY-vBB",
        "colab_type": "text"
      },
      "source": [
        "We could use a gridsearch to find optimal paramters for a classifier"
      ]
    },
    {
      "cell_type": "code",
      "metadata": {
        "id": "xGplZk3LkDfR",
        "colab_type": "code",
        "colab": {}
      },
      "source": [
        "# rf_grid = RandomForestClassifier(random_state=42)\n",
        "\n",
        "# param_grid = { \n",
        "#     'n_estimators': [100, 120, 140, 160, 180, 200, 220, 240, 260],\n",
        "#     'min_samples_leaf': [3, 5, 7],\n",
        "#     'min_samples_split': [2, 3, 4, 5, 6],\n",
        "#     'max_depth' : [5, 10, 15, 20, 25, 30, 35, 40, 45],\n",
        "#     'criterion' :['gini', 'entropy']\n",
        "# }\n",
        "\n",
        "\n",
        "# CV_rf = GridSearchCV(estimator=rf_grid, param_grid=param_grid, cv= 5, n_jobs = -1, \n",
        "#                      verbose = 2)\n",
        "# CV_rf.fit(train_tf, y_train.astype(int))\n",
        "# CV_rf.best_params_"
      ],
      "execution_count": 0,
      "outputs": []
    },
    {
      "cell_type": "markdown",
      "metadata": {
        "colab_type": "text",
        "id": "ylDHai-RTmFH"
      },
      "source": [
        "## Scores on CSR Validation Set"
      ]
    },
    {
      "cell_type": "code",
      "metadata": {
        "id": "J1DLXODl_VBA",
        "colab_type": "code",
        "colab": {}
      },
      "source": [
        "# nb_score_val = nb.score(val_tf.todense(), y_val.astype(int))\n",
        "# nb_score_val"
      ],
      "execution_count": 0,
      "outputs": []
    },
    {
      "cell_type": "code",
      "metadata": {
        "colab_type": "code",
        "id": "OUfC603_RZwX",
        "colab": {
          "base_uri": "https://localhost:8080/",
          "height": 0
        },
        "outputId": "60cdc807-800d-4697-ec89-7b42beab56f2"
      },
      "source": [
        "linr_score_val = linr.score(val_tf, y_val.astype(int))\n",
        "linr_score_val"
      ],
      "execution_count": 39,
      "outputs": [
        {
          "output_type": "execute_result",
          "data": {
            "text/plain": [
              "0.92762086921615"
            ]
          },
          "metadata": {
            "tags": []
          },
          "execution_count": 39
        }
      ]
    },
    {
      "cell_type": "code",
      "metadata": {
        "colab_type": "code",
        "id": "zYc69BoATjlt",
        "colab": {
          "base_uri": "https://localhost:8080/",
          "height": 0
        },
        "outputId": "087b9348-00ee-4606-d2ed-60465e0601f8"
      },
      "source": [
        "lr_score_val = lr.score(val_tf, y_val.astype(int))\n",
        "lr_score_val"
      ],
      "execution_count": 40,
      "outputs": [
        {
          "output_type": "execute_result",
          "data": {
            "text/plain": [
              "0.9890654448560473"
            ]
          },
          "metadata": {
            "tags": []
          },
          "execution_count": 40
        }
      ]
    },
    {
      "cell_type": "code",
      "metadata": {
        "colab_type": "code",
        "id": "fRxfvE62XVET",
        "colab": {}
      },
      "source": [
        "# clf_score_val = clf.score(X_val, y_val.astype(int))\n",
        "# clf_score_val"
      ],
      "execution_count": 0,
      "outputs": []
    },
    {
      "cell_type": "code",
      "metadata": {
        "id": "CCJyNWqG_fAY",
        "colab_type": "code",
        "colab": {
          "base_uri": "https://localhost:8080/",
          "height": 0
        },
        "outputId": "86d16fd7-f8ba-4831-e57a-3a6fb49083ab"
      },
      "source": [
        "rf_score_val = rf.score(val_tf, y_val.astype(int))\n",
        "rf_score_val"
      ],
      "execution_count": 28,
      "outputs": [
        {
          "output_type": "execute_result",
          "data": {
            "text/plain": [
              "0.7531845064015078"
            ]
          },
          "metadata": {
            "tags": []
          },
          "execution_count": 28
        }
      ]
    },
    {
      "cell_type": "markdown",
      "metadata": {
        "colab_type": "text",
        "id": "-QcUuQC2ZyuY"
      },
      "source": [
        "## Classify Reduced\n",
        "We will now reduce the dimensionality of the dataset and rety classification."
      ]
    },
    {
      "cell_type": "markdown",
      "metadata": {
        "colab_type": "text",
        "id": "Ki7quJoqelMx"
      },
      "source": [
        "### Reduce Dimensions using SVD"
      ]
    },
    {
      "cell_type": "code",
      "metadata": {
        "colab_type": "code",
        "id": "WpwONijVen3V",
        "colab": {}
      },
      "source": [
        "NUM_DIMEN = 50\n",
        "svd = TruncatedSVD(n_components=NUM_DIMEN)"
      ],
      "execution_count": 0,
      "outputs": []
    },
    {
      "cell_type": "code",
      "metadata": {
        "colab_type": "code",
        "id": "w_BQ2tIWfV62",
        "colab": {
          "base_uri": "https://localhost:8080/",
          "height": 0
        },
        "outputId": "debb6406-f3ea-404d-bede-099e6968d39f"
      },
      "source": [
        "%time train_sv = svd.fit_transform(train_tf)\n",
        "var = svd.explained_variance_.sum() * 100\n",
        "print(\"Training data variance with %d SVD components is %f\" % (NUM_DIMEN, var))"
      ],
      "execution_count": 70,
      "outputs": [
        {
          "output_type": "stream",
          "text": [
            "CPU times: user 8.18 s, sys: 1.83 s, total: 10 s\n",
            "Wall time: 6.61 s\n",
            "Training data variance with 50 SVD components is 1.728273\n"
          ],
          "name": "stdout"
        }
      ]
    },
    {
      "cell_type": "code",
      "metadata": {
        "colab_type": "code",
        "id": "WBY-IR3nVNh6",
        "colab": {
          "base_uri": "https://localhost:8080/",
          "height": 0
        },
        "outputId": "2c0ec414-b187-43d3-8b60-284950904d57"
      },
      "source": [
        "%time test_sv = svd.fit_transform(test_tf)\n",
        "%time val_sv = svd.fit_transform(val_tf)"
      ],
      "execution_count": 71,
      "outputs": [
        {
          "output_type": "stream",
          "text": [
            "CPU times: user 3.37 s, sys: 1.27 s, total: 4.64 s\n",
            "Wall time: 2.59 s\n",
            "CPU times: user 3.38 s, sys: 1.34 s, total: 4.72 s\n",
            "Wall time: 2.61 s\n"
          ],
          "name": "stdout"
        }
      ]
    },
    {
      "cell_type": "code",
      "metadata": {
        "colab_type": "code",
        "id": "ekXBGF3GgRmw",
        "outputId": "cb29a793-103e-46ea-d458-b0fe2315643c",
        "colab": {
          "base_uri": "https://localhost:8080/",
          "height": 0
        }
      },
      "source": [
        "print(\"Shape of train_sv\", train_sv.shape)\n",
        "\n",
        "print(\"Shape of test_sv\", test_sv.shape)\n",
        "\n",
        "print(\"Shape of val_sv\", val_sv.shape)"
      ],
      "execution_count": 72,
      "outputs": [
        {
          "output_type": "stream",
          "text": [
            "Shape of train_sv (238120, 50)\n",
            "Shape of test_sv (79374, 50)\n",
            "Shape of val_sv (79374, 50)\n"
          ],
          "name": "stdout"
        }
      ]
    },
    {
      "cell_type": "markdown",
      "metadata": {
        "colab_type": "text",
        "id": "Yrn7z396hdtw"
      },
      "source": [
        "### Naive Bayes\n",
        "With the reduced dimensionality we can use a Naive Bayes classifier"
      ]
    },
    {
      "cell_type": "code",
      "metadata": {
        "colab_type": "code",
        "id": "VJ_BBtnxhdty",
        "outputId": "2a86ac52-768b-4eb5-fdbc-de4575cd750a",
        "colab": {
          "base_uri": "https://localhost:8080/",
          "height": 68
        }
      },
      "source": [
        "nb_sv = GaussianNB()\n",
        "%time nb_sv.fit(train_sv, y_train.astype(int))"
      ],
      "execution_count": 73,
      "outputs": [
        {
          "output_type": "stream",
          "text": [
            "CPU times: user 231 ms, sys: 4.02 ms, total: 236 ms\n",
            "Wall time: 238 ms\n"
          ],
          "name": "stdout"
        },
        {
          "output_type": "execute_result",
          "data": {
            "text/plain": [
              "GaussianNB(priors=None, var_smoothing=1e-09)"
            ]
          },
          "metadata": {
            "tags": []
          },
          "execution_count": 73
        }
      ]
    },
    {
      "cell_type": "code",
      "metadata": {
        "colab_type": "code",
        "id": "jqcZJylEhdt1",
        "outputId": "7df35749-6277-4508-8aae-550fa0a27584",
        "colab": {
          "base_uri": "https://localhost:8080/",
          "height": 68
        }
      },
      "source": [
        "%time nb_score_test_sv = nb_sv.score(test_sv, y_test.astype(int))\n",
        "nb_score_test_sv*100"
      ],
      "execution_count": 74,
      "outputs": [
        {
          "output_type": "stream",
          "text": [
            "CPU times: user 286 ms, sys: 20 ms, total: 306 ms\n",
            "Wall time: 307 ms\n"
          ],
          "name": "stdout"
        },
        {
          "output_type": "execute_result",
          "data": {
            "text/plain": [
              "18.271726257968606"
            ]
          },
          "metadata": {
            "tags": []
          },
          "execution_count": 74
        }
      ]
    },
    {
      "cell_type": "markdown",
      "metadata": {
        "colab_type": "text",
        "id": "BKs9EyQrhdt2"
      },
      "source": [
        "### Linear Regression"
      ]
    },
    {
      "cell_type": "code",
      "metadata": {
        "colab_type": "code",
        "id": "Lt5o0VB9hdt3",
        "outputId": "8cc6c7a3-f7c0-47fc-c9ed-d3379fb58dda",
        "colab": {
          "base_uri": "https://localhost:8080/",
          "height": 68
        }
      },
      "source": [
        "linr_sv = linear_model.LinearRegression(n_jobs = -1)\n",
        "%time linr_sv.fit(train_sv, y_train.astype(int))"
      ],
      "execution_count": 75,
      "outputs": [
        {
          "output_type": "stream",
          "text": [
            "CPU times: user 1.11 s, sys: 76.2 ms, total: 1.18 s\n",
            "Wall time: 754 ms\n"
          ],
          "name": "stdout"
        },
        {
          "output_type": "execute_result",
          "data": {
            "text/plain": [
              "LinearRegression(copy_X=True, fit_intercept=True, n_jobs=-1, normalize=False)"
            ]
          },
          "metadata": {
            "tags": []
          },
          "execution_count": 75
        }
      ]
    },
    {
      "cell_type": "code",
      "metadata": {
        "colab_type": "code",
        "id": "5ZPTHJmmhdt8",
        "outputId": "9da6f76b-61b5-4195-92fa-aaa8de264c5e",
        "colab": {
          "base_uri": "https://localhost:8080/",
          "height": 68
        }
      },
      "source": [
        "%time linr_score_test_sv = linr_sv.score(test_sv, y_test.astype(int))\n",
        "linr_score_test_sv*100"
      ],
      "execution_count": 76,
      "outputs": [
        {
          "output_type": "stream",
          "text": [
            "CPU times: user 18.1 ms, sys: 3.04 ms, total: 21.2 ms\n",
            "Wall time: 13.2 ms\n"
          ],
          "name": "stdout"
        },
        {
          "output_type": "execute_result",
          "data": {
            "text/plain": [
              "-44.693470645871656"
            ]
          },
          "metadata": {
            "tags": []
          },
          "execution_count": 76
        }
      ]
    },
    {
      "cell_type": "markdown",
      "metadata": {
        "colab_type": "text",
        "id": "edy7q2p7hdt_"
      },
      "source": [
        "### Logistic Regression"
      ]
    },
    {
      "cell_type": "code",
      "metadata": {
        "colab_type": "code",
        "id": "gQsyOQbThduA",
        "outputId": "ef5b8a3d-46a8-4233-f381-5ae383a65543",
        "colab": {
          "base_uri": "https://localhost:8080/",
          "height": 190
        }
      },
      "source": [
        "lr_sv = linear_model.LogisticRegression(C=1.0, penalty='l2', solver = 'newton-cg', n_jobs=-1)\n",
        "%time lr_sv.fit(train_sv, y_train)"
      ],
      "execution_count": 77,
      "outputs": [
        {
          "output_type": "stream",
          "text": [
            "/usr/local/lib/python3.6/dist-packages/sklearn/linear_model/logistic.py:469: FutureWarning: Default multi_class will be changed to 'auto' in 0.22. Specify the multi_class option to silence this warning.\n",
            "  \"this warning.\", FutureWarning)\n"
          ],
          "name": "stderr"
        },
        {
          "output_type": "stream",
          "text": [
            "CPU times: user 101 ms, sys: 165 ms, total: 266 ms\n",
            "Wall time: 1min 35s\n"
          ],
          "name": "stdout"
        },
        {
          "output_type": "execute_result",
          "data": {
            "text/plain": [
              "LogisticRegression(C=1.0, class_weight=None, dual=False, fit_intercept=True,\n",
              "                   intercept_scaling=1, l1_ratio=None, max_iter=100,\n",
              "                   multi_class='warn', n_jobs=-1, penalty='l2',\n",
              "                   random_state=None, solver='newton-cg', tol=0.0001, verbose=0,\n",
              "                   warm_start=False)"
            ]
          },
          "metadata": {
            "tags": []
          },
          "execution_count": 77
        }
      ]
    },
    {
      "cell_type": "code",
      "metadata": {
        "colab_type": "code",
        "id": "t_WrE9-hhduC",
        "outputId": "3901c6c6-793e-4fb5-9180-53f7ea2894fb",
        "colab": {
          "base_uri": "https://localhost:8080/",
          "height": 68
        }
      },
      "source": [
        "%time lr_score_test_sv = lr_sv.score(test_sv, y_test.astype(int))\n",
        "lr_score_test_sv*100"
      ],
      "execution_count": 78,
      "outputs": [
        {
          "output_type": "stream",
          "text": [
            "CPU times: user 42.7 ms, sys: 15 ms, total: 57.7 ms\n",
            "Wall time: 48.6 ms\n"
          ],
          "name": "stdout"
        },
        {
          "output_type": "execute_result",
          "data": {
            "text/plain": [
              "21.60531156298032"
            ]
          },
          "metadata": {
            "tags": []
          },
          "execution_count": 78
        }
      ]
    },
    {
      "cell_type": "markdown",
      "metadata": {
        "colab_type": "text",
        "id": "Y00algZ1hduG"
      },
      "source": [
        "### Support Vector Machine\n",
        "Even at low dimension this takes a lot of time to run."
      ]
    },
    {
      "cell_type": "code",
      "metadata": {
        "colab_type": "code",
        "id": "AT5RBj7-hduH",
        "colab": {}
      },
      "source": [
        "# clf_sv = svm.SVC(kernel='linear', C=1, random_state=42)\n",
        "# %time clf_sv.fit(train_sv, y_train.astype(int))"
      ],
      "execution_count": 0,
      "outputs": []
    },
    {
      "cell_type": "code",
      "metadata": {
        "colab_type": "code",
        "id": "hp2-ZTOnhduI",
        "colab": {}
      },
      "source": [
        "# %time clf_score_sv = clf_sv.score(test_sv, y_test.astype(int))\n",
        "# print(\"SVM accuracy on test:\\t %f\" % clf_score_sv)"
      ],
      "execution_count": 0,
      "outputs": []
    },
    {
      "cell_type": "markdown",
      "metadata": {
        "colab_type": "text",
        "id": "mefGE06xu4Xi"
      },
      "source": [
        "### Random Forest"
      ]
    },
    {
      "cell_type": "code",
      "metadata": {
        "colab_type": "code",
        "id": "T8-aWktfu4Xl",
        "colab": {
          "base_uri": "https://localhost:8080/",
          "height": 170
        },
        "outputId": "4040015a-6f88-48f4-d72d-0e264f92ca33"
      },
      "source": [
        "rf_sv = RandomForestClassifier(criterion='gini', max_depth=5, \n",
        "                               min_samples_leaf=5, min_samples_split=2, \n",
        "                               n_estimators = 220, oob_score=True, \n",
        "                               max_features=0.5, n_jobs = -1, random_state=42)\n",
        "\n",
        "%time rf_sv.fit(train_sv, y_train.astype(int))"
      ],
      "execution_count": 79,
      "outputs": [
        {
          "output_type": "stream",
          "text": [
            "CPU times: user 15min 24s, sys: 959 ms, total: 15min 25s\n",
            "Wall time: 7min 54s\n"
          ],
          "name": "stdout"
        },
        {
          "output_type": "execute_result",
          "data": {
            "text/plain": [
              "RandomForestClassifier(bootstrap=True, class_weight=None, criterion='gini',\n",
              "                       max_depth=5, max_features=0.5, max_leaf_nodes=None,\n",
              "                       min_impurity_decrease=0.0, min_impurity_split=None,\n",
              "                       min_samples_leaf=5, min_samples_split=2,\n",
              "                       min_weight_fraction_leaf=0.0, n_estimators=220,\n",
              "                       n_jobs=-1, oob_score=True, random_state=42, verbose=0,\n",
              "                       warm_start=False)"
            ]
          },
          "metadata": {
            "tags": []
          },
          "execution_count": 79
        }
      ]
    },
    {
      "cell_type": "code",
      "metadata": {
        "colab_type": "code",
        "id": "Wsg8-Wn8u4Xm",
        "colab": {
          "base_uri": "https://localhost:8080/",
          "height": 68
        },
        "outputId": "6c47acc7-3d48-4a40-a923-053ecc4e500e"
      },
      "source": [
        "%time rf_score_sv = rf_sv.score(test_sv, y_test.astype(int))\n",
        "print(\"RF accuracy on test:\\t %f\" % rf_score_sv)"
      ],
      "execution_count": 80,
      "outputs": [
        {
          "output_type": "stream",
          "text": [
            "CPU times: user 2.08 s, sys: 59.2 ms, total: 2.13 s\n",
            "Wall time: 1.23 s\n",
            "RF accuracy on test:\t 0.210850\n"
          ],
          "name": "stdout"
        }
      ]
    },
    {
      "cell_type": "markdown",
      "metadata": {
        "id": "oACvODyLtHqC",
        "colab_type": "text"
      },
      "source": [
        "# Which Programming Language?"
      ]
    },
    {
      "cell_type": "markdown",
      "metadata": {
        "id": "89hNzEOo5cuH",
        "colab_type": "text"
      },
      "source": [
        "### Clean the Text and Assign Labels"
      ]
    },
    {
      "cell_type": "markdown",
      "metadata": {
        "id": "y-I_60pntuM1",
        "colab_type": "text"
      },
      "source": [
        "First we load in the StackOverflow dataset and drop the unused post_id column"
      ]
    },
    {
      "cell_type": "code",
      "metadata": {
        "id": "Gu-nz5e-tMyk",
        "colab_type": "code",
        "colab": {
          "base_uri": "https://localhost:8080/",
          "height": 0
        },
        "outputId": "abc020fd-c6c9-46ec-f5f2-e6ebdbfcf146"
      },
      "source": [
        "tagged.head()"
      ],
      "execution_count": 29,
      "outputs": [
        {
          "output_type": "execute_result",
          "data": {
            "text/html": [
              "<div>\n",
              "<style scoped>\n",
              "    .dataframe tbody tr th:only-of-type {\n",
              "        vertical-align: middle;\n",
              "    }\n",
              "\n",
              "    .dataframe tbody tr th {\n",
              "        vertical-align: top;\n",
              "    }\n",
              "\n",
              "    .dataframe thead th {\n",
              "        text-align: right;\n",
              "    }\n",
              "</style>\n",
              "<table border=\"1\" class=\"dataframe\">\n",
              "  <thead>\n",
              "    <tr style=\"text-align: right;\">\n",
              "      <th></th>\n",
              "      <th>post_id</th>\n",
              "      <th>title</th>\n",
              "      <th>tag</th>\n",
              "    </tr>\n",
              "  </thead>\n",
              "  <tbody>\n",
              "    <tr>\n",
              "      <th>0</th>\n",
              "      <td>9</td>\n",
              "      <td>Calculate age in C#</td>\n",
              "      <td>c#</td>\n",
              "    </tr>\n",
              "    <tr>\n",
              "      <th>1</th>\n",
              "      <td>16</td>\n",
              "      <td>Filling a DataSet or DataTable from a LINQ que...</td>\n",
              "      <td>c#</td>\n",
              "    </tr>\n",
              "    <tr>\n",
              "      <th>2</th>\n",
              "      <td>39</td>\n",
              "      <td>Reliable timer in a console application</td>\n",
              "      <td>c#</td>\n",
              "    </tr>\n",
              "    <tr>\n",
              "      <th>3</th>\n",
              "      <td>42</td>\n",
              "      <td>Best way to allow plugins for a PHP application</td>\n",
              "      <td>php</td>\n",
              "    </tr>\n",
              "    <tr>\n",
              "      <th>4</th>\n",
              "      <td>59</td>\n",
              "      <td>How do I get a distinct, ordered list of names...</td>\n",
              "      <td>c#</td>\n",
              "    </tr>\n",
              "  </tbody>\n",
              "</table>\n",
              "</div>"
            ],
            "text/plain": [
              "   post_id                                              title  tag\n",
              "0        9                                Calculate age in C#   c#\n",
              "1       16  Filling a DataSet or DataTable from a LINQ que...   c#\n",
              "2       39            Reliable timer in a console application   c#\n",
              "3       42    Best way to allow plugins for a PHP application  php\n",
              "4       59  How do I get a distinct, ordered list of names...   c#"
            ]
          },
          "metadata": {
            "tags": []
          },
          "execution_count": 29
        }
      ]
    },
    {
      "cell_type": "code",
      "metadata": {
        "id": "Q3s2FiVGtU2H",
        "colab_type": "code",
        "colab": {
          "base_uri": "https://localhost:8080/",
          "height": 0
        },
        "outputId": "b2b06610-5a24-48c5-b7fd-6c37bec1780b"
      },
      "source": [
        "stackover = tagged.drop(columns=['post_id'])\n",
        "stackover.head()"
      ],
      "execution_count": 30,
      "outputs": [
        {
          "output_type": "execute_result",
          "data": {
            "text/html": [
              "<div>\n",
              "<style scoped>\n",
              "    .dataframe tbody tr th:only-of-type {\n",
              "        vertical-align: middle;\n",
              "    }\n",
              "\n",
              "    .dataframe tbody tr th {\n",
              "        vertical-align: top;\n",
              "    }\n",
              "\n",
              "    .dataframe thead th {\n",
              "        text-align: right;\n",
              "    }\n",
              "</style>\n",
              "<table border=\"1\" class=\"dataframe\">\n",
              "  <thead>\n",
              "    <tr style=\"text-align: right;\">\n",
              "      <th></th>\n",
              "      <th>title</th>\n",
              "      <th>tag</th>\n",
              "    </tr>\n",
              "  </thead>\n",
              "  <tbody>\n",
              "    <tr>\n",
              "      <th>0</th>\n",
              "      <td>Calculate age in C#</td>\n",
              "      <td>c#</td>\n",
              "    </tr>\n",
              "    <tr>\n",
              "      <th>1</th>\n",
              "      <td>Filling a DataSet or DataTable from a LINQ que...</td>\n",
              "      <td>c#</td>\n",
              "    </tr>\n",
              "    <tr>\n",
              "      <th>2</th>\n",
              "      <td>Reliable timer in a console application</td>\n",
              "      <td>c#</td>\n",
              "    </tr>\n",
              "    <tr>\n",
              "      <th>3</th>\n",
              "      <td>Best way to allow plugins for a PHP application</td>\n",
              "      <td>php</td>\n",
              "    </tr>\n",
              "    <tr>\n",
              "      <th>4</th>\n",
              "      <td>How do I get a distinct, ordered list of names...</td>\n",
              "      <td>c#</td>\n",
              "    </tr>\n",
              "  </tbody>\n",
              "</table>\n",
              "</div>"
            ],
            "text/plain": [
              "                                               title  tag\n",
              "0                                Calculate age in C#   c#\n",
              "1  Filling a DataSet or DataTable from a LINQ que...   c#\n",
              "2            Reliable timer in a console application   c#\n",
              "3    Best way to allow plugins for a PHP application  php\n",
              "4  How do I get a distinct, ordered list of names...   c#"
            ]
          },
          "metadata": {
            "tags": []
          },
          "execution_count": 30
        }
      ]
    },
    {
      "cell_type": "code",
      "metadata": {
        "id": "oBkYGl4EuQgs",
        "colab_type": "code",
        "colab": {
          "base_uri": "https://localhost:8080/",
          "height": 0
        },
        "outputId": "b16d5616-aeea-48f5-d838-1ef9d24877df"
      },
      "source": [
        "relevant_stack = [text_prepare(x) for x in stackover['title']]\n",
        "clean_titles = pd.DataFrame({'clean_data': relevant_stack})\n",
        "clean_titles.head()"
      ],
      "execution_count": 31,
      "outputs": [
        {
          "output_type": "execute_result",
          "data": {
            "text/html": [
              "<div>\n",
              "<style scoped>\n",
              "    .dataframe tbody tr th:only-of-type {\n",
              "        vertical-align: middle;\n",
              "    }\n",
              "\n",
              "    .dataframe tbody tr th {\n",
              "        vertical-align: top;\n",
              "    }\n",
              "\n",
              "    .dataframe thead th {\n",
              "        text-align: right;\n",
              "    }\n",
              "</style>\n",
              "<table border=\"1\" class=\"dataframe\">\n",
              "  <thead>\n",
              "    <tr style=\"text-align: right;\">\n",
              "      <th></th>\n",
              "      <th>clean_data</th>\n",
              "    </tr>\n",
              "  </thead>\n",
              "  <tbody>\n",
              "    <tr>\n",
              "      <th>0</th>\n",
              "      <td>calculate age c#</td>\n",
              "    </tr>\n",
              "    <tr>\n",
              "      <th>1</th>\n",
              "      <td>filling dataset datatable linq query result set</td>\n",
              "    </tr>\n",
              "    <tr>\n",
              "      <th>2</th>\n",
              "      <td>reliable timer console application</td>\n",
              "    </tr>\n",
              "    <tr>\n",
              "      <th>3</th>\n",
              "      <td>best way allow plugins php application</td>\n",
              "    </tr>\n",
              "    <tr>\n",
              "      <th>4</th>\n",
              "      <td>get distinct ordered list names datatable usin...</td>\n",
              "    </tr>\n",
              "  </tbody>\n",
              "</table>\n",
              "</div>"
            ],
            "text/plain": [
              "                                          clean_data\n",
              "0                                   calculate age c#\n",
              "1    filling dataset datatable linq query result set\n",
              "2                 reliable timer console application\n",
              "3             best way allow plugins php application\n",
              "4  get distinct ordered list names datatable usin..."
            ]
          },
          "metadata": {
            "tags": []
          },
          "execution_count": 31
        }
      ]
    },
    {
      "cell_type": "code",
      "metadata": {
        "id": "ycV9EZd5u2vT",
        "colab_type": "code",
        "colab": {
          "base_uri": "https://localhost:8080/",
          "height": 262
        },
        "outputId": "5407cc88-8b67-4a6c-b963-b3fda3f57aee"
      },
      "source": [
        "clean_stack = pd.concat([clean_titles, stackover], axis = 1, ignore_index=True)\n",
        "clean_stack = shuffle(clean_stack)\n",
        "clean_stack.head()"
      ],
      "execution_count": 32,
      "outputs": [
        {
          "output_type": "execute_result",
          "data": {
            "text/html": [
              "<div>\n",
              "<style scoped>\n",
              "    .dataframe tbody tr th:only-of-type {\n",
              "        vertical-align: middle;\n",
              "    }\n",
              "\n",
              "    .dataframe tbody tr th {\n",
              "        vertical-align: top;\n",
              "    }\n",
              "\n",
              "    .dataframe thead th {\n",
              "        text-align: right;\n",
              "    }\n",
              "</style>\n",
              "<table border=\"1\" class=\"dataframe\">\n",
              "  <thead>\n",
              "    <tr style=\"text-align: right;\">\n",
              "      <th></th>\n",
              "      <th>0</th>\n",
              "      <th>1</th>\n",
              "      <th>2</th>\n",
              "    </tr>\n",
              "  </thead>\n",
              "  <tbody>\n",
              "    <tr>\n",
              "      <th>360370</th>\n",
              "      <td>systemruntimecache expiring</td>\n",
              "      <td>System.Runtime.Cache not expiring?</td>\n",
              "      <td>c#</td>\n",
              "    </tr>\n",
              "    <tr>\n",
              "      <th>169070</th>\n",
              "      <td>php convert server timestamp users timezone</td>\n",
              "      <td>PHP: How do I convert a server timestamp to th...</td>\n",
              "      <td>php</td>\n",
              "    </tr>\n",
              "    <tr>\n",
              "      <th>347961</th>\n",
              "      <td>stripping slashes mysql_real_escape_string out...</td>\n",
              "      <td>Stripping slashes from mysql_real_escape_strin...</td>\n",
              "      <td>php</td>\n",
              "    </tr>\n",
              "    <tr>\n",
              "      <th>329705</th>\n",
              "      <td>appending contents two richtextbox single rich...</td>\n",
              "      <td>Appending Contents of two RichTextbox as a sin...</td>\n",
              "      <td>c#</td>\n",
              "    </tr>\n",
              "    <tr>\n",
              "      <th>100740</th>\n",
              "      <td>converting linq memberexpression lambda work c...</td>\n",
              "      <td>Converting Linq MemberExpression lambda to wor...</td>\n",
              "      <td>c#</td>\n",
              "    </tr>\n",
              "  </tbody>\n",
              "</table>\n",
              "</div>"
            ],
            "text/plain": [
              "                                                        0  ...    2\n",
              "360370                        systemruntimecache expiring  ...   c#\n",
              "169070        php convert server timestamp users timezone  ...  php\n",
              "347961  stripping slashes mysql_real_escape_string out...  ...  php\n",
              "329705  appending contents two richtextbox single rich...  ...   c#\n",
              "100740  converting linq memberexpression lambda work c...  ...   c#\n",
              "\n",
              "[5 rows x 3 columns]"
            ]
          },
          "metadata": {
            "tags": []
          },
          "execution_count": 32
        }
      ]
    },
    {
      "cell_type": "code",
      "metadata": {
        "id": "3KYCv2NzvNNo",
        "colab_type": "code",
        "colab": {
          "base_uri": "https://localhost:8080/",
          "height": 514
        },
        "outputId": "6f7355b2-47c8-409b-fb8b-d3cf1b0695b8"
      },
      "source": [
        "clean_stack = clean_stack.drop(columns=[1])\n",
        "clean_stack.head(15)"
      ],
      "execution_count": 33,
      "outputs": [
        {
          "output_type": "execute_result",
          "data": {
            "text/html": [
              "<div>\n",
              "<style scoped>\n",
              "    .dataframe tbody tr th:only-of-type {\n",
              "        vertical-align: middle;\n",
              "    }\n",
              "\n",
              "    .dataframe tbody tr th {\n",
              "        vertical-align: top;\n",
              "    }\n",
              "\n",
              "    .dataframe thead th {\n",
              "        text-align: right;\n",
              "    }\n",
              "</style>\n",
              "<table border=\"1\" class=\"dataframe\">\n",
              "  <thead>\n",
              "    <tr style=\"text-align: right;\">\n",
              "      <th></th>\n",
              "      <th>0</th>\n",
              "      <th>2</th>\n",
              "    </tr>\n",
              "  </thead>\n",
              "  <tbody>\n",
              "    <tr>\n",
              "      <th>360370</th>\n",
              "      <td>systemruntimecache expiring</td>\n",
              "      <td>c#</td>\n",
              "    </tr>\n",
              "    <tr>\n",
              "      <th>169070</th>\n",
              "      <td>php convert server timestamp users timezone</td>\n",
              "      <td>php</td>\n",
              "    </tr>\n",
              "    <tr>\n",
              "      <th>347961</th>\n",
              "      <td>stripping slashes mysql_real_escape_string out...</td>\n",
              "      <td>php</td>\n",
              "    </tr>\n",
              "    <tr>\n",
              "      <th>329705</th>\n",
              "      <td>appending contents two richtextbox single rich...</td>\n",
              "      <td>c#</td>\n",
              "    </tr>\n",
              "    <tr>\n",
              "      <th>100740</th>\n",
              "      <td>converting linq memberexpression lambda work c...</td>\n",
              "      <td>c#</td>\n",
              "    </tr>\n",
              "    <tr>\n",
              "      <th>343256</th>\n",
              "      <td>android sdk running functions background</td>\n",
              "      <td>java</td>\n",
              "    </tr>\n",
              "    <tr>\n",
              "      <th>98188</th>\n",
              "      <td>problem function vbnet</td>\n",
              "      <td>vb</td>\n",
              "    </tr>\n",
              "    <tr>\n",
              "      <th>40870</th>\n",
              "      <td>windows nonblocking stdin redirected pipe</td>\n",
              "      <td>c_cpp</td>\n",
              "    </tr>\n",
              "    <tr>\n",
              "      <th>22890</th>\n",
              "      <td>listing odbc data sources c#</td>\n",
              "      <td>c#</td>\n",
              "    </tr>\n",
              "    <tr>\n",
              "      <th>308914</th>\n",
              "      <td>iphone app windows android mobile</td>\n",
              "      <td>c_cpp</td>\n",
              "    </tr>\n",
              "    <tr>\n",
              "      <th>35307</th>\n",
              "      <td>check suspendlayout</td>\n",
              "      <td>c#</td>\n",
              "    </tr>\n",
              "    <tr>\n",
              "      <th>58607</th>\n",
              "      <td>language translation php</td>\n",
              "      <td>php</td>\n",
              "    </tr>\n",
              "    <tr>\n",
              "      <th>365677</th>\n",
              "      <td>disable submit button checkbox uncheck</td>\n",
              "      <td>javascript</td>\n",
              "    </tr>\n",
              "    <tr>\n",
              "      <th>314372</th>\n",
              "      <td>setting hidden form fields value false yet get...</td>\n",
              "      <td>javascript</td>\n",
              "    </tr>\n",
              "    <tr>\n",
              "      <th>197608</th>\n",
              "      <td>declaring db connection static void connection...</td>\n",
              "      <td>c#</td>\n",
              "    </tr>\n",
              "  </tbody>\n",
              "</table>\n",
              "</div>"
            ],
            "text/plain": [
              "                                                        0           2\n",
              "360370                        systemruntimecache expiring          c#\n",
              "169070        php convert server timestamp users timezone         php\n",
              "347961  stripping slashes mysql_real_escape_string out...         php\n",
              "329705  appending contents two richtextbox single rich...          c#\n",
              "100740  converting linq memberexpression lambda work c...          c#\n",
              "343256           android sdk running functions background        java\n",
              "98188                              problem function vbnet          vb\n",
              "40870           windows nonblocking stdin redirected pipe       c_cpp\n",
              "22890                        listing odbc data sources c#          c#\n",
              "308914                  iphone app windows android mobile       c_cpp\n",
              "35307                                 check suspendlayout          c#\n",
              "58607                            language translation php         php\n",
              "365677             disable submit button checkbox uncheck  javascript\n",
              "314372  setting hidden form fields value false yet get...  javascript\n",
              "197608  declaring db connection static void connection...          c#"
            ]
          },
          "metadata": {
            "tags": []
          },
          "execution_count": 33
        }
      ]
    },
    {
      "cell_type": "markdown",
      "metadata": {
        "id": "vz5F34a_1471",
        "colab_type": "text"
      },
      "source": [
        "Check how many unique labels we have"
      ]
    },
    {
      "cell_type": "code",
      "metadata": {
        "id": "LB9M91eN1-0I",
        "colab_type": "code",
        "colab": {
          "base_uri": "https://localhost:8080/",
          "height": 390
        },
        "outputId": "c8ea9845-56db-4e4e-88bd-1cea1e3090c8"
      },
      "source": [
        "unique_languages = clean_stack.groupby(2).nunique()\n",
        "unique_languages.head(15)"
      ],
      "execution_count": 34,
      "outputs": [
        {
          "output_type": "execute_result",
          "data": {
            "text/html": [
              "<div>\n",
              "<style scoped>\n",
              "    .dataframe tbody tr th:only-of-type {\n",
              "        vertical-align: middle;\n",
              "    }\n",
              "\n",
              "    .dataframe tbody tr th {\n",
              "        vertical-align: top;\n",
              "    }\n",
              "\n",
              "    .dataframe thead th {\n",
              "        text-align: right;\n",
              "    }\n",
              "</style>\n",
              "<table border=\"1\" class=\"dataframe\">\n",
              "  <thead>\n",
              "    <tr style=\"text-align: right;\">\n",
              "      <th></th>\n",
              "      <th>0</th>\n",
              "      <th>2</th>\n",
              "    </tr>\n",
              "    <tr>\n",
              "      <th>2</th>\n",
              "      <th></th>\n",
              "      <th></th>\n",
              "    </tr>\n",
              "  </thead>\n",
              "  <tbody>\n",
              "    <tr>\n",
              "      <th>c#</th>\n",
              "      <td>93828</td>\n",
              "      <td>1</td>\n",
              "    </tr>\n",
              "    <tr>\n",
              "      <th>c_cpp</th>\n",
              "      <td>63917</td>\n",
              "      <td>1</td>\n",
              "    </tr>\n",
              "    <tr>\n",
              "      <th>java</th>\n",
              "      <td>63150</td>\n",
              "      <td>1</td>\n",
              "    </tr>\n",
              "    <tr>\n",
              "      <th>javascript</th>\n",
              "      <td>49697</td>\n",
              "      <td>1</td>\n",
              "    </tr>\n",
              "    <tr>\n",
              "      <th>php</th>\n",
              "      <td>56747</td>\n",
              "      <td>1</td>\n",
              "    </tr>\n",
              "    <tr>\n",
              "      <th>python</th>\n",
              "      <td>33263</td>\n",
              "      <td>1</td>\n",
              "    </tr>\n",
              "    <tr>\n",
              "      <th>r</th>\n",
              "      <td>2390</td>\n",
              "      <td>1</td>\n",
              "    </tr>\n",
              "    <tr>\n",
              "      <th>ruby</th>\n",
              "      <td>23572</td>\n",
              "      <td>1</td>\n",
              "    </tr>\n",
              "    <tr>\n",
              "      <th>swift</th>\n",
              "      <td>3</td>\n",
              "      <td>1</td>\n",
              "    </tr>\n",
              "    <tr>\n",
              "      <th>vb</th>\n",
              "      <td>8402</td>\n",
              "      <td>1</td>\n",
              "    </tr>\n",
              "  </tbody>\n",
              "</table>\n",
              "</div>"
            ],
            "text/plain": [
              "                0  2\n",
              "2                   \n",
              "c#          93828  1\n",
              "c_cpp       63917  1\n",
              "java        63150  1\n",
              "javascript  49697  1\n",
              "php         56747  1\n",
              "python      33263  1\n",
              "r            2390  1\n",
              "ruby        23572  1\n",
              "swift           3  1\n",
              "vb           8402  1"
            ]
          },
          "metadata": {
            "tags": []
          },
          "execution_count": 34
        }
      ]
    },
    {
      "cell_type": "markdown",
      "metadata": {
        "id": "n7E-1FW55CmH",
        "colab_type": "text"
      },
      "source": [
        "Now we convert these categorical labels into numericals ones"
      ]
    },
    {
      "cell_type": "code",
      "metadata": {
        "id": "OKL7XZ5J3Xxz",
        "colab_type": "code",
        "colab": {
          "base_uri": "https://localhost:8080/",
          "height": 359
        },
        "outputId": "22c7e647-1d42-4d17-e0fe-ff3dc718ca50"
      },
      "source": [
        "clean_stack[2] = clean_stack[2].astype('category')\n",
        "clean_stack[\"label\"] = clean_stack[2].cat.codes\n",
        "clean_stack.head(10)"
      ],
      "execution_count": 35,
      "outputs": [
        {
          "output_type": "execute_result",
          "data": {
            "text/html": [
              "<div>\n",
              "<style scoped>\n",
              "    .dataframe tbody tr th:only-of-type {\n",
              "        vertical-align: middle;\n",
              "    }\n",
              "\n",
              "    .dataframe tbody tr th {\n",
              "        vertical-align: top;\n",
              "    }\n",
              "\n",
              "    .dataframe thead th {\n",
              "        text-align: right;\n",
              "    }\n",
              "</style>\n",
              "<table border=\"1\" class=\"dataframe\">\n",
              "  <thead>\n",
              "    <tr style=\"text-align: right;\">\n",
              "      <th></th>\n",
              "      <th>0</th>\n",
              "      <th>2</th>\n",
              "      <th>label</th>\n",
              "    </tr>\n",
              "  </thead>\n",
              "  <tbody>\n",
              "    <tr>\n",
              "      <th>360370</th>\n",
              "      <td>systemruntimecache expiring</td>\n",
              "      <td>c#</td>\n",
              "      <td>0</td>\n",
              "    </tr>\n",
              "    <tr>\n",
              "      <th>169070</th>\n",
              "      <td>php convert server timestamp users timezone</td>\n",
              "      <td>php</td>\n",
              "      <td>4</td>\n",
              "    </tr>\n",
              "    <tr>\n",
              "      <th>347961</th>\n",
              "      <td>stripping slashes mysql_real_escape_string out...</td>\n",
              "      <td>php</td>\n",
              "      <td>4</td>\n",
              "    </tr>\n",
              "    <tr>\n",
              "      <th>329705</th>\n",
              "      <td>appending contents two richtextbox single rich...</td>\n",
              "      <td>c#</td>\n",
              "      <td>0</td>\n",
              "    </tr>\n",
              "    <tr>\n",
              "      <th>100740</th>\n",
              "      <td>converting linq memberexpression lambda work c...</td>\n",
              "      <td>c#</td>\n",
              "      <td>0</td>\n",
              "    </tr>\n",
              "    <tr>\n",
              "      <th>343256</th>\n",
              "      <td>android sdk running functions background</td>\n",
              "      <td>java</td>\n",
              "      <td>2</td>\n",
              "    </tr>\n",
              "    <tr>\n",
              "      <th>98188</th>\n",
              "      <td>problem function vbnet</td>\n",
              "      <td>vb</td>\n",
              "      <td>9</td>\n",
              "    </tr>\n",
              "    <tr>\n",
              "      <th>40870</th>\n",
              "      <td>windows nonblocking stdin redirected pipe</td>\n",
              "      <td>c_cpp</td>\n",
              "      <td>1</td>\n",
              "    </tr>\n",
              "    <tr>\n",
              "      <th>22890</th>\n",
              "      <td>listing odbc data sources c#</td>\n",
              "      <td>c#</td>\n",
              "      <td>0</td>\n",
              "    </tr>\n",
              "    <tr>\n",
              "      <th>308914</th>\n",
              "      <td>iphone app windows android mobile</td>\n",
              "      <td>c_cpp</td>\n",
              "      <td>1</td>\n",
              "    </tr>\n",
              "  </tbody>\n",
              "</table>\n",
              "</div>"
            ],
            "text/plain": [
              "                                                        0      2  label\n",
              "360370                        systemruntimecache expiring     c#      0\n",
              "169070        php convert server timestamp users timezone    php      4\n",
              "347961  stripping slashes mysql_real_escape_string out...    php      4\n",
              "329705  appending contents two richtextbox single rich...     c#      0\n",
              "100740  converting linq memberexpression lambda work c...     c#      0\n",
              "343256           android sdk running functions background   java      2\n",
              "98188                              problem function vbnet     vb      9\n",
              "40870           windows nonblocking stdin redirected pipe  c_cpp      1\n",
              "22890                        listing odbc data sources c#     c#      0\n",
              "308914                  iphone app windows android mobile  c_cpp      1"
            ]
          },
          "metadata": {
            "tags": []
          },
          "execution_count": 35
        }
      ]
    },
    {
      "cell_type": "code",
      "metadata": {
        "id": "2Nd_aIGF4qGv",
        "colab_type": "code",
        "colab": {
          "base_uri": "https://localhost:8080/",
          "height": 204
        },
        "outputId": "360ae3fc-c89f-45f4-d159-5ec71199a71c"
      },
      "source": [
        "clean_stack = clean_stack.drop(columns=[2])\n",
        "clean_stack.head()"
      ],
      "execution_count": 36,
      "outputs": [
        {
          "output_type": "execute_result",
          "data": {
            "text/html": [
              "<div>\n",
              "<style scoped>\n",
              "    .dataframe tbody tr th:only-of-type {\n",
              "        vertical-align: middle;\n",
              "    }\n",
              "\n",
              "    .dataframe tbody tr th {\n",
              "        vertical-align: top;\n",
              "    }\n",
              "\n",
              "    .dataframe thead th {\n",
              "        text-align: right;\n",
              "    }\n",
              "</style>\n",
              "<table border=\"1\" class=\"dataframe\">\n",
              "  <thead>\n",
              "    <tr style=\"text-align: right;\">\n",
              "      <th></th>\n",
              "      <th>0</th>\n",
              "      <th>label</th>\n",
              "    </tr>\n",
              "  </thead>\n",
              "  <tbody>\n",
              "    <tr>\n",
              "      <th>360370</th>\n",
              "      <td>systemruntimecache expiring</td>\n",
              "      <td>0</td>\n",
              "    </tr>\n",
              "    <tr>\n",
              "      <th>169070</th>\n",
              "      <td>php convert server timestamp users timezone</td>\n",
              "      <td>4</td>\n",
              "    </tr>\n",
              "    <tr>\n",
              "      <th>347961</th>\n",
              "      <td>stripping slashes mysql_real_escape_string out...</td>\n",
              "      <td>4</td>\n",
              "    </tr>\n",
              "    <tr>\n",
              "      <th>329705</th>\n",
              "      <td>appending contents two richtextbox single rich...</td>\n",
              "      <td>0</td>\n",
              "    </tr>\n",
              "    <tr>\n",
              "      <th>100740</th>\n",
              "      <td>converting linq memberexpression lambda work c...</td>\n",
              "      <td>0</td>\n",
              "    </tr>\n",
              "  </tbody>\n",
              "</table>\n",
              "</div>"
            ],
            "text/plain": [
              "                                                        0  label\n",
              "360370                        systemruntimecache expiring      0\n",
              "169070        php convert server timestamp users timezone      4\n",
              "347961  stripping slashes mysql_real_escape_string out...      4\n",
              "329705  appending contents two richtextbox single rich...      0\n",
              "100740  converting linq memberexpression lambda work c...      0"
            ]
          },
          "metadata": {
            "tags": []
          },
          "execution_count": 36
        }
      ]
    },
    {
      "cell_type": "markdown",
      "metadata": {
        "id": "r_JJGbzG5lYk",
        "colab_type": "text"
      },
      "source": [
        "### Train Test Validation Split"
      ]
    },
    {
      "cell_type": "code",
      "metadata": {
        "id": "ek6racPs5SHU",
        "colab_type": "code",
        "colab": {
          "base_uri": "https://localhost:8080/",
          "height": 0
        },
        "outputId": "1e63893c-fe4c-4e0e-854c-ed740d8df281"
      },
      "source": [
        "stack_data = clean_stack[0]\n",
        "stack_data.head()"
      ],
      "execution_count": 37,
      "outputs": [
        {
          "output_type": "execute_result",
          "data": {
            "text/plain": [
              "360370                          systemruntimecache expiring\n",
              "169070          php convert server timestamp users timezone\n",
              "347961    stripping slashes mysql_real_escape_string out...\n",
              "329705    appending contents two richtextbox single rich...\n",
              "100740    converting linq memberexpression lambda work c...\n",
              "Name: 0, dtype: object"
            ]
          },
          "metadata": {
            "tags": []
          },
          "execution_count": 37
        }
      ]
    },
    {
      "cell_type": "code",
      "metadata": {
        "id": "opw0rlUN6Y-w",
        "colab_type": "code",
        "colab": {
          "base_uri": "https://localhost:8080/",
          "height": 0
        },
        "outputId": "935b6a10-8b16-4491-ab03-a70fe05f03d6"
      },
      "source": [
        "stack_labels = clean_stack['label']\n",
        "stack_labels.head()"
      ],
      "execution_count": 38,
      "outputs": [
        {
          "output_type": "execute_result",
          "data": {
            "text/plain": [
              "360370    0\n",
              "169070    4\n",
              "347961    4\n",
              "329705    0\n",
              "100740    0\n",
              "Name: label, dtype: int8"
            ]
          },
          "metadata": {
            "tags": []
          },
          "execution_count": 38
        }
      ]
    },
    {
      "cell_type": "markdown",
      "metadata": {
        "colab_type": "text",
        "id": "ue9qPuEa7MBd"
      },
      "source": [
        "First we split off the validation set as 20% of the overall data set."
      ]
    },
    {
      "cell_type": "code",
      "metadata": {
        "colab_type": "code",
        "id": "ew3vqTZI7MBe",
        "colab": {}
      },
      "source": [
        "df_data, X_val, df_labels, y_val = train_test_split(\n",
        "    stack_data, stack_labels, test_size=0.2, random_state=42, shuffle=False)"
      ],
      "execution_count": 0,
      "outputs": []
    },
    {
      "cell_type": "markdown",
      "metadata": {
        "colab_type": "text",
        "id": "VvFsVRS57MBf"
      },
      "source": [
        "Then we split the remaining into training and test data."
      ]
    },
    {
      "cell_type": "code",
      "metadata": {
        "colab_type": "code",
        "id": "XDOd88Wr7MBg",
        "colab": {}
      },
      "source": [
        "X_train, X_test, y_train, y_test = train_test_split(df_data, df_labels, test_size=0.25,\n",
        "                                                        random_state=42,\n",
        "                                                        shuffle=False)"
      ],
      "execution_count": 0,
      "outputs": []
    },
    {
      "cell_type": "markdown",
      "metadata": {
        "colab_type": "text",
        "id": "fc3Xn1gd7MBh"
      },
      "source": [
        "The end result is 60% training data, 20% test data and 20% validation data"
      ]
    },
    {
      "cell_type": "code",
      "metadata": {
        "colab_type": "code",
        "id": "gkKOywN_7MBh",
        "colab": {
          "base_uri": "https://localhost:8080/",
          "height": 119
        },
        "outputId": "e925f8e0-b944-4044-c51c-5fafe3c9f71f"
      },
      "source": [
        "print(\"Shape of X_train\", X_train.shape)\n",
        "print(\"Shape of y_train\", X_train.shape)\n",
        "print(\"Shape of X_test\", X_test.shape)\n",
        "print(\"Shape of y_test\", y_test.shape)\n",
        "print(\"Shape of X_val\", X_val.shape)\n",
        "print(\"Shape of y_val\", y_val.shape)"
      ],
      "execution_count": 41,
      "outputs": [
        {
          "output_type": "stream",
          "text": [
            "Shape of X_train (238120,)\n",
            "Shape of y_train (238120,)\n",
            "Shape of X_test (79374,)\n",
            "Shape of y_test (79374,)\n",
            "Shape of X_val (79374,)\n",
            "Shape of y_val (79374,)\n"
          ],
          "name": "stdout"
        }
      ]
    },
    {
      "cell_type": "markdown",
      "metadata": {
        "colab_type": "text",
        "id": "A8qQP1fG7iTc"
      },
      "source": [
        "### Apply TF-IDF Weighting"
      ]
    },
    {
      "cell_type": "markdown",
      "metadata": {
        "colab_type": "text",
        "id": "hnHWnL3_7iTd"
      },
      "source": [
        "We first need to learn the words for the dictionary from our training data."
      ]
    },
    {
      "cell_type": "code",
      "metadata": {
        "colab_type": "code",
        "id": "RJevpUmq7iTd",
        "colab": {
          "base_uri": "https://localhost:8080/",
          "height": 0
        },
        "outputId": "a3dc6d6d-33b2-492c-ef4d-585f1592a2ba"
      },
      "source": [
        "vectorizer = TfidfVectorizer(norm=u'l1', token_pattern='(\\S+)', min_df=5, max_df=0.9, ngram_range=(1,2))\n",
        "\n",
        "%time vectorizer.fit_transform(X_train)\n",
        "# print(vectorizer.get_feature_names(10))"
      ],
      "execution_count": 42,
      "outputs": [
        {
          "output_type": "stream",
          "text": [
            "CPU times: user 5.19 s, sys: 40 ms, total: 5.23 s\n",
            "Wall time: 5.24 s\n"
          ],
          "name": "stdout"
        },
        {
          "output_type": "execute_result",
          "data": {
            "text/plain": [
              "<238120x39389 sparse matrix of type '<class 'numpy.float64'>'\n",
              "\twith 1642493 stored elements in Compressed Sparse Row format>"
            ]
          },
          "metadata": {
            "tags": []
          },
          "execution_count": 42
        }
      ]
    },
    {
      "cell_type": "markdown",
      "metadata": {
        "colab_type": "text",
        "id": "IhPdaXXa7iTe"
      },
      "source": [
        "Apply this learned TF-IDF transform to our different dataframes"
      ]
    },
    {
      "cell_type": "code",
      "metadata": {
        "colab_type": "code",
        "id": "3xinDU6C7iTf",
        "colab": {
          "base_uri": "https://localhost:8080/",
          "height": 119
        },
        "outputId": "587d71d8-daa4-40fb-b0cb-05e0ae0b85a9"
      },
      "source": [
        "%time train_tf = vectorizer.transform(X_train)\n",
        "# train_tf = csr_matrix.mean(train_tf, axis=0)\n",
        "\n",
        "%time test_tf = vectorizer.transform(X_test)\n",
        "# test_tf = csr_matrix.mean(test_tf, axis=0)\n",
        "\n",
        "%time val_tf = vectorizer.transform(X_val)\n",
        "# val_tf = csr_matrix.mean(val_tf, axis=0)\n"
      ],
      "execution_count": 43,
      "outputs": [
        {
          "output_type": "stream",
          "text": [
            "CPU times: user 2.82 s, sys: 9.99 ms, total: 2.83 s\n",
            "Wall time: 2.83 s\n",
            "CPU times: user 934 ms, sys: 2.99 ms, total: 937 ms\n",
            "Wall time: 937 ms\n",
            "CPU times: user 942 ms, sys: 4 ms, total: 946 ms\n",
            "Wall time: 946 ms\n"
          ],
          "name": "stdout"
        }
      ]
    },
    {
      "cell_type": "markdown",
      "metadata": {
        "colab_type": "text",
        "id": "Jq_Fqaig7iTg"
      },
      "source": [
        "We can see that the different dataframes have been transformed intt Compressed Sparse Row format data. This is very important as sparsity has a big impact on accuracy."
      ]
    },
    {
      "cell_type": "code",
      "metadata": {
        "colab_type": "code",
        "id": "7716J8dB7iTg",
        "colab": {
          "base_uri": "https://localhost:8080/",
          "height": 68
        },
        "outputId": "0ef3a656-6cef-46e1-e557-32b146d4bdcb"
      },
      "source": [
        "print(\"Shape of train_tf\", train_tf.shape)\n",
        "\n",
        "print(\"Shape of test_tf\", test_tf.shape)\n",
        "\n",
        "print(\"Shape of val_tf\", val_tf.shape)"
      ],
      "execution_count": 44,
      "outputs": [
        {
          "output_type": "stream",
          "text": [
            "Shape of train_tf (238120, 39389)\n",
            "Shape of test_tf (79374, 39389)\n",
            "Shape of val_tf (79374, 39389)\n"
          ],
          "name": "stdout"
        }
      ]
    },
    {
      "cell_type": "markdown",
      "metadata": {
        "colab_type": "text",
        "id": "npd6AwnS7wG0"
      },
      "source": [
        "## Classify CSR"
      ]
    },
    {
      "cell_type": "markdown",
      "metadata": {
        "colab_type": "text",
        "id": "WT9m6OWi7wG1"
      },
      "source": [
        "First we will attempt to classify the full CSR dataset"
      ]
    },
    {
      "cell_type": "markdown",
      "metadata": {
        "colab_type": "text",
        "id": "9CICuazi7wG1"
      },
      "source": [
        "### Naive Bayes\n",
        "Interestingly this crashes and causes the runtime to reset as the dimensionality is too high."
      ]
    },
    {
      "cell_type": "code",
      "metadata": {
        "colab_type": "code",
        "id": "_uwI-ev17wG2",
        "colab": {}
      },
      "source": [
        "# nb = GaussianNB()\n",
        "# nb.fit(train_tf.todense(), y_train.astype(int))"
      ],
      "execution_count": 0,
      "outputs": []
    },
    {
      "cell_type": "code",
      "metadata": {
        "colab_type": "code",
        "id": "udiRpE0K7wG3",
        "colab": {}
      },
      "source": [
        "# nb_score_test = nb.score(test_tf.todense(), y_test.astype(int))\n",
        "# nb_score_test"
      ],
      "execution_count": 0,
      "outputs": []
    },
    {
      "cell_type": "markdown",
      "metadata": {
        "colab_type": "text",
        "id": "EVjebzdv7wG4"
      },
      "source": [
        "### Linear Regression"
      ]
    },
    {
      "cell_type": "code",
      "metadata": {
        "colab_type": "code",
        "id": "Pg1D_88Y7wG4",
        "colab": {
          "base_uri": "https://localhost:8080/",
          "height": 0
        },
        "outputId": "1203b113-4eaf-4134-fb79-e7c4c9fd3110"
      },
      "source": [
        "linr = linear_model.LinearRegression(n_jobs = -1)\n",
        "%time linr.fit(train_tf, y_train.astype(int))"
      ],
      "execution_count": 47,
      "outputs": [
        {
          "output_type": "stream",
          "text": [
            "CPU times: user 19.6 s, sys: 12.4 s, total: 32 s\n",
            "Wall time: 16.3 s\n"
          ],
          "name": "stdout"
        },
        {
          "output_type": "execute_result",
          "data": {
            "text/plain": [
              "LinearRegression(copy_X=True, fit_intercept=True, n_jobs=-1, normalize=False)"
            ]
          },
          "metadata": {
            "tags": []
          },
          "execution_count": 47
        }
      ]
    },
    {
      "cell_type": "code",
      "metadata": {
        "colab_type": "code",
        "id": "3UmUMum37wG6",
        "colab": {
          "base_uri": "https://localhost:8080/",
          "height": 0
        },
        "outputId": "e146e04f-0cd5-48da-e9ea-6de20a4208dc"
      },
      "source": [
        "%time linr_score_test = linr.score(test_tf, y_test.astype(int))\n",
        "linr_score_test*100"
      ],
      "execution_count": 48,
      "outputs": [
        {
          "output_type": "stream",
          "text": [
            "CPU times: user 7.55 ms, sys: 2.99 ms, total: 10.5 ms\n",
            "Wall time: 10.1 ms\n"
          ],
          "name": "stdout"
        },
        {
          "output_type": "execute_result",
          "data": {
            "text/plain": [
              "45.049126542735095"
            ]
          },
          "metadata": {
            "tags": []
          },
          "execution_count": 48
        }
      ]
    },
    {
      "cell_type": "markdown",
      "metadata": {
        "colab_type": "text",
        "id": "1RnlL9Jj7wG_"
      },
      "source": [
        "### Logistic Regression\n",
        "This is automatically a mult-class classifier. Effectively a One vs Rest LR"
      ]
    },
    {
      "cell_type": "code",
      "metadata": {
        "colab_type": "code",
        "id": "gRPQOgv17wHA",
        "colab": {
          "base_uri": "https://localhost:8080/",
          "height": 190
        },
        "outputId": "9fb2a2a1-b863-4754-b414-59c5edb47b31"
      },
      "source": [
        "# lr = linear_model.LogisticRegression(C=1.0, penalty='l2', solver = 'saga', n_jobs=-1)\n",
        "lr = linear_model.LogisticRegression(solver='newton-cg',C=5, penalty='l2',n_jobs=-1)\n",
        "\n",
        "%time lr.fit(train_tf, y_train)"
      ],
      "execution_count": 49,
      "outputs": [
        {
          "output_type": "stream",
          "text": [
            "/usr/local/lib/python3.6/dist-packages/sklearn/linear_model/logistic.py:469: FutureWarning: Default multi_class will be changed to 'auto' in 0.22. Specify the multi_class option to silence this warning.\n",
            "  \"this warning.\", FutureWarning)\n"
          ],
          "name": "stderr"
        },
        {
          "output_type": "stream",
          "text": [
            "CPU times: user 102 ms, sys: 82.5 ms, total: 185 ms\n",
            "Wall time: 39.2 s\n"
          ],
          "name": "stdout"
        },
        {
          "output_type": "execute_result",
          "data": {
            "text/plain": [
              "LogisticRegression(C=5, class_weight=None, dual=False, fit_intercept=True,\n",
              "                   intercept_scaling=1, l1_ratio=None, max_iter=100,\n",
              "                   multi_class='warn', n_jobs=-1, penalty='l2',\n",
              "                   random_state=None, solver='newton-cg', tol=0.0001, verbose=0,\n",
              "                   warm_start=False)"
            ]
          },
          "metadata": {
            "tags": []
          },
          "execution_count": 49
        }
      ]
    },
    {
      "cell_type": "code",
      "metadata": {
        "colab_type": "code",
        "id": "1pWdZHWC7wHF",
        "colab": {
          "base_uri": "https://localhost:8080/",
          "height": 68
        },
        "outputId": "6358ba1d-6142-49a6-8eea-02a8d703b4bd"
      },
      "source": [
        "%time lr_score_test = lr.score(test_tf, y_test.astype(int))\n",
        "lr_score_test*100"
      ],
      "execution_count": 50,
      "outputs": [
        {
          "output_type": "stream",
          "text": [
            "CPU times: user 26.8 ms, sys: 1.06 ms, total: 27.9 ms\n",
            "Wall time: 28.7 ms\n"
          ],
          "name": "stdout"
        },
        {
          "output_type": "execute_result",
          "data": {
            "text/plain": [
              "80.61959835714467"
            ]
          },
          "metadata": {
            "tags": []
          },
          "execution_count": 50
        }
      ]
    },
    {
      "cell_type": "markdown",
      "metadata": {
        "colab_type": "text",
        "id": "OCC43f7E7wHI"
      },
      "source": [
        "### Support Vector Machine\n",
        "The high dimensionality means that this takes a ridiculous amount of time to run."
      ]
    },
    {
      "cell_type": "code",
      "metadata": {
        "colab_type": "code",
        "id": "UNb8JrJw7wHL",
        "colab": {}
      },
      "source": [
        "# clf = svm.SVC(kernel='linear', C=1, random_state=42)\n",
        "# %time clf.fit(train_tf, y_train.astype(int))"
      ],
      "execution_count": 0,
      "outputs": []
    },
    {
      "cell_type": "code",
      "metadata": {
        "colab_type": "code",
        "id": "BczMdHfP7wHN",
        "colab": {}
      },
      "source": [
        "# %time clf_score = clf.score(test_tf, y_test.astype(int))\n",
        "# print(\"SVM accuracy on test:\\t %f\" % clf_score)"
      ],
      "execution_count": 0,
      "outputs": []
    },
    {
      "cell_type": "markdown",
      "metadata": {
        "colab_type": "text",
        "id": "svHLe6017wHP"
      },
      "source": [
        "### Random Forest\n",
        "The high dimensionality means that this takes a ridiculous amount of time to run."
      ]
    },
    {
      "cell_type": "code",
      "metadata": {
        "colab_type": "code",
        "id": "JT-TmH4R7wHQ",
        "colab": {
          "base_uri": "https://localhost:8080/",
          "height": 170
        },
        "outputId": "454756d7-eb63-4749-a1ef-1add89cc1048"
      },
      "source": [
        "rf = RandomForestClassifier(criterion='gini', max_depth=5, \n",
        "                               min_samples_leaf=5, min_samples_split=2, \n",
        "                               n_estimators = 220, oob_score=True, \n",
        "                               max_features=0.5, n_jobs = -1, random_state=42)\n",
        "\n",
        "%time rf.fit(train_tf, y_train.astype(int))"
      ],
      "execution_count": 53,
      "outputs": [
        {
          "output_type": "stream",
          "text": [
            "CPU times: user 3min 9s, sys: 425 ms, total: 3min 9s\n",
            "Wall time: 1min 39s\n"
          ],
          "name": "stdout"
        },
        {
          "output_type": "execute_result",
          "data": {
            "text/plain": [
              "RandomForestClassifier(bootstrap=True, class_weight=None, criterion='gini',\n",
              "                       max_depth=5, max_features=0.5, max_leaf_nodes=None,\n",
              "                       min_impurity_decrease=0.0, min_impurity_split=None,\n",
              "                       min_samples_leaf=5, min_samples_split=2,\n",
              "                       min_weight_fraction_leaf=0.0, n_estimators=220,\n",
              "                       n_jobs=-1, oob_score=True, random_state=42, verbose=0,\n",
              "                       warm_start=False)"
            ]
          },
          "metadata": {
            "tags": []
          },
          "execution_count": 53
        }
      ]
    },
    {
      "cell_type": "code",
      "metadata": {
        "colab_type": "code",
        "id": "muoE5zNE7wHR",
        "colab": {
          "base_uri": "https://localhost:8080/",
          "height": 68
        },
        "outputId": "f4a74a1e-15dd-4831-cff7-8aedc0c4d3c0"
      },
      "source": [
        "%time rf_score = rf.score(test_tf, y_test.astype(int))\n",
        "print(\"RF accuracy on test:\\t %f\" % rf_score)"
      ],
      "execution_count": 54,
      "outputs": [
        {
          "output_type": "stream",
          "text": [
            "CPU times: user 2.17 s, sys: 53.2 ms, total: 2.22 s\n",
            "Wall time: 1.23 s\n",
            "RF accuracy on test:\t 0.515005\n"
          ],
          "name": "stdout"
        }
      ]
    },
    {
      "cell_type": "markdown",
      "metadata": {
        "colab_type": "text",
        "id": "Ws0s8P0dGyNd"
      },
      "source": [
        "## Scores on CSR Validation Set"
      ]
    },
    {
      "cell_type": "code",
      "metadata": {
        "colab_type": "code",
        "id": "iglIbfnxGyNf",
        "colab": {}
      },
      "source": [
        "# nb_score_val = nb.score(val_tf.todense(), y_val.astype(int))\n",
        "# nb_score_val"
      ],
      "execution_count": 0,
      "outputs": []
    },
    {
      "cell_type": "code",
      "metadata": {
        "colab_type": "code",
        "outputId": "fa61e1ee-2c2c-4bbb-96b8-1b05d7b9bf18",
        "id": "2KxYBvI4GyNi",
        "colab": {
          "base_uri": "https://localhost:8080/",
          "height": 34
        }
      },
      "source": [
        "linr_score_val = linr.score(val_tf, y_val.astype(int))\n",
        "linr_score_val"
      ],
      "execution_count": 81,
      "outputs": [
        {
          "output_type": "execute_result",
          "data": {
            "text/plain": [
              "0.4470098302511871"
            ]
          },
          "metadata": {
            "tags": []
          },
          "execution_count": 81
        }
      ]
    },
    {
      "cell_type": "code",
      "metadata": {
        "colab_type": "code",
        "outputId": "4e201f33-5685-4ad8-d2b2-66c81416eaa2",
        "id": "Ta2BSr0fGyNl",
        "colab": {
          "base_uri": "https://localhost:8080/",
          "height": 34
        }
      },
      "source": [
        "lr_score_val = lr.score(val_tf, y_val.astype(int))\n",
        "lr_score_val"
      ],
      "execution_count": 82,
      "outputs": [
        {
          "output_type": "execute_result",
          "data": {
            "text/plain": [
              "0.8082873485020283"
            ]
          },
          "metadata": {
            "tags": []
          },
          "execution_count": 82
        }
      ]
    },
    {
      "cell_type": "code",
      "metadata": {
        "colab_type": "code",
        "id": "PCzG8ngqGyNo",
        "colab": {}
      },
      "source": [
        "# clf_score_val = clf.score(X_val, y_val.astype(int))\n",
        "# clf_score_val"
      ],
      "execution_count": 0,
      "outputs": []
    },
    {
      "cell_type": "code",
      "metadata": {
        "colab_type": "code",
        "outputId": "5e2a7870-51dd-4cc1-c7a3-371a8acdbd96",
        "id": "gRzaR3c-GyNp",
        "colab": {
          "base_uri": "https://localhost:8080/",
          "height": 34
        }
      },
      "source": [
        "rf_score_val = rf.score(val_tf, y_val.astype(int))\n",
        "rf_score_val"
      ],
      "execution_count": 83,
      "outputs": [
        {
          "output_type": "execute_result",
          "data": {
            "text/plain": [
              "0.5152190893743543"
            ]
          },
          "metadata": {
            "tags": []
          },
          "execution_count": 83
        }
      ]
    },
    {
      "cell_type": "markdown",
      "metadata": {
        "colab_type": "text",
        "id": "bvREXEUa-6Vx"
      },
      "source": [
        "## Classify Reduced\n",
        "We will now reduce the dimensionality of the dataset and rety classification."
      ]
    },
    {
      "cell_type": "markdown",
      "metadata": {
        "colab_type": "text",
        "id": "v_bhKhUH-6Vy"
      },
      "source": [
        "### Reduce Dimensions using SVD"
      ]
    },
    {
      "cell_type": "code",
      "metadata": {
        "colab_type": "code",
        "id": "iLLBDIZw-6Vz",
        "colab": {}
      },
      "source": [
        "NUM_DIMEN = 50\n",
        "svd = TruncatedSVD(n_components=NUM_DIMEN)"
      ],
      "execution_count": 0,
      "outputs": []
    },
    {
      "cell_type": "code",
      "metadata": {
        "colab_type": "code",
        "id": "tsSN-mhv-6V1",
        "colab": {
          "base_uri": "https://localhost:8080/",
          "height": 0
        },
        "outputId": "be8c2656-822f-408d-e153-c5888f461e75"
      },
      "source": [
        "%time train_sv = svd.fit_transform(train_tf)\n",
        "var = svd.explained_variance_.sum() * 100\n",
        "print(\"Training data variance with %d SVD components is %f\" % (NUM_DIMEN, var))"
      ],
      "execution_count": 56,
      "outputs": [
        {
          "output_type": "stream",
          "text": [
            "CPU times: user 8.19 s, sys: 1.97 s, total: 10.2 s\n",
            "Wall time: 6.77 s\n",
            "Training data variance with 50 SVD components is 1.728230\n"
          ],
          "name": "stdout"
        }
      ]
    },
    {
      "cell_type": "code",
      "metadata": {
        "colab_type": "code",
        "id": "HKZdkVKM-6V2",
        "colab": {
          "base_uri": "https://localhost:8080/",
          "height": 85
        },
        "outputId": "c2445f3a-f0fc-4efc-e6a8-72f4980d6385"
      },
      "source": [
        "%time test_sv = svd.fit_transform(test_tf)\n",
        "%time val_sv = svd.fit_transform(val_tf)"
      ],
      "execution_count": 57,
      "outputs": [
        {
          "output_type": "stream",
          "text": [
            "CPU times: user 3.33 s, sys: 1.32 s, total: 4.66 s\n",
            "Wall time: 2.57 s\n",
            "CPU times: user 3.38 s, sys: 1.3 s, total: 4.69 s\n",
            "Wall time: 2.56 s\n"
          ],
          "name": "stdout"
        }
      ]
    },
    {
      "cell_type": "code",
      "metadata": {
        "colab_type": "code",
        "id": "8cfD10G2-6V6",
        "colab": {
          "base_uri": "https://localhost:8080/",
          "height": 68
        },
        "outputId": "2e536d6e-9b93-4dbb-ce43-2d0c7de47b80"
      },
      "source": [
        "print(\"Shape of train_sv\", train_sv.shape)\n",
        "\n",
        "print(\"Shape of test_sv\", test_sv.shape)\n",
        "\n",
        "print(\"Shape of val_sv\", val_sv.shape)"
      ],
      "execution_count": 58,
      "outputs": [
        {
          "output_type": "stream",
          "text": [
            "Shape of train_sv (238120, 50)\n",
            "Shape of test_sv (79374, 50)\n",
            "Shape of val_sv (79374, 50)\n"
          ],
          "name": "stdout"
        }
      ]
    },
    {
      "cell_type": "markdown",
      "metadata": {
        "colab_type": "text",
        "id": "brTcyWNa-6V7"
      },
      "source": [
        "### Naive Bayes\n",
        "With the reduced dimensionality we can use a Naive Bayes classifier"
      ]
    },
    {
      "cell_type": "code",
      "metadata": {
        "colab_type": "code",
        "id": "wJmNdYtE-6V7",
        "colab": {
          "base_uri": "https://localhost:8080/",
          "height": 68
        },
        "outputId": "7b5c4dbf-8d73-452a-f648-ec1dfe756e1a"
      },
      "source": [
        "nb_sv = GaussianNB()\n",
        "%time nb_sv.fit(train_sv, y_train.astype(int))"
      ],
      "execution_count": 59,
      "outputs": [
        {
          "output_type": "stream",
          "text": [
            "CPU times: user 233 ms, sys: 8.01 ms, total: 241 ms\n",
            "Wall time: 252 ms\n"
          ],
          "name": "stdout"
        },
        {
          "output_type": "execute_result",
          "data": {
            "text/plain": [
              "GaussianNB(priors=None, var_smoothing=1e-09)"
            ]
          },
          "metadata": {
            "tags": []
          },
          "execution_count": 59
        }
      ]
    },
    {
      "cell_type": "code",
      "metadata": {
        "colab_type": "code",
        "id": "4StfmUyN-6V-",
        "colab": {
          "base_uri": "https://localhost:8080/",
          "height": 68
        },
        "outputId": "d8210477-67a4-42e7-fa8a-4bf82ecb7244"
      },
      "source": [
        "%time nb_score_test_sv = nb_sv.score(test_sv, y_test.astype(int))\n",
        "nb_score_test_sv*100"
      ],
      "execution_count": 60,
      "outputs": [
        {
          "output_type": "stream",
          "text": [
            "CPU times: user 270 ms, sys: 22.1 ms, total: 292 ms\n",
            "Wall time: 293 ms\n"
          ],
          "name": "stdout"
        },
        {
          "output_type": "execute_result",
          "data": {
            "text/plain": [
              "18.446846574445033"
            ]
          },
          "metadata": {
            "tags": []
          },
          "execution_count": 60
        }
      ]
    },
    {
      "cell_type": "markdown",
      "metadata": {
        "colab_type": "text",
        "id": "zgC7Q-tv-6V_"
      },
      "source": [
        "### Linear Regression"
      ]
    },
    {
      "cell_type": "code",
      "metadata": {
        "colab_type": "code",
        "id": "H0oQNYdz-6WA",
        "colab": {
          "base_uri": "https://localhost:8080/",
          "height": 68
        },
        "outputId": "ff7b1027-e3dc-4e94-d499-1d788e9adab9"
      },
      "source": [
        "linr_sv = linear_model.LinearRegression(n_jobs = -1)\n",
        "%time linr_sv.fit(train_sv, y_train.astype(int))"
      ],
      "execution_count": 61,
      "outputs": [
        {
          "output_type": "stream",
          "text": [
            "CPU times: user 1.07 s, sys: 57.1 ms, total: 1.13 s\n",
            "Wall time: 714 ms\n"
          ],
          "name": "stdout"
        },
        {
          "output_type": "execute_result",
          "data": {
            "text/plain": [
              "LinearRegression(copy_X=True, fit_intercept=True, n_jobs=-1, normalize=False)"
            ]
          },
          "metadata": {
            "tags": []
          },
          "execution_count": 61
        }
      ]
    },
    {
      "cell_type": "code",
      "metadata": {
        "colab_type": "code",
        "id": "2mrmYIyS-6WC",
        "colab": {
          "base_uri": "https://localhost:8080/",
          "height": 68
        },
        "outputId": "21c26ac6-3b89-41b1-de57-f93fa394dfff"
      },
      "source": [
        "%time linr_score_test_sv = linr_sv.score(test_sv, y_test.astype(int))\n",
        "linr_score_test_sv*100"
      ],
      "execution_count": 62,
      "outputs": [
        {
          "output_type": "stream",
          "text": [
            "CPU times: user 13.6 ms, sys: 11 ms, total: 24.6 ms\n",
            "Wall time: 20.6 ms\n"
          ],
          "name": "stdout"
        },
        {
          "output_type": "execute_result",
          "data": {
            "text/plain": [
              "-43.7126168316895"
            ]
          },
          "metadata": {
            "tags": []
          },
          "execution_count": 62
        }
      ]
    },
    {
      "cell_type": "markdown",
      "metadata": {
        "colab_type": "text",
        "id": "5BQBwEW8-6WD"
      },
      "source": [
        "### Logistic Regression"
      ]
    },
    {
      "cell_type": "code",
      "metadata": {
        "colab_type": "code",
        "id": "KNJ-p9Ic-6WD",
        "colab": {
          "base_uri": "https://localhost:8080/",
          "height": 190
        },
        "outputId": "94c6f2c3-0b6e-4b9b-da0c-1d5a59dab5f1"
      },
      "source": [
        "lr_sv = linear_model.LogisticRegression(C=5.0, penalty='l2', solver = 'newton-cg', n_jobs=-1)\n",
        "%time lr_sv.fit(train_sv, y_train)"
      ],
      "execution_count": 63,
      "outputs": [
        {
          "output_type": "stream",
          "text": [
            "/usr/local/lib/python3.6/dist-packages/sklearn/linear_model/logistic.py:469: FutureWarning: Default multi_class will be changed to 'auto' in 0.22. Specify the multi_class option to silence this warning.\n",
            "  \"this warning.\", FutureWarning)\n"
          ],
          "name": "stderr"
        },
        {
          "output_type": "stream",
          "text": [
            "CPU times: user 42.9 s, sys: 68.3 ms, total: 42.9 s\n",
            "Wall time: 21.9 s\n"
          ],
          "name": "stdout"
        },
        {
          "output_type": "execute_result",
          "data": {
            "text/plain": [
              "LogisticRegression(C=1.0, class_weight=None, dual=False, fit_intercept=True,\n",
              "                   intercept_scaling=1, l1_ratio=None, max_iter=100,\n",
              "                   multi_class='warn', n_jobs=-1, penalty='l2',\n",
              "                   random_state=None, solver='saga', tol=0.0001, verbose=0,\n",
              "                   warm_start=False)"
            ]
          },
          "metadata": {
            "tags": []
          },
          "execution_count": 63
        }
      ]
    },
    {
      "cell_type": "code",
      "metadata": {
        "colab_type": "code",
        "id": "KQhITcbe-6WF",
        "colab": {
          "base_uri": "https://localhost:8080/",
          "height": 68
        },
        "outputId": "f928652b-5e74-45e4-d229-83b134fdad5d"
      },
      "source": [
        "%time lr_score_test_sv = lr_sv.score(test_sv, y_test.astype(int))\n",
        "lr_score_test_sv*100"
      ],
      "execution_count": 64,
      "outputs": [
        {
          "output_type": "stream",
          "text": [
            "CPU times: user 38.2 ms, sys: 10 ms, total: 48.2 ms\n",
            "Wall time: 30.1 ms\n"
          ],
          "name": "stdout"
        },
        {
          "output_type": "execute_result",
          "data": {
            "text/plain": [
              "21.650666465089323"
            ]
          },
          "metadata": {
            "tags": []
          },
          "execution_count": 64
        }
      ]
    },
    {
      "cell_type": "markdown",
      "metadata": {
        "colab_type": "text",
        "id": "KZ_d_rx2-6WG"
      },
      "source": [
        "### Support Vector Machine\n",
        "Even at low dimension this takes a lot of time to run."
      ]
    },
    {
      "cell_type": "code",
      "metadata": {
        "colab_type": "code",
        "id": "aA4utqnB-6WG",
        "colab": {}
      },
      "source": [
        "# clf_sv = svm.SVC(kernel='linear', C=1, random_state=42)\n",
        "# %time clf_sv.fit(train_sv, y_train.astype(int))"
      ],
      "execution_count": 0,
      "outputs": []
    },
    {
      "cell_type": "code",
      "metadata": {
        "colab_type": "code",
        "id": "2_i0VyNs-6WI",
        "colab": {}
      },
      "source": [
        "# %time clf_score_sv = clf_sv.score(test_sv, y_test.astype(int))\n",
        "# print(\"SVM accuracy on test:\\t %f\" % clf_score_sv)"
      ],
      "execution_count": 0,
      "outputs": []
    },
    {
      "cell_type": "markdown",
      "metadata": {
        "colab_type": "text",
        "id": "GYQls_ml-6WJ"
      },
      "source": [
        "### Random Forest"
      ]
    },
    {
      "cell_type": "code",
      "metadata": {
        "colab_type": "code",
        "id": "tc7op5JQ-6WK",
        "colab": {
          "base_uri": "https://localhost:8080/",
          "height": 0
        },
        "outputId": "727136a0-9a6c-4308-bf31-4723ec17729f"
      },
      "source": [
        "rf_sv = RandomForestClassifier(criterion='gini', max_depth=5, \n",
        "                               min_samples_leaf=5, min_samples_split=2, \n",
        "                               n_estimators = 220, oob_score=True, \n",
        "                               max_features=0.5, n_jobs = -1, random_state=42)\n",
        "\n",
        "%time rf_sv.fit(train_sv, y_train.astype(int))"
      ],
      "execution_count": 67,
      "outputs": [
        {
          "output_type": "stream",
          "text": [
            "CPU times: user 15min 25s, sys: 886 ms, total: 15min 25s\n",
            "Wall time: 7min 54s\n"
          ],
          "name": "stdout"
        },
        {
          "output_type": "execute_result",
          "data": {
            "text/plain": [
              "RandomForestClassifier(bootstrap=True, class_weight=None, criterion='gini',\n",
              "                       max_depth=5, max_features=0.5, max_leaf_nodes=None,\n",
              "                       min_impurity_decrease=0.0, min_impurity_split=None,\n",
              "                       min_samples_leaf=5, min_samples_split=2,\n",
              "                       min_weight_fraction_leaf=0.0, n_estimators=220,\n",
              "                       n_jobs=-1, oob_score=True, random_state=42, verbose=0,\n",
              "                       warm_start=False)"
            ]
          },
          "metadata": {
            "tags": []
          },
          "execution_count": 67
        }
      ]
    },
    {
      "cell_type": "code",
      "metadata": {
        "colab_type": "code",
        "id": "y-jS3TDr-6WL",
        "colab": {
          "base_uri": "https://localhost:8080/",
          "height": 68
        },
        "outputId": "db06514b-b269-4076-eadf-86068a102137"
      },
      "source": [
        "%time rf_score_sv = rf_sv.score(test_sv, y_test.astype(int))\n",
        "print(\"RF accuracy on test:\\t %f\" % rf_score_sv)"
      ],
      "execution_count": 68,
      "outputs": [
        {
          "output_type": "stream",
          "text": [
            "CPU times: user 2.02 s, sys: 103 ms, total: 2.12 s\n",
            "Wall time: 1.13 s\n",
            "RF accuracy on test:\t 0.210081\n"
          ],
          "name": "stdout"
        }
      ]
    }
  ]
}