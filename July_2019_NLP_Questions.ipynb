{
 "cells": [
  {
   "cell_type": "markdown",
   "metadata": {
    "colab_type": "text",
    "id": "W_ZGlhtyGwdE"
   },
   "source": [
    "# NLP Classifier to predict the intent / audience of a question"
   ]
  },
  {
   "cell_type": "markdown",
   "metadata": {
    "colab_type": "text",
    "id": "RyFx4RVdJBJe"
   },
   "source": [
    "The aim of this is a binary classifier. Given an unseen set of statements and correctly decipher if they are movie questions or stackoverflow posts"
   ]
  },
  {
   "cell_type": "markdown",
   "metadata": {
    "colab_type": "text",
    "id": "4xzu8UF6JCrC"
   },
   "source": [
    "## Libraries"
   ]
  },
  {
   "cell_type": "code",
   "execution_count": 1,
   "metadata": {
    "colab": {
     "base_uri": "https://localhost:8080/",
     "height": 52
    },
    "colab_type": "code",
    "id": "vbcRthRLIPGF",
    "outputId": "4f9339b5-afe0-4183-e061-fc2194e3d796"
   },
   "outputs": [
    {
     "name": "stdout",
     "output_type": "stream",
     "text": [
      "[nltk_data] Downloading package stopwords to\n",
      "[nltk_data]     C:\\Users\\Andrew\\AppData\\Roaming\\nltk_data...\n",
      "[nltk_data]   Package stopwords is already up-to-date!\n"
     ]
    }
   ],
   "source": [
    "import pandas as pd\n",
    "from sklearn.utils import shuffle\n",
    "import re\n",
    "import nltk\n",
    "nltk.download('stopwords')\n",
    "from nltk.corpus import stopwords\n",
    "import numpy as np\n",
    "from sklearn.model_selection import train_test_split\n",
    "from sklearn.feature_extraction.text import TfidfVectorizer\n",
    "\n",
    "# Classifiers\n",
    "from sklearn.naive_bayes import GaussianNB\n",
    "from sklearn import linear_model\n",
    "from sklearn import svm\n",
    "from sklearn.ensemble import RandomForestClassifier\n",
    "\n",
    "# Metrics\n",
    "from sklearn.metrics import f1_score\n",
    "\n",
    "# Dimensionality Reduction\n",
    "from sklearn.decomposition import TruncatedSVD\n",
    "from sklearn.preprocessing import normalize\n",
    "\n",
    "np.random.seed(42)"
   ]
  },
  {
   "cell_type": "markdown",
   "metadata": {
    "colab_type": "text",
    "id": "8OOFNNn2chr0"
   },
   "source": [
    "### Colaboratory Specific Code"
   ]
  },
  {
   "cell_type": "markdown",
   "metadata": {
    "colab_type": "text",
    "id": "IYtRbCKFdSDy"
   },
   "source": [
    "This mounts your Google Drive folder so you can access it from Colaboratory"
   ]
  },
  {
   "cell_type": "code",
   "execution_count": 2,
   "metadata": {
    "colab": {
     "base_uri": "https://localhost:8080/",
     "height": 35
    },
    "colab_type": "code",
    "id": "DRbqotO4ZzGC",
    "outputId": "57e3502b-3cfc-449a-9fbf-9c4ef52a6553"
   },
   "outputs": [],
   "source": [
    "# from google.colab import drive\n",
    "# drive.mount('/content/drive')"
   ]
  },
  {
   "cell_type": "markdown",
   "metadata": {
    "colab_type": "text",
    "id": "9xGkl55qdYOp"
   },
   "source": [
    "We also want to change the working directory so that the file references work. Here I've places the files for this class inside a folder called 'class_1' that itself is inside a folder called 'NLP_class'."
   ]
  },
  {
   "cell_type": "code",
   "execution_count": 3,
   "metadata": {
    "colab": {
     "base_uri": "https://localhost:8080/",
     "height": 104
    },
    "colab_type": "code",
    "id": "uS7n8IvIbdsy",
    "outputId": "5a95b060-23b5-4623-d7ea-3b986cddc24a"
   },
   "outputs": [],
   "source": [
    "# %cd drive/My\\ Drive/NLP_class/0719_question\n",
    "# !ls"
   ]
  },
  {
   "cell_type": "markdown",
   "metadata": {
    "colab_type": "text",
    "id": "qSNEn1YWH9sE"
   },
   "source": [
    "## Pre-process the data"
   ]
  },
  {
   "cell_type": "markdown",
   "metadata": {
    "colab_type": "text",
    "id": "sLZF406gVcbB"
   },
   "source": [
    "### Inspect Data\n",
    "First we want to load in the data so that we can see what it looks like"
   ]
  },
  {
   "cell_type": "code",
   "execution_count": 4,
   "metadata": {
    "colab": {},
    "colab_type": "code",
    "id": "WfARkTgYICSv"
   },
   "outputs": [],
   "source": [
    "dialogues = pd.read_csv('dialogues.tsv', sep='\\t')\n",
    "tagged = pd.read_csv('tagged_posts.tsv', sep='\\t')"
   ]
  },
  {
   "cell_type": "code",
   "execution_count": 5,
   "metadata": {
    "colab": {
     "base_uri": "https://localhost:8080/",
     "height": 110
    },
    "colab_type": "code",
    "id": "R_Rq9oTEIjGS",
    "outputId": "de0ea83f-190f-45a9-dc96-942c03452297"
   },
   "outputs": [
    {
     "data": {
      "text/html": [
       "<div>\n",
       "<style scoped>\n",
       "    .dataframe tbody tr th:only-of-type {\n",
       "        vertical-align: middle;\n",
       "    }\n",
       "\n",
       "    .dataframe tbody tr th {\n",
       "        vertical-align: top;\n",
       "    }\n",
       "\n",
       "    .dataframe thead th {\n",
       "        text-align: right;\n",
       "    }\n",
       "</style>\n",
       "<table border=\"1\" class=\"dataframe\">\n",
       "  <thead>\n",
       "    <tr style=\"text-align: right;\">\n",
       "      <th></th>\n",
       "      <th>text</th>\n",
       "      <th>tag</th>\n",
       "    </tr>\n",
       "  </thead>\n",
       "  <tbody>\n",
       "    <tr>\n",
       "      <th>0</th>\n",
       "      <td>Okay -- you're gonna need to learn how to lie.</td>\n",
       "      <td>dialogue</td>\n",
       "    </tr>\n",
       "    <tr>\n",
       "      <th>1</th>\n",
       "      <td>I'm kidding.  You know how sometimes you just ...</td>\n",
       "      <td>dialogue</td>\n",
       "    </tr>\n",
       "  </tbody>\n",
       "</table>\n",
       "</div>"
      ],
      "text/plain": [
       "                                                text       tag\n",
       "0     Okay -- you're gonna need to learn how to lie.  dialogue\n",
       "1  I'm kidding.  You know how sometimes you just ...  dialogue"
      ]
     },
     "execution_count": 5,
     "metadata": {},
     "output_type": "execute_result"
    }
   ],
   "source": [
    "dialogues.head(2)"
   ]
  },
  {
   "cell_type": "code",
   "execution_count": 6,
   "metadata": {
    "colab": {
     "base_uri": "https://localhost:8080/",
     "height": 110
    },
    "colab_type": "code",
    "id": "FbrcUuTSInR4",
    "outputId": "963c13e6-625c-4473-d3f6-3b203ac73e8f"
   },
   "outputs": [
    {
     "data": {
      "text/html": [
       "<div>\n",
       "<style scoped>\n",
       "    .dataframe tbody tr th:only-of-type {\n",
       "        vertical-align: middle;\n",
       "    }\n",
       "\n",
       "    .dataframe tbody tr th {\n",
       "        vertical-align: top;\n",
       "    }\n",
       "\n",
       "    .dataframe thead th {\n",
       "        text-align: right;\n",
       "    }\n",
       "</style>\n",
       "<table border=\"1\" class=\"dataframe\">\n",
       "  <thead>\n",
       "    <tr style=\"text-align: right;\">\n",
       "      <th></th>\n",
       "      <th>post_id</th>\n",
       "      <th>title</th>\n",
       "      <th>tag</th>\n",
       "    </tr>\n",
       "  </thead>\n",
       "  <tbody>\n",
       "    <tr>\n",
       "      <th>0</th>\n",
       "      <td>9</td>\n",
       "      <td>Calculate age in C#</td>\n",
       "      <td>c#</td>\n",
       "    </tr>\n",
       "    <tr>\n",
       "      <th>1</th>\n",
       "      <td>16</td>\n",
       "      <td>Filling a DataSet or DataTable from a LINQ que...</td>\n",
       "      <td>c#</td>\n",
       "    </tr>\n",
       "  </tbody>\n",
       "</table>\n",
       "</div>"
      ],
      "text/plain": [
       "   post_id                                              title tag\n",
       "0        9                                Calculate age in C#  c#\n",
       "1       16  Filling a DataSet or DataTable from a LINQ que...  c#"
      ]
     },
     "execution_count": 6,
     "metadata": {},
     "output_type": "execute_result"
    }
   ],
   "source": [
    "tagged.head(2)"
   ]
  },
  {
   "cell_type": "markdown",
   "metadata": {
    "colab_type": "text",
    "id": "TvJoGJ3uViy0"
   },
   "source": [
    "### Create base dataset"
   ]
  },
  {
   "cell_type": "markdown",
   "metadata": {
    "colab_type": "text",
    "id": "lvlgPNByJSTz"
   },
   "source": [
    "Now we can drop the 'tag' columns of both and assign new labels. \n",
    "\n",
    "We set a movie question to label 0 and a stack overflow post to label 1\n",
    "\n",
    "We also need to drop the 'post_id' column of the stack overflow data and rename 'title' to 'text'"
   ]
  },
  {
   "cell_type": "code",
   "execution_count": 7,
   "metadata": {
    "colab": {
     "base_uri": "https://localhost:8080/",
     "height": 110
    },
    "colab_type": "code",
    "id": "E3-3_f0fIq6q",
    "outputId": "098a917d-3244-4bc4-9bf7-4d703f0f56e9"
   },
   "outputs": [
    {
     "data": {
      "text/html": [
       "<div>\n",
       "<style scoped>\n",
       "    .dataframe tbody tr th:only-of-type {\n",
       "        vertical-align: middle;\n",
       "    }\n",
       "\n",
       "    .dataframe tbody tr th {\n",
       "        vertical-align: top;\n",
       "    }\n",
       "\n",
       "    .dataframe thead th {\n",
       "        text-align: right;\n",
       "    }\n",
       "</style>\n",
       "<table border=\"1\" class=\"dataframe\">\n",
       "  <thead>\n",
       "    <tr style=\"text-align: right;\">\n",
       "      <th></th>\n",
       "      <th>text</th>\n",
       "      <th>label</th>\n",
       "    </tr>\n",
       "  </thead>\n",
       "  <tbody>\n",
       "    <tr>\n",
       "      <th>0</th>\n",
       "      <td>Okay -- you're gonna need to learn how to lie.</td>\n",
       "      <td>0</td>\n",
       "    </tr>\n",
       "    <tr>\n",
       "      <th>1</th>\n",
       "      <td>I'm kidding.  You know how sometimes you just ...</td>\n",
       "      <td>0</td>\n",
       "    </tr>\n",
       "  </tbody>\n",
       "</table>\n",
       "</div>"
      ],
      "text/plain": [
       "                                                text  label\n",
       "0     Okay -- you're gonna need to learn how to lie.      0\n",
       "1  I'm kidding.  You know how sometimes you just ...      0"
      ]
     },
     "execution_count": 7,
     "metadata": {},
     "output_type": "execute_result"
    }
   ],
   "source": [
    "movie = dialogues.drop(columns=['tag'])\n",
    "movie['label'] = int(0)\n",
    "movie.head(2)"
   ]
  },
  {
   "cell_type": "code",
   "execution_count": 8,
   "metadata": {
    "colab": {
     "base_uri": "https://localhost:8080/",
     "height": 110
    },
    "colab_type": "code",
    "id": "ZZ79wI8NL6VY",
    "outputId": "8d437241-b84e-4442-b2ad-8b0f7d55d556"
   },
   "outputs": [
    {
     "data": {
      "text/html": [
       "<div>\n",
       "<style scoped>\n",
       "    .dataframe tbody tr th:only-of-type {\n",
       "        vertical-align: middle;\n",
       "    }\n",
       "\n",
       "    .dataframe tbody tr th {\n",
       "        vertical-align: top;\n",
       "    }\n",
       "\n",
       "    .dataframe thead th {\n",
       "        text-align: right;\n",
       "    }\n",
       "</style>\n",
       "<table border=\"1\" class=\"dataframe\">\n",
       "  <thead>\n",
       "    <tr style=\"text-align: right;\">\n",
       "      <th></th>\n",
       "      <th>text</th>\n",
       "      <th>label</th>\n",
       "    </tr>\n",
       "  </thead>\n",
       "  <tbody>\n",
       "    <tr>\n",
       "      <th>0</th>\n",
       "      <td>Calculate age in C#</td>\n",
       "      <td>1</td>\n",
       "    </tr>\n",
       "    <tr>\n",
       "      <th>1</th>\n",
       "      <td>Filling a DataSet or DataTable from a LINQ que...</td>\n",
       "      <td>1</td>\n",
       "    </tr>\n",
       "  </tbody>\n",
       "</table>\n",
       "</div>"
      ],
      "text/plain": [
       "                                                text  label\n",
       "0                                Calculate age in C#      1\n",
       "1  Filling a DataSet or DataTable from a LINQ que...      1"
      ]
     },
     "execution_count": 8,
     "metadata": {},
     "output_type": "execute_result"
    }
   ],
   "source": [
    "stack = tagged.drop(columns=['post_id','tag'])\n",
    "stack['label'] = int(1)\n",
    "stack = stack.rename(columns={\"title\": \"text\"})\n",
    "stack.head(2)"
   ]
  },
  {
   "cell_type": "markdown",
   "metadata": {
    "colab_type": "text",
    "id": "0bP9m5tkPHy7"
   },
   "source": [
    "We now combine the two different data sets into one single data set."
   ]
  },
  {
   "cell_type": "code",
   "execution_count": 9,
   "metadata": {
    "colab": {
     "base_uri": "https://localhost:8080/",
     "height": 202
    },
    "colab_type": "code",
    "id": "m5GUK10kPOGD",
    "outputId": "198f0d38-2108-4182-ca2d-66dadff43ec0"
   },
   "outputs": [
    {
     "data": {
      "text/html": [
       "<div>\n",
       "<style scoped>\n",
       "    .dataframe tbody tr th:only-of-type {\n",
       "        vertical-align: middle;\n",
       "    }\n",
       "\n",
       "    .dataframe tbody tr th {\n",
       "        vertical-align: top;\n",
       "    }\n",
       "\n",
       "    .dataframe thead th {\n",
       "        text-align: right;\n",
       "    }\n",
       "</style>\n",
       "<table border=\"1\" class=\"dataframe\">\n",
       "  <thead>\n",
       "    <tr style=\"text-align: right;\">\n",
       "      <th></th>\n",
       "      <th>text</th>\n",
       "      <th>label</th>\n",
       "    </tr>\n",
       "  </thead>\n",
       "  <tbody>\n",
       "    <tr>\n",
       "      <th>0</th>\n",
       "      <td>Okay -- you're gonna need to learn how to lie.</td>\n",
       "      <td>0</td>\n",
       "    </tr>\n",
       "    <tr>\n",
       "      <th>1</th>\n",
       "      <td>I'm kidding.  You know how sometimes you just ...</td>\n",
       "      <td>0</td>\n",
       "    </tr>\n",
       "    <tr>\n",
       "      <th>2</th>\n",
       "      <td>Like my fear of wearing pastels?</td>\n",
       "      <td>0</td>\n",
       "    </tr>\n",
       "    <tr>\n",
       "      <th>3</th>\n",
       "      <td>I figured you'd get to the good stuff eventually.</td>\n",
       "      <td>0</td>\n",
       "    </tr>\n",
       "    <tr>\n",
       "      <th>4</th>\n",
       "      <td>Thank God!  If I had to hear one more story ab...</td>\n",
       "      <td>0</td>\n",
       "    </tr>\n",
       "  </tbody>\n",
       "</table>\n",
       "</div>"
      ],
      "text/plain": [
       "                                                text  label\n",
       "0     Okay -- you're gonna need to learn how to lie.      0\n",
       "1  I'm kidding.  You know how sometimes you just ...      0\n",
       "2                   Like my fear of wearing pastels?      0\n",
       "3  I figured you'd get to the good stuff eventually.      0\n",
       "4  Thank God!  If I had to hear one more story ab...      0"
      ]
     },
     "execution_count": 9,
     "metadata": {},
     "output_type": "execute_result"
    }
   ],
   "source": [
    "data = movie.append(stack, ignore_index=True)\n",
    "data.head()"
   ]
  },
  {
   "cell_type": "markdown",
   "metadata": {
    "colab_type": "text",
    "id": "e7Ho2gM_VoRt"
   },
   "source": [
    "### Clean the text"
   ]
  },
  {
   "cell_type": "code",
   "execution_count": 10,
   "metadata": {
    "colab": {},
    "colab_type": "code",
    "id": "Ykbhbb5aQngA"
   },
   "outputs": [],
   "source": [
    "# There is a problem with this codes as it is possible for all words to be removed leaving a null value\n",
    "# This is solved in line 25 with the if statement\n",
    "\n",
    "REPLACE_BY_SPACE_RE = re.compile('[/(){}\\[\\]\\|@,;]')\n",
    "BAD_SYMBOLS_RE = re.compile('[^0-9a-z #+_]')\n",
    "STOPWORDS = set(stopwords.words('english'))\n",
    "\n",
    "def text_prepare(text):\n",
    "    \"\"\"\n",
    "        text: a string\n",
    "        \n",
    "        return: modified initial string\n",
    "    \"\"\"\n",
    "    text = text.lower() # lowercase text\n",
    "    text = re.sub(REPLACE_BY_SPACE_RE, \" \", text) # replace REPLACE_BY_SPACE_RE symbols by space in text\n",
    "    text = re.sub(BAD_SYMBOLS_RE, \"\", text) # delete symbols which are in BAD_SYMBOLS_RE from text\n",
    "    text = \" \" + text + \" \"\n",
    "    for sw in STOPWORDS:\n",
    "        text = text.replace(\" \"+sw+\" \", \" \") # delete stopwords from text\n",
    "    text = re.sub('[ ][ ]+', \" \", text)\n",
    "\n",
    "    #     print(\"text:\", text)\n",
    "#     print(len(text))\n",
    "    \n",
    "    if len(text) > 1: # only run if there are words present\n",
    "      if text[0] == ' ':\n",
    "          text = text[1:]\n",
    "      if text[-1] == ' ':\n",
    "          text = text[:-1]\n",
    "        \n",
    "    return text\n",
    "  "
   ]
  },
  {
   "cell_type": "code",
   "execution_count": 11,
   "metadata": {
    "colab": {
     "base_uri": "https://localhost:8080/",
     "height": 35
    },
    "colab_type": "code",
    "id": "6DnTh1iqa3Do",
    "outputId": "a5f282cc-3eaf-4d14-e26a-d656e4c11849"
   },
   "outputs": [
    {
     "data": {
      "text/plain": [
       "(615477, 2)"
      ]
     },
     "execution_count": 11,
     "metadata": {},
     "output_type": "execute_result"
    }
   ],
   "source": [
    "data.shape"
   ]
  },
  {
   "cell_type": "markdown",
   "metadata": {
    "colab_type": "text",
    "id": "nD5XQNXy9Esg"
   },
   "source": [
    "Here we can see that certain lines are entirely made up of stopwords and symbols. We need to account for this."
   ]
  },
  {
   "cell_type": "code",
   "execution_count": 12,
   "metadata": {
    "colab": {
     "base_uri": "https://localhost:8080/",
     "height": 69
    },
    "colab_type": "code",
    "id": "UoT3-_7gbgle",
    "outputId": "1bcb1c37-388d-429a-b20f-d23b23dbeebb"
   },
   "outputs": [
    {
     "name": "stdout",
     "output_type": "stream",
     "text": [
      "This line:  Do you have to do that?\n",
      "\n",
      "Becomes:   \n"
     ]
    }
   ],
   "source": [
    "print(\"This line: \", data.loc[82457, 'text'])\n",
    "print(\"\\nBecomes: \", text_prepare(data.loc[82457, 'text']))"
   ]
  },
  {
   "cell_type": "markdown",
   "metadata": {
    "colab_type": "text",
    "id": "TUKG3QZABdhX"
   },
   "source": [
    "Now we run the cleaning function on the whole database."
   ]
  },
  {
   "cell_type": "code",
   "execution_count": 13,
   "metadata": {
    "colab": {
     "base_uri": "https://localhost:8080/",
     "height": 52
    },
    "colab_type": "code",
    "id": "HtXWMj4uWD0g",
    "outputId": "2ceb6203-9c9b-4f53-f108-02210a0d8904"
   },
   "outputs": [
    {
     "name": "stdout",
     "output_type": "stream",
     "text": [
      "Wall time: 32.4 s\n"
     ]
    }
   ],
   "source": [
    "%time cleaned_text = [text_prepare(x) for x in data['text']]"
   ]
  },
  {
   "cell_type": "code",
   "execution_count": 14,
   "metadata": {
    "colab": {
     "base_uri": "https://localhost:8080/",
     "height": 202
    },
    "colab_type": "code",
    "id": "ROg5cz_twXLQ",
    "outputId": "2325a97e-17a1-4a0d-a7a1-f2d8cfa6af06"
   },
   "outputs": [
    {
     "data": {
      "text/html": [
       "<div>\n",
       "<style scoped>\n",
       "    .dataframe tbody tr th:only-of-type {\n",
       "        vertical-align: middle;\n",
       "    }\n",
       "\n",
       "    .dataframe tbody tr th {\n",
       "        vertical-align: top;\n",
       "    }\n",
       "\n",
       "    .dataframe thead th {\n",
       "        text-align: right;\n",
       "    }\n",
       "</style>\n",
       "<table border=\"1\" class=\"dataframe\">\n",
       "  <thead>\n",
       "    <tr style=\"text-align: right;\">\n",
       "      <th></th>\n",
       "      <th>clean_data</th>\n",
       "    </tr>\n",
       "  </thead>\n",
       "  <tbody>\n",
       "    <tr>\n",
       "      <th>0</th>\n",
       "      <td>okay youre gonna need learn lie</td>\n",
       "    </tr>\n",
       "    <tr>\n",
       "      <th>1</th>\n",
       "      <td>im kidding know sometimes become persona dont ...</td>\n",
       "    </tr>\n",
       "    <tr>\n",
       "      <th>2</th>\n",
       "      <td>like fear wearing pastels</td>\n",
       "    </tr>\n",
       "    <tr>\n",
       "      <th>3</th>\n",
       "      <td>figured youd get good stuff eventually</td>\n",
       "    </tr>\n",
       "    <tr>\n",
       "      <th>4</th>\n",
       "      <td>thank god hear one story coiffure</td>\n",
       "    </tr>\n",
       "  </tbody>\n",
       "</table>\n",
       "</div>"
      ],
      "text/plain": [
       "                                          clean_data\n",
       "0                    okay youre gonna need learn lie\n",
       "1  im kidding know sometimes become persona dont ...\n",
       "2                          like fear wearing pastels\n",
       "3             figured youd get good stuff eventually\n",
       "4                  thank god hear one story coiffure"
      ]
     },
     "execution_count": 14,
     "metadata": {},
     "output_type": "execute_result"
    }
   ],
   "source": [
    "clean_text = pd.DataFrame({'clean_data': cleaned_text})\n",
    "clean_text.head()"
   ]
  },
  {
   "cell_type": "code",
   "execution_count": 15,
   "metadata": {
    "colab": {
     "base_uri": "https://localhost:8080/",
     "height": 202
    },
    "colab_type": "code",
    "id": "_q1Z-8LEzYbV",
    "outputId": "25e1baec-40e0-4183-f5f0-69e017b99841"
   },
   "outputs": [
    {
     "data": {
      "text/html": [
       "<div>\n",
       "<style scoped>\n",
       "    .dataframe tbody tr th:only-of-type {\n",
       "        vertical-align: middle;\n",
       "    }\n",
       "\n",
       "    .dataframe tbody tr th {\n",
       "        vertical-align: top;\n",
       "    }\n",
       "\n",
       "    .dataframe thead th {\n",
       "        text-align: right;\n",
       "    }\n",
       "</style>\n",
       "<table border=\"1\" class=\"dataframe\">\n",
       "  <thead>\n",
       "    <tr style=\"text-align: right;\">\n",
       "      <th></th>\n",
       "      <th>0</th>\n",
       "      <th>1</th>\n",
       "      <th>2</th>\n",
       "    </tr>\n",
       "  </thead>\n",
       "  <tbody>\n",
       "    <tr>\n",
       "      <th>378098</th>\n",
       "      <td>syntax error insert statement c# oledb</td>\n",
       "      <td>Syntax error in INSERT INTO statement in c# ol...</td>\n",
       "      <td>1</td>\n",
       "    </tr>\n",
       "    <tr>\n",
       "      <th>274212</th>\n",
       "      <td>applying methods object private variables java...</td>\n",
       "      <td>applying methods to object and private variabl...</td>\n",
       "      <td>1</td>\n",
       "    </tr>\n",
       "    <tr>\n",
       "      <th>527013</th>\n",
       "      <td>xampp openssl errors calling openssl_pkey_new</td>\n",
       "      <td>xampp openssl errors when calling openssl_pkey...</td>\n",
       "      <td>1</td>\n",
       "    </tr>\n",
       "    <tr>\n",
       "      <th>25072</th>\n",
       "      <td>let buyer beware</td>\n",
       "      <td>Let the buyer beware.</td>\n",
       "      <td>0</td>\n",
       "    </tr>\n",
       "    <tr>\n",
       "      <th>491370</th>\n",
       "      <td>read write locking confusion</td>\n",
       "      <td>Read/Write locking confusion</td>\n",
       "      <td>1</td>\n",
       "    </tr>\n",
       "  </tbody>\n",
       "</table>\n",
       "</div>"
      ],
      "text/plain": [
       "                                                        0  \\\n",
       "378098             syntax error insert statement c# oledb   \n",
       "274212  applying methods object private variables java...   \n",
       "527013      xampp openssl errors calling openssl_pkey_new   \n",
       "25072                                    let buyer beware   \n",
       "491370                       read write locking confusion   \n",
       "\n",
       "                                                        1  2  \n",
       "378098  Syntax error in INSERT INTO statement in c# ol...  1  \n",
       "274212  applying methods to object and private variabl...  1  \n",
       "527013  xampp openssl errors when calling openssl_pkey...  1  \n",
       "25072                               Let the buyer beware.  0  \n",
       "491370                       Read/Write locking confusion  1  "
      ]
     },
     "execution_count": 15,
     "metadata": {},
     "output_type": "execute_result"
    }
   ],
   "source": [
    "clean = pd.concat([clean_text, data], axis = 1, ignore_index=True)\n",
    "clean = shuffle(clean)\n",
    "clean.head()"
   ]
  },
  {
   "cell_type": "code",
   "execution_count": 16,
   "metadata": {
    "colab": {
     "base_uri": "https://localhost:8080/",
     "height": 662
    },
    "colab_type": "code",
    "id": "pFl5dCCI9R2r",
    "outputId": "487987a6-0e9c-4fd6-e286-569b0d68a3fe"
   },
   "outputs": [
    {
     "data": {
      "text/html": [
       "<div>\n",
       "<style scoped>\n",
       "    .dataframe tbody tr th:only-of-type {\n",
       "        vertical-align: middle;\n",
       "    }\n",
       "\n",
       "    .dataframe tbody tr th {\n",
       "        vertical-align: top;\n",
       "    }\n",
       "\n",
       "    .dataframe thead th {\n",
       "        text-align: right;\n",
       "    }\n",
       "</style>\n",
       "<table border=\"1\" class=\"dataframe\">\n",
       "  <thead>\n",
       "    <tr style=\"text-align: right;\">\n",
       "      <th></th>\n",
       "      <th>0</th>\n",
       "      <th>2</th>\n",
       "    </tr>\n",
       "  </thead>\n",
       "  <tbody>\n",
       "    <tr>\n",
       "      <th>378098</th>\n",
       "      <td>syntax error insert statement c# oledb</td>\n",
       "      <td>1</td>\n",
       "    </tr>\n",
       "    <tr>\n",
       "      <th>274212</th>\n",
       "      <td>applying methods object private variables java...</td>\n",
       "      <td>1</td>\n",
       "    </tr>\n",
       "    <tr>\n",
       "      <th>527013</th>\n",
       "      <td>xampp openssl errors calling openssl_pkey_new</td>\n",
       "      <td>1</td>\n",
       "    </tr>\n",
       "    <tr>\n",
       "      <th>25072</th>\n",
       "      <td>let buyer beware</td>\n",
       "      <td>0</td>\n",
       "    </tr>\n",
       "    <tr>\n",
       "      <th>491370</th>\n",
       "      <td>read write locking confusion</td>\n",
       "      <td>1</td>\n",
       "    </tr>\n",
       "    <tr>\n",
       "      <th>176289</th>\n",
       "      <td>im alright</td>\n",
       "      <td>0</td>\n",
       "    </tr>\n",
       "    <tr>\n",
       "      <th>323152</th>\n",
       "      <td>get last segment regular expression</td>\n",
       "      <td>1</td>\n",
       "    </tr>\n",
       "    <tr>\n",
       "      <th>588685</th>\n",
       "      <td>wcf service completely locked</td>\n",
       "      <td>1</td>\n",
       "    </tr>\n",
       "    <tr>\n",
       "      <th>102626</th>\n",
       "      <td>ask theres nothing new coke</td>\n",
       "      <td>0</td>\n",
       "    </tr>\n",
       "    <tr>\n",
       "      <th>380088</th>\n",
       "      <td>complex example project java desktopstyle gui</td>\n",
       "      <td>1</td>\n",
       "    </tr>\n",
       "    <tr>\n",
       "      <th>508404</th>\n",
       "      <td>warning mysql_result supplied argument valid m...</td>\n",
       "      <td>1</td>\n",
       "    </tr>\n",
       "    <tr>\n",
       "      <th>610938</th>\n",
       "      <td>connect ui business logic</td>\n",
       "      <td>1</td>\n",
       "    </tr>\n",
       "    <tr>\n",
       "      <th>51978</th>\n",
       "      <td>jim dont</td>\n",
       "      <td>0</td>\n",
       "    </tr>\n",
       "    <tr>\n",
       "      <th>170201</th>\n",
       "      <td>threw us together remember guessed right men l...</td>\n",
       "      <td>0</td>\n",
       "    </tr>\n",
       "    <tr>\n",
       "      <th>48904</th>\n",
       "      <td>oh thats nice doctor wrong wasnt</td>\n",
       "      <td>0</td>\n",
       "    </tr>\n",
       "    <tr>\n",
       "      <th>262520</th>\n",
       "      <td>visual studio 2008 crashes open javascript file</td>\n",
       "      <td>1</td>\n",
       "    </tr>\n",
       "    <tr>\n",
       "      <th>397707</th>\n",
       "      <td>escaping quotes jquery</td>\n",
       "      <td>1</td>\n",
       "    </tr>\n",
       "    <tr>\n",
       "      <th>431911</th>\n",
       "      <td>background worker synchronization</td>\n",
       "      <td>1</td>\n",
       "    </tr>\n",
       "    <tr>\n",
       "      <th>485620</th>\n",
       "      <td>weird web page issue ie8 possibly javascript</td>\n",
       "      <td>1</td>\n",
       "    </tr>\n",
       "    <tr>\n",
       "      <th>451893</th>\n",
       "      <td>simplify looping array could flat multidimensi...</td>\n",
       "      <td>1</td>\n",
       "    </tr>\n",
       "  </tbody>\n",
       "</table>\n",
       "</div>"
      ],
      "text/plain": [
       "                                                        0  2\n",
       "378098             syntax error insert statement c# oledb  1\n",
       "274212  applying methods object private variables java...  1\n",
       "527013      xampp openssl errors calling openssl_pkey_new  1\n",
       "25072                                    let buyer beware  0\n",
       "491370                       read write locking confusion  1\n",
       "176289                                         im alright  0\n",
       "323152                get last segment regular expression  1\n",
       "588685                      wcf service completely locked  1\n",
       "102626                        ask theres nothing new coke  0\n",
       "380088      complex example project java desktopstyle gui  1\n",
       "508404  warning mysql_result supplied argument valid m...  1\n",
       "610938                          connect ui business logic  1\n",
       "51978                                            jim dont  0\n",
       "170201  threw us together remember guessed right men l...  0\n",
       "48904                    oh thats nice doctor wrong wasnt  0\n",
       "262520    visual studio 2008 crashes open javascript file  1\n",
       "397707                             escaping quotes jquery  1\n",
       "431911                  background worker synchronization  1\n",
       "485620       weird web page issue ie8 possibly javascript  1\n",
       "451893  simplify looping array could flat multidimensi...  1"
      ]
     },
     "execution_count": 16,
     "metadata": {},
     "output_type": "execute_result"
    }
   ],
   "source": [
    "clean = clean.drop(columns=[1])\n",
    "clean.head(20)"
   ]
  },
  {
   "cell_type": "markdown",
   "metadata": {
    "colab_type": "text",
    "id": "j-Hlh2-MBVSJ"
   },
   "source": [
    "Check that there are only 2 labels (binary) and see the amount of each."
   ]
  },
  {
   "cell_type": "code",
   "execution_count": 17,
   "metadata": {
    "colab": {
     "base_uri": "https://localhost:8080/",
     "height": 141
    },
    "colab_type": "code",
    "id": "Ey12hOuG-uqt",
    "outputId": "b36f906c-70e7-4ab5-dc98-e16fc4fde08e"
   },
   "outputs": [
    {
     "data": {
      "text/html": [
       "<div>\n",
       "<style scoped>\n",
       "    .dataframe tbody tr th:only-of-type {\n",
       "        vertical-align: middle;\n",
       "    }\n",
       "\n",
       "    .dataframe tbody tr th {\n",
       "        vertical-align: top;\n",
       "    }\n",
       "\n",
       "    .dataframe thead th {\n",
       "        text-align: right;\n",
       "    }\n",
       "</style>\n",
       "<table border=\"1\" class=\"dataframe\">\n",
       "  <thead>\n",
       "    <tr style=\"text-align: right;\">\n",
       "      <th></th>\n",
       "      <th>0</th>\n",
       "      <th>2</th>\n",
       "    </tr>\n",
       "    <tr>\n",
       "      <th>2</th>\n",
       "      <th></th>\n",
       "      <th></th>\n",
       "    </tr>\n",
       "  </thead>\n",
       "  <tbody>\n",
       "    <tr>\n",
       "      <th>0</th>\n",
       "      <td>206948</td>\n",
       "      <td>1</td>\n",
       "    </tr>\n",
       "    <tr>\n",
       "      <th>1</th>\n",
       "      <td>394520</td>\n",
       "      <td>1</td>\n",
       "    </tr>\n",
       "  </tbody>\n",
       "</table>\n",
       "</div>"
      ],
      "text/plain": [
       "        0  2\n",
       "2           \n",
       "0  206948  1\n",
       "1  394520  1"
      ]
     },
     "execution_count": 17,
     "metadata": {},
     "output_type": "execute_result"
    }
   ],
   "source": [
    "unique_labels = clean.groupby(2).nunique()\n",
    "unique_labels.head()"
   ]
  },
  {
   "cell_type": "markdown",
   "metadata": {
    "colab_type": "text",
    "id": "K8Uycb9GGM3P"
   },
   "source": [
    "### Train Test Validation Split"
   ]
  },
  {
   "cell_type": "code",
   "execution_count": 18,
   "metadata": {
    "colab": {
     "base_uri": "https://localhost:8080/",
     "height": 121
    },
    "colab_type": "code",
    "id": "C2504BNfH0XH",
    "outputId": "ce27b77a-4080-487e-cbbd-fc4a630c4add"
   },
   "outputs": [
    {
     "data": {
      "text/plain": [
       "378098               syntax error insert statement c# oledb\n",
       "274212    applying methods object private variables java...\n",
       "527013        xampp openssl errors calling openssl_pkey_new\n",
       "25072                                      let buyer beware\n",
       "491370                         read write locking confusion\n",
       "Name: 0, dtype: object"
      ]
     },
     "execution_count": 18,
     "metadata": {},
     "output_type": "execute_result"
    }
   ],
   "source": [
    "clean_data = clean[0]\n",
    "clean_data.head()"
   ]
  },
  {
   "cell_type": "code",
   "execution_count": 19,
   "metadata": {
    "colab": {
     "base_uri": "https://localhost:8080/",
     "height": 121
    },
    "colab_type": "code",
    "id": "qqTBtKswH8OJ",
    "outputId": "666def83-5619-4a34-d0f2-8862d87952ce"
   },
   "outputs": [
    {
     "data": {
      "text/plain": [
       "378098    1\n",
       "274212    1\n",
       "527013    1\n",
       "25072     0\n",
       "491370    1\n",
       "Name: 2, dtype: int64"
      ]
     },
     "execution_count": 19,
     "metadata": {},
     "output_type": "execute_result"
    }
   ],
   "source": [
    "clean_labels = clean[2]\n",
    "clean_labels.head()"
   ]
  },
  {
   "cell_type": "markdown",
   "metadata": {
    "colab_type": "text",
    "id": "yfR0S79LKM2z"
   },
   "source": [
    "First we split off the validation set as 20% of the overall data set."
   ]
  },
  {
   "cell_type": "code",
   "execution_count": 20,
   "metadata": {
    "colab": {},
    "colab_type": "code",
    "id": "6PcNZLs0GP-p"
   },
   "outputs": [],
   "source": [
    "df_data, X_val, df_labels, y_val = train_test_split(\n",
    "    clean_data, clean_labels, test_size=0.2, random_state=42, shuffle=False)"
   ]
  },
  {
   "cell_type": "markdown",
   "metadata": {
    "colab_type": "text",
    "id": "kavGbj5CKRZN"
   },
   "source": [
    "Then we split the remaining into training and test data."
   ]
  },
  {
   "cell_type": "code",
   "execution_count": 21,
   "metadata": {
    "colab": {},
    "colab_type": "code",
    "id": "sPhhujziIHDE"
   },
   "outputs": [],
   "source": [
    "X_train, X_test, y_train, y_test = train_test_split(df_data, df_labels, test_size=0.25,\n",
    "                                                        random_state=42,\n",
    "                                                        shuffle=False)"
   ]
  },
  {
   "cell_type": "markdown",
   "metadata": {
    "colab_type": "text",
    "id": "GiTur5D4KUyn"
   },
   "source": [
    "The end result is 60% training data, 20% test data and 20% validation data"
   ]
  },
  {
   "cell_type": "code",
   "execution_count": 22,
   "metadata": {
    "colab": {
     "base_uri": "https://localhost:8080/",
     "height": 121
    },
    "colab_type": "code",
    "id": "FwaIgNTCJb7M",
    "outputId": "bb4ec791-6a96-483b-8c30-bc31b993234a"
   },
   "outputs": [
    {
     "name": "stdout",
     "output_type": "stream",
     "text": [
      "Shape of X_train (369285,)\n",
      "Shape of y_train (369285,)\n",
      "Shape of X_test (123096,)\n",
      "Shape of y_test (123096,)\n",
      "Shape of X_val (123096,)\n",
      "Shape of y_val (123096,)\n"
     ]
    }
   ],
   "source": [
    "print(\"Shape of X_train\", X_train.shape)\n",
    "print(\"Shape of y_train\", X_train.shape)\n",
    "print(\"Shape of X_test\", X_test.shape)\n",
    "print(\"Shape of y_test\", y_test.shape)\n",
    "print(\"Shape of X_val\", X_val.shape)\n",
    "print(\"Shape of y_val\", y_val.shape)"
   ]
  },
  {
   "cell_type": "markdown",
   "metadata": {
    "colab_type": "text",
    "id": "1RdDnZ0QLkGa"
   },
   "source": [
    "### Apply TF-IDF Weighting"
   ]
  },
  {
   "cell_type": "markdown",
   "metadata": {
    "colab_type": "text",
    "id": "BcqGn8mNM3QP"
   },
   "source": [
    "We first need to learn the words for the dictionary from our training data."
   ]
  },
  {
   "cell_type": "code",
   "execution_count": 23,
   "metadata": {
    "colab": {
     "base_uri": "https://localhost:8080/",
     "height": 89
    },
    "colab_type": "code",
    "id": "XBmLxj__Lm_f",
    "outputId": "2dda890d-6f31-441b-ecd5-5335d237bd4e"
   },
   "outputs": [
    {
     "name": "stdout",
     "output_type": "stream",
     "text": [
      "Wall time: 8.03 s\n"
     ]
    },
    {
     "data": {
      "text/plain": [
       "<369285x65392 sparse matrix of type '<class 'numpy.float64'>'\n",
       "\twith 2693739 stored elements in Compressed Sparse Row format>"
      ]
     },
     "execution_count": 23,
     "metadata": {},
     "output_type": "execute_result"
    }
   ],
   "source": [
    "vectorizer = TfidfVectorizer(norm=u'l1', token_pattern='(\\S+)', min_df=5, max_df=0.9, ngram_range=(1,2))\n",
    "\n",
    "%time vectorizer.fit_transform(X_train)\n",
    "# print(vectorizer.get_feature_names(10))"
   ]
  },
  {
   "cell_type": "markdown",
   "metadata": {
    "colab_type": "text",
    "id": "RWh_ekQzOMSs"
   },
   "source": [
    "Apply this learned TF-IDF transform to our different dataframes"
   ]
  },
  {
   "cell_type": "code",
   "execution_count": 24,
   "metadata": {
    "colab": {
     "base_uri": "https://localhost:8080/",
     "height": 121
    },
    "colab_type": "code",
    "id": "5YCiM_i5MqZ_",
    "outputId": "e2b64943-4a46-470a-d9f2-a2f91e9f5916"
   },
   "outputs": [
    {
     "name": "stdout",
     "output_type": "stream",
     "text": [
      "Wall time: 3.98 s\n",
      "Wall time: 1.3 s\n",
      "Wall time: 1.3 s\n"
     ]
    }
   ],
   "source": [
    "%time train_tf = vectorizer.transform(X_train)\n",
    "%time test_tf = vectorizer.transform(X_test)\n",
    "%time val_tf = vectorizer.transform(X_val)"
   ]
  },
  {
   "cell_type": "markdown",
   "metadata": {
    "colab_type": "text",
    "id": "40Ui_FgnOm8y"
   },
   "source": [
    "We can see that the different dataframes have been transformed intt Compressed Sparse Row format data. This is very important as sparsity has a big impact on accuracy."
   ]
  },
  {
   "cell_type": "code",
   "execution_count": 25,
   "metadata": {
    "colab": {
     "base_uri": "https://localhost:8080/",
     "height": 69
    },
    "colab_type": "code",
    "id": "tST_JeYgORw1",
    "outputId": "cf79db13-e38a-452f-8c28-2f126083e504"
   },
   "outputs": [
    {
     "name": "stdout",
     "output_type": "stream",
     "text": [
      "Shape of train_tf (369285, 65392)\n",
      "Shape of test_tf (123096, 65392)\n",
      "Shape of val_tf (123096, 65392)\n"
     ]
    }
   ],
   "source": [
    "print(\"Shape of train_tf\", train_tf.shape)\n",
    "\n",
    "print(\"Shape of test_tf\", test_tf.shape)\n",
    "\n",
    "print(\"Shape of val_tf\", val_tf.shape)"
   ]
  },
  {
   "cell_type": "markdown",
   "metadata": {
    "colab_type": "text",
    "id": "Ki7quJoqelMx"
   },
   "source": [
    "### Reduce Dimensions using SVD"
   ]
  },
  {
   "cell_type": "code",
   "execution_count": 56,
   "metadata": {
    "colab": {},
    "colab_type": "code",
    "id": "WpwONijVen3V"
   },
   "outputs": [],
   "source": [
    "svd = TruncatedSVD(n_components=650)"
   ]
  },
  {
   "cell_type": "code",
   "execution_count": 57,
   "metadata": {
    "colab": {},
    "colab_type": "code",
    "id": "w_BQ2tIWfV62"
   },
   "outputs": [],
   "source": [
    "train_sv = svd.fit_transform(train_tf)\n",
    "test_sv = svd.fit_transform(test_tf)\n",
    "val_sv = svd.fit_transform(val_tf)"
   ]
  },
  {
   "cell_type": "code",
   "execution_count": 58,
   "metadata": {
    "colab": {
     "base_uri": "https://localhost:8080/",
     "height": 69
    },
    "colab_type": "code",
    "id": "ekXBGF3GgRmw",
    "outputId": "c58f4151-d8fc-4920-da9f-4852edadedb5"
   },
   "outputs": [
    {
     "name": "stdout",
     "output_type": "stream",
     "text": [
      "Shape of train_sv (369285, 650)\n",
      "Shape of test_sv (123096, 650)\n",
      "Shape of val_sv (123096, 650)\n"
     ]
    }
   ],
   "source": [
    "print(\"Shape of train_sv\", train_sv.shape)\n",
    "\n",
    "print(\"Shape of test_sv\", test_sv.shape)\n",
    "\n",
    "print(\"Shape of val_sv\", val_sv.shape)"
   ]
  },
  {
   "cell_type": "markdown",
   "metadata": {
    "colab_type": "text",
    "id": "t5O8cW0APWn9"
   },
   "source": [
    "## Classify CSR"
   ]
  },
  {
   "cell_type": "markdown",
   "metadata": {
    "colab_type": "text",
    "id": "up8rnEG-VDV2"
   },
   "source": [
    "First we will attempt to classify the full CSR dataset"
   ]
  },
  {
   "cell_type": "markdown",
   "metadata": {
    "colab_type": "text",
    "id": "9nTR2uuyVKmN"
   },
   "source": [
    "### Naive Bayes\n",
    "Interestingly this crashes and causes the runtime to reset as the dimensionality is too high."
   ]
  },
  {
   "cell_type": "code",
   "execution_count": 29,
   "metadata": {
    "colab": {},
    "colab_type": "code",
    "id": "2BMZ-FK7P0hy"
   },
   "outputs": [],
   "source": [
    "# nb = GaussianNB()\n",
    "# nb.fit(train_tf.todense(), y_train.astype(int))"
   ]
  },
  {
   "cell_type": "code",
   "execution_count": 30,
   "metadata": {
    "colab": {},
    "colab_type": "code",
    "id": "ICikjGgRUMlD"
   },
   "outputs": [],
   "source": [
    "# nb_score_test = nb.score(test_tf.todense(), y_test.astype(int))\n",
    "# nb_score_test"
   ]
  },
  {
   "cell_type": "markdown",
   "metadata": {
    "colab_type": "text",
    "id": "WbSCoHqJRicZ"
   },
   "source": [
    "### Linear Regression"
   ]
  },
  {
   "cell_type": "code",
   "execution_count": 31,
   "metadata": {
    "colab": {
     "base_uri": "https://localhost:8080/",
     "height": 69
    },
    "colab_type": "code",
    "id": "mYa-7yCvQEiY",
    "outputId": "8ec22c96-acf7-428f-cdde-6188bb41b2d5"
   },
   "outputs": [
    {
     "name": "stdout",
     "output_type": "stream",
     "text": [
      "Wall time: 38.3 s\n"
     ]
    },
    {
     "data": {
      "text/plain": [
       "LinearRegression(copy_X=True, fit_intercept=True, n_jobs=-1, normalize=False)"
      ]
     },
     "execution_count": 31,
     "metadata": {},
     "output_type": "execute_result"
    }
   ],
   "source": [
    "linr = linear_model.LinearRegression(n_jobs = -1)\n",
    "%time linr.fit(train_tf, y_train.astype(int))"
   ]
  },
  {
   "cell_type": "code",
   "execution_count": 32,
   "metadata": {
    "colab": {
     "base_uri": "https://localhost:8080/",
     "height": 69
    },
    "colab_type": "code",
    "id": "HG9Pe5DmQ8TL",
    "outputId": "b761525d-b1b4-4992-e697-d0feeb21d77c"
   },
   "outputs": [
    {
     "name": "stdout",
     "output_type": "stream",
     "text": [
      "Wall time: 7.51 ms\n"
     ]
    },
    {
     "data": {
      "text/plain": [
       "92.4105510072296"
      ]
     },
     "execution_count": 32,
     "metadata": {},
     "output_type": "execute_result"
    }
   ],
   "source": [
    "%time linr_score_test = linr.score(test_tf, y_test.astype(int))\n",
    "linr_score_test*100"
   ]
  },
  {
   "cell_type": "markdown",
   "metadata": {
    "colab_type": "text",
    "id": "RiiKY9yHRnS1"
   },
   "source": [
    "### Logistic Regression"
   ]
  },
  {
   "cell_type": "code",
   "execution_count": 33,
   "metadata": {
    "colab": {
     "base_uri": "https://localhost:8080/",
     "height": 139
    },
    "colab_type": "code",
    "id": "XY9HT8zQRqMQ",
    "outputId": "2dc679a1-9205-4b5f-f2fe-2c0c0b96aa54"
   },
   "outputs": [
    {
     "name": "stdout",
     "output_type": "stream",
     "text": [
      "Wall time: 4.28 s\n"
     ]
    },
    {
     "data": {
      "text/plain": [
       "LogisticRegression(C=1.0, class_weight=None, dual=False, fit_intercept=True,\n",
       "          intercept_scaling=1, max_iter=100, multi_class='warn', n_jobs=-1,\n",
       "          penalty='l2', random_state=None, solver='saga', tol=0.0001,\n",
       "          verbose=0, warm_start=False)"
      ]
     },
     "execution_count": 33,
     "metadata": {},
     "output_type": "execute_result"
    }
   ],
   "source": [
    "lr = linear_model.LogisticRegression(C=1.0, penalty='l2', solver = 'saga', n_jobs=-1)\n",
    "%time lr.fit(train_tf, y_train)"
   ]
  },
  {
   "cell_type": "code",
   "execution_count": 34,
   "metadata": {
    "colab": {
     "base_uri": "https://localhost:8080/",
     "height": 69
    },
    "colab_type": "code",
    "id": "lv1Uzj2HR-5L",
    "outputId": "52c9bd2c-35a5-4b13-f7ed-acaf5fed3ef7"
   },
   "outputs": [
    {
     "name": "stdout",
     "output_type": "stream",
     "text": [
      "Wall time: 16 ms\n"
     ]
    },
    {
     "data": {
      "text/plain": [
       "98.28589068694352"
      ]
     },
     "execution_count": 34,
     "metadata": {},
     "output_type": "execute_result"
    }
   ],
   "source": [
    "%time lr_score_test = lr.score(test_tf, y_test.astype(int))\n",
    "lr_score_test*100"
   ]
  },
  {
   "cell_type": "markdown",
   "metadata": {
    "colab_type": "text",
    "id": "qCTnYpXvW6_T"
   },
   "source": [
    "### Support Vector Machine\n",
    "The high dimensionality means that this takes a ridiculous amount of time to run."
   ]
  },
  {
   "cell_type": "code",
   "execution_count": 35,
   "metadata": {
    "colab": {},
    "colab_type": "code",
    "id": "99h61zvwYikw"
   },
   "outputs": [],
   "source": [
    "# clf = svm.SVC(kernel='linear', C=1, random_state=42)\n",
    "# %time clf.fit(train_tf, y_train.astype(int))"
   ]
  },
  {
   "cell_type": "code",
   "execution_count": 36,
   "metadata": {
    "colab": {},
    "colab_type": "code",
    "id": "FyT3M3G3Yik1"
   },
   "outputs": [],
   "source": [
    "# %time clf_score = clf.score(test_tf, y_test.astype(int))\n",
    "# print(\"SVM accuracy on test:\\t %f\" % clf_score)"
   ]
  },
  {
   "cell_type": "markdown",
   "metadata": {
    "colab_type": "text",
    "id": "Kl3AFQwAsfoO"
   },
   "source": [
    "### Random Forest\n",
    "The high dimensionality means that this takes a ridiculous amount of time to run."
   ]
  },
  {
   "cell_type": "code",
   "execution_count": 37,
   "metadata": {
    "colab": {
     "base_uri": "https://localhost:8080/",
     "height": 415
    },
    "colab_type": "code",
    "id": "5GSyFlIUsjfN",
    "outputId": "9de2c13d-df3d-4163-f14f-2284b491af85"
   },
   "outputs": [
    {
     "name": "stdout",
     "output_type": "stream",
     "text": [
      "Wall time: 1min 7s\n"
     ]
    },
    {
     "data": {
      "text/plain": [
       "RandomForestClassifier(bootstrap=True, class_weight=None, criterion='gini',\n",
       "            max_depth=5, max_features=0.5, max_leaf_nodes=None,\n",
       "            min_impurity_decrease=0.0, min_impurity_split=None,\n",
       "            min_samples_leaf=5, min_samples_split=2,\n",
       "            min_weight_fraction_leaf=0.0, n_estimators=220, n_jobs=-1,\n",
       "            oob_score=True, random_state=42, verbose=0, warm_start=False)"
      ]
     },
     "execution_count": 37,
     "metadata": {},
     "output_type": "execute_result"
    }
   ],
   "source": [
    "rf = RandomForestClassifier(criterion='gini', max_depth=5, \n",
    "                               min_samples_leaf=5, min_samples_split=2, \n",
    "                               n_estimators = 220, oob_score=True, \n",
    "                               max_features=0.5, n_jobs = -1, random_state=42)\n",
    "\n",
    "%time rf.fit(train_tf, y_train.astype(int))"
   ]
  },
  {
   "cell_type": "code",
   "execution_count": 38,
   "metadata": {
    "colab": {},
    "colab_type": "code",
    "id": "YMQ6Qi-7srF1"
   },
   "outputs": [
    {
     "name": "stdout",
     "output_type": "stream",
     "text": [
      "Wall time: 544 ms\n",
      "RF accuracy on test:\t 0.753030\n"
     ]
    }
   ],
   "source": [
    "%time rf_score = rf.score(test_tf, y_test.astype(int))\n",
    "print(\"RF accuracy on test:\\t %f\" % rf_score)"
   ]
  },
  {
   "cell_type": "markdown",
   "metadata": {
    "colab_type": "text",
    "id": "-QcUuQC2ZyuY"
   },
   "source": [
    "## Classify Reduced\n",
    "We will now classify the dataset that was reduced to 50 dimensions."
   ]
  },
  {
   "cell_type": "markdown",
   "metadata": {
    "colab_type": "text",
    "id": "Yrn7z396hdtw"
   },
   "source": [
    "### Naive Bayes\n",
    "With the reduced dimensionality we can use a Naive Bayes classifier"
   ]
  },
  {
   "cell_type": "code",
   "execution_count": 59,
   "metadata": {
    "colab": {
     "base_uri": "https://localhost:8080/",
     "height": 35
    },
    "colab_type": "code",
    "id": "VJ_BBtnxhdty",
    "outputId": "3b32ed35-2312-453f-e9ff-5b2d0b195ca2"
   },
   "outputs": [
    {
     "name": "stdout",
     "output_type": "stream",
     "text": [
      "Wall time: 4.54 s\n"
     ]
    },
    {
     "data": {
      "text/plain": [
       "GaussianNB(priors=None, var_smoothing=1e-09)"
      ]
     },
     "execution_count": 59,
     "metadata": {},
     "output_type": "execute_result"
    }
   ],
   "source": [
    "nb_sv = GaussianNB()\n",
    "%time nb_sv.fit(train_sv, y_train.astype(int))"
   ]
  },
  {
   "cell_type": "code",
   "execution_count": 60,
   "metadata": {
    "colab": {
     "base_uri": "https://localhost:8080/",
     "height": 35
    },
    "colab_type": "code",
    "id": "jqcZJylEhdt1",
    "outputId": "008775b1-c26a-43a5-b4e3-c6da1ec88796"
   },
   "outputs": [
    {
     "name": "stdout",
     "output_type": "stream",
     "text": [
      "Wall time: 1.81 s\n"
     ]
    },
    {
     "data": {
      "text/plain": [
       "49.83590043543251"
      ]
     },
     "execution_count": 60,
     "metadata": {},
     "output_type": "execute_result"
    }
   ],
   "source": [
    "%time nb_score_test_sv = nb_sv.score(test_sv, y_test.astype(int))\n",
    "nb_score_test_sv*100"
   ]
  },
  {
   "cell_type": "markdown",
   "metadata": {
    "colab_type": "text",
    "id": "BKs9EyQrhdt2"
   },
   "source": [
    "### Linear Regression"
   ]
  },
  {
   "cell_type": "code",
   "execution_count": 61,
   "metadata": {
    "colab": {
     "base_uri": "https://localhost:8080/",
     "height": 69
    },
    "colab_type": "code",
    "id": "Lt5o0VB9hdt3",
    "outputId": "81bef7de-c0c2-4437-d340-4d9dca750e90"
   },
   "outputs": [
    {
     "name": "stdout",
     "output_type": "stream",
     "text": [
      "Wall time: 15.3 s\n"
     ]
    },
    {
     "data": {
      "text/plain": [
       "LinearRegression(copy_X=True, fit_intercept=True, n_jobs=-1, normalize=False)"
      ]
     },
     "execution_count": 61,
     "metadata": {},
     "output_type": "execute_result"
    }
   ],
   "source": [
    "linr_sv = linear_model.LinearRegression(n_jobs = -1)\n",
    "%time linr_sv.fit(train_sv, y_train.astype(int))"
   ]
  },
  {
   "cell_type": "code",
   "execution_count": 62,
   "metadata": {
    "colab": {
     "base_uri": "https://localhost:8080/",
     "height": 69
    },
    "colab_type": "code",
    "id": "5ZPTHJmmhdt8",
    "outputId": "eeab9c2c-3c61-4cfc-c960-23c15e420d13"
   },
   "outputs": [
    {
     "name": "stdout",
     "output_type": "stream",
     "text": [
      "Wall time: 156 ms\n"
     ]
    },
    {
     "data": {
      "text/plain": [
       "-134.48372768948832"
      ]
     },
     "execution_count": 62,
     "metadata": {},
     "output_type": "execute_result"
    }
   ],
   "source": [
    "%time linr_score_test_sv = linr_sv.score(test_sv, y_test.astype(int))\n",
    "linr_score_test_sv*100"
   ]
  },
  {
   "cell_type": "markdown",
   "metadata": {
    "colab_type": "text",
    "id": "edy7q2p7hdt_"
   },
   "source": [
    "### Logistic Regression"
   ]
  },
  {
   "cell_type": "code",
   "execution_count": 63,
   "metadata": {
    "colab": {
     "base_uri": "https://localhost:8080/",
     "height": 139
    },
    "colab_type": "code",
    "id": "gQsyOQbThduA",
    "outputId": "1789ee35-af4d-47c5-d3a0-9546482c083a"
   },
   "outputs": [
    {
     "name": "stdout",
     "output_type": "stream",
     "text": [
      "Wall time: 32.4 s\n"
     ]
    },
    {
     "data": {
      "text/plain": [
       "LogisticRegression(C=1.0, class_weight=None, dual=False, fit_intercept=True,\n",
       "          intercept_scaling=1, max_iter=100, multi_class='warn', n_jobs=-1,\n",
       "          penalty='l2', random_state=None, solver='saga', tol=0.0001,\n",
       "          verbose=0, warm_start=False)"
      ]
     },
     "execution_count": 63,
     "metadata": {},
     "output_type": "execute_result"
    }
   ],
   "source": [
    "lr_sv = linear_model.LogisticRegression(C=1.0, penalty='l2', solver = 'saga', n_jobs=-1)\n",
    "%time lr_sv.fit(train_sv, y_train)"
   ]
  },
  {
   "cell_type": "code",
   "execution_count": 64,
   "metadata": {
    "colab": {
     "base_uri": "https://localhost:8080/",
     "height": 69
    },
    "colab_type": "code",
    "id": "t_WrE9-hhduC",
    "outputId": "c43ce3ef-ad16-4133-ef61-404e88c06900"
   },
   "outputs": [
    {
     "name": "stdout",
     "output_type": "stream",
     "text": [
      "Wall time: 152 ms\n"
     ]
    },
    {
     "data": {
      "text/plain": [
       "36.95083512055631"
      ]
     },
     "execution_count": 64,
     "metadata": {},
     "output_type": "execute_result"
    }
   ],
   "source": [
    "%time lr_score_test_sv = lr_sv.score(test_sv, y_test.astype(int))\n",
    "lr_score_test_sv*100"
   ]
  },
  {
   "cell_type": "markdown",
   "metadata": {
    "colab_type": "text",
    "id": "Y00algZ1hduG"
   },
   "source": [
    "### Support Vector Machine\n",
    "Even at low dimension this takes a lot of time to run."
   ]
  },
  {
   "cell_type": "code",
   "execution_count": 45,
   "metadata": {
    "colab": {},
    "colab_type": "code",
    "id": "AT5RBj7-hduH"
   },
   "outputs": [],
   "source": [
    "# clf_sv = svm.SVC(kernel='linear', C=1, random_state=42)\n",
    "# %time clf_sv.fit(train_sv, y_train.astype(int))"
   ]
  },
  {
   "cell_type": "code",
   "execution_count": 46,
   "metadata": {
    "colab": {},
    "colab_type": "code",
    "id": "hp2-ZTOnhduI"
   },
   "outputs": [],
   "source": [
    "# %time clf_score_sv = clf_sv.score(test_sv, y_test.astype(int))\n",
    "# print(\"SVM accuracy on test:\\t %f\" % clf_score_sv)"
   ]
  },
  {
   "cell_type": "markdown",
   "metadata": {
    "colab_type": "text",
    "id": "mefGE06xu4Xi"
   },
   "source": [
    "### Random Forest"
   ]
  },
  {
   "cell_type": "code",
   "execution_count": 65,
   "metadata": {
    "colab": {},
    "colab_type": "code",
    "id": "T8-aWktfu4Xl"
   },
   "outputs": [
    {
     "name": "stdout",
     "output_type": "stream",
     "text": [
      "Wall time: 30min 10s\n"
     ]
    },
    {
     "data": {
      "text/plain": [
       "RandomForestClassifier(bootstrap=True, class_weight=None, criterion='gini',\n",
       "            max_depth=5, max_features=0.5, max_leaf_nodes=None,\n",
       "            min_impurity_decrease=0.0, min_impurity_split=None,\n",
       "            min_samples_leaf=5, min_samples_split=2,\n",
       "            min_weight_fraction_leaf=0.0, n_estimators=220, n_jobs=-1,\n",
       "            oob_score=True, random_state=42, verbose=0, warm_start=False)"
      ]
     },
     "execution_count": 65,
     "metadata": {},
     "output_type": "execute_result"
    }
   ],
   "source": [
    "rf_sv = RandomForestClassifier(criterion='gini', max_depth=5, \n",
    "                               min_samples_leaf=5, min_samples_split=2, \n",
    "                               n_estimators = 220, oob_score=True, \n",
    "                               max_features=0.5, n_jobs = -1, random_state=42)\n",
    "\n",
    "%time rf_sv.fit(train_sv, y_train.astype(int))"
   ]
  },
  {
   "cell_type": "code",
   "execution_count": 66,
   "metadata": {
    "colab": {},
    "colab_type": "code",
    "id": "Wsg8-Wn8u4Xm"
   },
   "outputs": [
    {
     "name": "stdout",
     "output_type": "stream",
     "text": [
      "Wall time: 898 ms\n",
      "RF accuracy on test:\t 0.170509\n"
     ]
    }
   ],
   "source": [
    "%time rf_score_sv = rf_sv.score(test_sv, y_test.astype(int))\n",
    "print(\"RF accuracy on test:\\t %f\" % rf_score_sv)"
   ]
  },
  {
   "cell_type": "markdown",
   "metadata": {
    "colab_type": "text",
    "id": "IT4XUCFWu5yv"
   },
   "source": [
    "### Multi-layer Perceptron"
   ]
  },
  {
   "cell_type": "code",
   "execution_count": 49,
   "metadata": {
    "colab": {},
    "colab_type": "code",
    "id": "Ckgd5RbGPYR7"
   },
   "outputs": [],
   "source": [
    "NUM_CLASSES = 2\n",
    "\n",
    "def build_mlp(input, NUM_CLASSES):\n",
    "    model = keras.Sequential([\n",
    "        keras.layers.Dense(8, activation='relu', input_shape=(input.shape[1],)),\n",
    "        keras.layers.Dense(5, activation='relu'),\n",
    "#         keras.layers.Dense(3, activation='relu'),\n",
    "        keras.layers.Dense(NUM_CLASSES, activation='softmax')\n",
    "    ])\n",
    "\n",
    "    model.compile(loss='categorical_crossentropy', optimizer='adam', \n",
    "                  metrics=['mae', 'acc'])\n",
    "\n",
    "    model.summary()\n",
    "\n",
    "    return model\n",
    "\n",
    "\n",
    "def train_mlp(dataframe, labels, model, checkpoint_path, EPOCHS):\n",
    "    # Limit the training when there are multiple epochs with little change loss\n",
    "    # The patience parameter is the amount of epochs to check for improvement\n",
    "    early_stop = keras.callbacks.EarlyStopping(monitor='val_loss',\n",
    "                                               patience=4000)\n",
    "\n",
    "    # Create checkpoint callback\n",
    "    cp_callback = keras.callbacks.ModelCheckpoint(checkpoint_path,\n",
    "                                                  save_weights_only=True,\n",
    "                                                  verbose=0)\n",
    "\n",
    "    # Track the training statistics\n",
    "    history = model.fit(dataframe, labels, epochs=EPOCHS,\n",
    "                        validation_split=0.2, verbose=0,\n",
    "                        callbacks=[early_stop, EpochTrack(), cp_callback])\n",
    "\n",
    "    print(\"\\nEpochs: {}\".format(len(history.epoch)))\n",
    "    plot_history(history)\n",
    "\n",
    "    return model"
   ]
  },
  {
   "cell_type": "markdown",
   "metadata": {
    "colab_type": "text",
    "id": "ylDHai-RTmFH"
   },
   "source": [
    "### Check Scores on Validation Set"
   ]
  },
  {
   "cell_type": "code",
   "execution_count": 50,
   "metadata": {
    "colab": {},
    "colab_type": "code",
    "id": "OUfC603_RZwX"
   },
   "outputs": [
    {
     "data": {
      "text/plain": [
       "0.9262120455079297"
      ]
     },
     "execution_count": 50,
     "metadata": {},
     "output_type": "execute_result"
    }
   ],
   "source": [
    "linr_score_val = linr.score(val_tf, y_val.astype(int))\n",
    "linr_score_val"
   ]
  },
  {
   "cell_type": "code",
   "execution_count": 51,
   "metadata": {
    "colab": {},
    "colab_type": "code",
    "id": "zYc69BoATjlt"
   },
   "outputs": [
    {
     "data": {
      "text/plain": [
       "0.9833544550594658"
      ]
     },
     "execution_count": 51,
     "metadata": {},
     "output_type": "execute_result"
    }
   ],
   "source": [
    "lr_score_val = lr.score(val_tf, y_val.astype(int))\n",
    "lr_score_val"
   ]
  },
  {
   "cell_type": "code",
   "execution_count": 52,
   "metadata": {
    "colab": {},
    "colab_type": "code",
    "id": "fRxfvE62XVET"
   },
   "outputs": [
    {
     "ename": "NameError",
     "evalue": "name 'clf' is not defined",
     "output_type": "error",
     "traceback": [
      "\u001b[1;31m---------------------------------------------------------------------------\u001b[0m",
      "\u001b[1;31mNameError\u001b[0m                                 Traceback (most recent call last)",
      "\u001b[1;32m<ipython-input-52-3cc3e8db25bb>\u001b[0m in \u001b[0;36m<module>\u001b[1;34m\u001b[0m\n\u001b[1;32m----> 1\u001b[1;33m \u001b[0mclf_score_val\u001b[0m \u001b[1;33m=\u001b[0m \u001b[0mclf\u001b[0m\u001b[1;33m.\u001b[0m\u001b[0mscore\u001b[0m\u001b[1;33m(\u001b[0m\u001b[0mX_val\u001b[0m\u001b[1;33m,\u001b[0m \u001b[0my_val\u001b[0m\u001b[1;33m.\u001b[0m\u001b[0mastype\u001b[0m\u001b[1;33m(\u001b[0m\u001b[0mint\u001b[0m\u001b[1;33m)\u001b[0m\u001b[1;33m)\u001b[0m\u001b[1;33m\u001b[0m\u001b[1;33m\u001b[0m\u001b[0m\n\u001b[0m\u001b[0;32m      2\u001b[0m \u001b[0mclf_score_val\u001b[0m\u001b[1;33m\u001b[0m\u001b[1;33m\u001b[0m\u001b[0m\n",
      "\u001b[1;31mNameError\u001b[0m: name 'clf' is not defined"
     ]
    }
   ],
   "source": [
    "clf_score_val = clf.score(X_val, y_val.astype(int))\n",
    "clf_score_val"
   ]
  }
 ],
 "metadata": {
  "accelerator": "GPU",
  "colab": {
   "collapsed_sections": [],
   "name": "July 2019 NLP Questions.ipynb",
   "provenance": [],
   "version": "0.3.2"
  },
  "kernelspec": {
   "display_name": "Python 3",
   "language": "python",
   "name": "python3"
  },
  "language_info": {
   "codemirror_mode": {
    "name": "ipython",
    "version": 3
   },
   "file_extension": ".py",
   "mimetype": "text/x-python",
   "name": "python",
   "nbconvert_exporter": "python",
   "pygments_lexer": "ipython3",
   "version": "3.6.7"
  }
 },
 "nbformat": 4,
 "nbformat_minor": 2
}
