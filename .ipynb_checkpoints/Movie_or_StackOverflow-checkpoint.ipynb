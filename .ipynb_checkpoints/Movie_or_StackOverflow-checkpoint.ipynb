{
 "cells": [
  {
   "cell_type": "markdown",
   "metadata": {
    "colab_type": "text",
    "id": "W_ZGlhtyGwdE"
   },
   "source": [
    "# Movie or StackOverflow?"
   ]
  },
  {
   "cell_type": "markdown",
   "metadata": {
    "colab_type": "text",
    "id": "RyFx4RVdJBJe"
   },
   "source": [
    "The aim of this is a binary classifier. Given an unseen set of statements and correctly decipher if they are movie questions or stackoverflow posts"
   ]
  },
  {
   "cell_type": "markdown",
   "metadata": {
    "colab_type": "text",
    "id": "4xzu8UF6JCrC"
   },
   "source": [
    "## Libraries"
   ]
  },
  {
   "cell_type": "markdown",
   "metadata": {
    "colab_type": "text",
    "id": "8OOFNNn2chr0"
   },
   "source": [
    "### Colaboratory Specific Code"
   ]
  },
  {
   "cell_type": "markdown",
   "metadata": {
    "colab_type": "text",
    "id": "IYtRbCKFdSDy"
   },
   "source": [
    "This mounts your Google Drive folder so you can access it from Colaboratory"
   ]
  },
  {
   "cell_type": "code",
   "execution_count": 97,
   "metadata": {
    "colab": {
     "base_uri": "https://localhost:8080/",
     "height": 0
    },
    "colab_type": "code",
    "id": "DRbqotO4ZzGC",
    "outputId": "e89a0406-43a5-45c9-fd60-706a4df61706"
   },
   "outputs": [],
   "source": [
    "# from google.colab import drive\n",
    "# drive.mount('/content/drive')"
   ]
  },
  {
   "cell_type": "markdown",
   "metadata": {
    "colab_type": "text",
    "id": "9xGkl55qdYOp"
   },
   "source": [
    "We also want to change the working directory so that the file references work. Here I've places the files for this class inside a folder called 'class_1' that itself is inside a folder called 'NLP_class'."
   ]
  },
  {
   "cell_type": "code",
   "execution_count": 98,
   "metadata": {
    "colab": {
     "base_uri": "https://localhost:8080/",
     "height": 0
    },
    "colab_type": "code",
    "id": "uS7n8IvIbdsy",
    "outputId": "5de8b0ad-1251-4bd8-efe1-c71b7e474127"
   },
   "outputs": [],
   "source": [
    "# %cd drive/My\\ Drive/NLP_class/0719_question\n",
    "# !ls"
   ]
  },
  {
   "cell_type": "code",
   "execution_count": 99,
   "metadata": {
    "colab": {
     "base_uri": "https://localhost:8080/",
     "height": 0
    },
    "colab_type": "code",
    "id": "sdIifYIcfWPr",
    "outputId": "852719f8-1500-418c-c619-33ecabeee4d7"
   },
   "outputs": [],
   "source": [
    "# !pip install scikit-plot"
   ]
  },
  {
   "cell_type": "markdown",
   "metadata": {
    "colab_type": "text",
    "id": "pCJk7pWbfRbZ"
   },
   "source": [
    "### Dependencies"
   ]
  },
  {
   "cell_type": "code",
   "execution_count": 100,
   "metadata": {
    "colab": {
     "base_uri": "https://localhost:8080/",
     "height": 0
    },
    "colab_type": "code",
    "id": "vbcRthRLIPGF",
    "outputId": "f2912fc8-5d43-4720-aedd-54b7b196f434"
   },
   "outputs": [
    {
     "name": "stderr",
     "output_type": "stream",
     "text": [
      "[nltk_data] Downloading package stopwords to\n",
      "[nltk_data]     C:\\Users\\Andrew\\AppData\\Roaming\\nltk_data...\n",
      "[nltk_data]   Package stopwords is already up-to-date!\n"
     ]
    }
   ],
   "source": [
    "import pandas as pd\n",
    "from sklearn.utils import shuffle\n",
    "import re\n",
    "import nltk\n",
    "nltk.download('stopwords')\n",
    "from nltk.corpus import stopwords\n",
    "import numpy as np\n",
    "from sklearn.model_selection import train_test_split\n",
    "from sklearn.feature_extraction.text import TfidfVectorizer\n",
    "from scipy.sparse import csr_matrix\n",
    "\n",
    "# Classifiers\n",
    "from sklearn.naive_bayes import GaussianNB\n",
    "from sklearn import linear_model\n",
    "from sklearn import svm\n",
    "from sklearn.ensemble import RandomForestClassifier\n",
    "from sklearn.model_selection import GridSearchCV\n",
    "\n",
    "# Metrics\n",
    "from sklearn.model_selection import cross_val_predict, cross_val_score\n",
    "from sklearn.model_selection import StratifiedKFold\n",
    "from sklearn.metrics import log_loss, accuracy_score\n",
    "import scikitplot as skplt\n",
    "from scikitplot.metrics import plot_confusion_matrix\n",
    "\n",
    "# Dimensionality Reduction\n",
    "from sklearn.decomposition import TruncatedSVD\n",
    "\n",
    "# Saving models\n",
    "import _pickle as pickle\n",
    "\n",
    "np.random.seed(42)"
   ]
  },
  {
   "cell_type": "code",
   "execution_count": 101,
   "metadata": {
    "colab": {},
    "colab_type": "code",
    "id": "8r5BbZLIcbnH"
   },
   "outputs": [],
   "source": [
    "def evaluate_features(X, y, clf=None):\n",
    "    \"\"\"General helper function for evaluating effectiveness of passed features in ML model\n",
    "    \n",
    "    Prints out Log loss, accuracy, and confusion matrix with 3-fold stratified cross-validation\n",
    "    \n",
    "    Args:\n",
    "        X (array-like): Features array. Shape (n_samples, n_features)\n",
    "        \n",
    "        y (array-like): Labels array. Shape (n_samples,)\n",
    "        \n",
    "        clf: Classifier to use. If None, default Log reg is use.\n",
    "    \"\"\"\n",
    "    if clf is None:\n",
    "        clf = LogisticRegression()\n",
    "    \n",
    "    probas = cross_val_predict(clf, X, y, cv=StratifiedKFold(n_splits=5, random_state=8), \n",
    "                              n_jobs=-1, method='predict_proba', verbose=2)\n",
    "    pred_indices = np.argmax(probas, axis=1)\n",
    "    classes = np.unique(y)\n",
    "    preds = classes[pred_indices]\n",
    "    print('Log loss: {}'.format(log_loss(y, probas)))\n",
    "    print('Accuracy: {}'.format(accuracy_score(y, preds)))\n",
    "    plot_confusion_matrix(y, preds)\n",
    "    \n",
    "    return preds\n"
   ]
  },
  {
   "cell_type": "markdown",
   "metadata": {},
   "source": [
    "## Define Models"
   ]
  },
  {
   "cell_type": "markdown",
   "metadata": {},
   "source": [
    "Change LOAD_MODELS to 1 to load saved models from file"
   ]
  },
  {
   "cell_type": "code",
   "execution_count": 102,
   "metadata": {},
   "outputs": [],
   "source": [
    "LOAD_MODELS = 0"
   ]
  },
  {
   "cell_type": "code",
   "execution_count": 103,
   "metadata": {},
   "outputs": [
    {
     "name": "stdout",
     "output_type": "stream",
     "text": [
      "Program will train new models\n"
     ]
    }
   ],
   "source": [
    "if LOAD_MODELS == 0:\n",
    "    print(\"Program will train new models\")\n",
    "    # CSR Set\n",
    "    linr = linear_model.LinearRegression(n_jobs = -1)\n",
    "\n",
    "    lr = linear_model.LogisticRegression(C=10.0, penalty='l2', solver = 'newton-cg', n_jobs=-1, multi_class='auto')\n",
    "\n",
    "    rf = RandomForestClassifier(criterion='gini', max_depth=5, \n",
    "                                   min_samples_leaf=5, min_samples_split=2, \n",
    "                                   n_estimators = 220, oob_score=True, \n",
    "                                   max_features=0.5, n_jobs = -1, random_state=42)\n",
    "\n",
    "    # Dimension Reduced Set\n",
    "    nb_sv = GaussianNB()\n",
    "\n",
    "    linr_sv = linear_model.LinearRegression(n_jobs = -1)\n",
    "\n",
    "    lr_sv = linear_model.LogisticRegression(C=10.0, penalty='l2', solver = 'newton-cg', n_jobs=-1, multi_class='auto')\n",
    "\n",
    "    rf_sv = RandomForestClassifier(criterion='gini', max_depth=5, \n",
    "                                   min_samples_leaf=5, min_samples_split=2, \n",
    "                                   n_estimators = 220, oob_score=True, \n",
    "                                   max_features=0.5, n_jobs = -1, random_state=42)\n",
    "else:\n",
    "    print(\"Program will load existing models if available\")\n",
    "\n",
    "    linr = pickle.load( open( \"q1/linr.p\", \"rb\" ) )\n",
    "    lr = pickle.load( open( \"q1/lr.p\", \"rb\" ) )\n",
    "    rf = pickle.load( open( \"q1/rf.p\", \"rb\" ) )\n",
    "    \n",
    "    nb_sv = pickle.load( open( \"q1/nb_sv.p\", \"rb\" ) )\n",
    "    linr_sv = pickle.load( open( \"q1/linr_sv.p\", \"rb\" ) )\n",
    "    lr_sv = pickle.load( open( \"q1/lr_sv.p\", \"rb\" ) )\n",
    "    rf_sv = pickle.load( open( \"q1/rf_sv.p\", \"rb\" ) )\n",
    "    "
   ]
  },
  {
   "cell_type": "markdown",
   "metadata": {
    "colab_type": "text",
    "id": "qSNEn1YWH9sE"
   },
   "source": [
    "## Pre-process the data"
   ]
  },
  {
   "cell_type": "markdown",
   "metadata": {
    "colab_type": "text",
    "id": "PcU3tOg9uH-H"
   },
   "source": [
    "This code cleans the text"
   ]
  },
  {
   "cell_type": "code",
   "execution_count": 104,
   "metadata": {
    "colab": {},
    "colab_type": "code",
    "id": "ZcnPTzIiuFf5"
   },
   "outputs": [],
   "source": [
    "# There is a problem with this codes as it is possible for all words to be removed leaving a null value\n",
    "# This is solved in line 25 with the if statement\n",
    "\n",
    "REPLACE_BY_SPACE_RE = re.compile('[/(){}\\[\\]\\|@,;]')\n",
    "BAD_SYMBOLS_RE = re.compile('[^0-9a-z #+_]')\n",
    "STOPWORDS = set(stopwords.words('english'))\n",
    "\n",
    "def text_prepare(text):\n",
    "    \"\"\"\n",
    "        text: a string\n",
    "        \n",
    "        return: modified initial string\n",
    "    \"\"\"\n",
    "    text = text.lower() # lowercase text\n",
    "    text = re.sub(REPLACE_BY_SPACE_RE, \" \", text) # replace REPLACE_BY_SPACE_RE symbols by space in text\n",
    "    text = re.sub(BAD_SYMBOLS_RE, \"\", text) # delete symbols which are in BAD_SYMBOLS_RE from text\n",
    "    text = \" \" + text + \" \"\n",
    "    for sw in STOPWORDS:\n",
    "        text = text.replace(\" \"+sw+\" \", \" \") # delete stopwords from text\n",
    "    text = re.sub('[ ][ ]+', \" \", text)\n",
    "\n",
    "    #     print(\"text:\", text)\n",
    "#     print(len(text))\n",
    "    \n",
    "    if len(text) > 1: # only run if there are words present\n",
    "      if text[0] == ' ':\n",
    "          text = text[1:]\n",
    "      if text[-1] == ' ':\n",
    "          text = text[:-1]\n",
    "        \n",
    "    return text"
   ]
  },
  {
   "cell_type": "markdown",
   "metadata": {
    "colab_type": "text",
    "id": "sLZF406gVcbB"
   },
   "source": [
    "### Inspect Data\n",
    "Let's see what the data looks like"
   ]
  },
  {
   "cell_type": "code",
   "execution_count": 105,
   "metadata": {
    "colab": {},
    "colab_type": "code",
    "id": "WfARkTgYICSv"
   },
   "outputs": [],
   "source": [
    "dialogues = pd.read_csv('dialogues.tsv', sep='\\t')\n",
    "tagged = pd.read_csv('tagged_posts.tsv', sep='\\t')"
   ]
  },
  {
   "cell_type": "code",
   "execution_count": 106,
   "metadata": {
    "colab": {
     "base_uri": "https://localhost:8080/",
     "height": 0
    },
    "colab_type": "code",
    "id": "R_Rq9oTEIjGS",
    "outputId": "508accd4-0bb3-455b-ad68-4bcd2984dc70"
   },
   "outputs": [
    {
     "data": {
      "text/html": [
       "<div>\n",
       "<style scoped>\n",
       "    .dataframe tbody tr th:only-of-type {\n",
       "        vertical-align: middle;\n",
       "    }\n",
       "\n",
       "    .dataframe tbody tr th {\n",
       "        vertical-align: top;\n",
       "    }\n",
       "\n",
       "    .dataframe thead th {\n",
       "        text-align: right;\n",
       "    }\n",
       "</style>\n",
       "<table border=\"1\" class=\"dataframe\">\n",
       "  <thead>\n",
       "    <tr style=\"text-align: right;\">\n",
       "      <th></th>\n",
       "      <th>text</th>\n",
       "      <th>tag</th>\n",
       "    </tr>\n",
       "  </thead>\n",
       "  <tbody>\n",
       "    <tr>\n",
       "      <th>0</th>\n",
       "      <td>Okay -- you're gonna need to learn how to lie.</td>\n",
       "      <td>dialogue</td>\n",
       "    </tr>\n",
       "    <tr>\n",
       "      <th>1</th>\n",
       "      <td>I'm kidding.  You know how sometimes you just ...</td>\n",
       "      <td>dialogue</td>\n",
       "    </tr>\n",
       "  </tbody>\n",
       "</table>\n",
       "</div>"
      ],
      "text/plain": [
       "                                                text       tag\n",
       "0     Okay -- you're gonna need to learn how to lie.  dialogue\n",
       "1  I'm kidding.  You know how sometimes you just ...  dialogue"
      ]
     },
     "execution_count": 106,
     "metadata": {},
     "output_type": "execute_result"
    }
   ],
   "source": [
    "dialogues.head(2)"
   ]
  },
  {
   "cell_type": "code",
   "execution_count": 107,
   "metadata": {
    "colab": {
     "base_uri": "https://localhost:8080/",
     "height": 0
    },
    "colab_type": "code",
    "id": "FbrcUuTSInR4",
    "outputId": "4d4b699c-33ab-4dad-8dd2-1afc09d8a4da"
   },
   "outputs": [
    {
     "data": {
      "text/html": [
       "<div>\n",
       "<style scoped>\n",
       "    .dataframe tbody tr th:only-of-type {\n",
       "        vertical-align: middle;\n",
       "    }\n",
       "\n",
       "    .dataframe tbody tr th {\n",
       "        vertical-align: top;\n",
       "    }\n",
       "\n",
       "    .dataframe thead th {\n",
       "        text-align: right;\n",
       "    }\n",
       "</style>\n",
       "<table border=\"1\" class=\"dataframe\">\n",
       "  <thead>\n",
       "    <tr style=\"text-align: right;\">\n",
       "      <th></th>\n",
       "      <th>post_id</th>\n",
       "      <th>title</th>\n",
       "      <th>tag</th>\n",
       "    </tr>\n",
       "  </thead>\n",
       "  <tbody>\n",
       "    <tr>\n",
       "      <th>0</th>\n",
       "      <td>9</td>\n",
       "      <td>Calculate age in C#</td>\n",
       "      <td>c#</td>\n",
       "    </tr>\n",
       "    <tr>\n",
       "      <th>1</th>\n",
       "      <td>16</td>\n",
       "      <td>Filling a DataSet or DataTable from a LINQ que...</td>\n",
       "      <td>c#</td>\n",
       "    </tr>\n",
       "  </tbody>\n",
       "</table>\n",
       "</div>"
      ],
      "text/plain": [
       "   post_id                                              title tag\n",
       "0        9                                Calculate age in C#  c#\n",
       "1       16  Filling a DataSet or DataTable from a LINQ que...  c#"
      ]
     },
     "execution_count": 107,
     "metadata": {},
     "output_type": "execute_result"
    }
   ],
   "source": [
    "tagged.head(2)"
   ]
  },
  {
   "cell_type": "markdown",
   "metadata": {
    "colab_type": "text",
    "id": "TvJoGJ3uViy0"
   },
   "source": [
    "### Create base dataset"
   ]
  },
  {
   "cell_type": "markdown",
   "metadata": {
    "colab_type": "text",
    "id": "lvlgPNByJSTz"
   },
   "source": [
    "Now we can drop the 'tag' columns of both and assign new labels. \n",
    "\n",
    "We set a movie question to label 0 and a stack overflow post to label 1\n",
    "\n",
    "We also need to drop the 'post_id' column of the stack overflow data and rename 'title' to 'text'"
   ]
  },
  {
   "cell_type": "code",
   "execution_count": 108,
   "metadata": {
    "colab": {
     "base_uri": "https://localhost:8080/",
     "height": 0
    },
    "colab_type": "code",
    "id": "E3-3_f0fIq6q",
    "outputId": "58d6aa81-6ed6-4b1c-f389-b34df59bfb80"
   },
   "outputs": [
    {
     "data": {
      "text/html": [
       "<div>\n",
       "<style scoped>\n",
       "    .dataframe tbody tr th:only-of-type {\n",
       "        vertical-align: middle;\n",
       "    }\n",
       "\n",
       "    .dataframe tbody tr th {\n",
       "        vertical-align: top;\n",
       "    }\n",
       "\n",
       "    .dataframe thead th {\n",
       "        text-align: right;\n",
       "    }\n",
       "</style>\n",
       "<table border=\"1\" class=\"dataframe\">\n",
       "  <thead>\n",
       "    <tr style=\"text-align: right;\">\n",
       "      <th></th>\n",
       "      <th>text</th>\n",
       "      <th>label</th>\n",
       "    </tr>\n",
       "  </thead>\n",
       "  <tbody>\n",
       "    <tr>\n",
       "      <th>0</th>\n",
       "      <td>Okay -- you're gonna need to learn how to lie.</td>\n",
       "      <td>0</td>\n",
       "    </tr>\n",
       "    <tr>\n",
       "      <th>1</th>\n",
       "      <td>I'm kidding.  You know how sometimes you just ...</td>\n",
       "      <td>0</td>\n",
       "    </tr>\n",
       "  </tbody>\n",
       "</table>\n",
       "</div>"
      ],
      "text/plain": [
       "                                                text  label\n",
       "0     Okay -- you're gonna need to learn how to lie.      0\n",
       "1  I'm kidding.  You know how sometimes you just ...      0"
      ]
     },
     "execution_count": 108,
     "metadata": {},
     "output_type": "execute_result"
    }
   ],
   "source": [
    "movie = dialogues.drop(columns=['tag'])\n",
    "movie['label'] = int(0)\n",
    "movie.head(2)"
   ]
  },
  {
   "cell_type": "code",
   "execution_count": 109,
   "metadata": {
    "colab": {
     "base_uri": "https://localhost:8080/",
     "height": 0
    },
    "colab_type": "code",
    "id": "ZZ79wI8NL6VY",
    "outputId": "165dfc5b-32d4-41ac-e843-d4dac3ce2125"
   },
   "outputs": [
    {
     "data": {
      "text/html": [
       "<div>\n",
       "<style scoped>\n",
       "    .dataframe tbody tr th:only-of-type {\n",
       "        vertical-align: middle;\n",
       "    }\n",
       "\n",
       "    .dataframe tbody tr th {\n",
       "        vertical-align: top;\n",
       "    }\n",
       "\n",
       "    .dataframe thead th {\n",
       "        text-align: right;\n",
       "    }\n",
       "</style>\n",
       "<table border=\"1\" class=\"dataframe\">\n",
       "  <thead>\n",
       "    <tr style=\"text-align: right;\">\n",
       "      <th></th>\n",
       "      <th>text</th>\n",
       "      <th>label</th>\n",
       "    </tr>\n",
       "  </thead>\n",
       "  <tbody>\n",
       "    <tr>\n",
       "      <th>0</th>\n",
       "      <td>Calculate age in C#</td>\n",
       "      <td>1</td>\n",
       "    </tr>\n",
       "    <tr>\n",
       "      <th>1</th>\n",
       "      <td>Filling a DataSet or DataTable from a LINQ que...</td>\n",
       "      <td>1</td>\n",
       "    </tr>\n",
       "  </tbody>\n",
       "</table>\n",
       "</div>"
      ],
      "text/plain": [
       "                                                text  label\n",
       "0                                Calculate age in C#      1\n",
       "1  Filling a DataSet or DataTable from a LINQ que...      1"
      ]
     },
     "execution_count": 109,
     "metadata": {},
     "output_type": "execute_result"
    }
   ],
   "source": [
    "stack = tagged.drop(columns=['post_id','tag'])\n",
    "stack['label'] = int(1)\n",
    "stack = stack.rename(columns={\"title\": \"text\"})\n",
    "stack.head(2)"
   ]
  },
  {
   "cell_type": "markdown",
   "metadata": {
    "colab_type": "text",
    "id": "0bP9m5tkPHy7"
   },
   "source": [
    "We now combine the two different data sets into one single data set."
   ]
  },
  {
   "cell_type": "code",
   "execution_count": 110,
   "metadata": {
    "colab": {
     "base_uri": "https://localhost:8080/",
     "height": 0
    },
    "colab_type": "code",
    "id": "m5GUK10kPOGD",
    "outputId": "a1adcf28-9430-4c00-c4d9-19bf7e2bacaa"
   },
   "outputs": [
    {
     "data": {
      "text/html": [
       "<div>\n",
       "<style scoped>\n",
       "    .dataframe tbody tr th:only-of-type {\n",
       "        vertical-align: middle;\n",
       "    }\n",
       "\n",
       "    .dataframe tbody tr th {\n",
       "        vertical-align: top;\n",
       "    }\n",
       "\n",
       "    .dataframe thead th {\n",
       "        text-align: right;\n",
       "    }\n",
       "</style>\n",
       "<table border=\"1\" class=\"dataframe\">\n",
       "  <thead>\n",
       "    <tr style=\"text-align: right;\">\n",
       "      <th></th>\n",
       "      <th>text</th>\n",
       "      <th>label</th>\n",
       "    </tr>\n",
       "  </thead>\n",
       "  <tbody>\n",
       "    <tr>\n",
       "      <th>0</th>\n",
       "      <td>Okay -- you're gonna need to learn how to lie.</td>\n",
       "      <td>0</td>\n",
       "    </tr>\n",
       "    <tr>\n",
       "      <th>1</th>\n",
       "      <td>I'm kidding.  You know how sometimes you just ...</td>\n",
       "      <td>0</td>\n",
       "    </tr>\n",
       "    <tr>\n",
       "      <th>2</th>\n",
       "      <td>Like my fear of wearing pastels?</td>\n",
       "      <td>0</td>\n",
       "    </tr>\n",
       "    <tr>\n",
       "      <th>3</th>\n",
       "      <td>I figured you'd get to the good stuff eventually.</td>\n",
       "      <td>0</td>\n",
       "    </tr>\n",
       "    <tr>\n",
       "      <th>4</th>\n",
       "      <td>Thank God!  If I had to hear one more story ab...</td>\n",
       "      <td>0</td>\n",
       "    </tr>\n",
       "  </tbody>\n",
       "</table>\n",
       "</div>"
      ],
      "text/plain": [
       "                                                text  label\n",
       "0     Okay -- you're gonna need to learn how to lie.      0\n",
       "1  I'm kidding.  You know how sometimes you just ...      0\n",
       "2                   Like my fear of wearing pastels?      0\n",
       "3  I figured you'd get to the good stuff eventually.      0\n",
       "4  Thank God!  If I had to hear one more story ab...      0"
      ]
     },
     "execution_count": 110,
     "metadata": {},
     "output_type": "execute_result"
    }
   ],
   "source": [
    "data = movie.append(stack, ignore_index=True)\n",
    "data.head()"
   ]
  },
  {
   "cell_type": "markdown",
   "metadata": {
    "colab_type": "text",
    "id": "e7Ho2gM_VoRt"
   },
   "source": [
    "### Clean the text"
   ]
  },
  {
   "cell_type": "code",
   "execution_count": 111,
   "metadata": {
    "colab": {
     "base_uri": "https://localhost:8080/",
     "height": 0
    },
    "colab_type": "code",
    "id": "6DnTh1iqa3Do",
    "outputId": "644a884f-d728-4a4c-ae19-e39e8f64f500"
   },
   "outputs": [
    {
     "data": {
      "text/plain": [
       "(615477, 2)"
      ]
     },
     "execution_count": 111,
     "metadata": {},
     "output_type": "execute_result"
    }
   ],
   "source": [
    "data.shape"
   ]
  },
  {
   "cell_type": "markdown",
   "metadata": {
    "colab_type": "text",
    "id": "nD5XQNXy9Esg"
   },
   "source": [
    "Here we can see that certain lines are entirely made up of stopwords and symbols. We need to account for this."
   ]
  },
  {
   "cell_type": "code",
   "execution_count": 112,
   "metadata": {
    "colab": {
     "base_uri": "https://localhost:8080/",
     "height": 0
    },
    "colab_type": "code",
    "id": "UoT3-_7gbgle",
    "outputId": "ea1da288-8973-4faf-ac89-96c29e5656fd"
   },
   "outputs": [
    {
     "name": "stdout",
     "output_type": "stream",
     "text": [
      "This line:  Do you have to do that?\n",
      "\n",
      "Becomes:   \n"
     ]
    }
   ],
   "source": [
    "print(\"This line: \", data.loc[82457, 'text'])\n",
    "print(\"\\nBecomes: \", text_prepare(data.loc[82457, 'text']))"
   ]
  },
  {
   "cell_type": "markdown",
   "metadata": {
    "colab_type": "text",
    "id": "TUKG3QZABdhX"
   },
   "source": [
    "Now we run the cleaning function on the whole database."
   ]
  },
  {
   "cell_type": "code",
   "execution_count": 113,
   "metadata": {
    "colab": {
     "base_uri": "https://localhost:8080/",
     "height": 0
    },
    "colab_type": "code",
    "id": "HtXWMj4uWD0g",
    "outputId": "66c0637b-b4a0-4c63-9de1-aa7fbbd8bbdb"
   },
   "outputs": [
    {
     "name": "stdout",
     "output_type": "stream",
     "text": [
      "Wall time: 32.4 s\n"
     ]
    }
   ],
   "source": [
    "%time cleaned_text = [text_prepare(x) for x in data['text']]"
   ]
  },
  {
   "cell_type": "code",
   "execution_count": 114,
   "metadata": {
    "colab": {
     "base_uri": "https://localhost:8080/",
     "height": 0
    },
    "colab_type": "code",
    "id": "ROg5cz_twXLQ",
    "outputId": "f7a748ea-a0dd-47ba-8fcc-a5811a75f04d"
   },
   "outputs": [
    {
     "data": {
      "text/html": [
       "<div>\n",
       "<style scoped>\n",
       "    .dataframe tbody tr th:only-of-type {\n",
       "        vertical-align: middle;\n",
       "    }\n",
       "\n",
       "    .dataframe tbody tr th {\n",
       "        vertical-align: top;\n",
       "    }\n",
       "\n",
       "    .dataframe thead th {\n",
       "        text-align: right;\n",
       "    }\n",
       "</style>\n",
       "<table border=\"1\" class=\"dataframe\">\n",
       "  <thead>\n",
       "    <tr style=\"text-align: right;\">\n",
       "      <th></th>\n",
       "      <th>clean_data</th>\n",
       "    </tr>\n",
       "  </thead>\n",
       "  <tbody>\n",
       "    <tr>\n",
       "      <th>0</th>\n",
       "      <td>okay youre gonna need learn lie</td>\n",
       "    </tr>\n",
       "    <tr>\n",
       "      <th>1</th>\n",
       "      <td>im kidding know sometimes become persona dont ...</td>\n",
       "    </tr>\n",
       "    <tr>\n",
       "      <th>2</th>\n",
       "      <td>like fear wearing pastels</td>\n",
       "    </tr>\n",
       "    <tr>\n",
       "      <th>3</th>\n",
       "      <td>figured youd get good stuff eventually</td>\n",
       "    </tr>\n",
       "    <tr>\n",
       "      <th>4</th>\n",
       "      <td>thank god hear one story coiffure</td>\n",
       "    </tr>\n",
       "  </tbody>\n",
       "</table>\n",
       "</div>"
      ],
      "text/plain": [
       "                                          clean_data\n",
       "0                    okay youre gonna need learn lie\n",
       "1  im kidding know sometimes become persona dont ...\n",
       "2                          like fear wearing pastels\n",
       "3             figured youd get good stuff eventually\n",
       "4                  thank god hear one story coiffure"
      ]
     },
     "execution_count": 114,
     "metadata": {},
     "output_type": "execute_result"
    }
   ],
   "source": [
    "clean_text = pd.DataFrame({'clean_data': cleaned_text})\n",
    "clean_text.head()"
   ]
  },
  {
   "cell_type": "code",
   "execution_count": 115,
   "metadata": {
    "colab": {
     "base_uri": "https://localhost:8080/",
     "height": 0
    },
    "colab_type": "code",
    "id": "_q1Z-8LEzYbV",
    "outputId": "64bb812a-ad99-49a9-fa80-7156db879885"
   },
   "outputs": [
    {
     "data": {
      "text/html": [
       "<div>\n",
       "<style scoped>\n",
       "    .dataframe tbody tr th:only-of-type {\n",
       "        vertical-align: middle;\n",
       "    }\n",
       "\n",
       "    .dataframe tbody tr th {\n",
       "        vertical-align: top;\n",
       "    }\n",
       "\n",
       "    .dataframe thead th {\n",
       "        text-align: right;\n",
       "    }\n",
       "</style>\n",
       "<table border=\"1\" class=\"dataframe\">\n",
       "  <thead>\n",
       "    <tr style=\"text-align: right;\">\n",
       "      <th></th>\n",
       "      <th>0</th>\n",
       "      <th>1</th>\n",
       "      <th>2</th>\n",
       "    </tr>\n",
       "  </thead>\n",
       "  <tbody>\n",
       "    <tr>\n",
       "      <th>378098</th>\n",
       "      <td>syntax error insert statement c# oledb</td>\n",
       "      <td>Syntax error in INSERT INTO statement in c# ol...</td>\n",
       "      <td>1</td>\n",
       "    </tr>\n",
       "    <tr>\n",
       "      <th>274212</th>\n",
       "      <td>applying methods object private variables java...</td>\n",
       "      <td>applying methods to object and private variabl...</td>\n",
       "      <td>1</td>\n",
       "    </tr>\n",
       "    <tr>\n",
       "      <th>527013</th>\n",
       "      <td>xampp openssl errors calling openssl_pkey_new</td>\n",
       "      <td>xampp openssl errors when calling openssl_pkey...</td>\n",
       "      <td>1</td>\n",
       "    </tr>\n",
       "    <tr>\n",
       "      <th>25072</th>\n",
       "      <td>let buyer beware</td>\n",
       "      <td>Let the buyer beware.</td>\n",
       "      <td>0</td>\n",
       "    </tr>\n",
       "    <tr>\n",
       "      <th>491370</th>\n",
       "      <td>read write locking confusion</td>\n",
       "      <td>Read/Write locking confusion</td>\n",
       "      <td>1</td>\n",
       "    </tr>\n",
       "  </tbody>\n",
       "</table>\n",
       "</div>"
      ],
      "text/plain": [
       "                                                        0  \\\n",
       "378098             syntax error insert statement c# oledb   \n",
       "274212  applying methods object private variables java...   \n",
       "527013      xampp openssl errors calling openssl_pkey_new   \n",
       "25072                                    let buyer beware   \n",
       "491370                       read write locking confusion   \n",
       "\n",
       "                                                        1  2  \n",
       "378098  Syntax error in INSERT INTO statement in c# ol...  1  \n",
       "274212  applying methods to object and private variabl...  1  \n",
       "527013  xampp openssl errors when calling openssl_pkey...  1  \n",
       "25072                               Let the buyer beware.  0  \n",
       "491370                       Read/Write locking confusion  1  "
      ]
     },
     "execution_count": 115,
     "metadata": {},
     "output_type": "execute_result"
    }
   ],
   "source": [
    "clean = pd.concat([clean_text, data], axis = 1, ignore_index=True)\n",
    "clean = shuffle(clean)\n",
    "clean.head()"
   ]
  },
  {
   "cell_type": "code",
   "execution_count": 116,
   "metadata": {
    "colab": {
     "base_uri": "https://localhost:8080/",
     "height": 0
    },
    "colab_type": "code",
    "id": "pFl5dCCI9R2r",
    "outputId": "a319ae5a-8e5c-41bf-a9dd-15d462c3a94a"
   },
   "outputs": [
    {
     "data": {
      "text/html": [
       "<div>\n",
       "<style scoped>\n",
       "    .dataframe tbody tr th:only-of-type {\n",
       "        vertical-align: middle;\n",
       "    }\n",
       "\n",
       "    .dataframe tbody tr th {\n",
       "        vertical-align: top;\n",
       "    }\n",
       "\n",
       "    .dataframe thead th {\n",
       "        text-align: right;\n",
       "    }\n",
       "</style>\n",
       "<table border=\"1\" class=\"dataframe\">\n",
       "  <thead>\n",
       "    <tr style=\"text-align: right;\">\n",
       "      <th></th>\n",
       "      <th>0</th>\n",
       "      <th>2</th>\n",
       "    </tr>\n",
       "  </thead>\n",
       "  <tbody>\n",
       "    <tr>\n",
       "      <th>378098</th>\n",
       "      <td>syntax error insert statement c# oledb</td>\n",
       "      <td>1</td>\n",
       "    </tr>\n",
       "    <tr>\n",
       "      <th>274212</th>\n",
       "      <td>applying methods object private variables java...</td>\n",
       "      <td>1</td>\n",
       "    </tr>\n",
       "    <tr>\n",
       "      <th>527013</th>\n",
       "      <td>xampp openssl errors calling openssl_pkey_new</td>\n",
       "      <td>1</td>\n",
       "    </tr>\n",
       "    <tr>\n",
       "      <th>25072</th>\n",
       "      <td>let buyer beware</td>\n",
       "      <td>0</td>\n",
       "    </tr>\n",
       "    <tr>\n",
       "      <th>491370</th>\n",
       "      <td>read write locking confusion</td>\n",
       "      <td>1</td>\n",
       "    </tr>\n",
       "  </tbody>\n",
       "</table>\n",
       "</div>"
      ],
      "text/plain": [
       "                                                        0  2\n",
       "378098             syntax error insert statement c# oledb  1\n",
       "274212  applying methods object private variables java...  1\n",
       "527013      xampp openssl errors calling openssl_pkey_new  1\n",
       "25072                                    let buyer beware  0\n",
       "491370                       read write locking confusion  1"
      ]
     },
     "execution_count": 116,
     "metadata": {},
     "output_type": "execute_result"
    }
   ],
   "source": [
    "clean = clean.drop(columns=[1])\n",
    "clean.head(5)"
   ]
  },
  {
   "cell_type": "markdown",
   "metadata": {
    "colab_type": "text",
    "id": "j-Hlh2-MBVSJ"
   },
   "source": [
    "Check that there are only 2 labels (binary) and see the amount of each."
   ]
  },
  {
   "cell_type": "code",
   "execution_count": 117,
   "metadata": {
    "colab": {
     "base_uri": "https://localhost:8080/",
     "height": 0
    },
    "colab_type": "code",
    "id": "Ey12hOuG-uqt",
    "outputId": "c84b44bc-b62e-470a-bc93-3b229185d125"
   },
   "outputs": [
    {
     "data": {
      "text/html": [
       "<div>\n",
       "<style scoped>\n",
       "    .dataframe tbody tr th:only-of-type {\n",
       "        vertical-align: middle;\n",
       "    }\n",
       "\n",
       "    .dataframe tbody tr th {\n",
       "        vertical-align: top;\n",
       "    }\n",
       "\n",
       "    .dataframe thead th {\n",
       "        text-align: right;\n",
       "    }\n",
       "</style>\n",
       "<table border=\"1\" class=\"dataframe\">\n",
       "  <thead>\n",
       "    <tr style=\"text-align: right;\">\n",
       "      <th></th>\n",
       "      <th>0</th>\n",
       "      <th>2</th>\n",
       "    </tr>\n",
       "    <tr>\n",
       "      <th>2</th>\n",
       "      <th></th>\n",
       "      <th></th>\n",
       "    </tr>\n",
       "  </thead>\n",
       "  <tbody>\n",
       "    <tr>\n",
       "      <th>0</th>\n",
       "      <td>206931</td>\n",
       "      <td>1</td>\n",
       "    </tr>\n",
       "    <tr>\n",
       "      <th>1</th>\n",
       "      <td>394524</td>\n",
       "      <td>1</td>\n",
       "    </tr>\n",
       "  </tbody>\n",
       "</table>\n",
       "</div>"
      ],
      "text/plain": [
       "        0  2\n",
       "2           \n",
       "0  206931  1\n",
       "1  394524  1"
      ]
     },
     "execution_count": 117,
     "metadata": {},
     "output_type": "execute_result"
    }
   ],
   "source": [
    "unique_labels = clean.groupby(2).nunique()\n",
    "unique_labels.head()"
   ]
  },
  {
   "cell_type": "markdown",
   "metadata": {
    "colab_type": "text",
    "id": "K8Uycb9GGM3P"
   },
   "source": [
    "### Train Test Validation Split"
   ]
  },
  {
   "cell_type": "code",
   "execution_count": 118,
   "metadata": {
    "colab": {
     "base_uri": "https://localhost:8080/",
     "height": 0
    },
    "colab_type": "code",
    "id": "C2504BNfH0XH",
    "outputId": "dab3824a-3260-4367-cf37-5612e5511112"
   },
   "outputs": [
    {
     "data": {
      "text/plain": [
       "378098               syntax error insert statement c# oledb\n",
       "274212    applying methods object private variables java...\n",
       "527013        xampp openssl errors calling openssl_pkey_new\n",
       "25072                                      let buyer beware\n",
       "491370                         read write locking confusion\n",
       "Name: 0, dtype: object"
      ]
     },
     "execution_count": 118,
     "metadata": {},
     "output_type": "execute_result"
    }
   ],
   "source": [
    "clean_data = clean[0]\n",
    "clean_data.head()"
   ]
  },
  {
   "cell_type": "code",
   "execution_count": 119,
   "metadata": {
    "colab": {
     "base_uri": "https://localhost:8080/",
     "height": 0
    },
    "colab_type": "code",
    "id": "qqTBtKswH8OJ",
    "outputId": "65cf932d-f4c9-4fb4-ede4-9a3aaf2adeac"
   },
   "outputs": [
    {
     "data": {
      "text/plain": [
       "378098    1\n",
       "274212    1\n",
       "527013    1\n",
       "25072     0\n",
       "491370    1\n",
       "Name: 2, dtype: int64"
      ]
     },
     "execution_count": 119,
     "metadata": {},
     "output_type": "execute_result"
    }
   ],
   "source": [
    "clean_labels = clean[2]\n",
    "clean_labels.head()"
   ]
  },
  {
   "cell_type": "markdown",
   "metadata": {
    "colab_type": "text",
    "id": "yfR0S79LKM2z"
   },
   "source": [
    "First we split off the validation set as 20% of the overall data set."
   ]
  },
  {
   "cell_type": "code",
   "execution_count": 120,
   "metadata": {
    "colab": {},
    "colab_type": "code",
    "id": "6PcNZLs0GP-p"
   },
   "outputs": [],
   "source": [
    "df_data, X_val, df_labels, y_val = train_test_split(\n",
    "    clean_data, clean_labels, test_size=0.2, random_state=42, shuffle=False)"
   ]
  },
  {
   "cell_type": "markdown",
   "metadata": {
    "colab_type": "text",
    "id": "kavGbj5CKRZN"
   },
   "source": [
    "Then we split the remaining into training and test data."
   ]
  },
  {
   "cell_type": "code",
   "execution_count": 121,
   "metadata": {
    "colab": {},
    "colab_type": "code",
    "id": "sPhhujziIHDE"
   },
   "outputs": [],
   "source": [
    "X_train, X_test, y_train, y_test = train_test_split(df_data, df_labels, test_size=0.25,\n",
    "                                                        random_state=42,\n",
    "                                                        shuffle=False)"
   ]
  },
  {
   "cell_type": "markdown",
   "metadata": {
    "colab_type": "text",
    "id": "GiTur5D4KUyn"
   },
   "source": [
    "The end result is 60% training data, 20% test data and 20% validation data"
   ]
  },
  {
   "cell_type": "code",
   "execution_count": 122,
   "metadata": {
    "colab": {
     "base_uri": "https://localhost:8080/",
     "height": 0
    },
    "colab_type": "code",
    "id": "FwaIgNTCJb7M",
    "outputId": "6afe31fd-b25e-4b52-d10e-4c7f156034e6"
   },
   "outputs": [
    {
     "name": "stdout",
     "output_type": "stream",
     "text": [
      "Shape of X_train (369285,)\n",
      "Shape of y_train (369285,)\n",
      "Shape of X_test (123096,)\n",
      "Shape of y_test (123096,)\n",
      "Shape of X_val (123096,)\n",
      "Shape of y_val (123096,)\n"
     ]
    }
   ],
   "source": [
    "print(\"Shape of X_train\", X_train.shape)\n",
    "print(\"Shape of y_train\", X_train.shape)\n",
    "print(\"Shape of X_test\", X_test.shape)\n",
    "print(\"Shape of y_test\", y_test.shape)\n",
    "print(\"Shape of X_val\", X_val.shape)\n",
    "print(\"Shape of y_val\", y_val.shape)"
   ]
  },
  {
   "cell_type": "markdown",
   "metadata": {
    "colab_type": "text",
    "id": "1RdDnZ0QLkGa"
   },
   "source": [
    "### Apply TF-IDF Weighting"
   ]
  },
  {
   "cell_type": "markdown",
   "metadata": {
    "colab_type": "text",
    "id": "BcqGn8mNM3QP"
   },
   "source": [
    "We first need to learn the words for the dictionary from our training data."
   ]
  },
  {
   "cell_type": "code",
   "execution_count": 123,
   "metadata": {
    "colab": {
     "base_uri": "https://localhost:8080/",
     "height": 0
    },
    "colab_type": "code",
    "id": "XBmLxj__Lm_f",
    "outputId": "5a4b8e86-042f-4a75-cec6-826e694c3ae4"
   },
   "outputs": [
    {
     "name": "stdout",
     "output_type": "stream",
     "text": [
      "Wall time: 7.79 s\n"
     ]
    },
    {
     "data": {
      "text/plain": [
       "<369285x65392 sparse matrix of type '<class 'numpy.float64'>'\n",
       "\twith 2693587 stored elements in Compressed Sparse Row format>"
      ]
     },
     "execution_count": 123,
     "metadata": {},
     "output_type": "execute_result"
    }
   ],
   "source": [
    "vectorizer = TfidfVectorizer(norm=u'l1', token_pattern='(\\S+)', min_df=5, max_df=0.9, ngram_range=(1,2))\n",
    "\n",
    "%time vectorizer.fit_transform(X_train)\n",
    "# print(vectorizer.get_feature_names(10))"
   ]
  },
  {
   "cell_type": "markdown",
   "metadata": {
    "colab_type": "text",
    "id": "RWh_ekQzOMSs"
   },
   "source": [
    "Apply this learned TF-IDF transform to our different dataframes"
   ]
  },
  {
   "cell_type": "code",
   "execution_count": 124,
   "metadata": {
    "colab": {
     "base_uri": "https://localhost:8080/",
     "height": 0
    },
    "colab_type": "code",
    "id": "5YCiM_i5MqZ_",
    "outputId": "22440d0c-83b0-4ade-e550-1521e5debcf1"
   },
   "outputs": [
    {
     "name": "stdout",
     "output_type": "stream",
     "text": [
      "Wall time: 3.93 s\n",
      "Wall time: 1.29 s\n",
      "Wall time: 1.3 s\n"
     ]
    }
   ],
   "source": [
    "%time train_tf = vectorizer.transform(X_train)\n",
    "# train_tf = csr_matrix.mean(train_tf, axis=0)\n",
    "\n",
    "%time test_tf = vectorizer.transform(X_test)\n",
    "# test_tf = csr_matrix.mean(test_tf, axis=0)\n",
    "\n",
    "%time val_tf = vectorizer.transform(X_val)\n",
    "# val_tf = csr_matrix.mean(val_tf, axis=0)"
   ]
  },
  {
   "cell_type": "markdown",
   "metadata": {
    "colab_type": "text",
    "id": "40Ui_FgnOm8y"
   },
   "source": [
    "We can see that the different dataframes have been transformed intt Compressed Sparse Row format data. This is very important as sparsity has a big impact on accuracy."
   ]
  },
  {
   "cell_type": "code",
   "execution_count": 125,
   "metadata": {
    "colab": {
     "base_uri": "https://localhost:8080/",
     "height": 0
    },
    "colab_type": "code",
    "id": "tST_JeYgORw1",
    "outputId": "cd522483-8e07-4ac8-d738-74a30a904d5a"
   },
   "outputs": [
    {
     "name": "stdout",
     "output_type": "stream",
     "text": [
      "Shape of train_tf (369285, 65392)\n",
      "Shape of test_tf (123096, 65392)\n",
      "Shape of val_tf (123096, 65392)\n"
     ]
    }
   ],
   "source": [
    "print(\"Shape of train_tf\", train_tf.shape)\n",
    "\n",
    "print(\"Shape of test_tf\", test_tf.shape)\n",
    "\n",
    "print(\"Shape of val_tf\", val_tf.shape)"
   ]
  },
  {
   "cell_type": "code",
   "execution_count": 126,
   "metadata": {},
   "outputs": [],
   "source": [
    "true_label = y_test.values"
   ]
  },
  {
   "cell_type": "markdown",
   "metadata": {
    "colab_type": "text",
    "id": "t5O8cW0APWn9"
   },
   "source": [
    "## Classify CSR"
   ]
  },
  {
   "cell_type": "markdown",
   "metadata": {
    "colab_type": "text",
    "id": "up8rnEG-VDV2"
   },
   "source": [
    "First we will attempt to classify the full CSR dataset"
   ]
  },
  {
   "cell_type": "markdown",
   "metadata": {
    "colab_type": "text",
    "id": "9nTR2uuyVKmN"
   },
   "source": [
    "### Naive Bayes\n",
    "Interestingly this crashes and causes the runtime to reset as the dimensionality is too high."
   ]
  },
  {
   "cell_type": "code",
   "execution_count": 127,
   "metadata": {
    "colab": {},
    "colab_type": "code",
    "id": "2BMZ-FK7P0hy"
   },
   "outputs": [],
   "source": [
    "# nb = GaussianNB()\n",
    "# nb.fit(train_tf.todense(), y_train.astype(int))"
   ]
  },
  {
   "cell_type": "code",
   "execution_count": 128,
   "metadata": {
    "colab": {},
    "colab_type": "code",
    "id": "ICikjGgRUMlD"
   },
   "outputs": [],
   "source": [
    "# nb_score_test = nb.score(test_tf.todense(), y_test.astype(int))\n",
    "# nb_score_test"
   ]
  },
  {
   "cell_type": "markdown",
   "metadata": {
    "colab_type": "text",
    "id": "WbSCoHqJRicZ"
   },
   "source": [
    "### Linear Regression"
   ]
  },
  {
   "cell_type": "code",
   "execution_count": 129,
   "metadata": {
    "colab": {
     "base_uri": "https://localhost:8080/",
     "height": 67
    },
    "colab_type": "code",
    "id": "mYa-7yCvQEiY",
    "outputId": "f882414c-4f46-456e-bda1-a4c2e916b334"
   },
   "outputs": [
    {
     "name": "stdout",
     "output_type": "stream",
     "text": [
      "Wall time: 38.4 s\n"
     ]
    }
   ],
   "source": [
    "if LOAD_MODELS == 0:\n",
    "    %time linr.fit(train_tf, y_train.astype(int))"
   ]
  },
  {
   "cell_type": "code",
   "execution_count": 130,
   "metadata": {
    "colab": {
     "base_uri": "https://localhost:8080/",
     "height": 67
    },
    "colab_type": "code",
    "id": "HG9Pe5DmQ8TL",
    "outputId": "91c68b3a-9160-4f67-e474-92ccc70d06c0"
   },
   "outputs": [],
   "source": [
    "# %time linr_score_test = linr.score(test_tf, y_test.astype(int))\n",
    "# print(linr_score_test*100"
   ]
  },
  {
   "cell_type": "code",
   "execution_count": 131,
   "metadata": {},
   "outputs": [
    {
     "name": "stdout",
     "output_type": "stream",
     "text": [
      "Wall time: 1min 33s\n",
      "Accuracy: 0.81 (+/- 0.01)\n"
     ]
    }
   ],
   "source": [
    "%time scores = cross_val_score(linr, test_tf, true_label, cv=StratifiedKFold(n_splits=5, random_state=42))\n",
    "print(\"Accuracy: %0.2f (+/- %0.2f)\" % (scores.mean(), scores.std() * 2))"
   ]
  },
  {
   "cell_type": "markdown",
   "metadata": {
    "colab_type": "text",
    "id": "KPkOQYptj7pk"
   },
   "source": [
    "We don't have a confusion matrix for the LR as it returns continuous results not discrete ones"
   ]
  },
  {
   "cell_type": "markdown",
   "metadata": {
    "colab_type": "text",
    "id": "RiiKY9yHRnS1"
   },
   "source": [
    "### Logistic Regression"
   ]
  },
  {
   "cell_type": "code",
   "execution_count": 132,
   "metadata": {
    "colab": {
     "base_uri": "https://localhost:8080/",
     "height": 134
    },
    "colab_type": "code",
    "id": "XY9HT8zQRqMQ",
    "outputId": "870895ce-1b99-4fdf-f8d2-067362000cea"
   },
   "outputs": [
    {
     "name": "stdout",
     "output_type": "stream",
     "text": [
      "Wall time: 7.45 s\n"
     ]
    }
   ],
   "source": [
    "if LOAD_MODELS == 0:\n",
    "    %time lr.fit(train_tf, y_train)"
   ]
  },
  {
   "cell_type": "code",
   "execution_count": 133,
   "metadata": {
    "colab": {
     "base_uri": "https://localhost:8080/",
     "height": 67
    },
    "colab_type": "code",
    "id": "lv1Uzj2HR-5L",
    "outputId": "0aa92724-094b-4fcc-a791-225a948f718c"
   },
   "outputs": [],
   "source": [
    "# %time lr_score_test = lr.score(test_tf, y_test.astype(int))\n",
    "# print(lr_score_test*100)\n",
    "# %time scores = cross_val_score(lr, test_tf, true_label, cv=StratifiedKFold(n_splits=5, random_state=42))\n",
    "# print(\"Accuracy: %0.2f (+/- %0.2f)\" % (scores.mean(), scores.std() * 2))"
   ]
  },
  {
   "cell_type": "markdown",
   "metadata": {
    "colab_type": "text",
    "id": "HL0BTUVhkCfM"
   },
   "source": [
    "We can better understand the accuracy by looking at a confusion matrix\n",
    "\n",
    "\n"
   ]
  },
  {
   "cell_type": "code",
   "execution_count": 134,
   "metadata": {
    "colab": {
     "base_uri": "https://localhost:8080/",
     "height": 379
    },
    "colab_type": "code",
    "id": "jsc9tHHPfDXL",
    "outputId": "1489fed6-c42d-45a2-9c1d-f1dc63260143"
   },
   "outputs": [
    {
     "name": "stderr",
     "output_type": "stream",
     "text": [
      "[Parallel(n_jobs=-1)]: Using backend LokyBackend with 12 concurrent workers.\n",
      "[Parallel(n_jobs=-1)]: Done   3 out of   5 | elapsed:    2.0s remaining:    1.3s\n",
      "[Parallel(n_jobs=-1)]: Done   5 out of   5 | elapsed:    2.0s finished\n"
     ]
    },
    {
     "name": "stdout",
     "output_type": "stream",
     "text": [
      "Log loss: 0.07102515378873356\n",
      "Accuracy: 0.9844267888477286\n"
     ]
    },
    {
     "data": {
      "text/plain": [
       "array([1, 1, 1, ..., 1, 0, 1], dtype=int64)"
      ]
     },
     "execution_count": 134,
     "metadata": {},
     "output_type": "execute_result"
    },
    {
     "data": {
      "image/png": "[encoded data removed]",
      "text/plain": [
       "<Figure size 432x288 with 2 Axes>"
      ]
     },
     "metadata": {
      "needs_background": "light"
     },
     "output_type": "display_data"
    }
   ],
   "source": [
    "evaluate_features(test_tf, y_test, lr)"
   ]
  },
  {
   "cell_type": "markdown",
   "metadata": {
    "colab_type": "text",
    "id": "qCTnYpXvW6_T"
   },
   "source": [
    "### Support Vector Machine\n",
    "The high dimensionality means that this takes a ridiculous amount of time to run."
   ]
  },
  {
   "cell_type": "code",
   "execution_count": 135,
   "metadata": {
    "colab": {},
    "colab_type": "code",
    "id": "99h61zvwYikw"
   },
   "outputs": [],
   "source": [
    "# clf = svm.SVC(kernel='linear', C=1, random_state=42)\n",
    "# %time clf.fit(train_tf, y_train.astype(int))"
   ]
  },
  {
   "cell_type": "code",
   "execution_count": 136,
   "metadata": {
    "colab": {},
    "colab_type": "code",
    "id": "FyT3M3G3Yik1"
   },
   "outputs": [],
   "source": [
    "# %time clf_score = clf.score(test_tf, y_test.astype(int))\n",
    "# print(\"SVM accuracy on test:\\t %f\" % clf_score)"
   ]
  },
  {
   "cell_type": "markdown",
   "metadata": {
    "colab_type": "text",
    "id": "Kl3AFQwAsfoO"
   },
   "source": [
    "### Random Forest\n",
    "The high dimensionality means that this takes a ridiculous amount of time to run."
   ]
  },
  {
   "cell_type": "code",
   "execution_count": 137,
   "metadata": {
    "colab": {
     "base_uri": "https://localhost:8080/",
     "height": 168
    },
    "colab_type": "code",
    "id": "5GSyFlIUsjfN",
    "outputId": "c161c5d6-bfbf-4f8e-d5cb-bc28e0522015"
   },
   "outputs": [
    {
     "name": "stdout",
     "output_type": "stream",
     "text": [
      "Wall time: 1min 6s\n"
     ]
    }
   ],
   "source": [
    "if LOAD_MODELS == 0:\n",
    "    %time rf.fit(train_tf, y_train.astype(int))"
   ]
  },
  {
   "cell_type": "code",
   "execution_count": 138,
   "metadata": {
    "colab": {
     "base_uri": "https://localhost:8080/",
     "height": 67
    },
    "colab_type": "code",
    "id": "YMQ6Qi-7srF1",
    "outputId": "8d2fdfef-82a3-4665-b3e2-e60fa8bb6e3d"
   },
   "outputs": [],
   "source": [
    "# %time rf_score = rf.score(test_tf, y_test.astype(int))\n",
    "# print(\"RF accuracy on test:\\t %f\" % rf_score)\n",
    "# %time scores = cross_val_score(rf, test_tf, true_label, cv=StratifiedKFold(n_splits=5, random_state=42))\n",
    "# print(\"Accuracy: %0.2f (+/- %0.2f)\" % (scores.mean(), scores.std() * 2))"
   ]
  },
  {
   "cell_type": "markdown",
   "metadata": {
    "colab_type": "text",
    "id": "L-ccw4zOkRd_"
   },
   "source": [
    "We can better understand the accuracy by looking at a confusion matrix"
   ]
  },
  {
   "cell_type": "code",
   "execution_count": 139,
   "metadata": {
    "colab": {
     "base_uri": "https://localhost:8080/",
     "height": 379
    },
    "colab_type": "code",
    "id": "GLRxGumshzAd",
    "outputId": "6cfc361e-e0d6-4590-c387-5875b90402f9"
   },
   "outputs": [
    {
     "name": "stderr",
     "output_type": "stream",
     "text": [
      "[Parallel(n_jobs=-1)]: Using backend LokyBackend with 12 concurrent workers.\n",
      "[Parallel(n_jobs=-1)]: Done   3 out of   5 | elapsed:  4.8min remaining:  3.2min\n",
      "[Parallel(n_jobs=-1)]: Done   5 out of   5 | elapsed:  4.8min finished\n"
     ]
    },
    {
     "name": "stdout",
     "output_type": "stream",
     "text": [
      "Log loss: 0.538445689747993\n",
      "Accuracy: 0.7524533697276922\n"
     ]
    },
    {
     "data": {
      "text/plain": [
       "array([1, 1, 1, ..., 1, 0, 1], dtype=int64)"
      ]
     },
     "execution_count": 139,
     "metadata": {},
     "output_type": "execute_result"
    },
    {
     "data": {
      "image/png": "[encoded data removed]",
      "text/plain": [
       "<Figure size 432x288 with 2 Axes>"
      ]
     },
     "metadata": {
      "needs_background": "light"
     },
     "output_type": "display_data"
    }
   ],
   "source": [
    "evaluate_features(test_tf, y_test, rf)"
   ]
  },
  {
   "cell_type": "markdown",
   "metadata": {
    "colab_type": "text",
    "id": "e8ZtHimY-vBB"
   },
   "source": [
    "We could use a gridsearch to find optimal paramters for a classifier"
   ]
  },
  {
   "cell_type": "code",
   "execution_count": 140,
   "metadata": {
    "colab": {},
    "colab_type": "code",
    "id": "xGplZk3LkDfR"
   },
   "outputs": [],
   "source": [
    "# rf_grid = RandomForestClassifier(random_state=42)\n",
    "\n",
    "# param_grid = { \n",
    "#     'n_estimators': [100, 120, 140, 160, 180, 200, 220, 240, 260],\n",
    "#     'min_samples_leaf': [3, 5, 7],\n",
    "#     'min_samples_split': [2, 3, 4, 5, 6],\n",
    "#     'max_depth' : [5, 10, 15, 20, 25, 30, 35, 40, 45],\n",
    "#     'criterion' :['gini', 'entropy']\n",
    "# }\n",
    "\n",
    "\n",
    "# CV_rf = GridSearchCV(estimator=rf_grid, param_grid=param_grid, cv= 5, n_jobs = -1, \n",
    "#                      verbose = 2)\n",
    "# CV_rf.fit(train_tf, y_train.astype(int))\n",
    "# CV_rf.best_params_"
   ]
  },
  {
   "cell_type": "markdown",
   "metadata": {
    "colab_type": "text",
    "id": "ylDHai-RTmFH"
   },
   "source": [
    "## Scores on CSR Validation Set"
   ]
  },
  {
   "cell_type": "code",
   "execution_count": 141,
   "metadata": {
    "colab": {},
    "colab_type": "code",
    "id": "J1DLXODl_VBA"
   },
   "outputs": [],
   "source": [
    "# nb_score_val = nb.score(val_tf.todense(), y_val.astype(int))\n",
    "# nb_score_val"
   ]
  },
  {
   "cell_type": "code",
   "execution_count": 142,
   "metadata": {
    "colab": {
     "base_uri": "https://localhost:8080/",
     "height": 0
    },
    "colab_type": "code",
    "id": "OUfC603_RZwX",
    "outputId": "9ecb93c9-73dc-4acb-d6e5-0bb779a6339f"
   },
   "outputs": [
    {
     "name": "stdout",
     "output_type": "stream",
     "text": [
      "Wall time: 1min 38s\n",
      "Accuracy: 0.81 (+/- 0.01)\n"
     ]
    }
   ],
   "source": [
    "# linr_score_val = linr.score(val_tf, y_val)\n",
    "# linr_score_val\n",
    "%time scores = cross_val_score(linr, val_tf, y_val, cv=StratifiedKFold(n_splits=5, random_state=42))\n",
    "print(\"Accuracy: %0.2f (+/- %0.2f)\" % (scores.mean(), scores.std() * 2))"
   ]
  },
  {
   "cell_type": "code",
   "execution_count": 143,
   "metadata": {
    "colab": {
     "base_uri": "https://localhost:8080/",
     "height": 0
    },
    "colab_type": "code",
    "id": "zYc69BoATjlt",
    "outputId": "a25a1baf-2a99-4bce-ac40-b717cf13caf6"
   },
   "outputs": [
    {
     "name": "stdout",
     "output_type": "stream",
     "text": [
      "Wall time: 5.77 s\n",
      "Accuracy: 0.98 (+/- 0.00)\n"
     ]
    }
   ],
   "source": [
    "# lr_score_val = lr.score(val_tf, y_val.astype(int))\n",
    "# lr_score_val\n",
    "%time scores = cross_val_score(lr, val_tf, y_val, cv=StratifiedKFold(n_splits=5, random_state=42))\n",
    "print(\"Accuracy: %0.2f (+/- %0.2f)\" % (scores.mean(), scores.std() * 2))"
   ]
  },
  {
   "cell_type": "code",
   "execution_count": 144,
   "metadata": {
    "colab": {},
    "colab_type": "code",
    "id": "fRxfvE62XVET"
   },
   "outputs": [],
   "source": [
    "# clf_score_val = clf.score(X_val, y_val.astype(int))\n",
    "# clf_score_val"
   ]
  },
  {
   "cell_type": "code",
   "execution_count": 145,
   "metadata": {
    "colab": {
     "base_uri": "https://localhost:8080/",
     "height": 0
    },
    "colab_type": "code",
    "id": "CCJyNWqG_fAY",
    "outputId": "46543c8c-8b55-49b4-8482-5ab9499ff468"
   },
   "outputs": [
    {
     "name": "stdout",
     "output_type": "stream",
     "text": [
      "Wall time: 5min 16s\n",
      "Accuracy: 0.75 (+/- 0.00)\n"
     ]
    }
   ],
   "source": [
    "# rf_score_val = rf.score(val_tf, y_val.astype(int))\n",
    "# rf_score_val\n",
    "%time scores = cross_val_score(rf, val_tf, y_val, cv=StratifiedKFold(n_splits=5, random_state=42))\n",
    "print(\"Accuracy: %0.2f (+/- %0.2f)\" % (scores.mean(), scores.std() * 2))"
   ]
  },
  {
   "cell_type": "markdown",
   "metadata": {
    "colab_type": "text",
    "id": "-QcUuQC2ZyuY"
   },
   "source": [
    "## Classify Reduced\n",
    "We will now reduce the dimensionality of the dataset and rety classification."
   ]
  },
  {
   "cell_type": "markdown",
   "metadata": {
    "colab_type": "text",
    "id": "Ki7quJoqelMx"
   },
   "source": [
    "### Reduce Dimensions using SVD"
   ]
  },
  {
   "cell_type": "code",
   "execution_count": 146,
   "metadata": {
    "colab": {},
    "colab_type": "code",
    "id": "WpwONijVen3V"
   },
   "outputs": [],
   "source": [
    "NUM_DIMEN = 50\n",
    "svd = TruncatedSVD(n_components=NUM_DIMEN)"
   ]
  },
  {
   "cell_type": "code",
   "execution_count": 147,
   "metadata": {
    "colab": {
     "base_uri": "https://localhost:8080/",
     "height": 0
    },
    "colab_type": "code",
    "id": "w_BQ2tIWfV62",
    "outputId": "c9711984-fb27-4bdf-9682-625f0a6a60c8"
   },
   "outputs": [
    {
     "name": "stdout",
     "output_type": "stream",
     "text": [
      "Wall time: 8.71 s\n",
      "Training data variance with 50 SVD components is 1.627968\n"
     ]
    }
   ],
   "source": [
    "%time train_sv = svd.fit_transform(train_tf)\n",
    "var = svd.explained_variance_.sum() * 100\n",
    "print(\"Training data variance with %d SVD components is %f\" % (NUM_DIMEN, var))"
   ]
  },
  {
   "cell_type": "code",
   "execution_count": 148,
   "metadata": {
    "colab": {
     "base_uri": "https://localhost:8080/",
     "height": 0
    },
    "colab_type": "code",
    "id": "WBY-IR3nVNh6",
    "outputId": "97532ba2-0775-434f-d916-c1925d0b2f1c"
   },
   "outputs": [
    {
     "name": "stdout",
     "output_type": "stream",
     "text": [
      "Wall time: 3.15 s\n",
      "Wall time: 3.14 s\n"
     ]
    }
   ],
   "source": [
    "%time test_sv = svd.fit_transform(test_tf)\n",
    "%time val_sv = svd.fit_transform(val_tf)"
   ]
  },
  {
   "cell_type": "code",
   "execution_count": 149,
   "metadata": {
    "colab": {
     "base_uri": "https://localhost:8080/",
     "height": 0
    },
    "colab_type": "code",
    "id": "ekXBGF3GgRmw",
    "outputId": "0abfc210-12ba-412b-c52f-b0414fffec1c"
   },
   "outputs": [
    {
     "name": "stdout",
     "output_type": "stream",
     "text": [
      "Shape of train_sv (369285, 50)\n",
      "Shape of test_sv (123096, 50)\n",
      "Shape of val_sv (123096, 50)\n"
     ]
    }
   ],
   "source": [
    "print(\"Shape of train_sv\", train_sv.shape)\n",
    "\n",
    "print(\"Shape of test_sv\", test_sv.shape)\n",
    "\n",
    "print(\"Shape of val_sv\", val_sv.shape)"
   ]
  },
  {
   "cell_type": "markdown",
   "metadata": {
    "colab_type": "text",
    "id": "Yrn7z396hdtw"
   },
   "source": [
    "### Naive Bayes\n",
    "With the reduced dimensionality we can use a Naive Bayes classifier"
   ]
  },
  {
   "cell_type": "code",
   "execution_count": 150,
   "metadata": {
    "colab": {
     "base_uri": "https://localhost:8080/",
     "height": 67
    },
    "colab_type": "code",
    "id": "VJ_BBtnxhdty",
    "outputId": "20ae655a-afb5-4139-9824-e6ecd3857e32"
   },
   "outputs": [
    {
     "name": "stdout",
     "output_type": "stream",
     "text": [
      "Wall time: 435 ms\n"
     ]
    }
   ],
   "source": [
    "if LOAD_MODELS == 0:\n",
    "    %time nb_sv.fit(train_sv, y_train.astype(int))"
   ]
  },
  {
   "cell_type": "code",
   "execution_count": 151,
   "metadata": {
    "colab": {
     "base_uri": "https://localhost:8080/",
     "height": 67
    },
    "colab_type": "code",
    "id": "jqcZJylEhdt1",
    "outputId": "e2089619-3609-41fc-99a0-c773483e8b0c"
   },
   "outputs": [],
   "source": [
    "# %time nb_score_test_sv = nb_sv.score(test_sv, y_test.astype(int))\n",
    "# nb_score_test_sv*100\n",
    "# %time scores = cross_val_score(nb_sv, test_sv, true_label, cv=StratifiedKFold(n_splits=5, random_state=42))\n",
    "# print(\"Accuracy: %0.2f (+/- %0.2f)\" % (scores.mean(), scores.std() * 2))"
   ]
  },
  {
   "cell_type": "markdown",
   "metadata": {
    "colab_type": "text",
    "id": "UDBbEU4CkzNV"
   },
   "source": [
    "We can better understand the accuracy by looking at a confusion matrix"
   ]
  },
  {
   "cell_type": "code",
   "execution_count": 152,
   "metadata": {
    "colab": {
     "base_uri": "https://localhost:8080/",
     "height": 379
    },
    "colab_type": "code",
    "id": "A0Ev7QQOkzNW",
    "outputId": "f3aa89f9-c75d-40df-b7f8-9c1c5ce1ed7b"
   },
   "outputs": [
    {
     "name": "stderr",
     "output_type": "stream",
     "text": [
      "[Parallel(n_jobs=-1)]: Using backend LokyBackend with 12 concurrent workers.\n",
      "[Parallel(n_jobs=-1)]: Done   3 out of   5 | elapsed:    0.4s remaining:    0.2s\n",
      "[Parallel(n_jobs=-1)]: Done   5 out of   5 | elapsed:    0.4s finished\n"
     ]
    },
    {
     "name": "stdout",
     "output_type": "stream",
     "text": [
      "Log loss: 2.0871168371289723\n",
      "Accuracy: 0.8116835640475726\n"
     ]
    },
    {
     "data": {
      "text/plain": [
       "array([1, 1, 1, ..., 1, 0, 1], dtype=int64)"
      ]
     },
     "execution_count": 152,
     "metadata": {},
     "output_type": "execute_result"
    },
    {
     "data": {
      "image/png": "[encoded data removed]",
      "text/plain": [
       "<Figure size 432x288 with 2 Axes>"
      ]
     },
     "metadata": {
      "needs_background": "light"
     },
     "output_type": "display_data"
    }
   ],
   "source": [
    "evaluate_features(test_sv, y_test, nb_sv)"
   ]
  },
  {
   "cell_type": "markdown",
   "metadata": {
    "colab_type": "text",
    "id": "BKs9EyQrhdt2"
   },
   "source": [
    "### Linear Regression"
   ]
  },
  {
   "cell_type": "code",
   "execution_count": 153,
   "metadata": {
    "colab": {
     "base_uri": "https://localhost:8080/",
     "height": 67
    },
    "colab_type": "code",
    "id": "Lt5o0VB9hdt3",
    "outputId": "3f9b9b6e-2011-4042-f687-85095967895f"
   },
   "outputs": [
    {
     "name": "stdout",
     "output_type": "stream",
     "text": [
      "Wall time: 672 ms\n"
     ]
    }
   ],
   "source": [
    "if LOAD_MODELS == 0:\n",
    "    %time linr_sv.fit(train_sv, y_train.astype(int))"
   ]
  },
  {
   "cell_type": "code",
   "execution_count": 154,
   "metadata": {
    "colab": {
     "base_uri": "https://localhost:8080/",
     "height": 67
    },
    "colab_type": "code",
    "id": "5ZPTHJmmhdt8",
    "outputId": "0a9cd712-bfe3-487e-e020-08366196ee7d"
   },
   "outputs": [],
   "source": [
    "# %time linr_score_test_sv = linr_sv.score(test_sv, y_test.astype(int))\n",
    "# linr_score_test_sv*100"
   ]
  },
  {
   "cell_type": "code",
   "execution_count": 155,
   "metadata": {},
   "outputs": [
    {
     "name": "stdout",
     "output_type": "stream",
     "text": [
      "Wall time: 838 ms\n",
      "Accuracy: 0.51 (+/- 0.01)\n"
     ]
    }
   ],
   "source": [
    "%time scores = cross_val_score(linr_sv, test_sv, true_label, cv=StratifiedKFold(n_splits=5, random_state=42))\n",
    "print(\"Accuracy: %0.2f (+/- %0.2f)\" % (scores.mean(), scores.std() * 2))"
   ]
  },
  {
   "cell_type": "markdown",
   "metadata": {
    "colab_type": "text",
    "id": "pT2_fXOhlLEb"
   },
   "source": [
    "We don't have a confusion matrix for the LR as it returns continuous results not discrete ones"
   ]
  },
  {
   "cell_type": "markdown",
   "metadata": {
    "colab_type": "text",
    "id": "edy7q2p7hdt_"
   },
   "source": [
    "### Logistic Regression"
   ]
  },
  {
   "cell_type": "code",
   "execution_count": 156,
   "metadata": {
    "colab": {
     "base_uri": "https://localhost:8080/",
     "height": 134
    },
    "colab_type": "code",
    "id": "gQsyOQbThduA",
    "outputId": "036187b1-6c32-408a-cbdb-8b26d82da026"
   },
   "outputs": [
    {
     "name": "stdout",
     "output_type": "stream",
     "text": [
      "Wall time: 24.5 s\n"
     ]
    }
   ],
   "source": [
    "if LOAD_MODELS == 0:\n",
    "    %time lr_sv.fit(train_sv, y_train.values)"
   ]
  },
  {
   "cell_type": "code",
   "execution_count": 157,
   "metadata": {
    "colab": {
     "base_uri": "https://localhost:8080/",
     "height": 67
    },
    "colab_type": "code",
    "id": "t_WrE9-hhduC",
    "outputId": "0be2cdf8-2cb4-4fa9-b223-f0bf18faa2f7"
   },
   "outputs": [],
   "source": [
    "# %time lr_score_test_sv = lr_sv.score(test_sv, true_label)\n",
    "# print(\"Accuracy: \", lr_score_test_sv)\n",
    "# %time scores = cross_val_score(lr_sv, test_sv, true_label, cv=StratifiedKFold(n_splits=5, random_state=42))\n",
    "# print(\"Accuracy: %0.2f (+/- %0.2f)\" % (scores.mean(), scores.std() * 2))"
   ]
  },
  {
   "cell_type": "markdown",
   "metadata": {
    "colab_type": "text",
    "id": "uJXqj7eyk9bK"
   },
   "source": [
    "We can better understand the accuracy by looking at a confusion matrix"
   ]
  },
  {
   "cell_type": "code",
   "execution_count": 158,
   "metadata": {
    "colab": {},
    "colab_type": "code",
    "id": "A_poAxOdk9bL"
   },
   "outputs": [
    {
     "name": "stderr",
     "output_type": "stream",
     "text": [
      "[Parallel(n_jobs=-1)]: Using backend LokyBackend with 12 concurrent workers.\n",
      "[Parallel(n_jobs=-1)]: Done   3 out of   5 | elapsed:    3.1s remaining:    2.0s\n",
      "[Parallel(n_jobs=-1)]: Done   5 out of   5 | elapsed:    3.2s finished\n"
     ]
    },
    {
     "name": "stdout",
     "output_type": "stream",
     "text": [
      "Log loss: 0.16181579750525807\n",
      "Accuracy: 0.9627688958211478\n"
     ]
    },
    {
     "data": {
      "image/png": "[encoded data removed]",
      "text/plain": [
       "<Figure size 432x288 with 2 Axes>"
      ]
     },
     "metadata": {
      "needs_background": "light"
     },
     "output_type": "display_data"
    }
   ],
   "source": [
    "preds = evaluate_features(test_sv, true_label, lr_sv)"
   ]
  },
  {
   "cell_type": "markdown",
   "metadata": {},
   "source": [
    "Explore the predictions compared to actual labels"
   ]
  },
  {
   "cell_type": "code",
   "execution_count": 159,
   "metadata": {},
   "outputs": [
    {
     "name": "stdout",
     "output_type": "stream",
     "text": [
      "Show performance on first 5 rows\n"
     ]
    },
    {
     "data": {
      "text/html": [
       "<div>\n",
       "<style scoped>\n",
       "    .dataframe tbody tr th:only-of-type {\n",
       "        vertical-align: middle;\n",
       "    }\n",
       "\n",
       "    .dataframe tbody tr th {\n",
       "        vertical-align: top;\n",
       "    }\n",
       "\n",
       "    .dataframe thead th {\n",
       "        text-align: right;\n",
       "    }\n",
       "</style>\n",
       "<table border=\"1\" class=\"dataframe\">\n",
       "  <thead>\n",
       "    <tr style=\"text-align: right;\">\n",
       "      <th></th>\n",
       "      <th>Predictions</th>\n",
       "      <th>Actual</th>\n",
       "      <th>Match</th>\n",
       "    </tr>\n",
       "  </thead>\n",
       "  <tbody>\n",
       "    <tr>\n",
       "      <th>0</th>\n",
       "      <td>1</td>\n",
       "      <td>1</td>\n",
       "      <td>True</td>\n",
       "    </tr>\n",
       "    <tr>\n",
       "      <th>1</th>\n",
       "      <td>1</td>\n",
       "      <td>1</td>\n",
       "      <td>True</td>\n",
       "    </tr>\n",
       "    <tr>\n",
       "      <th>2</th>\n",
       "      <td>1</td>\n",
       "      <td>1</td>\n",
       "      <td>True</td>\n",
       "    </tr>\n",
       "    <tr>\n",
       "      <th>3</th>\n",
       "      <td>1</td>\n",
       "      <td>1</td>\n",
       "      <td>True</td>\n",
       "    </tr>\n",
       "    <tr>\n",
       "      <th>4</th>\n",
       "      <td>0</td>\n",
       "      <td>0</td>\n",
       "      <td>True</td>\n",
       "    </tr>\n",
       "    <tr>\n",
       "      <th>5</th>\n",
       "      <td>0</td>\n",
       "      <td>0</td>\n",
       "      <td>True</td>\n",
       "    </tr>\n",
       "    <tr>\n",
       "      <th>6</th>\n",
       "      <td>0</td>\n",
       "      <td>0</td>\n",
       "      <td>True</td>\n",
       "    </tr>\n",
       "    <tr>\n",
       "      <th>7</th>\n",
       "      <td>1</td>\n",
       "      <td>1</td>\n",
       "      <td>True</td>\n",
       "    </tr>\n",
       "    <tr>\n",
       "      <th>8</th>\n",
       "      <td>1</td>\n",
       "      <td>1</td>\n",
       "      <td>True</td>\n",
       "    </tr>\n",
       "    <tr>\n",
       "      <th>9</th>\n",
       "      <td>1</td>\n",
       "      <td>1</td>\n",
       "      <td>True</td>\n",
       "    </tr>\n",
       "  </tbody>\n",
       "</table>\n",
       "</div>"
      ],
      "text/plain": [
       "   Predictions  Actual  Match\n",
       "0            1       1   True\n",
       "1            1       1   True\n",
       "2            1       1   True\n",
       "3            1       1   True\n",
       "4            0       0   True\n",
       "5            0       0   True\n",
       "6            0       0   True\n",
       "7            1       1   True\n",
       "8            1       1   True\n",
       "9            1       1   True"
      ]
     },
     "execution_count": 159,
     "metadata": {},
     "output_type": "execute_result"
    }
   ],
   "source": [
    "# Match is 'True' when values are the same\n",
    "match = [preds[x] == true_label[x] for x in range(len(preds))]\n",
    "\n",
    "# Combine and show\n",
    "df_compare = pd.DataFrame({'Predictions': preds, 'Actual': true_label, \n",
    "                           'Match': match})\n",
    "\n",
    "print('Show performance on first 5 rows')\n",
    "df_compare.head(10)"
   ]
  },
  {
   "cell_type": "markdown",
   "metadata": {
    "colab_type": "text",
    "id": "Y00algZ1hduG"
   },
   "source": [
    "### Support Vector Machine\n",
    "Even at low dimension this takes a lot of time to run."
   ]
  },
  {
   "cell_type": "code",
   "execution_count": 160,
   "metadata": {
    "colab": {},
    "colab_type": "code",
    "id": "AT5RBj7-hduH"
   },
   "outputs": [],
   "source": [
    "# clf_sv = svm.SVC(kernel='linear', C=1, random_state=42)\n",
    "# %time clf_sv.fit(train_sv, y_train.astype(int))"
   ]
  },
  {
   "cell_type": "code",
   "execution_count": 161,
   "metadata": {
    "colab": {},
    "colab_type": "code",
    "id": "hp2-ZTOnhduI"
   },
   "outputs": [],
   "source": [
    "# %time clf_score_sv = clf_sv.score(test_sv, y_test.astype(int))\n",
    "# print(\"SVM accuracy on test:\\t %f\" % clf_score_sv)"
   ]
  },
  {
   "cell_type": "markdown",
   "metadata": {
    "colab_type": "text",
    "id": "mefGE06xu4Xi"
   },
   "source": [
    "### Random Forest"
   ]
  },
  {
   "cell_type": "code",
   "execution_count": 162,
   "metadata": {
    "colab": {},
    "colab_type": "code",
    "id": "T8-aWktfu4Xl"
   },
   "outputs": [
    {
     "name": "stdout",
     "output_type": "stream",
     "text": [
      "Wall time: 2min 20s\n"
     ]
    }
   ],
   "source": [
    "if LOAD_MODELS == 0:\n",
    "    %time rf_sv.fit(train_sv, y_train.astype(int))"
   ]
  },
  {
   "cell_type": "code",
   "execution_count": 163,
   "metadata": {
    "colab": {},
    "colab_type": "code",
    "id": "Wsg8-Wn8u4Xm"
   },
   "outputs": [],
   "source": [
    "# %time rf_score_sv = rf_sv.score(test_sv, y_test.astype(int))\n",
    "# print(\"RF accuracy on test:\\t %f\" % rf_score_sv)\n",
    "# %time scores = cross_val_score(rf_sv, test_sv, true_label, cv=StratifiedKFold(n_splits=5, random_state=42))\n",
    "# print(\"Accuracy: %0.2f (+/- %0.2f)\" % (scores.mean(), scores.std() * 2))"
   ]
  },
  {
   "cell_type": "code",
   "execution_count": 164,
   "metadata": {},
   "outputs": [
    {
     "name": "stderr",
     "output_type": "stream",
     "text": [
      "[Parallel(n_jobs=-1)]: Using backend LokyBackend with 12 concurrent workers.\n",
      "[Parallel(n_jobs=-1)]: Done   3 out of   5 | elapsed:  2.4min remaining:  1.6min\n",
      "[Parallel(n_jobs=-1)]: Done   5 out of   5 | elapsed:  2.4min finished\n"
     ]
    },
    {
     "name": "stdout",
     "output_type": "stream",
     "text": [
      "Log loss: 0.10682468267660872\n",
      "Accuracy: 0.9643205303178007\n"
     ]
    },
    {
     "data": {
      "text/plain": [
       "array([1, 1, 1, ..., 1, 0, 1], dtype=int64)"
      ]
     },
     "execution_count": 164,
     "metadata": {},
     "output_type": "execute_result"
    },
    {
     "data": {
      "image/png": "[encoded data removed]",
      "text/plain": [
       "<Figure size 432x288 with 2 Axes>"
      ]
     },
     "metadata": {
      "needs_background": "light"
     },
     "output_type": "display_data"
    }
   ],
   "source": [
    "evaluate_features(test_sv, true_label, rf_sv)"
   ]
  },
  {
   "cell_type": "markdown",
   "metadata": {
    "colab_type": "text",
    "id": "ylDHai-RTmFH"
   },
   "source": [
    "## Scores on Reduced Validation Set"
   ]
  },
  {
   "cell_type": "code",
   "execution_count": 165,
   "metadata": {
    "colab": {},
    "colab_type": "code",
    "id": "J1DLXODl_VBA"
   },
   "outputs": [
    {
     "name": "stdout",
     "output_type": "stream",
     "text": [
      "Wall time: 813 ms\n",
      "Accuracy: 0.82 (+/- 0.00)\n"
     ]
    }
   ],
   "source": [
    "%time scores = cross_val_score(nb_sv, val_sv, y_val, cv=StratifiedKFold(n_splits=5, random_state=42))\n",
    "print(\"Accuracy: %0.2f (+/- %0.2f)\" % (scores.mean(), scores.std() * 2))"
   ]
  },
  {
   "cell_type": "code",
   "execution_count": 166,
   "metadata": {
    "colab": {
     "base_uri": "https://localhost:8080/",
     "height": 0
    },
    "colab_type": "code",
    "id": "OUfC603_RZwX",
    "outputId": "9ecb93c9-73dc-4acb-d6e5-0bb779a6339f"
   },
   "outputs": [
    {
     "name": "stdout",
     "output_type": "stream",
     "text": [
      "Wall time: 833 ms\n",
      "Accuracy: 0.52 (+/- 0.01)\n"
     ]
    }
   ],
   "source": [
    "%time scores = cross_val_score(linr_sv, val_sv, y_val, cv=StratifiedKFold(n_splits=5, random_state=42))\n",
    "print(\"Accuracy: %0.2f (+/- %0.2f)\" % (scores.mean(), scores.std() * 2))"
   ]
  },
  {
   "cell_type": "code",
   "execution_count": 167,
   "metadata": {
    "colab": {
     "base_uri": "https://localhost:8080/",
     "height": 0
    },
    "colab_type": "code",
    "id": "zYc69BoATjlt",
    "outputId": "a25a1baf-2a99-4bce-ac40-b717cf13caf6"
   },
   "outputs": [
    {
     "name": "stdout",
     "output_type": "stream",
     "text": [
      "Wall time: 25.9 s\n",
      "Accuracy: 0.96 (+/- 0.00)\n"
     ]
    }
   ],
   "source": [
    "%time scores = cross_val_score(lr_sv, val_sv, y_val, cv=StratifiedKFold(n_splits=5, random_state=42))\n",
    "print(\"Accuracy: %0.2f (+/- %0.2f)\" % (scores.mean(), scores.std() * 2))"
   ]
  },
  {
   "cell_type": "code",
   "execution_count": 168,
   "metadata": {
    "colab": {},
    "colab_type": "code",
    "id": "fRxfvE62XVET"
   },
   "outputs": [],
   "source": [
    "# clf_score_val = clf.score(X_val, y_val.astype(int))\n",
    "# clf_score_val"
   ]
  },
  {
   "cell_type": "code",
   "execution_count": 169,
   "metadata": {
    "colab": {
     "base_uri": "https://localhost:8080/",
     "height": 0
    },
    "colab_type": "code",
    "id": "CCJyNWqG_fAY",
    "outputId": "46543c8c-8b55-49b4-8482-5ab9499ff468"
   },
   "outputs": [
    {
     "name": "stdout",
     "output_type": "stream",
     "text": [
      "Wall time: 2min 40s\n",
      "Accuracy: 0.96 (+/- 0.00)\n"
     ]
    }
   ],
   "source": [
    "%time scores = cross_val_score(rf_sv, val_sv, y_val, cv=StratifiedKFold(n_splits=5, random_state=42))\n",
    "print(\"Accuracy: %0.2f (+/- %0.2f)\" % (scores.mean(), scores.std() * 2))"
   ]
  },
  {
   "cell_type": "markdown",
   "metadata": {},
   "source": [
    "## Let's Save Everything"
   ]
  },
  {
   "cell_type": "code",
   "execution_count": 171,
   "metadata": {},
   "outputs": [
    {
     "name": "stdout",
     "output_type": "stream",
     "text": [
      "Done!\n"
     ]
    }
   ],
   "source": [
    "if LOAD_MODELS == 0:    \n",
    "    pickle.dump( linr, open( \"q1/linr.p\", \"wb\" ) )\n",
    "    pickle.dump( lr, open( \"q1/lr.p\", \"wb\" ) )\n",
    "    pickle.dump( rf, open( \"q1/rf.p\", \"wb\" ) )\n",
    "\n",
    "    pickle.dump( nb_sv, open( \"q1/nb_sv.p\", \"wb\" ) )\n",
    "    pickle.dump( linr_sv, open( \"q1/linr_sv.p\", \"wb\" ) )\n",
    "    pickle.dump( lr_sv, open( \"q1/lr_sv.p\", \"wb\" ) )\n",
    "    pickle.dump( rf_sv, open( \"q1/rf_sv.p\", \"wb\" ) )\n",
    "    \n",
    "print(\"Done!\")"
   ]
  }
 ],
 "metadata": {
  "colab": {
   "collapsed_sections": [
    "8OOFNNn2chr0",
    "pCJk7pWbfRbZ",
    "qSNEn1YWH9sE",
    "sLZF406gVcbB",
    "TvJoGJ3uViy0",
    "e7Ho2gM_VoRt",
    "K8Uycb9GGM3P",
    "1RdDnZ0QLkGa",
    "9nTR2uuyVKmN",
    "qCTnYpXvW6_T",
    "ylDHai-RTmFH",
    "Ki7quJoqelMx"
   ],
   "name": "July_2019_NLP_Questions.ipynb",
   "provenance": [],
   "version": "0.3.2"
  },
  "kernelspec": {
   "display_name": "TensorFlow-GPU",
   "language": "python",
   "name": "tf-gpu"
  },
  "language_info": {
   "codemirror_mode": {
    "name": "ipython",
    "version": 3
   },
   "file_extension": ".py",
   "mimetype": "text/x-python",
   "name": "python",
   "nbconvert_exporter": "python",
   "pygments_lexer": "ipython3",
   "version": "3.6.7"
  }
 },
 "nbformat": 4,
 "nbformat_minor": 2
}
