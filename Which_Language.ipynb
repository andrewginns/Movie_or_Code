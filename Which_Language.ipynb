{
 "cells": [
  {
   "cell_type": "markdown",
   "metadata": {
    "colab_type": "text",
    "id": "oACvODyLtHqC"
   },
   "source": [
    "# Which Programming Language?"
   ]
  },
  {
   "cell_type": "markdown",
   "metadata": {
    "colab_type": "text",
    "id": "RyFx4RVdJBJe"
   },
   "source": [
    "The aim of this is a multiclass classifier. Given an unseen set of StackOverflow titles, predict the programming language it is related to"
   ]
  },
  {
   "cell_type": "markdown",
   "metadata": {
    "colab_type": "text",
    "id": "4xzu8UF6JCrC"
   },
   "source": [
    "## Libraries"
   ]
  },
  {
   "cell_type": "markdown",
   "metadata": {
    "colab_type": "text",
    "id": "8OOFNNn2chr0"
   },
   "source": [
    "### Colaboratory Specific Code"
   ]
  },
  {
   "cell_type": "markdown",
   "metadata": {
    "colab_type": "text",
    "id": "IYtRbCKFdSDy"
   },
   "source": [
    "This mounts your Google Drive folder so you can access it from Colaboratory"
   ]
  },
  {
   "cell_type": "code",
   "execution_count": 8,
   "metadata": {
    "colab": {
     "base_uri": "https://localhost:8080/",
     "height": 0
    },
    "colab_type": "code",
    "id": "DRbqotO4ZzGC",
    "outputId": "e89a0406-43a5-45c9-fd60-706a4df61706"
   },
   "outputs": [],
   "source": [
    "# from google.colab import drive\n",
    "# drive.mount('/content/drive')"
   ]
  },
  {
   "cell_type": "markdown",
   "metadata": {
    "colab_type": "text",
    "id": "9xGkl55qdYOp"
   },
   "source": [
    "We also want to change the working directory so that the file references work. Here I've places the files for this class inside a folder called 'class_1' that itself is inside a folder called 'NLP_class'."
   ]
  },
  {
   "cell_type": "code",
   "execution_count": 9,
   "metadata": {
    "colab": {
     "base_uri": "https://localhost:8080/",
     "height": 0
    },
    "colab_type": "code",
    "id": "uS7n8IvIbdsy",
    "outputId": "5de8b0ad-1251-4bd8-efe1-c71b7e474127"
   },
   "outputs": [],
   "source": [
    "# %cd drive/My\\ Drive/NLP_class/0719_question\n",
    "# !ls"
   ]
  },
  {
   "cell_type": "code",
   "execution_count": 10,
   "metadata": {
    "colab": {
     "base_uri": "https://localhost:8080/",
     "height": 0
    },
    "colab_type": "code",
    "id": "sdIifYIcfWPr",
    "outputId": "852719f8-1500-418c-c619-33ecabeee4d7"
   },
   "outputs": [],
   "source": [
    "# !pip install scikit-plot"
   ]
  },
  {
   "cell_type": "markdown",
   "metadata": {
    "colab_type": "text",
    "id": "pCJk7pWbfRbZ"
   },
   "source": [
    "### Dependencies"
   ]
  },
  {
   "cell_type": "code",
   "execution_count": 11,
   "metadata": {
    "colab": {
     "base_uri": "https://localhost:8080/",
     "height": 0
    },
    "colab_type": "code",
    "id": "vbcRthRLIPGF",
    "outputId": "f2912fc8-5d43-4720-aedd-54b7b196f434"
   },
   "outputs": [
    {
     "name": "stderr",
     "output_type": "stream",
     "text": [
      "[nltk_data] Downloading package stopwords to\n",
      "[nltk_data]     C:\\Users\\Andrew\\AppData\\Roaming\\nltk_data...\n",
      "[nltk_data]   Package stopwords is already up-to-date!\n"
     ]
    }
   ],
   "source": [
    "import pandas as pd\n",
    "from sklearn.utils import shuffle\n",
    "import re\n",
    "import nltk\n",
    "nltk.download('stopwords')\n",
    "from nltk.corpus import stopwords\n",
    "import numpy as np\n",
    "from sklearn.model_selection import train_test_split\n",
    "from sklearn.feature_extraction.text import TfidfVectorizer\n",
    "from scipy.sparse import csr_matrix\n",
    "\n",
    "# Classifiers\n",
    "from sklearn.naive_bayes import GaussianNB\n",
    "from sklearn import linear_model\n",
    "from sklearn import svm\n",
    "from sklearn.ensemble import RandomForestClassifier\n",
    "from sklearn.model_selection import GridSearchCV\n",
    "\n",
    "# Metrics\n",
    "from sklearn.model_selection import cross_val_predict, cross_val_score\n",
    "from sklearn.model_selection import StratifiedKFold\n",
    "from sklearn.metrics import log_loss, accuracy_score\n",
    "import scikitplot as skplt\n",
    "from scikitplot.metrics import plot_confusion_matrix\n",
    "\n",
    "# Dimensionality Reduction\n",
    "from sklearn.decomposition import TruncatedSVD\n",
    "\n",
    "# Saving models\n",
    "import _pickle as pickle\n",
    "\n",
    "np.random.seed(42)"
   ]
  },
  {
   "cell_type": "code",
   "execution_count": 12,
   "metadata": {
    "colab": {},
    "colab_type": "code",
    "id": "8r5BbZLIcbnH"
   },
   "outputs": [],
   "source": [
    "def evaluate_features(X, y, clf=None):\n",
    "    \"\"\"General helper function for evaluating effectiveness of passed features in ML model\n",
    "    \n",
    "    Prints out Log loss, accuracy, and confusion matrix with 3-fold stratified cross-validation\n",
    "    \n",
    "    Args:\n",
    "        X (array-like): Features array. Shape (n_samples, n_features)\n",
    "        \n",
    "        y (array-like): Labels array. Shape (n_samples,)\n",
    "        \n",
    "        clf: Classifier to use. If None, default Log reg is use.\n",
    "    \"\"\"\n",
    "    if clf is None:\n",
    "        clf = LogisticRegression()\n",
    "    \n",
    "    probas = cross_val_predict(clf, X, y, cv=StratifiedKFold(n_splits=5, random_state=8), \n",
    "                              n_jobs=-1, method='predict_proba', verbose=2)\n",
    "    pred_indices = np.argmax(probas, axis=1)\n",
    "    classes = np.unique(y)\n",
    "    preds = classes[pred_indices]\n",
    "    print('Log loss: {}'.format(log_loss(y, probas)))\n",
    "    print('Accuracy: {}'.format(accuracy_score(y, preds)))\n",
    "    plot_confusion_matrix(y, preds)\n",
    "    \n",
    "    return preds\n"
   ]
  },
  {
   "cell_type": "markdown",
   "metadata": {},
   "source": [
    "## Define Models"
   ]
  },
  {
   "cell_type": "markdown",
   "metadata": {},
   "source": [
    "Change LOAD_MODELS to 1 to load saved models from file"
   ]
  },
  {
   "cell_type": "code",
   "execution_count": 13,
   "metadata": {},
   "outputs": [],
   "source": [
    "LOAD_MODELS = 0"
   ]
  },
  {
   "cell_type": "code",
   "execution_count": 80,
   "metadata": {},
   "outputs": [
    {
     "name": "stdout",
     "output_type": "stream",
     "text": [
      "Program will train new models\n"
     ]
    }
   ],
   "source": [
    "if LOAD_MODELS == 0:\n",
    "    print(\"Program will train new models\")\n",
    "    # CSR Set\n",
    "    linr = linear_model.LinearRegression(n_jobs = -1)\n",
    "\n",
    "    lr = linear_model.LogisticRegression(solver='newton-cg', C=5, penalty='l2', n_jobs=-1, multi_class='auto')\n",
    "\n",
    "    rf = RandomForestClassifier(criterion='gini', max_depth=5, \n",
    "                               min_samples_leaf=5, min_samples_split=2, \n",
    "                               n_estimators = 220, oob_score=True, \n",
    "                               max_features=0.5, n_jobs = -1, random_state=42)\n",
    "\n",
    "    # Dimension Reduced Set\n",
    "    nb_sv = GaussianNB()\n",
    "\n",
    "    linr_sv = linear_model.LinearRegression(n_jobs = -1)\n",
    "\n",
    "    lr_sv = linear_model.LogisticRegression(solver='newton-cg', C=5, penalty='l2', n_jobs=-1, multi_class='auto')\n",
    "\n",
    "    rf_sv = RandomForestClassifier(criterion='gini', max_depth=5, \n",
    "                                   min_samples_leaf=5, min_samples_split=2, \n",
    "                                   n_estimators = 220, oob_score=True, \n",
    "                                   max_features=0.5, n_jobs = -1, random_state=42)\n",
    "else:\n",
    "    print(\"Program will load existing models if available\")\n",
    "\n",
    "    linr = pickle.load( open( \"q2/linr.p\", \"rb\" ) )\n",
    "    lr = pickle.load( open( \"q2/lr.p\", \"rb\" ) )\n",
    "    rf = pickle.load( open( \"q2/rf.p\", \"rb\" ) )\n",
    "    \n",
    "    nb_sv = pickle.load( open( \"q2/nb_sv.p\", \"rb\" ) )\n",
    "    linr_sv = pickle.load( open( \"q2/linr_sv.p\", \"rb\" ) )\n",
    "    lr_sv = pickle.load( open( \"q2/lr_sv.p\", \"rb\" ) )\n",
    "    rf_sv = pickle.load( open( \"q2/rf_sv.p\", \"rb\" ) )\n",
    "    "
   ]
  },
  {
   "cell_type": "markdown",
   "metadata": {
    "colab_type": "text",
    "id": "qSNEn1YWH9sE"
   },
   "source": [
    "## Pre-process the data"
   ]
  },
  {
   "cell_type": "markdown",
   "metadata": {
    "colab_type": "text",
    "id": "PcU3tOg9uH-H"
   },
   "source": [
    "This code cleans the text"
   ]
  },
  {
   "cell_type": "code",
   "execution_count": 15,
   "metadata": {
    "colab": {},
    "colab_type": "code",
    "id": "ZcnPTzIiuFf5"
   },
   "outputs": [],
   "source": [
    "# There is a problem with this codes as it is possible for all words to be removed leaving a null value\n",
    "# This is solved in line 25 with the if statement\n",
    "\n",
    "REPLACE_BY_SPACE_RE = re.compile('[/(){}\\[\\]\\|@,;]')\n",
    "BAD_SYMBOLS_RE = re.compile('[^0-9a-z #+_]')\n",
    "STOPWORDS = set(stopwords.words('english'))\n",
    "\n",
    "def text_prepare(text):\n",
    "    \"\"\"\n",
    "        text: a string\n",
    "        \n",
    "        return: modified initial string\n",
    "    \"\"\"\n",
    "    text = text.lower() # lowercase text\n",
    "    text = re.sub(REPLACE_BY_SPACE_RE, \" \", text) # replace REPLACE_BY_SPACE_RE symbols by space in text\n",
    "    text = re.sub(BAD_SYMBOLS_RE, \"\", text) # delete symbols which are in BAD_SYMBOLS_RE from text\n",
    "    text = \" \" + text + \" \"\n",
    "    for sw in STOPWORDS:\n",
    "        text = text.replace(\" \"+sw+\" \", \" \") # delete stopwords from text\n",
    "    text = re.sub('[ ][ ]+', \" \", text)\n",
    "\n",
    "    #     print(\"text:\", text)\n",
    "#     print(len(text))\n",
    "    \n",
    "    if len(text) > 1: # only run if there are words present\n",
    "      if text[0] == ' ':\n",
    "          text = text[1:]\n",
    "      if text[-1] == ' ':\n",
    "          text = text[:-1]\n",
    "        \n",
    "    return text"
   ]
  },
  {
   "cell_type": "markdown",
   "metadata": {
    "colab_type": "text",
    "id": "sLZF406gVcbB"
   },
   "source": [
    "### Inspect Data\n",
    "Let's see what the data looks like"
   ]
  },
  {
   "cell_type": "code",
   "execution_count": 16,
   "metadata": {
    "colab": {},
    "colab_type": "code",
    "id": "WfARkTgYICSv"
   },
   "outputs": [],
   "source": [
    "dialogues = pd.read_csv('dialogues.tsv', sep='\\t')\n",
    "tagged = pd.read_csv('tagged_posts.tsv', sep='\\t')"
   ]
  },
  {
   "cell_type": "code",
   "execution_count": 17,
   "metadata": {
    "colab": {
     "base_uri": "https://localhost:8080/",
     "height": 0
    },
    "colab_type": "code",
    "id": "R_Rq9oTEIjGS",
    "outputId": "508accd4-0bb3-455b-ad68-4bcd2984dc70"
   },
   "outputs": [
    {
     "data": {
      "text/html": [
       "<div>\n",
       "<style scoped>\n",
       "    .dataframe tbody tr th:only-of-type {\n",
       "        vertical-align: middle;\n",
       "    }\n",
       "\n",
       "    .dataframe tbody tr th {\n",
       "        vertical-align: top;\n",
       "    }\n",
       "\n",
       "    .dataframe thead th {\n",
       "        text-align: right;\n",
       "    }\n",
       "</style>\n",
       "<table border=\"1\" class=\"dataframe\">\n",
       "  <thead>\n",
       "    <tr style=\"text-align: right;\">\n",
       "      <th></th>\n",
       "      <th>text</th>\n",
       "      <th>tag</th>\n",
       "    </tr>\n",
       "  </thead>\n",
       "  <tbody>\n",
       "    <tr>\n",
       "      <th>0</th>\n",
       "      <td>Okay -- you're gonna need to learn how to lie.</td>\n",
       "      <td>dialogue</td>\n",
       "    </tr>\n",
       "    <tr>\n",
       "      <th>1</th>\n",
       "      <td>I'm kidding.  You know how sometimes you just ...</td>\n",
       "      <td>dialogue</td>\n",
       "    </tr>\n",
       "  </tbody>\n",
       "</table>\n",
       "</div>"
      ],
      "text/plain": [
       "                                                text       tag\n",
       "0     Okay -- you're gonna need to learn how to lie.  dialogue\n",
       "1  I'm kidding.  You know how sometimes you just ...  dialogue"
      ]
     },
     "execution_count": 17,
     "metadata": {},
     "output_type": "execute_result"
    }
   ],
   "source": [
    "dialogues.head(2)"
   ]
  },
  {
   "cell_type": "code",
   "execution_count": 18,
   "metadata": {
    "colab": {
     "base_uri": "https://localhost:8080/",
     "height": 0
    },
    "colab_type": "code",
    "id": "FbrcUuTSInR4",
    "outputId": "4d4b699c-33ab-4dad-8dd2-1afc09d8a4da"
   },
   "outputs": [
    {
     "data": {
      "text/html": [
       "<div>\n",
       "<style scoped>\n",
       "    .dataframe tbody tr th:only-of-type {\n",
       "        vertical-align: middle;\n",
       "    }\n",
       "\n",
       "    .dataframe tbody tr th {\n",
       "        vertical-align: top;\n",
       "    }\n",
       "\n",
       "    .dataframe thead th {\n",
       "        text-align: right;\n",
       "    }\n",
       "</style>\n",
       "<table border=\"1\" class=\"dataframe\">\n",
       "  <thead>\n",
       "    <tr style=\"text-align: right;\">\n",
       "      <th></th>\n",
       "      <th>post_id</th>\n",
       "      <th>title</th>\n",
       "      <th>tag</th>\n",
       "    </tr>\n",
       "  </thead>\n",
       "  <tbody>\n",
       "    <tr>\n",
       "      <th>0</th>\n",
       "      <td>9</td>\n",
       "      <td>Calculate age in C#</td>\n",
       "      <td>c#</td>\n",
       "    </tr>\n",
       "    <tr>\n",
       "      <th>1</th>\n",
       "      <td>16</td>\n",
       "      <td>Filling a DataSet or DataTable from a LINQ que...</td>\n",
       "      <td>c#</td>\n",
       "    </tr>\n",
       "  </tbody>\n",
       "</table>\n",
       "</div>"
      ],
      "text/plain": [
       "   post_id                                              title tag\n",
       "0        9                                Calculate age in C#  c#\n",
       "1       16  Filling a DataSet or DataTable from a LINQ que...  c#"
      ]
     },
     "execution_count": 18,
     "metadata": {},
     "output_type": "execute_result"
    }
   ],
   "source": [
    "tagged.head(2)"
   ]
  },
  {
   "cell_type": "markdown",
   "metadata": {
    "colab_type": "text",
    "id": "89hNzEOo5cuH"
   },
   "source": [
    "### Clean the Text and Assign Labels"
   ]
  },
  {
   "cell_type": "markdown",
   "metadata": {
    "colab_type": "text",
    "id": "y-I_60pntuM1"
   },
   "source": [
    "First we load in the StackOverflow dataset and drop the unused post_id column"
   ]
  },
  {
   "cell_type": "code",
   "execution_count": 19,
   "metadata": {
    "colab": {},
    "colab_type": "code",
    "id": "Gu-nz5e-tMyk"
   },
   "outputs": [
    {
     "data": {
      "text/html": [
       "<div>\n",
       "<style scoped>\n",
       "    .dataframe tbody tr th:only-of-type {\n",
       "        vertical-align: middle;\n",
       "    }\n",
       "\n",
       "    .dataframe tbody tr th {\n",
       "        vertical-align: top;\n",
       "    }\n",
       "\n",
       "    .dataframe thead th {\n",
       "        text-align: right;\n",
       "    }\n",
       "</style>\n",
       "<table border=\"1\" class=\"dataframe\">\n",
       "  <thead>\n",
       "    <tr style=\"text-align: right;\">\n",
       "      <th></th>\n",
       "      <th>post_id</th>\n",
       "      <th>title</th>\n",
       "      <th>tag</th>\n",
       "    </tr>\n",
       "  </thead>\n",
       "  <tbody>\n",
       "    <tr>\n",
       "      <th>0</th>\n",
       "      <td>9</td>\n",
       "      <td>Calculate age in C#</td>\n",
       "      <td>c#</td>\n",
       "    </tr>\n",
       "    <tr>\n",
       "      <th>1</th>\n",
       "      <td>16</td>\n",
       "      <td>Filling a DataSet or DataTable from a LINQ que...</td>\n",
       "      <td>c#</td>\n",
       "    </tr>\n",
       "    <tr>\n",
       "      <th>2</th>\n",
       "      <td>39</td>\n",
       "      <td>Reliable timer in a console application</td>\n",
       "      <td>c#</td>\n",
       "    </tr>\n",
       "    <tr>\n",
       "      <th>3</th>\n",
       "      <td>42</td>\n",
       "      <td>Best way to allow plugins for a PHP application</td>\n",
       "      <td>php</td>\n",
       "    </tr>\n",
       "    <tr>\n",
       "      <th>4</th>\n",
       "      <td>59</td>\n",
       "      <td>How do I get a distinct, ordered list of names...</td>\n",
       "      <td>c#</td>\n",
       "    </tr>\n",
       "  </tbody>\n",
       "</table>\n",
       "</div>"
      ],
      "text/plain": [
       "   post_id                                              title  tag\n",
       "0        9                                Calculate age in C#   c#\n",
       "1       16  Filling a DataSet or DataTable from a LINQ que...   c#\n",
       "2       39            Reliable timer in a console application   c#\n",
       "3       42    Best way to allow plugins for a PHP application  php\n",
       "4       59  How do I get a distinct, ordered list of names...   c#"
      ]
     },
     "execution_count": 19,
     "metadata": {},
     "output_type": "execute_result"
    }
   ],
   "source": [
    "tagged.head()"
   ]
  },
  {
   "cell_type": "code",
   "execution_count": 20,
   "metadata": {
    "colab": {},
    "colab_type": "code",
    "id": "Q3s2FiVGtU2H"
   },
   "outputs": [
    {
     "data": {
      "text/html": [
       "<div>\n",
       "<style scoped>\n",
       "    .dataframe tbody tr th:only-of-type {\n",
       "        vertical-align: middle;\n",
       "    }\n",
       "\n",
       "    .dataframe tbody tr th {\n",
       "        vertical-align: top;\n",
       "    }\n",
       "\n",
       "    .dataframe thead th {\n",
       "        text-align: right;\n",
       "    }\n",
       "</style>\n",
       "<table border=\"1\" class=\"dataframe\">\n",
       "  <thead>\n",
       "    <tr style=\"text-align: right;\">\n",
       "      <th></th>\n",
       "      <th>title</th>\n",
       "      <th>tag</th>\n",
       "    </tr>\n",
       "  </thead>\n",
       "  <tbody>\n",
       "    <tr>\n",
       "      <th>0</th>\n",
       "      <td>Calculate age in C#</td>\n",
       "      <td>c#</td>\n",
       "    </tr>\n",
       "    <tr>\n",
       "      <th>1</th>\n",
       "      <td>Filling a DataSet or DataTable from a LINQ que...</td>\n",
       "      <td>c#</td>\n",
       "    </tr>\n",
       "    <tr>\n",
       "      <th>2</th>\n",
       "      <td>Reliable timer in a console application</td>\n",
       "      <td>c#</td>\n",
       "    </tr>\n",
       "    <tr>\n",
       "      <th>3</th>\n",
       "      <td>Best way to allow plugins for a PHP application</td>\n",
       "      <td>php</td>\n",
       "    </tr>\n",
       "    <tr>\n",
       "      <th>4</th>\n",
       "      <td>How do I get a distinct, ordered list of names...</td>\n",
       "      <td>c#</td>\n",
       "    </tr>\n",
       "  </tbody>\n",
       "</table>\n",
       "</div>"
      ],
      "text/plain": [
       "                                               title  tag\n",
       "0                                Calculate age in C#   c#\n",
       "1  Filling a DataSet or DataTable from a LINQ que...   c#\n",
       "2            Reliable timer in a console application   c#\n",
       "3    Best way to allow plugins for a PHP application  php\n",
       "4  How do I get a distinct, ordered list of names...   c#"
      ]
     },
     "execution_count": 20,
     "metadata": {},
     "output_type": "execute_result"
    }
   ],
   "source": [
    "stackover = tagged.drop(columns=['post_id'])\n",
    "stackover.head()"
   ]
  },
  {
   "cell_type": "code",
   "execution_count": 21,
   "metadata": {
    "colab": {},
    "colab_type": "code",
    "id": "oBkYGl4EuQgs"
   },
   "outputs": [
    {
     "data": {
      "text/html": [
       "<div>\n",
       "<style scoped>\n",
       "    .dataframe tbody tr th:only-of-type {\n",
       "        vertical-align: middle;\n",
       "    }\n",
       "\n",
       "    .dataframe tbody tr th {\n",
       "        vertical-align: top;\n",
       "    }\n",
       "\n",
       "    .dataframe thead th {\n",
       "        text-align: right;\n",
       "    }\n",
       "</style>\n",
       "<table border=\"1\" class=\"dataframe\">\n",
       "  <thead>\n",
       "    <tr style=\"text-align: right;\">\n",
       "      <th></th>\n",
       "      <th>clean_data</th>\n",
       "    </tr>\n",
       "  </thead>\n",
       "  <tbody>\n",
       "    <tr>\n",
       "      <th>0</th>\n",
       "      <td>calculate age c#</td>\n",
       "    </tr>\n",
       "    <tr>\n",
       "      <th>1</th>\n",
       "      <td>filling dataset datatable linq query result set</td>\n",
       "    </tr>\n",
       "    <tr>\n",
       "      <th>2</th>\n",
       "      <td>reliable timer console application</td>\n",
       "    </tr>\n",
       "    <tr>\n",
       "      <th>3</th>\n",
       "      <td>best way allow plugins php application</td>\n",
       "    </tr>\n",
       "    <tr>\n",
       "      <th>4</th>\n",
       "      <td>get distinct ordered list names datatable usin...</td>\n",
       "    </tr>\n",
       "  </tbody>\n",
       "</table>\n",
       "</div>"
      ],
      "text/plain": [
       "                                          clean_data\n",
       "0                                   calculate age c#\n",
       "1    filling dataset datatable linq query result set\n",
       "2                 reliable timer console application\n",
       "3             best way allow plugins php application\n",
       "4  get distinct ordered list names datatable usin..."
      ]
     },
     "execution_count": 21,
     "metadata": {},
     "output_type": "execute_result"
    }
   ],
   "source": [
    "relevant_stack = [text_prepare(x) for x in stackover['title']]\n",
    "clean_titles = pd.DataFrame({'clean_data': relevant_stack})\n",
    "clean_titles.head()"
   ]
  },
  {
   "cell_type": "code",
   "execution_count": 22,
   "metadata": {
    "colab": {},
    "colab_type": "code",
    "id": "ycV9EZd5u2vT"
   },
   "outputs": [
    {
     "data": {
      "text/html": [
       "<div>\n",
       "<style scoped>\n",
       "    .dataframe tbody tr th:only-of-type {\n",
       "        vertical-align: middle;\n",
       "    }\n",
       "\n",
       "    .dataframe tbody tr th {\n",
       "        vertical-align: top;\n",
       "    }\n",
       "\n",
       "    .dataframe thead th {\n",
       "        text-align: right;\n",
       "    }\n",
       "</style>\n",
       "<table border=\"1\" class=\"dataframe\">\n",
       "  <thead>\n",
       "    <tr style=\"text-align: right;\">\n",
       "      <th></th>\n",
       "      <th>0</th>\n",
       "      <th>1</th>\n",
       "      <th>2</th>\n",
       "    </tr>\n",
       "  </thead>\n",
       "  <tbody>\n",
       "    <tr>\n",
       "      <th>105377</th>\n",
       "      <td>rails comparing dates</td>\n",
       "      <td>Rails comparing dates</td>\n",
       "      <td>ruby</td>\n",
       "    </tr>\n",
       "    <tr>\n",
       "      <th>373455</th>\n",
       "      <td>convert listt observablecollectiont wp7</td>\n",
       "      <td>Convert List&lt;T&gt; to ObservableCollection&lt;T&gt; in WP7</td>\n",
       "      <td>c#</td>\n",
       "    </tr>\n",
       "    <tr>\n",
       "      <th>162616</th>\n",
       "      <td>python repl python application</td>\n",
       "      <td>Python repl in python application</td>\n",
       "      <td>python</td>\n",
       "    </tr>\n",
       "    <tr>\n",
       "      <th>13327</th>\n",
       "      <td>customizing pop background color ie7 open popu...</td>\n",
       "      <td>Customizing pop up background color with IE7 o...</td>\n",
       "      <td>javascript</td>\n",
       "    </tr>\n",
       "    <tr>\n",
       "      <th>2879</th>\n",
       "      <td>retrieve multiple rows odbc source union query</td>\n",
       "      <td>Retrieve multiple rows from an ODBC source wit...</td>\n",
       "      <td>c_cpp</td>\n",
       "    </tr>\n",
       "  </tbody>\n",
       "</table>\n",
       "</div>"
      ],
      "text/plain": [
       "                                                        0  \\\n",
       "105377                              rails comparing dates   \n",
       "373455            convert listt observablecollectiont wp7   \n",
       "162616                     python repl python application   \n",
       "13327   customizing pop background color ie7 open popu...   \n",
       "2879       retrieve multiple rows odbc source union query   \n",
       "\n",
       "                                                        1           2  \n",
       "105377                              Rails comparing dates        ruby  \n",
       "373455  Convert List<T> to ObservableCollection<T> in WP7          c#  \n",
       "162616                  Python repl in python application      python  \n",
       "13327   Customizing pop up background color with IE7 o...  javascript  \n",
       "2879    Retrieve multiple rows from an ODBC source wit...       c_cpp  "
      ]
     },
     "execution_count": 22,
     "metadata": {},
     "output_type": "execute_result"
    }
   ],
   "source": [
    "clean_stack = pd.concat([clean_titles, stackover], axis = 1, ignore_index=True)\n",
    "clean_stack = shuffle(clean_stack)\n",
    "clean_stack.head()"
   ]
  },
  {
   "cell_type": "code",
   "execution_count": 23,
   "metadata": {
    "colab": {},
    "colab_type": "code",
    "id": "3KYCv2NzvNNo"
   },
   "outputs": [
    {
     "data": {
      "text/html": [
       "<div>\n",
       "<style scoped>\n",
       "    .dataframe tbody tr th:only-of-type {\n",
       "        vertical-align: middle;\n",
       "    }\n",
       "\n",
       "    .dataframe tbody tr th {\n",
       "        vertical-align: top;\n",
       "    }\n",
       "\n",
       "    .dataframe thead th {\n",
       "        text-align: right;\n",
       "    }\n",
       "</style>\n",
       "<table border=\"1\" class=\"dataframe\">\n",
       "  <thead>\n",
       "    <tr style=\"text-align: right;\">\n",
       "      <th></th>\n",
       "      <th>0</th>\n",
       "      <th>2</th>\n",
       "    </tr>\n",
       "  </thead>\n",
       "  <tbody>\n",
       "    <tr>\n",
       "      <th>105377</th>\n",
       "      <td>rails comparing dates</td>\n",
       "      <td>ruby</td>\n",
       "    </tr>\n",
       "    <tr>\n",
       "      <th>373455</th>\n",
       "      <td>convert listt observablecollectiont wp7</td>\n",
       "      <td>c#</td>\n",
       "    </tr>\n",
       "    <tr>\n",
       "      <th>162616</th>\n",
       "      <td>python repl python application</td>\n",
       "      <td>python</td>\n",
       "    </tr>\n",
       "    <tr>\n",
       "      <th>13327</th>\n",
       "      <td>customizing pop background color ie7 open popu...</td>\n",
       "      <td>javascript</td>\n",
       "    </tr>\n",
       "    <tr>\n",
       "      <th>2879</th>\n",
       "      <td>retrieve multiple rows odbc source union query</td>\n",
       "      <td>c_cpp</td>\n",
       "    </tr>\n",
       "    <tr>\n",
       "      <th>343976</th>\n",
       "      <td>equivalent curve ggplot</td>\n",
       "      <td>r</td>\n",
       "    </tr>\n",
       "    <tr>\n",
       "      <th>201636</th>\n",
       "      <td>using different http scheme port setup done st...</td>\n",
       "      <td>java</td>\n",
       "    </tr>\n",
       "    <tr>\n",
       "      <th>4335</th>\n",
       "      <td>looking uptodate eclipse plugin c#</td>\n",
       "      <td>c#</td>\n",
       "    </tr>\n",
       "    <tr>\n",
       "      <th>36597</th>\n",
       "      <td>field validation ip address</td>\n",
       "      <td>c#</td>\n",
       "    </tr>\n",
       "    <tr>\n",
       "      <th>281935</th>\n",
       "      <td>android reading large file</td>\n",
       "      <td>java</td>\n",
       "    </tr>\n",
       "    <tr>\n",
       "      <th>6292</th>\n",
       "      <td>way determine size c++ array programmatically</td>\n",
       "      <td>c_cpp</td>\n",
       "    </tr>\n",
       "    <tr>\n",
       "      <th>262877</th>\n",
       "      <td>vbnet arraylist objects listbox1_selectedindex...</td>\n",
       "      <td>vb</td>\n",
       "    </tr>\n",
       "    <tr>\n",
       "      <th>204861</th>\n",
       "      <td>jtable multiple cell editors one column</td>\n",
       "      <td>java</td>\n",
       "    </tr>\n",
       "    <tr>\n",
       "      <th>230088</th>\n",
       "      <td>using html checkbox put 1 0 mysql table</td>\n",
       "      <td>php</td>\n",
       "    </tr>\n",
       "    <tr>\n",
       "      <th>198135</th>\n",
       "      <td>change name database model table rails</td>\n",
       "      <td>ruby</td>\n",
       "    </tr>\n",
       "  </tbody>\n",
       "</table>\n",
       "</div>"
      ],
      "text/plain": [
       "                                                        0           2\n",
       "105377                              rails comparing dates        ruby\n",
       "373455            convert listt observablecollectiont wp7          c#\n",
       "162616                     python repl python application      python\n",
       "13327   customizing pop background color ie7 open popu...  javascript\n",
       "2879       retrieve multiple rows odbc source union query       c_cpp\n",
       "343976                            equivalent curve ggplot           r\n",
       "201636  using different http scheme port setup done st...        java\n",
       "4335                   looking uptodate eclipse plugin c#          c#\n",
       "36597                         field validation ip address          c#\n",
       "281935                         android reading large file        java\n",
       "6292        way determine size c++ array programmatically       c_cpp\n",
       "262877  vbnet arraylist objects listbox1_selectedindex...          vb\n",
       "204861            jtable multiple cell editors one column        java\n",
       "230088            using html checkbox put 1 0 mysql table         php\n",
       "198135             change name database model table rails        ruby"
      ]
     },
     "execution_count": 23,
     "metadata": {},
     "output_type": "execute_result"
    }
   ],
   "source": [
    "clean_stack = clean_stack.drop(columns=[1])\n",
    "clean_stack.head(15)"
   ]
  },
  {
   "cell_type": "markdown",
   "metadata": {
    "colab_type": "text",
    "id": "vz5F34a_1471"
   },
   "source": [
    "Check how many unique labels we have"
   ]
  },
  {
   "cell_type": "code",
   "execution_count": 24,
   "metadata": {
    "colab": {},
    "colab_type": "code",
    "id": "LB9M91eN1-0I"
   },
   "outputs": [
    {
     "data": {
      "text/html": [
       "<div>\n",
       "<style scoped>\n",
       "    .dataframe tbody tr th:only-of-type {\n",
       "        vertical-align: middle;\n",
       "    }\n",
       "\n",
       "    .dataframe tbody tr th {\n",
       "        vertical-align: top;\n",
       "    }\n",
       "\n",
       "    .dataframe thead th {\n",
       "        text-align: right;\n",
       "    }\n",
       "</style>\n",
       "<table border=\"1\" class=\"dataframe\">\n",
       "  <thead>\n",
       "    <tr style=\"text-align: right;\">\n",
       "      <th></th>\n",
       "      <th>0</th>\n",
       "      <th>2</th>\n",
       "    </tr>\n",
       "    <tr>\n",
       "      <th>2</th>\n",
       "      <th></th>\n",
       "      <th></th>\n",
       "    </tr>\n",
       "  </thead>\n",
       "  <tbody>\n",
       "    <tr>\n",
       "      <th>c#</th>\n",
       "      <td>93828</td>\n",
       "      <td>1</td>\n",
       "    </tr>\n",
       "    <tr>\n",
       "      <th>c_cpp</th>\n",
       "      <td>63917</td>\n",
       "      <td>1</td>\n",
       "    </tr>\n",
       "    <tr>\n",
       "      <th>java</th>\n",
       "      <td>63149</td>\n",
       "      <td>1</td>\n",
       "    </tr>\n",
       "    <tr>\n",
       "      <th>javascript</th>\n",
       "      <td>49696</td>\n",
       "      <td>1</td>\n",
       "    </tr>\n",
       "    <tr>\n",
       "      <th>php</th>\n",
       "      <td>56746</td>\n",
       "      <td>1</td>\n",
       "    </tr>\n",
       "    <tr>\n",
       "      <th>python</th>\n",
       "      <td>33262</td>\n",
       "      <td>1</td>\n",
       "    </tr>\n",
       "    <tr>\n",
       "      <th>r</th>\n",
       "      <td>2390</td>\n",
       "      <td>1</td>\n",
       "    </tr>\n",
       "    <tr>\n",
       "      <th>ruby</th>\n",
       "      <td>23572</td>\n",
       "      <td>1</td>\n",
       "    </tr>\n",
       "    <tr>\n",
       "      <th>swift</th>\n",
       "      <td>3</td>\n",
       "      <td>1</td>\n",
       "    </tr>\n",
       "    <tr>\n",
       "      <th>vb</th>\n",
       "      <td>8402</td>\n",
       "      <td>1</td>\n",
       "    </tr>\n",
       "  </tbody>\n",
       "</table>\n",
       "</div>"
      ],
      "text/plain": [
       "                0  2\n",
       "2                   \n",
       "c#          93828  1\n",
       "c_cpp       63917  1\n",
       "java        63149  1\n",
       "javascript  49696  1\n",
       "php         56746  1\n",
       "python      33262  1\n",
       "r            2390  1\n",
       "ruby        23572  1\n",
       "swift           3  1\n",
       "vb           8402  1"
      ]
     },
     "execution_count": 24,
     "metadata": {},
     "output_type": "execute_result"
    }
   ],
   "source": [
    "unique_languages = clean_stack.groupby(2).nunique()\n",
    "unique_languages.head(15)"
   ]
  },
  {
   "cell_type": "markdown",
   "metadata": {
    "colab_type": "text",
    "id": "n7E-1FW55CmH"
   },
   "source": [
    "Now we convert these categorical labels into numericals ones"
   ]
  },
  {
   "cell_type": "code",
   "execution_count": 25,
   "metadata": {
    "colab": {},
    "colab_type": "code",
    "id": "OKL7XZ5J3Xxz"
   },
   "outputs": [
    {
     "data": {
      "text/html": [
       "<div>\n",
       "<style scoped>\n",
       "    .dataframe tbody tr th:only-of-type {\n",
       "        vertical-align: middle;\n",
       "    }\n",
       "\n",
       "    .dataframe tbody tr th {\n",
       "        vertical-align: top;\n",
       "    }\n",
       "\n",
       "    .dataframe thead th {\n",
       "        text-align: right;\n",
       "    }\n",
       "</style>\n",
       "<table border=\"1\" class=\"dataframe\">\n",
       "  <thead>\n",
       "    <tr style=\"text-align: right;\">\n",
       "      <th></th>\n",
       "      <th>0</th>\n",
       "      <th>2</th>\n",
       "      <th>label</th>\n",
       "    </tr>\n",
       "  </thead>\n",
       "  <tbody>\n",
       "    <tr>\n",
       "      <th>105377</th>\n",
       "      <td>rails comparing dates</td>\n",
       "      <td>ruby</td>\n",
       "      <td>7</td>\n",
       "    </tr>\n",
       "    <tr>\n",
       "      <th>373455</th>\n",
       "      <td>convert listt observablecollectiont wp7</td>\n",
       "      <td>c#</td>\n",
       "      <td>0</td>\n",
       "    </tr>\n",
       "    <tr>\n",
       "      <th>162616</th>\n",
       "      <td>python repl python application</td>\n",
       "      <td>python</td>\n",
       "      <td>5</td>\n",
       "    </tr>\n",
       "    <tr>\n",
       "      <th>13327</th>\n",
       "      <td>customizing pop background color ie7 open popu...</td>\n",
       "      <td>javascript</td>\n",
       "      <td>3</td>\n",
       "    </tr>\n",
       "    <tr>\n",
       "      <th>2879</th>\n",
       "      <td>retrieve multiple rows odbc source union query</td>\n",
       "      <td>c_cpp</td>\n",
       "      <td>1</td>\n",
       "    </tr>\n",
       "    <tr>\n",
       "      <th>343976</th>\n",
       "      <td>equivalent curve ggplot</td>\n",
       "      <td>r</td>\n",
       "      <td>6</td>\n",
       "    </tr>\n",
       "    <tr>\n",
       "      <th>201636</th>\n",
       "      <td>using different http scheme port setup done st...</td>\n",
       "      <td>java</td>\n",
       "      <td>2</td>\n",
       "    </tr>\n",
       "    <tr>\n",
       "      <th>4335</th>\n",
       "      <td>looking uptodate eclipse plugin c#</td>\n",
       "      <td>c#</td>\n",
       "      <td>0</td>\n",
       "    </tr>\n",
       "    <tr>\n",
       "      <th>36597</th>\n",
       "      <td>field validation ip address</td>\n",
       "      <td>c#</td>\n",
       "      <td>0</td>\n",
       "    </tr>\n",
       "    <tr>\n",
       "      <th>281935</th>\n",
       "      <td>android reading large file</td>\n",
       "      <td>java</td>\n",
       "      <td>2</td>\n",
       "    </tr>\n",
       "  </tbody>\n",
       "</table>\n",
       "</div>"
      ],
      "text/plain": [
       "                                                        0           2  label\n",
       "105377                              rails comparing dates        ruby      7\n",
       "373455            convert listt observablecollectiont wp7          c#      0\n",
       "162616                     python repl python application      python      5\n",
       "13327   customizing pop background color ie7 open popu...  javascript      3\n",
       "2879       retrieve multiple rows odbc source union query       c_cpp      1\n",
       "343976                            equivalent curve ggplot           r      6\n",
       "201636  using different http scheme port setup done st...        java      2\n",
       "4335                   looking uptodate eclipse plugin c#          c#      0\n",
       "36597                         field validation ip address          c#      0\n",
       "281935                         android reading large file        java      2"
      ]
     },
     "execution_count": 25,
     "metadata": {},
     "output_type": "execute_result"
    }
   ],
   "source": [
    "clean_stack[2] = clean_stack[2].astype('category')\n",
    "clean_stack[\"label\"] = clean_stack[2].cat.codes\n",
    "clean_stack.head(10)"
   ]
  },
  {
   "cell_type": "code",
   "execution_count": 26,
   "metadata": {
    "colab": {},
    "colab_type": "code",
    "id": "2Nd_aIGF4qGv"
   },
   "outputs": [
    {
     "data": {
      "text/html": [
       "<div>\n",
       "<style scoped>\n",
       "    .dataframe tbody tr th:only-of-type {\n",
       "        vertical-align: middle;\n",
       "    }\n",
       "\n",
       "    .dataframe tbody tr th {\n",
       "        vertical-align: top;\n",
       "    }\n",
       "\n",
       "    .dataframe thead th {\n",
       "        text-align: right;\n",
       "    }\n",
       "</style>\n",
       "<table border=\"1\" class=\"dataframe\">\n",
       "  <thead>\n",
       "    <tr style=\"text-align: right;\">\n",
       "      <th></th>\n",
       "      <th>0</th>\n",
       "      <th>label</th>\n",
       "    </tr>\n",
       "  </thead>\n",
       "  <tbody>\n",
       "    <tr>\n",
       "      <th>105377</th>\n",
       "      <td>rails comparing dates</td>\n",
       "      <td>7</td>\n",
       "    </tr>\n",
       "    <tr>\n",
       "      <th>373455</th>\n",
       "      <td>convert listt observablecollectiont wp7</td>\n",
       "      <td>0</td>\n",
       "    </tr>\n",
       "    <tr>\n",
       "      <th>162616</th>\n",
       "      <td>python repl python application</td>\n",
       "      <td>5</td>\n",
       "    </tr>\n",
       "    <tr>\n",
       "      <th>13327</th>\n",
       "      <td>customizing pop background color ie7 open popu...</td>\n",
       "      <td>3</td>\n",
       "    </tr>\n",
       "    <tr>\n",
       "      <th>2879</th>\n",
       "      <td>retrieve multiple rows odbc source union query</td>\n",
       "      <td>1</td>\n",
       "    </tr>\n",
       "  </tbody>\n",
       "</table>\n",
       "</div>"
      ],
      "text/plain": [
       "                                                        0  label\n",
       "105377                              rails comparing dates      7\n",
       "373455            convert listt observablecollectiont wp7      0\n",
       "162616                     python repl python application      5\n",
       "13327   customizing pop background color ie7 open popu...      3\n",
       "2879       retrieve multiple rows odbc source union query      1"
      ]
     },
     "execution_count": 26,
     "metadata": {},
     "output_type": "execute_result"
    }
   ],
   "source": [
    "clean_stack = clean_stack.drop(columns=[2])\n",
    "clean_stack.head()"
   ]
  },
  {
   "cell_type": "markdown",
   "metadata": {
    "colab_type": "text",
    "id": "r_JJGbzG5lYk"
   },
   "source": [
    "### Train Test Validation Split"
   ]
  },
  {
   "cell_type": "code",
   "execution_count": 27,
   "metadata": {
    "colab": {},
    "colab_type": "code",
    "id": "ek6racPs5SHU"
   },
   "outputs": [
    {
     "data": {
      "text/plain": [
       "105377                                rails comparing dates\n",
       "373455              convert listt observablecollectiont wp7\n",
       "162616                       python repl python application\n",
       "13327     customizing pop background color ie7 open popu...\n",
       "2879         retrieve multiple rows odbc source union query\n",
       "Name: 0, dtype: object"
      ]
     },
     "execution_count": 27,
     "metadata": {},
     "output_type": "execute_result"
    }
   ],
   "source": [
    "stack_data = clean_stack[0]\n",
    "stack_data.head()"
   ]
  },
  {
   "cell_type": "code",
   "execution_count": 28,
   "metadata": {
    "colab": {},
    "colab_type": "code",
    "id": "opw0rlUN6Y-w"
   },
   "outputs": [
    {
     "data": {
      "text/plain": [
       "105377    7\n",
       "373455    0\n",
       "162616    5\n",
       "13327     3\n",
       "2879      1\n",
       "Name: label, dtype: int8"
      ]
     },
     "execution_count": 28,
     "metadata": {},
     "output_type": "execute_result"
    }
   ],
   "source": [
    "stack_labels = clean_stack['label']\n",
    "stack_labels.head()"
   ]
  },
  {
   "cell_type": "markdown",
   "metadata": {
    "colab_type": "text",
    "id": "ue9qPuEa7MBd"
   },
   "source": [
    "First we split off the validation set as 20% of the overall data set."
   ]
  },
  {
   "cell_type": "code",
   "execution_count": 29,
   "metadata": {
    "colab": {},
    "colab_type": "code",
    "id": "ew3vqTZI7MBe"
   },
   "outputs": [],
   "source": [
    "df_data, X_val, df_labels, y_val = train_test_split(\n",
    "    stack_data, stack_labels, test_size=0.2, random_state=42, shuffle=False)"
   ]
  },
  {
   "cell_type": "markdown",
   "metadata": {
    "colab_type": "text",
    "id": "VvFsVRS57MBf"
   },
   "source": [
    "Then we split the remaining into training and test data."
   ]
  },
  {
   "cell_type": "code",
   "execution_count": 30,
   "metadata": {
    "colab": {},
    "colab_type": "code",
    "id": "XDOd88Wr7MBg"
   },
   "outputs": [],
   "source": [
    "X_train, X_test, y_train, y_test = train_test_split(df_data, df_labels, test_size=0.25,\n",
    "                                                        random_state=42,\n",
    "                                                        shuffle=False)"
   ]
  },
  {
   "cell_type": "markdown",
   "metadata": {
    "colab_type": "text",
    "id": "fc3Xn1gd7MBh"
   },
   "source": [
    "The end result is 60% training data, 20% test data and 20% validation data"
   ]
  },
  {
   "cell_type": "code",
   "execution_count": 31,
   "metadata": {
    "colab": {},
    "colab_type": "code",
    "id": "gkKOywN_7MBh"
   },
   "outputs": [
    {
     "name": "stdout",
     "output_type": "stream",
     "text": [
      "Shape of X_train (238120,)\n",
      "Shape of y_train (238120,)\n",
      "Shape of X_test (79374,)\n",
      "Shape of y_test (79374,)\n",
      "Shape of X_val (79374,)\n",
      "Shape of y_val (79374,)\n"
     ]
    }
   ],
   "source": [
    "print(\"Shape of X_train\", X_train.shape)\n",
    "print(\"Shape of y_train\", X_train.shape)\n",
    "print(\"Shape of X_test\", X_test.shape)\n",
    "print(\"Shape of y_test\", y_test.shape)\n",
    "print(\"Shape of X_val\", X_val.shape)\n",
    "print(\"Shape of y_val\", y_val.shape)"
   ]
  },
  {
   "cell_type": "markdown",
   "metadata": {
    "colab_type": "text",
    "id": "A8qQP1fG7iTc"
   },
   "source": [
    "### Apply TF-IDF Weighting"
   ]
  },
  {
   "cell_type": "markdown",
   "metadata": {
    "colab_type": "text",
    "id": "hnHWnL3_7iTd"
   },
   "source": [
    "We first need to learn the words for the dictionary from our training data."
   ]
  },
  {
   "cell_type": "code",
   "execution_count": 32,
   "metadata": {
    "colab": {},
    "colab_type": "code",
    "id": "RJevpUmq7iTd"
   },
   "outputs": [
    {
     "name": "stdout",
     "output_type": "stream",
     "text": [
      "Wall time: 4.1 s\n"
     ]
    },
    {
     "data": {
      "text/plain": [
       "<238120x39308 sparse matrix of type '<class 'numpy.float64'>'\n",
       "\twith 1640768 stored elements in Compressed Sparse Row format>"
      ]
     },
     "execution_count": 32,
     "metadata": {},
     "output_type": "execute_result"
    }
   ],
   "source": [
    "vectorizer = TfidfVectorizer(norm=u'l1', token_pattern='(\\S+)', min_df=5, max_df=0.9, ngram_range=(1,2))\n",
    "\n",
    "%time vectorizer.fit_transform(X_train)\n",
    "# print(vectorizer.get_feature_names(10))"
   ]
  },
  {
   "cell_type": "markdown",
   "metadata": {
    "colab_type": "text",
    "id": "IhPdaXXa7iTe"
   },
   "source": [
    "Apply this learned TF-IDF transform to our different dataframes"
   ]
  },
  {
   "cell_type": "code",
   "execution_count": 33,
   "metadata": {
    "colab": {},
    "colab_type": "code",
    "id": "3xinDU6C7iTf"
   },
   "outputs": [
    {
     "name": "stdout",
     "output_type": "stream",
     "text": [
      "Wall time: 2.27 s\n",
      "Wall time: 809 ms\n",
      "Wall time: 825 ms\n"
     ]
    }
   ],
   "source": [
    "%time train_tf = vectorizer.transform(X_train)\n",
    "# train_tf = csr_matrix.mean(train_tf, axis=0)\n",
    "\n",
    "%time test_tf = vectorizer.transform(X_test)\n",
    "# test_tf = csr_matrix.mean(test_tf, axis=0)\n",
    "\n",
    "%time val_tf = vectorizer.transform(X_val)\n",
    "# val_tf = csr_matrix.mean(val_tf, axis=0)\n"
   ]
  },
  {
   "cell_type": "markdown",
   "metadata": {
    "colab_type": "text",
    "id": "Jq_Fqaig7iTg"
   },
   "source": [
    "We can see that the different dataframes have been transformed intt Compressed Sparse Row format data. This is very important as sparsity has a big impact on accuracy."
   ]
  },
  {
   "cell_type": "code",
   "execution_count": 34,
   "metadata": {
    "colab": {},
    "colab_type": "code",
    "id": "7716J8dB7iTg"
   },
   "outputs": [
    {
     "name": "stdout",
     "output_type": "stream",
     "text": [
      "Shape of train_tf (238120, 39308)\n",
      "Shape of test_tf (79374, 39308)\n",
      "Shape of val_tf (79374, 39308)\n"
     ]
    }
   ],
   "source": [
    "print(\"Shape of train_tf\", train_tf.shape)\n",
    "\n",
    "print(\"Shape of test_tf\", test_tf.shape)\n",
    "\n",
    "print(\"Shape of val_tf\", val_tf.shape)"
   ]
  },
  {
   "cell_type": "code",
   "execution_count": 35,
   "metadata": {},
   "outputs": [],
   "source": [
    "true_label = y_test.values"
   ]
  },
  {
   "cell_type": "markdown",
   "metadata": {
    "colab_type": "text",
    "id": "t5O8cW0APWn9"
   },
   "source": [
    "## Classify CSR"
   ]
  },
  {
   "cell_type": "markdown",
   "metadata": {
    "colab_type": "text",
    "id": "up8rnEG-VDV2"
   },
   "source": [
    "First we will attempt to classify the full CSR dataset"
   ]
  },
  {
   "cell_type": "markdown",
   "metadata": {
    "colab_type": "text",
    "id": "9nTR2uuyVKmN"
   },
   "source": [
    "### Naive Bayes\n",
    "Interestingly this crashes and causes the runtime to reset as the dimensionality is too high."
   ]
  },
  {
   "cell_type": "code",
   "execution_count": 36,
   "metadata": {
    "colab": {},
    "colab_type": "code",
    "id": "2BMZ-FK7P0hy"
   },
   "outputs": [],
   "source": [
    "# nb = GaussianNB()\n",
    "# nb.fit(train_tf.todense(), y_train.astype(int))"
   ]
  },
  {
   "cell_type": "code",
   "execution_count": 37,
   "metadata": {
    "colab": {},
    "colab_type": "code",
    "id": "ICikjGgRUMlD"
   },
   "outputs": [],
   "source": [
    "# nb_score_test = nb.score(test_tf.todense(), y_test.astype(int))\n",
    "# nb_score_test"
   ]
  },
  {
   "cell_type": "markdown",
   "metadata": {
    "colab_type": "text",
    "id": "WbSCoHqJRicZ"
   },
   "source": [
    "### Linear Regression"
   ]
  },
  {
   "cell_type": "code",
   "execution_count": 38,
   "metadata": {
    "colab": {
     "base_uri": "https://localhost:8080/",
     "height": 67
    },
    "colab_type": "code",
    "id": "mYa-7yCvQEiY",
    "outputId": "f882414c-4f46-456e-bda1-a4c2e916b334"
   },
   "outputs": [
    {
     "name": "stdout",
     "output_type": "stream",
     "text": [
      "Wall time: 10.2 s\n"
     ]
    }
   ],
   "source": [
    "if LOAD_MODELS == 0:\n",
    "    %time linr.fit(train_tf, y_train.astype(int))"
   ]
  },
  {
   "cell_type": "code",
   "execution_count": 39,
   "metadata": {
    "colab": {
     "base_uri": "https://localhost:8080/",
     "height": 67
    },
    "colab_type": "code",
    "id": "HG9Pe5DmQ8TL",
    "outputId": "91c68b3a-9160-4f67-e474-92ccc70d06c0"
   },
   "outputs": [],
   "source": [
    "# %time linr_score_test = linr.score(test_tf, y_test.astype(int))\n",
    "# print(linr_score_test*100"
   ]
  },
  {
   "cell_type": "code",
   "execution_count": 40,
   "metadata": {},
   "outputs": [
    {
     "name": "stderr",
     "output_type": "stream",
     "text": [
      "C:\\Users\\Andrew\\Anaconda3\\envs\\tf-gpu\\lib\\site-packages\\sklearn\\model_selection\\_split.py:652: Warning: The least populated class in y has only 1 members, which is too few. The minimum number of members in any class cannot be less than n_splits=5.\n",
      "  % (min_groups, self.n_splits)), Warning)\n"
     ]
    },
    {
     "name": "stdout",
     "output_type": "stream",
     "text": [
      "Wall time: 16.6 s\n",
      "Accuracy: -0.08 (+/- 0.07)\n"
     ]
    }
   ],
   "source": [
    "%time scores = cross_val_score(linr, test_tf, true_label, cv=StratifiedKFold(n_splits=5, random_state=42))\n",
    "print(\"Accuracy: %0.2f (+/- %0.2f)\" % (scores.mean(), scores.std() * 2))"
   ]
  },
  {
   "cell_type": "markdown",
   "metadata": {
    "colab_type": "text",
    "id": "KPkOQYptj7pk"
   },
   "source": [
    "We don't have a confusion matrix for the LR as it returns continuous results not discrete ones"
   ]
  },
  {
   "cell_type": "markdown",
   "metadata": {
    "colab_type": "text",
    "id": "RiiKY9yHRnS1"
   },
   "source": [
    "### Logistic Regression"
   ]
  },
  {
   "cell_type": "code",
   "execution_count": 81,
   "metadata": {
    "colab": {
     "base_uri": "https://localhost:8080/",
     "height": 134
    },
    "colab_type": "code",
    "id": "XY9HT8zQRqMQ",
    "outputId": "870895ce-1b99-4fdf-f8d2-067362000cea"
   },
   "outputs": [
    {
     "name": "stdout",
     "output_type": "stream",
     "text": [
      "Wall time: 58.5 s\n"
     ]
    }
   ],
   "source": [
    "if LOAD_MODELS == 0:\n",
    "    %time lr.fit(train_tf, y_train)"
   ]
  },
  {
   "cell_type": "code",
   "execution_count": 42,
   "metadata": {
    "colab": {
     "base_uri": "https://localhost:8080/",
     "height": 67
    },
    "colab_type": "code",
    "id": "lv1Uzj2HR-5L",
    "outputId": "0aa92724-094b-4fcc-a791-225a948f718c"
   },
   "outputs": [],
   "source": [
    "# %time lr_score_test = lr.score(test_tf, y_test.astype(int))\n",
    "# print(lr_score_test*100)\n",
    "# %time scores = cross_val_score(lr, test_tf, true_label, cv=StratifiedKFold(n_splits=5, random_state=42))\n",
    "# print(\"Accuracy: %0.2f (+/- %0.2f)\" % (scores.mean(), scores.std() * 2))"
   ]
  },
  {
   "cell_type": "markdown",
   "metadata": {
    "colab_type": "text",
    "id": "HL0BTUVhkCfM"
   },
   "source": [
    "We can better understand the accuracy by looking at a confusion matrix\n",
    "\n",
    "\n"
   ]
  },
  {
   "cell_type": "code",
   "execution_count": 43,
   "metadata": {
    "colab": {
     "base_uri": "https://localhost:8080/",
     "height": 379
    },
    "colab_type": "code",
    "id": "jsc9tHHPfDXL",
    "outputId": "1489fed6-c42d-45a2-9c1d-f1dc63260143"
   },
   "outputs": [
    {
     "name": "stderr",
     "output_type": "stream",
     "text": [
      "[Parallel(n_jobs=-1)]: Using backend LokyBackend with 12 concurrent workers.\n",
      "C:\\Users\\Andrew\\Anaconda3\\envs\\tf-gpu\\lib\\site-packages\\sklearn\\model_selection\\_split.py:652: Warning: The least populated class in y has only 1 members, which is too few. The minimum number of members in any class cannot be less than n_splits=5.\n",
      "  % (min_groups, self.n_splits)), Warning)\n",
      "[Parallel(n_jobs=-1)]: Done   3 out of   5 | elapsed:    5.7s remaining:    3.8s\n",
      "[Parallel(n_jobs=-1)]: Done   5 out of   5 | elapsed:    8.1s finished\n"
     ]
    },
    {
     "name": "stdout",
     "output_type": "stream",
     "text": [
      "Log loss: 1.0874234493348576\n",
      "Accuracy: 0.6745785773679038\n"
     ]
    },
    {
     "data": {
      "text/plain": [
       "array([0, 0, 0, ..., 5, 3, 0], dtype=int8)"
      ]
     },
     "execution_count": 43,
     "metadata": {},
     "output_type": "execute_result"
    },
    {
     "data": {
      "image/png": "[encoded data removed]",
      "text/plain": [
       "<Figure size 432x288 with 2 Axes>"
      ]
     },
     "metadata": {
      "needs_background": "light"
     },
     "output_type": "display_data"
    }
   ],
   "source": [
    "evaluate_features(test_tf, y_test, lr)"
   ]
  },
  {
   "cell_type": "markdown",
   "metadata": {
    "colab_type": "text",
    "id": "qCTnYpXvW6_T"
   },
   "source": [
    "### Support Vector Machine\n",
    "The high dimensionality means that this takes a ridiculous amount of time to run."
   ]
  },
  {
   "cell_type": "code",
   "execution_count": 44,
   "metadata": {
    "colab": {},
    "colab_type": "code",
    "id": "99h61zvwYikw"
   },
   "outputs": [],
   "source": [
    "# clf = svm.SVC(kernel='linear', C=1, random_state=42)\n",
    "# %time clf.fit(train_tf, y_train.astype(int))"
   ]
  },
  {
   "cell_type": "code",
   "execution_count": 45,
   "metadata": {
    "colab": {},
    "colab_type": "code",
    "id": "FyT3M3G3Yik1"
   },
   "outputs": [],
   "source": [
    "# %time clf_score = clf.score(test_tf, y_test.astype(int))\n",
    "# print(\"SVM accuracy on test:\\t %f\" % clf_score)"
   ]
  },
  {
   "cell_type": "markdown",
   "metadata": {
    "colab_type": "text",
    "id": "Kl3AFQwAsfoO"
   },
   "source": [
    "### Random Forest\n",
    "The high dimensionality means that this takes a ridiculous amount of time to run."
   ]
  },
  {
   "cell_type": "code",
   "execution_count": 46,
   "metadata": {
    "colab": {
     "base_uri": "https://localhost:8080/",
     "height": 168
    },
    "colab_type": "code",
    "id": "5GSyFlIUsjfN",
    "outputId": "c161c5d6-bfbf-4f8e-d5cb-bc28e0522015"
   },
   "outputs": [
    {
     "name": "stdout",
     "output_type": "stream",
     "text": [
      "Wall time: 39.5 s\n"
     ]
    }
   ],
   "source": [
    "if LOAD_MODELS == 0:\n",
    "    %time rf.fit(train_tf, y_train.astype(int))"
   ]
  },
  {
   "cell_type": "code",
   "execution_count": 47,
   "metadata": {
    "colab": {
     "base_uri": "https://localhost:8080/",
     "height": 67
    },
    "colab_type": "code",
    "id": "YMQ6Qi-7srF1",
    "outputId": "8d2fdfef-82a3-4665-b3e2-e60fa8bb6e3d"
   },
   "outputs": [],
   "source": [
    "# %time rf_score = rf.score(test_tf, y_test.astype(int))\n",
    "# print(\"RF accuracy on test:\\t %f\" % rf_score)\n",
    "# %time scores = cross_val_score(rf, test_tf, true_label, cv=StratifiedKFold(n_splits=5, random_state=42))\n",
    "# print(\"Accuracy: %0.2f (+/- %0.2f)\" % (scores.mean(), scores.std() * 2))"
   ]
  },
  {
   "cell_type": "markdown",
   "metadata": {
    "colab_type": "text",
    "id": "L-ccw4zOkRd_"
   },
   "source": [
    "We can better understand the accuracy by looking at a confusion matrix"
   ]
  },
  {
   "cell_type": "code",
   "execution_count": 48,
   "metadata": {
    "colab": {
     "base_uri": "https://localhost:8080/",
     "height": 379
    },
    "colab_type": "code",
    "id": "GLRxGumshzAd",
    "outputId": "6cfc361e-e0d6-4590-c387-5875b90402f9"
   },
   "outputs": [
    {
     "name": "stderr",
     "output_type": "stream",
     "text": [
      "[Parallel(n_jobs=-1)]: Using backend LokyBackend with 12 concurrent workers.\n",
      "C:\\Users\\Andrew\\Anaconda3\\envs\\tf-gpu\\lib\\site-packages\\sklearn\\model_selection\\_split.py:652: Warning: The least populated class in y has only 1 members, which is too few. The minimum number of members in any class cannot be less than n_splits=5.\n",
      "  % (min_groups, self.n_splits)), Warning)\n",
      "[Parallel(n_jobs=-1)]: Done   3 out of   5 | elapsed:  2.0min remaining:  1.3min\n"
     ]
    },
    {
     "name": "stdout",
     "output_type": "stream",
     "text": [
      "Log loss: 1.5747267643829912\n",
      "Accuracy: 0.4476276866480208\n"
     ]
    },
    {
     "name": "stderr",
     "output_type": "stream",
     "text": [
      "[Parallel(n_jobs=-1)]: Done   5 out of   5 | elapsed:  2.0min finished\n"
     ]
    },
    {
     "data": {
      "text/plain": [
       "array([0, 0, 0, ..., 5, 3, 0], dtype=int8)"
      ]
     },
     "execution_count": 48,
     "metadata": {},
     "output_type": "execute_result"
    },
    {
     "data": {
      "image/png": "[encoded data removed]",
      "text/plain": [
       "<Figure size 432x288 with 2 Axes>"
      ]
     },
     "metadata": {
      "needs_background": "light"
     },
     "output_type": "display_data"
    }
   ],
   "source": [
    "evaluate_features(test_tf, y_test, rf)"
   ]
  },
  {
   "cell_type": "markdown",
   "metadata": {
    "colab_type": "text",
    "id": "e8ZtHimY-vBB"
   },
   "source": [
    "We could use a gridsearch to find optimal paramters for a classifier"
   ]
  },
  {
   "cell_type": "code",
   "execution_count": 49,
   "metadata": {
    "colab": {},
    "colab_type": "code",
    "id": "xGplZk3LkDfR"
   },
   "outputs": [],
   "source": [
    "# rf_grid = RandomForestClassifier(random_state=42)\n",
    "\n",
    "# param_grid = { \n",
    "#     'n_estimators': [100, 120, 140, 160, 180, 200, 220, 240, 260],\n",
    "#     'min_samples_leaf': [3, 5, 7],\n",
    "#     'min_samples_split': [2, 3, 4, 5, 6],\n",
    "#     'max_depth' : [5, 10, 15, 20, 25, 30, 35, 40, 45],\n",
    "#     'criterion' :['gini', 'entropy']\n",
    "# }\n",
    "\n",
    "\n",
    "# CV_rf = GridSearchCV(estimator=rf_grid, param_grid=param_grid, cv= 5, n_jobs = -1, \n",
    "#                      verbose = 2)\n",
    "# CV_rf.fit(train_tf, y_train.astype(int))\n",
    "# CV_rf.best_params_"
   ]
  },
  {
   "cell_type": "markdown",
   "metadata": {
    "colab_type": "text",
    "id": "ylDHai-RTmFH"
   },
   "source": [
    "## Scores on CSR Validation Set"
   ]
  },
  {
   "cell_type": "code",
   "execution_count": 50,
   "metadata": {
    "colab": {},
    "colab_type": "code",
    "id": "J1DLXODl_VBA"
   },
   "outputs": [],
   "source": [
    "# nb_score_val = nb.score(val_tf.todense(), y_val.astype(int))\n",
    "# nb_score_val"
   ]
  },
  {
   "cell_type": "code",
   "execution_count": 51,
   "metadata": {
    "colab": {
     "base_uri": "https://localhost:8080/",
     "height": 0
    },
    "colab_type": "code",
    "id": "OUfC603_RZwX",
    "outputId": "9ecb93c9-73dc-4acb-d6e5-0bb779a6339f"
   },
   "outputs": [
    {
     "name": "stdout",
     "output_type": "stream",
     "text": [
      "Wall time: 16 s\n",
      "Accuracy: -0.09 (+/- 0.09)\n"
     ]
    }
   ],
   "source": [
    "# linr_score_val = linr.score(val_tf, y_val)\n",
    "# linr_score_val\n",
    "%time scores = cross_val_score(linr, val_tf, y_val, cv=StratifiedKFold(n_splits=5, random_state=42))\n",
    "print(\"Accuracy: %0.2f (+/- %0.2f)\" % (scores.mean(), scores.std() * 2))"
   ]
  },
  {
   "cell_type": "code",
   "execution_count": 52,
   "metadata": {
    "colab": {
     "base_uri": "https://localhost:8080/",
     "height": 0
    },
    "colab_type": "code",
    "id": "zYc69BoATjlt",
    "outputId": "a25a1baf-2a99-4bce-ac40-b717cf13caf6"
   },
   "outputs": [
    {
     "name": "stderr",
     "output_type": "stream",
     "text": [
      "C:\\Users\\Andrew\\Anaconda3\\envs\\tf-gpu\\lib\\site-packages\\sklearn\\linear_model\\logistic.py:460: FutureWarning: Default multi_class will be changed to 'auto' in 0.22. Specify the multi_class option to silence this warning.\n",
      "  \"this warning.\", FutureWarning)\n"
     ]
    },
    {
     "name": "stdout",
     "output_type": "stream",
     "text": [
      "Wall time: 7.4 s\n",
      "Accuracy: 0.78 (+/- 0.00)\n"
     ]
    }
   ],
   "source": [
    "# lr_score_val = lr.score(val_tf, y_val.astype(int))\n",
    "# lr_score_val\n",
    "%time scores = cross_val_score(lr, val_tf, y_val, cv=StratifiedKFold(n_splits=5, random_state=42))\n",
    "print(\"Accuracy: %0.2f (+/- %0.2f)\" % (scores.mean(), scores.std() * 2))"
   ]
  },
  {
   "cell_type": "code",
   "execution_count": 53,
   "metadata": {
    "colab": {},
    "colab_type": "code",
    "id": "fRxfvE62XVET"
   },
   "outputs": [],
   "source": [
    "# clf_score_val = clf.score(X_val, y_val.astype(int))\n",
    "# clf_score_val"
   ]
  },
  {
   "cell_type": "code",
   "execution_count": 54,
   "metadata": {
    "colab": {
     "base_uri": "https://localhost:8080/",
     "height": 0
    },
    "colab_type": "code",
    "id": "CCJyNWqG_fAY",
    "outputId": "46543c8c-8b55-49b4-8482-5ab9499ff468"
   },
   "outputs": [
    {
     "name": "stdout",
     "output_type": "stream",
     "text": [
      "Wall time: 2min 15s\n",
      "Accuracy: 0.50 (+/- 0.02)\n"
     ]
    }
   ],
   "source": [
    "# rf_score_val = rf.score(val_tf, y_val.astype(int))\n",
    "# rf_score_val\n",
    "%time scores = cross_val_score(rf, val_tf, y_val, cv=StratifiedKFold(n_splits=5, random_state=42))\n",
    "print(\"Accuracy: %0.2f (+/- %0.2f)\" % (scores.mean(), scores.std() * 2))"
   ]
  },
  {
   "cell_type": "markdown",
   "metadata": {
    "colab_type": "text",
    "id": "-QcUuQC2ZyuY"
   },
   "source": [
    "## Classify Reduced\n",
    "We will now reduce the dimensionality of the dataset and rety classification."
   ]
  },
  {
   "cell_type": "markdown",
   "metadata": {
    "colab_type": "text",
    "id": "Ki7quJoqelMx"
   },
   "source": [
    "### Reduce Dimensions using SVD"
   ]
  },
  {
   "cell_type": "code",
   "execution_count": 55,
   "metadata": {
    "colab": {},
    "colab_type": "code",
    "id": "WpwONijVen3V"
   },
   "outputs": [],
   "source": [
    "NUM_DIMEN = 50\n",
    "svd = TruncatedSVD(n_components=NUM_DIMEN)"
   ]
  },
  {
   "cell_type": "code",
   "execution_count": 56,
   "metadata": {
    "colab": {
     "base_uri": "https://localhost:8080/",
     "height": 0
    },
    "colab_type": "code",
    "id": "w_BQ2tIWfV62",
    "outputId": "c9711984-fb27-4bdf-9682-625f0a6a60c8"
   },
   "outputs": [
    {
     "name": "stdout",
     "output_type": "stream",
     "text": [
      "Wall time: 5.18 s\n",
      "Training data variance with 50 SVD components is 1.746733\n"
     ]
    }
   ],
   "source": [
    "%time train_sv = svd.fit_transform(train_tf)\n",
    "var = svd.explained_variance_.sum() * 100\n",
    "print(\"Training data variance with %d SVD components is %f\" % (NUM_DIMEN, var))"
   ]
  },
  {
   "cell_type": "code",
   "execution_count": 57,
   "metadata": {
    "colab": {
     "base_uri": "https://localhost:8080/",
     "height": 0
    },
    "colab_type": "code",
    "id": "WBY-IR3nVNh6",
    "outputId": "97532ba2-0775-434f-d916-c1925d0b2f1c"
   },
   "outputs": [
    {
     "name": "stdout",
     "output_type": "stream",
     "text": [
      "Wall time: 1.78 s\n",
      "Wall time: 1.75 s\n"
     ]
    }
   ],
   "source": [
    "%time test_sv = svd.fit_transform(test_tf)\n",
    "%time val_sv = svd.fit_transform(val_tf)"
   ]
  },
  {
   "cell_type": "code",
   "execution_count": 58,
   "metadata": {
    "colab": {
     "base_uri": "https://localhost:8080/",
     "height": 0
    },
    "colab_type": "code",
    "id": "ekXBGF3GgRmw",
    "outputId": "0abfc210-12ba-412b-c52f-b0414fffec1c"
   },
   "outputs": [
    {
     "name": "stdout",
     "output_type": "stream",
     "text": [
      "Shape of train_sv (238120, 50)\n",
      "Shape of test_sv (79374, 50)\n",
      "Shape of val_sv (79374, 50)\n"
     ]
    }
   ],
   "source": [
    "print(\"Shape of train_sv\", train_sv.shape)\n",
    "\n",
    "print(\"Shape of test_sv\", test_sv.shape)\n",
    "\n",
    "print(\"Shape of val_sv\", val_sv.shape)"
   ]
  },
  {
   "cell_type": "markdown",
   "metadata": {
    "colab_type": "text",
    "id": "Yrn7z396hdtw"
   },
   "source": [
    "### Naive Bayes\n",
    "With the reduced dimensionality we can use a Naive Bayes classifier"
   ]
  },
  {
   "cell_type": "code",
   "execution_count": 59,
   "metadata": {
    "colab": {
     "base_uri": "https://localhost:8080/",
     "height": 67
    },
    "colab_type": "code",
    "id": "VJ_BBtnxhdty",
    "outputId": "20ae655a-afb5-4139-9824-e6ecd3857e32"
   },
   "outputs": [
    {
     "name": "stdout",
     "output_type": "stream",
     "text": [
      "Wall time: 290 ms\n"
     ]
    }
   ],
   "source": [
    "if LOAD_MODELS == 0:\n",
    "    %time nb_sv.fit(train_sv, y_train.astype(int))"
   ]
  },
  {
   "cell_type": "code",
   "execution_count": 60,
   "metadata": {
    "colab": {
     "base_uri": "https://localhost:8080/",
     "height": 67
    },
    "colab_type": "code",
    "id": "jqcZJylEhdt1",
    "outputId": "e2089619-3609-41fc-99a0-c773483e8b0c"
   },
   "outputs": [],
   "source": [
    "# %time nb_score_test_sv = nb_sv.score(test_sv, y_test.astype(int))\n",
    "# nb_score_test_sv*100\n",
    "# %time scores = cross_val_score(nb_sv, test_sv, true_label, cv=StratifiedKFold(n_splits=5, random_state=42))\n",
    "# print(\"Accuracy: %0.2f (+/- %0.2f)\" % (scores.mean(), scores.std() * 2))"
   ]
  },
  {
   "cell_type": "markdown",
   "metadata": {
    "colab_type": "text",
    "id": "UDBbEU4CkzNV"
   },
   "source": [
    "We can better understand the accuracy by looking at a confusion matrix"
   ]
  },
  {
   "cell_type": "code",
   "execution_count": 61,
   "metadata": {
    "colab": {
     "base_uri": "https://localhost:8080/",
     "height": 379
    },
    "colab_type": "code",
    "id": "A0Ev7QQOkzNW",
    "outputId": "f3aa89f9-c75d-40df-b7f8-9c1c5ce1ed7b"
   },
   "outputs": [
    {
     "name": "stderr",
     "output_type": "stream",
     "text": [
      "[Parallel(n_jobs=-1)]: Using backend LokyBackend with 12 concurrent workers.\n",
      "C:\\Users\\Andrew\\Anaconda3\\envs\\tf-gpu\\lib\\site-packages\\sklearn\\model_selection\\_split.py:652: Warning: The least populated class in y has only 1 members, which is too few. The minimum number of members in any class cannot be less than n_splits=5.\n",
      "  % (min_groups, self.n_splits)), Warning)\n"
     ]
    },
    {
     "name": "stdout",
     "output_type": "stream",
     "text": [
      "Log loss: 5.028020678482407\n",
      "Accuracy: 0.3656612996699171\n"
     ]
    },
    {
     "name": "stderr",
     "output_type": "stream",
     "text": [
      "[Parallel(n_jobs=-1)]: Done   3 out of   5 | elapsed:    0.4s remaining:    0.2s\n",
      "[Parallel(n_jobs=-1)]: Done   5 out of   5 | elapsed:    0.4s finished\n"
     ]
    },
    {
     "data": {
      "text/plain": [
       "array([0, 0, 0, ..., 5, 3, 6], dtype=int8)"
      ]
     },
     "execution_count": 61,
     "metadata": {},
     "output_type": "execute_result"
    },
    {
     "data": {
      "image/png": "[encoded data removed]",
      "text/plain": [
       "<Figure size 432x288 with 2 Axes>"
      ]
     },
     "metadata": {
      "needs_background": "light"
     },
     "output_type": "display_data"
    }
   ],
   "source": [
    "evaluate_features(test_sv, y_test, nb_sv)"
   ]
  },
  {
   "cell_type": "markdown",
   "metadata": {
    "colab_type": "text",
    "id": "BKs9EyQrhdt2"
   },
   "source": [
    "### Linear Regression"
   ]
  },
  {
   "cell_type": "code",
   "execution_count": 62,
   "metadata": {
    "colab": {
     "base_uri": "https://localhost:8080/",
     "height": 67
    },
    "colab_type": "code",
    "id": "Lt5o0VB9hdt3",
    "outputId": "3f9b9b6e-2011-4042-f687-85095967895f"
   },
   "outputs": [
    {
     "name": "stdout",
     "output_type": "stream",
     "text": [
      "Wall time: 408 ms\n"
     ]
    }
   ],
   "source": [
    "if LOAD_MODELS == 0:\n",
    "    %time linr_sv.fit(train_sv, y_train.astype(int))"
   ]
  },
  {
   "cell_type": "code",
   "execution_count": 63,
   "metadata": {
    "colab": {
     "base_uri": "https://localhost:8080/",
     "height": 67
    },
    "colab_type": "code",
    "id": "5ZPTHJmmhdt8",
    "outputId": "0a9cd712-bfe3-487e-e020-08366196ee7d"
   },
   "outputs": [],
   "source": [
    "# %time linr_score_test_sv = linr_sv.score(test_sv, y_test.astype(int))\n",
    "# linr_score_test_sv*100"
   ]
  },
  {
   "cell_type": "code",
   "execution_count": 64,
   "metadata": {},
   "outputs": [
    {
     "name": "stderr",
     "output_type": "stream",
     "text": [
      "C:\\Users\\Andrew\\Anaconda3\\envs\\tf-gpu\\lib\\site-packages\\sklearn\\model_selection\\_split.py:652: Warning: The least populated class in y has only 1 members, which is too few. The minimum number of members in any class cannot be less than n_splits=5.\n",
      "  % (min_groups, self.n_splits)), Warning)\n"
     ]
    },
    {
     "name": "stdout",
     "output_type": "stream",
     "text": [
      "Wall time: 504 ms\n",
      "Accuracy: 0.28 (+/- 0.02)\n"
     ]
    }
   ],
   "source": [
    "%time scores = cross_val_score(linr_sv, test_sv, true_label, cv=StratifiedKFold(n_splits=5, random_state=42))\n",
    "print(\"Accuracy: %0.2f (+/- %0.2f)\" % (scores.mean(), scores.std() * 2))"
   ]
  },
  {
   "cell_type": "markdown",
   "metadata": {
    "colab_type": "text",
    "id": "pT2_fXOhlLEb"
   },
   "source": [
    "We don't have a confusion matrix for the LR as it returns continuous results not discrete ones"
   ]
  },
  {
   "cell_type": "markdown",
   "metadata": {
    "colab_type": "text",
    "id": "edy7q2p7hdt_"
   },
   "source": [
    "### Logistic Regression"
   ]
  },
  {
   "cell_type": "code",
   "execution_count": 65,
   "metadata": {
    "colab": {
     "base_uri": "https://localhost:8080/",
     "height": 134
    },
    "colab_type": "code",
    "id": "gQsyOQbThduA",
    "outputId": "036187b1-6c32-408a-cbdb-8b26d82da026"
   },
   "outputs": [
    {
     "name": "stderr",
     "output_type": "stream",
     "text": [
      "C:\\Users\\Andrew\\Anaconda3\\envs\\tf-gpu\\lib\\site-packages\\sklearn\\linear_model\\logistic.py:460: FutureWarning: Default multi_class will be changed to 'auto' in 0.22. Specify the multi_class option to silence this warning.\n",
      "  \"this warning.\", FutureWarning)\n"
     ]
    },
    {
     "name": "stdout",
     "output_type": "stream",
     "text": [
      "Wall time: 42.8 s\n"
     ]
    }
   ],
   "source": [
    "if LOAD_MODELS == 0:\n",
    "    %time lr_sv.fit(train_sv, y_train.values)"
   ]
  },
  {
   "cell_type": "code",
   "execution_count": 66,
   "metadata": {
    "colab": {
     "base_uri": "https://localhost:8080/",
     "height": 67
    },
    "colab_type": "code",
    "id": "t_WrE9-hhduC",
    "outputId": "0be2cdf8-2cb4-4fa9-b223-f0bf18faa2f7"
   },
   "outputs": [],
   "source": [
    "# %time lr_score_test_sv = lr_sv.score(test_sv, true_label)\n",
    "# print(\"Accuracy: \", lr_score_test_sv)\n",
    "# %time scores = cross_val_score(lr_sv, test_sv, true_label, cv=StratifiedKFold(n_splits=5, random_state=42))\n",
    "# print(\"Accuracy: %0.2f (+/- %0.2f)\" % (scores.mean(), scores.std() * 2))"
   ]
  },
  {
   "cell_type": "markdown",
   "metadata": {
    "colab_type": "text",
    "id": "uJXqj7eyk9bK"
   },
   "source": [
    "We can better understand the accuracy by looking at a confusion matrix"
   ]
  },
  {
   "cell_type": "code",
   "execution_count": 67,
   "metadata": {
    "colab": {},
    "colab_type": "code",
    "id": "A_poAxOdk9bL"
   },
   "outputs": [
    {
     "name": "stderr",
     "output_type": "stream",
     "text": [
      "[Parallel(n_jobs=-1)]: Using backend LokyBackend with 12 concurrent workers.\n",
      "C:\\Users\\Andrew\\Anaconda3\\envs\\tf-gpu\\lib\\site-packages\\sklearn\\model_selection\\_split.py:652: Warning: The least populated class in y has only 1 members, which is too few. The minimum number of members in any class cannot be less than n_splits=5.\n",
      "  % (min_groups, self.n_splits)), Warning)\n",
      "[Parallel(n_jobs=-1)]: Done   3 out of   5 | elapsed:   13.6s remaining:    9.0s\n",
      "[Parallel(n_jobs=-1)]: Done   5 out of   5 | elapsed:   13.6s finished\n"
     ]
    },
    {
     "name": "stdout",
     "output_type": "stream",
     "text": [
      "Log loss: 1.3529716919709465\n",
      "Accuracy: 0.5442840224758737\n"
     ]
    },
    {
     "data": {
      "image/png": "[encoded data removed]",
      "text/plain": [
       "<Figure size 432x288 with 2 Axes>"
      ]
     },
     "metadata": {
      "needs_background": "light"
     },
     "output_type": "display_data"
    }
   ],
   "source": [
    "preds = evaluate_features(test_sv, true_label, lr_sv)"
   ]
  },
  {
   "cell_type": "markdown",
   "metadata": {},
   "source": [
    "Explore the predictions compared to actual labels"
   ]
  },
  {
   "cell_type": "code",
   "execution_count": 68,
   "metadata": {},
   "outputs": [
    {
     "name": "stdout",
     "output_type": "stream",
     "text": [
      "Show performance on first 5 rows\n"
     ]
    },
    {
     "data": {
      "text/html": [
       "<div>\n",
       "<style scoped>\n",
       "    .dataframe tbody tr th:only-of-type {\n",
       "        vertical-align: middle;\n",
       "    }\n",
       "\n",
       "    .dataframe tbody tr th {\n",
       "        vertical-align: top;\n",
       "    }\n",
       "\n",
       "    .dataframe thead th {\n",
       "        text-align: right;\n",
       "    }\n",
       "</style>\n",
       "<table border=\"1\" class=\"dataframe\">\n",
       "  <thead>\n",
       "    <tr style=\"text-align: right;\">\n",
       "      <th></th>\n",
       "      <th>Predictions</th>\n",
       "      <th>Actual</th>\n",
       "      <th>Match</th>\n",
       "    </tr>\n",
       "  </thead>\n",
       "  <tbody>\n",
       "    <tr>\n",
       "      <th>0</th>\n",
       "      <td>0</td>\n",
       "      <td>1</td>\n",
       "      <td>False</td>\n",
       "    </tr>\n",
       "    <tr>\n",
       "      <th>1</th>\n",
       "      <td>0</td>\n",
       "      <td>2</td>\n",
       "      <td>False</td>\n",
       "    </tr>\n",
       "    <tr>\n",
       "      <th>2</th>\n",
       "      <td>0</td>\n",
       "      <td>4</td>\n",
       "      <td>False</td>\n",
       "    </tr>\n",
       "    <tr>\n",
       "      <th>3</th>\n",
       "      <td>0</td>\n",
       "      <td>1</td>\n",
       "      <td>False</td>\n",
       "    </tr>\n",
       "    <tr>\n",
       "      <th>4</th>\n",
       "      <td>0</td>\n",
       "      <td>2</td>\n",
       "      <td>False</td>\n",
       "    </tr>\n",
       "    <tr>\n",
       "      <th>5</th>\n",
       "      <td>0</td>\n",
       "      <td>0</td>\n",
       "      <td>True</td>\n",
       "    </tr>\n",
       "    <tr>\n",
       "      <th>6</th>\n",
       "      <td>0</td>\n",
       "      <td>1</td>\n",
       "      <td>False</td>\n",
       "    </tr>\n",
       "    <tr>\n",
       "      <th>7</th>\n",
       "      <td>0</td>\n",
       "      <td>2</td>\n",
       "      <td>False</td>\n",
       "    </tr>\n",
       "    <tr>\n",
       "      <th>8</th>\n",
       "      <td>0</td>\n",
       "      <td>2</td>\n",
       "      <td>False</td>\n",
       "    </tr>\n",
       "    <tr>\n",
       "      <th>9</th>\n",
       "      <td>0</td>\n",
       "      <td>3</td>\n",
       "      <td>False</td>\n",
       "    </tr>\n",
       "  </tbody>\n",
       "</table>\n",
       "</div>"
      ],
      "text/plain": [
       "   Predictions  Actual  Match\n",
       "0            0       1  False\n",
       "1            0       2  False\n",
       "2            0       4  False\n",
       "3            0       1  False\n",
       "4            0       2  False\n",
       "5            0       0   True\n",
       "6            0       1  False\n",
       "7            0       2  False\n",
       "8            0       2  False\n",
       "9            0       3  False"
      ]
     },
     "execution_count": 68,
     "metadata": {},
     "output_type": "execute_result"
    }
   ],
   "source": [
    "# Match is 'True' when values are the same\n",
    "match = [preds[x] == true_label[x] for x in range(len(preds))]\n",
    "\n",
    "# Combine and show\n",
    "df_compare = pd.DataFrame({'Predictions': preds, 'Actual': true_label, \n",
    "                           'Match': match})\n",
    "\n",
    "print('Show performance on first 5 rows')\n",
    "df_compare.head(10)"
   ]
  },
  {
   "cell_type": "markdown",
   "metadata": {
    "colab_type": "text",
    "id": "Y00algZ1hduG"
   },
   "source": [
    "### Support Vector Machine\n",
    "Even at low dimension this takes a lot of time to run."
   ]
  },
  {
   "cell_type": "code",
   "execution_count": 69,
   "metadata": {
    "colab": {},
    "colab_type": "code",
    "id": "AT5RBj7-hduH"
   },
   "outputs": [],
   "source": [
    "# clf_sv = svm.SVC(kernel='linear', C=1, random_state=42)\n",
    "# %time clf_sv.fit(train_sv, y_train.astype(int))"
   ]
  },
  {
   "cell_type": "code",
   "execution_count": 70,
   "metadata": {
    "colab": {},
    "colab_type": "code",
    "id": "hp2-ZTOnhduI"
   },
   "outputs": [],
   "source": [
    "# %time clf_score_sv = clf_sv.score(test_sv, y_test.astype(int))\n",
    "# print(\"SVM accuracy on test:\\t %f\" % clf_score_sv)"
   ]
  },
  {
   "cell_type": "markdown",
   "metadata": {
    "colab_type": "text",
    "id": "mefGE06xu4Xi"
   },
   "source": [
    "### Random Forest"
   ]
  },
  {
   "cell_type": "code",
   "execution_count": 71,
   "metadata": {
    "colab": {},
    "colab_type": "code",
    "id": "T8-aWktfu4Xl"
   },
   "outputs": [
    {
     "name": "stdout",
     "output_type": "stream",
     "text": [
      "Wall time: 1min 34s\n"
     ]
    }
   ],
   "source": [
    "if LOAD_MODELS == 0:\n",
    "    %time rf_sv.fit(train_sv, y_train.astype(int))"
   ]
  },
  {
   "cell_type": "code",
   "execution_count": 72,
   "metadata": {
    "colab": {},
    "colab_type": "code",
    "id": "Wsg8-Wn8u4Xm"
   },
   "outputs": [],
   "source": [
    "# %time rf_score_sv = rf_sv.score(test_sv, y_test.astype(int))\n",
    "# print(\"RF accuracy on test:\\t %f\" % rf_score_sv)\n",
    "# %time scores = cross_val_score(rf_sv, test_sv, true_label, cv=StratifiedKFold(n_splits=5, random_state=42))\n",
    "# print(\"Accuracy: %0.2f (+/- %0.2f)\" % (scores.mean(), scores.std() * 2))"
   ]
  },
  {
   "cell_type": "code",
   "execution_count": 73,
   "metadata": {},
   "outputs": [
    {
     "name": "stderr",
     "output_type": "stream",
     "text": [
      "[Parallel(n_jobs=-1)]: Using backend LokyBackend with 12 concurrent workers.\n",
      "C:\\Users\\Andrew\\Anaconda3\\envs\\tf-gpu\\lib\\site-packages\\sklearn\\model_selection\\_split.py:652: Warning: The least populated class in y has only 1 members, which is too few. The minimum number of members in any class cannot be less than n_splits=5.\n",
      "  % (min_groups, self.n_splits)), Warning)\n",
      "[Parallel(n_jobs=-1)]: Done   3 out of   5 | elapsed:  1.6min remaining:  1.1min\n",
      "[Parallel(n_jobs=-1)]: Done   5 out of   5 | elapsed:  1.6min finished\n"
     ]
    },
    {
     "name": "stdout",
     "output_type": "stream",
     "text": [
      "Log loss: 1.4947142731343623\n",
      "Accuracy: 0.48389900975130395\n"
     ]
    },
    {
     "data": {
      "text/plain": [
       "array([0, 0, 0, ..., 5, 3, 1], dtype=int8)"
      ]
     },
     "execution_count": 73,
     "metadata": {},
     "output_type": "execute_result"
    },
    {
     "data": {
      "image/png": "[encoded data removed]",
      "text/plain": [
       "<Figure size 432x288 with 2 Axes>"
      ]
     },
     "metadata": {
      "needs_background": "light"
     },
     "output_type": "display_data"
    }
   ],
   "source": [
    "evaluate_features(test_sv, true_label, rf_sv)"
   ]
  },
  {
   "cell_type": "markdown",
   "metadata": {
    "colab_type": "text",
    "id": "ylDHai-RTmFH"
   },
   "source": [
    "## Scores on Reduced Validation Set"
   ]
  },
  {
   "cell_type": "code",
   "execution_count": 74,
   "metadata": {
    "colab": {},
    "colab_type": "code",
    "id": "J1DLXODl_VBA"
   },
   "outputs": [
    {
     "name": "stdout",
     "output_type": "stream",
     "text": [
      "Wall time: 858 ms\n",
      "Accuracy: 0.39 (+/- 0.02)\n"
     ]
    }
   ],
   "source": [
    "%time scores = cross_val_score(nb_sv, val_sv, y_val, cv=StratifiedKFold(n_splits=5, random_state=42))\n",
    "print(\"Accuracy: %0.2f (+/- %0.2f)\" % (scores.mean(), scores.std() * 2))"
   ]
  },
  {
   "cell_type": "code",
   "execution_count": 75,
   "metadata": {
    "colab": {
     "base_uri": "https://localhost:8080/",
     "height": 0
    },
    "colab_type": "code",
    "id": "OUfC603_RZwX",
    "outputId": "9ecb93c9-73dc-4acb-d6e5-0bb779a6339f"
   },
   "outputs": [
    {
     "name": "stdout",
     "output_type": "stream",
     "text": [
      "Wall time: 503 ms\n",
      "Accuracy: 0.26 (+/- 0.02)\n"
     ]
    }
   ],
   "source": [
    "%time scores = cross_val_score(linr_sv, val_sv, y_val, cv=StratifiedKFold(n_splits=5, random_state=42))\n",
    "print(\"Accuracy: %0.2f (+/- %0.2f)\" % (scores.mean(), scores.std() * 2))"
   ]
  },
  {
   "cell_type": "code",
   "execution_count": 76,
   "metadata": {
    "colab": {
     "base_uri": "https://localhost:8080/",
     "height": 0
    },
    "colab_type": "code",
    "id": "zYc69BoATjlt",
    "outputId": "a25a1baf-2a99-4bce-ac40-b717cf13caf6"
   },
   "outputs": [
    {
     "name": "stderr",
     "output_type": "stream",
     "text": [
      "C:\\Users\\Andrew\\Anaconda3\\envs\\tf-gpu\\lib\\site-packages\\sklearn\\linear_model\\logistic.py:460: FutureWarning: Default multi_class will be changed to 'auto' in 0.22. Specify the multi_class option to silence this warning.\n",
      "  \"this warning.\", FutureWarning)\n",
      "C:\\Users\\Andrew\\Anaconda3\\envs\\tf-gpu\\lib\\site-packages\\sklearn\\linear_model\\logistic.py:460: FutureWarning: Default multi_class will be changed to 'auto' in 0.22. Specify the multi_class option to silence this warning.\n",
      "  \"this warning.\", FutureWarning)\n",
      "C:\\Users\\Andrew\\Anaconda3\\envs\\tf-gpu\\lib\\site-packages\\sklearn\\linear_model\\logistic.py:460: FutureWarning: Default multi_class will be changed to 'auto' in 0.22. Specify the multi_class option to silence this warning.\n",
      "  \"this warning.\", FutureWarning)\n",
      "C:\\Users\\Andrew\\Anaconda3\\envs\\tf-gpu\\lib\\site-packages\\sklearn\\linear_model\\logistic.py:460: FutureWarning: Default multi_class will be changed to 'auto' in 0.22. Specify the multi_class option to silence this warning.\n",
      "  \"this warning.\", FutureWarning)\n",
      "C:\\Users\\Andrew\\Anaconda3\\envs\\tf-gpu\\lib\\site-packages\\sklearn\\linear_model\\logistic.py:460: FutureWarning: Default multi_class will be changed to 'auto' in 0.22. Specify the multi_class option to silence this warning.\n",
      "  \"this warning.\", FutureWarning)\n"
     ]
    },
    {
     "name": "stdout",
     "output_type": "stream",
     "text": [
      "Wall time: 37.5 s\n",
      "Accuracy: 0.62 (+/- 0.01)\n"
     ]
    }
   ],
   "source": [
    "%time scores = cross_val_score(lr_sv, val_sv, y_val, cv=StratifiedKFold(n_splits=5, random_state=42))\n",
    "print(\"Accuracy: %0.2f (+/- %0.2f)\" % (scores.mean(), scores.std() * 2))"
   ]
  },
  {
   "cell_type": "code",
   "execution_count": 77,
   "metadata": {
    "colab": {},
    "colab_type": "code",
    "id": "fRxfvE62XVET"
   },
   "outputs": [],
   "source": [
    "# clf_score_val = clf.score(X_val, y_val.astype(int))\n",
    "# clf_score_val"
   ]
  },
  {
   "cell_type": "code",
   "execution_count": 78,
   "metadata": {
    "colab": {
     "base_uri": "https://localhost:8080/",
     "height": 0
    },
    "colab_type": "code",
    "id": "CCJyNWqG_fAY",
    "outputId": "46543c8c-8b55-49b4-8482-5ab9499ff468"
   },
   "outputs": [
    {
     "name": "stdout",
     "output_type": "stream",
     "text": [
      "Wall time: 1min 44s\n",
      "Accuracy: 0.53 (+/- 0.01)\n"
     ]
    }
   ],
   "source": [
    "%time scores = cross_val_score(rf_sv, val_sv, y_val, cv=StratifiedKFold(n_splits=5, random_state=42))\n",
    "print(\"Accuracy: %0.2f (+/- %0.2f)\" % (scores.mean(), scores.std() * 2))"
   ]
  },
  {
   "cell_type": "markdown",
   "metadata": {},
   "source": [
    "## Let's Save Everything"
   ]
  },
  {
   "cell_type": "code",
   "execution_count": 83,
   "metadata": {},
   "outputs": [
    {
     "name": "stdout",
     "output_type": "stream",
     "text": [
      "Done!\n"
     ]
    }
   ],
   "source": [
    "if LOAD_MODELS == 0:    \n",
    "    pickle.dump( linr, open( \"q2/linr.p\", \"wb\" ) )\n",
    "    pickle.dump( lr, open( \"q2/lr.p\", \"wb\" ) )\n",
    "    pickle.dump( rf, open( \"q2/rf.p\", \"wb\" ) )\n",
    "\n",
    "    pickle.dump( nb_sv, open( \"q2/nb_sv.p\", \"wb\" ) )\n",
    "    pickle.dump( linr_sv, open( \"q2/linr_sv.p\", \"wb\" ) )\n",
    "    pickle.dump( lr_sv, open( \"q2/lr_sv.p\", \"wb\" ) )\n",
    "    pickle.dump( rf_sv, open( \"q2/rf_sv.p\", \"wb\" ) )\n",
    "    \n",
    "print(\"Done!\")"
   ]
  }
 ],
 "metadata": {
  "kernelspec": {
   "display_name": "TensorFlow-GPU",
   "language": "python",
   "name": "tf-gpu"
  },
  "language_info": {
   "codemirror_mode": {
    "name": "ipython",
    "version": 3
   },
   "file_extension": ".py",
   "mimetype": "text/x-python",
   "name": "python",
   "nbconvert_exporter": "python",
   "pygments_lexer": "ipython3",
   "version": "3.6.7"
  }
 },
 "nbformat": 4,
 "nbformat_minor": 2
}
